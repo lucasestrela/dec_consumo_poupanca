{
  "nbformat": 4,
  "nbformat_minor": 0,
  "metadata": {
    "colab": {
      "name": "Lista01.2_Base_de_Dados.ipynb",
      "provenance": [],
      "collapsed_sections": [],
      "authorship_tag": "ABX9TyNj65UPr8RCgIL/Ai3e5EhK"
    },
    "kernelspec": {
      "name": "python3",
      "display_name": "Python 3"
    },
    "language_info": {
      "name": "python"
    }
  },
  "cells": [
    {
      "cell_type": "markdown",
      "metadata": {
        "id": "4YOOO3BCKtTu"
      },
      "source": [
        "## Item a) \n",
        "\n",
        "Considere a Equação de Euler (2).\n",
        "\n"
      ]
    },
    {
      "cell_type": "code",
      "metadata": {
        "colab": {
          "base_uri": "https://localhost:8080/"
        },
        "id": "YkZaOdUopiqZ",
        "outputId": "c20ff9ed-41cd-48bf-8120-1adb107e2c94"
      },
      "source": [
        "pip install fredapi"
      ],
      "execution_count": 2,
      "outputs": [
        {
          "output_type": "stream",
          "text": [
            "Collecting fredapi\n",
            "  Downloading https://files.pythonhosted.org/packages/db/82/9ca1e4a7f1b2ae057e8352cc46d016866c067a12d013fc05af0670f4291a/fredapi-0.4.3-py3-none-any.whl\n",
            "Requirement already satisfied: pandas in /usr/local/lib/python3.7/dist-packages (from fredapi) (1.1.5)\n",
            "Requirement already satisfied: python-dateutil>=2.7.3 in /usr/local/lib/python3.7/dist-packages (from pandas->fredapi) (2.8.1)\n",
            "Requirement already satisfied: numpy>=1.15.4 in /usr/local/lib/python3.7/dist-packages (from pandas->fredapi) (1.19.5)\n",
            "Requirement already satisfied: pytz>=2017.2 in /usr/local/lib/python3.7/dist-packages (from pandas->fredapi) (2018.9)\n",
            "Requirement already satisfied: six>=1.5 in /usr/local/lib/python3.7/dist-packages (from python-dateutil>=2.7.3->pandas->fredapi) (1.15.0)\n",
            "Installing collected packages: fredapi\n",
            "Successfully installed fredapi-0.4.3\n"
          ],
          "name": "stdout"
        }
      ]
    },
    {
      "cell_type": "code",
      "metadata": {
        "colab": {
          "base_uri": "https://localhost:8080/"
        },
        "id": "nW2VYO_hnST5",
        "outputId": "e4f5ebb2-5567-4301-fbc0-6d9032e98406"
      },
      "source": [
        "from fredapi import Fred\n",
        "from datetime import datetime\n",
        "from scipy import stats\n",
        "from statsmodels.sandbox.regression import gmm\n",
        "from google.colab import files\n",
        "\n",
        "import numpy as np\n",
        "import pandas as pd\n",
        "import statsmodels.api as sm\n",
        "import matplotlib.pyplot as plt"
      ],
      "execution_count": 3,
      "outputs": [
        {
          "output_type": "stream",
          "text": [
            "/usr/local/lib/python3.7/dist-packages/statsmodels/tools/_testing.py:19: FutureWarning: pandas.util.testing is deprecated. Use the functions in the public API at pandas.testing instead.\n",
            "  import pandas.util.testing as tm\n"
          ],
          "name": "stderr"
        }
      ]
    },
    {
      "cell_type": "code",
      "metadata": {
        "id": "HDMZwpOipteH"
      },
      "source": [
        "#######################################\n",
        "#### Importando os dados do Github ####\n",
        "#######################################\n",
        "\n",
        "\n",
        "# Importando os dados do Github\n",
        "df_q  = pd.read_csv('https://raw.githubusercontent.com/lucasestrela/dec_consumo_poupanca/main/dados/BEA_Tab115_Quarter.csv',\n",
        "                             delimiter = \";\")\n",
        "\n",
        "p_q  = pd.read_csv('https://raw.githubusercontent.com/lucasestrela/dec_consumo_poupanca/main/dados/BEA_Tab114_Quarter.csv',\n",
        "                             delimiter = \";\")\n",
        "\n",
        "# Deletando a primeira coluna\n",
        "del df_q['Line']\n",
        "del p_q['Line']\n",
        "\n",
        "# Transpondo a matriz\n",
        "df_q  = df_q.T\n",
        "p_q   = p_q.T\n",
        "\n",
        "# Excluindo primeira linha a add ela como var name\n",
        "df_q.columns = df_q.iloc[0, :]\n",
        "p_q.columns  = p_q.iloc[0, :]\n",
        "\n",
        "df_q = df_q.iloc[1:, :]\n",
        "p_q  = p_q.iloc[1:, :]\n",
        "\n",
        "\n",
        "\n",
        "# Removendo o underline\n",
        "df_q.index = df_q.index.str.replace(\"_\", \"\")\n",
        "p_q.index = p_q.index.str.replace(\"_\", \"\")\n",
        "\n",
        "\n",
        "# Transformando em data\n",
        "df_q.index = pd.to_datetime( df_q.index , errors='coerce')\n",
        "p_q.index = pd.to_datetime( p_q.index , errors='coerce')\n",
        "\n",
        "# Renomeando\n",
        "df_q = df_q.rename(columns={df_q.columns[2]: 'bens', df_q.columns[3]: 'duraveis', df_q.columns[4]: 'n_duraveis', df_q.columns[5]: 'servicos'})\n",
        "p_q  = p_q.rename(columns={p_q.columns[2]: 'bens', p_q.columns[3]: 'duraveis', p_q.columns[4]: 'n_duraveis', p_q.columns[5]: 'servicos'})\n",
        "\n",
        "# Transformando em .float\n",
        "df_q = df_q[['bens', 'duraveis', 'n_duraveis', 'servicos']].apply(pd.to_numeric, errors='coerce')\n",
        "p_q = p_q[['bens', 'duraveis', 'n_duraveis', 'servicos']].apply(pd.to_numeric, errors='coerce')\n",
        "\n",
        "# Calculando consumo real, separando duráveis e não duraveis NAO TEM SERVICO\n",
        "duraveis_real = df_q['duraveis']/p_q['duraveis']\n",
        "consumo_real = df_q['n_duraveis']/p_q['n_duraveis']\n",
        "\n",
        "# Crescimento real do consumo\n",
        "cresc_duravel_real = duraveis_real/duraveis_real.shift(1) - 1\n",
        "cresc_consumo_real = consumo_real/consumo_real.shift(1) - 1\n",
        "\n",
        "# Calculando a tx de inflação (1+...%) = taxa de inflação de todos os bens na economia\n",
        "tx_inf1 = p_q['bens']/p_q['bens'].shift(1)\n",
        "\n",
        "\n",
        "dta = pd.DataFrame([consumo_real, cresc_consumo_real,  p_q['n_duraveis'], duraveis_real, cresc_duravel_real, p_q['duraveis'], tx_inf1]).T\n",
        "dta.columns = ['c', 'c_growth', 'pc', 'k', 'k_growth', 'pk', 'inflacao']"
      ],
      "execution_count": 4,
      "outputs": []
    },
    {
      "cell_type": "code",
      "metadata": {
        "id": "0jSpNgGuboCS",
        "colab": {
          "base_uri": "https://localhost:8080/",
          "height": 419
        },
        "outputId": "44f4e8bc-f5fe-4e25-f570-4d91499d1763"
      },
      "source": [
        "dta"
      ],
      "execution_count": 5,
      "outputs": [
        {
          "output_type": "execute_result",
          "data": {
            "text/html": [
              "<div>\n",
              "<style scoped>\n",
              "    .dataframe tbody tr th:only-of-type {\n",
              "        vertical-align: middle;\n",
              "    }\n",
              "\n",
              "    .dataframe tbody tr th {\n",
              "        vertical-align: top;\n",
              "    }\n",
              "\n",
              "    .dataframe thead th {\n",
              "        text-align: right;\n",
              "    }\n",
              "</style>\n",
              "<table border=\"1\" class=\"dataframe\">\n",
              "  <thead>\n",
              "    <tr style=\"text-align: right;\">\n",
              "      <th></th>\n",
              "      <th>c</th>\n",
              "      <th>c_growth</th>\n",
              "      <th>pc</th>\n",
              "      <th>k</th>\n",
              "      <th>k_growth</th>\n",
              "      <th>pk</th>\n",
              "      <th>inflacao</th>\n",
              "    </tr>\n",
              "  </thead>\n",
              "  <tbody>\n",
              "    <tr>\n",
              "      <th>1947-01-01</th>\n",
              "      <td>5157.184185</td>\n",
              "      <td>NaN</td>\n",
              "      <td>14.518</td>\n",
              "      <td>445.634409</td>\n",
              "      <td>NaN</td>\n",
              "      <td>46.500</td>\n",
              "      <td>NaN</td>\n",
              "    </tr>\n",
              "    <tr>\n",
              "      <th>1947-04-01</th>\n",
              "      <td>5245.719353</td>\n",
              "      <td>0.017167</td>\n",
              "      <td>14.659</td>\n",
              "      <td>454.973577</td>\n",
              "      <td>0.020957</td>\n",
              "      <td>46.928</td>\n",
              "      <td>1.009585</td>\n",
              "    </tr>\n",
              "    <tr>\n",
              "      <th>1947-07-01</th>\n",
              "      <td>5269.967837</td>\n",
              "      <td>0.004623</td>\n",
              "      <td>14.924</td>\n",
              "      <td>461.326552</td>\n",
              "      <td>0.013963</td>\n",
              "      <td>47.190</td>\n",
              "      <td>1.015302</td>\n",
              "    </tr>\n",
              "    <tr>\n",
              "      <th>1947-10-01</th>\n",
              "      <td>5200.975610</td>\n",
              "      <td>-0.013092</td>\n",
              "      <td>15.375</td>\n",
              "      <td>491.329359</td>\n",
              "      <td>0.065036</td>\n",
              "      <td>47.805</td>\n",
              "      <td>1.026329</td>\n",
              "    </tr>\n",
              "    <tr>\n",
              "      <th>1948-01-01</th>\n",
              "      <td>5218.276061</td>\n",
              "      <td>0.003326</td>\n",
              "      <td>15.627</td>\n",
              "      <td>488.831223</td>\n",
              "      <td>-0.005084</td>\n",
              "      <td>48.170</td>\n",
              "      <td>1.014375</td>\n",
              "    </tr>\n",
              "    <tr>\n",
              "      <th>...</th>\n",
              "      <td>...</td>\n",
              "      <td>...</td>\n",
              "      <td>...</td>\n",
              "      <td>...</td>\n",
              "      <td>...</td>\n",
              "      <td>...</td>\n",
              "      <td>...</td>\n",
              "    </tr>\n",
              "    <tr>\n",
              "      <th>2019-10-01</th>\n",
              "      <td>30181.122270</td>\n",
              "      <td>-0.001879</td>\n",
              "      <td>99.673</td>\n",
              "      <td>18118.905496</td>\n",
              "      <td>0.007707</td>\n",
              "      <td>85.774</td>\n",
              "      <td>1.000538</td>\n",
              "    </tr>\n",
              "    <tr>\n",
              "      <th>2020-01-01</th>\n",
              "      <td>30704.753677</td>\n",
              "      <td>0.017350</td>\n",
              "      <td>99.544</td>\n",
              "      <td>17521.532445</td>\n",
              "      <td>-0.032970</td>\n",
              "      <td>85.406</td>\n",
              "      <td>0.997701</td>\n",
              "    </tr>\n",
              "    <tr>\n",
              "      <th>2020-04-01</th>\n",
              "      <td>29478.355554</td>\n",
              "      <td>-0.039942</td>\n",
              "      <td>97.808</td>\n",
              "      <td>17447.791141</td>\n",
              "      <td>-0.004209</td>\n",
              "      <td>84.727</td>\n",
              "      <td>0.985719</td>\n",
              "    </tr>\n",
              "    <tr>\n",
              "      <th>2020-07-01</th>\n",
              "      <td>31543.796766</td>\n",
              "      <td>0.070066</td>\n",
              "      <td>98.763</td>\n",
              "      <td>20284.656330</td>\n",
              "      <td>0.162592</td>\n",
              "      <td>86.420</td>\n",
              "      <td>1.013309</td>\n",
              "    </tr>\n",
              "    <tr>\n",
              "      <th>2020-10-01</th>\n",
              "      <td>31420.167812</td>\n",
              "      <td>-0.003919</td>\n",
              "      <td>98.801</td>\n",
              "      <td>20228.768154</td>\n",
              "      <td>-0.002755</td>\n",
              "      <td>86.415</td>\n",
              "      <td>1.000233</td>\n",
              "    </tr>\n",
              "  </tbody>\n",
              "</table>\n",
              "<p>296 rows × 7 columns</p>\n",
              "</div>"
            ],
            "text/plain": [
              "                       c  c_growth      pc  ...  k_growth      pk  inflacao\n",
              "1947-01-01   5157.184185       NaN  14.518  ...       NaN  46.500       NaN\n",
              "1947-04-01   5245.719353  0.017167  14.659  ...  0.020957  46.928  1.009585\n",
              "1947-07-01   5269.967837  0.004623  14.924  ...  0.013963  47.190  1.015302\n",
              "1947-10-01   5200.975610 -0.013092  15.375  ...  0.065036  47.805  1.026329\n",
              "1948-01-01   5218.276061  0.003326  15.627  ... -0.005084  48.170  1.014375\n",
              "...                  ...       ...     ...  ...       ...     ...       ...\n",
              "2019-10-01  30181.122270 -0.001879  99.673  ...  0.007707  85.774  1.000538\n",
              "2020-01-01  30704.753677  0.017350  99.544  ... -0.032970  85.406  0.997701\n",
              "2020-04-01  29478.355554 -0.039942  97.808  ... -0.004209  84.727  0.985719\n",
              "2020-07-01  31543.796766  0.070066  98.763  ...  0.162592  86.420  1.013309\n",
              "2020-10-01  31420.167812 -0.003919  98.801  ... -0.002755  86.415  1.000233\n",
              "\n",
              "[296 rows x 7 columns]"
            ]
          },
          "metadata": {
            "tags": []
          },
          "execution_count": 5
        }
      ]
    },
    {
      "cell_type": "code",
      "metadata": {
        "id": "iJcCPEscbjaM"
      },
      "source": [
        "#######################################\n",
        "###### Importando dados do SP500 ######\n",
        "#######################################\n",
        "\n",
        "\n",
        "sp500  = pd.read_csv('https://raw.githubusercontent.com/lucasestrela/dec_consumo_poupanca/main/dados/sp500.csv',\n",
        "                             delimiter = \",\")\n",
        "\n",
        "# Selecionando variaveis\n",
        "sp500 = sp500[['ref.date', 'price.adjusted']]\n",
        "sp500.columns = ['date', 'price']\n",
        "\n",
        "# Adicionando o indice de datas\n",
        "sp500.index = pd.to_datetime( sp500['date'] , errors='coerce')\n",
        "\n",
        "\n",
        "# Criando variavel indicadora para mudança de quarter\n",
        "sp500['quarter'] = sp500.index.quarter\n",
        "sp500['year'] = sp500.index.year\n",
        "sp500['group_indicator'] = sp500['quarter']  != sp500['quarter'] .shift(-1)\n",
        "\n",
        "# Filtrando apenas os ultimos meses do quarter e selecionando ano que quero\n",
        "sp500 = sp500[sp500['group_indicator'] == True]\n",
        "sp500 = sp500[sp500['year'] >= 1947][:-2]\n",
        "\n",
        "# Selecionando variaveis\n",
        "sp500 = sp500[['price']]\n",
        "\n",
        "\n",
        "# Copiando o indice\n",
        "sp500.index = p_q.index\n",
        "\n",
        "# Calculando o retonro e o ret real\n",
        "sp500['sp500_ret_real'] = ((sp500['price']/sp500['price'].shift(1)) / tx_inf1) - 1\n",
        "sp500['sp500_ret'] = sp500['price']/sp500['price'].shift(1) - 1\n",
        "\n",
        "# Fazendo o merge dos dois datasets\n",
        "dta = dta.join(sp500)"
      ],
      "execution_count": 6,
      "outputs": []
    },
    {
      "cell_type": "code",
      "metadata": {
        "id": "x8Ev0FA1pX_U"
      },
      "source": [
        "fred = Fred(api_key='548624ed839059b759900a51992bc8c8')\n",
        "\n",
        "# Obtendo dados trimestrais do FRED usando a média do período\n",
        "tb3m = fred.get_series('DTB3', frequency = 'q', aggregation_method = 'avg')\n",
        "\n",
        "# Transformando em dataframe\n",
        "tb3m = pd.DataFrame(tb3m, columns = ['T-Bill'])\n",
        "\n",
        "# Transformando o retorno em trimestral\n",
        "tb3m['TBill_ret'] = np.power(1+tb3m['T-Bill']/100, 0.25) - 1"
      ],
      "execution_count": 7,
      "outputs": []
    },
    {
      "cell_type": "code",
      "metadata": {
        "id": "IG4a60hT0GTx"
      },
      "source": [
        "# Fazendo o merge dos dois datasets\n",
        "dta2 = dta.join(tb3m['TBill_ret'])\n",
        "\n",
        "dta2['TBill_ret_real'] = ( 1 + dta2['TBill_ret'] ) / dta2['inflacao'] - 1\n",
        "\n",
        "dta2 = dta2[['c', 'c_growth', 'pc', 'k', 'k_growth', 'pk', 'sp500_ret_real', 'TBill_ret_real']].dropna()"
      ],
      "execution_count": 8,
      "outputs": []
    },
    {
      "cell_type": "code",
      "metadata": {
        "colab": {
          "base_uri": "https://localhost:8080/",
          "height": 204
        },
        "id": "_gAgCtEXhsgq",
        "outputId": "cb606ad0-590b-4c87-aa69-e437f70bc8dd"
      },
      "source": [
        "dta2.head()"
      ],
      "execution_count": 9,
      "outputs": [
        {
          "output_type": "execute_result",
          "data": {
            "text/html": [
              "<div>\n",
              "<style scoped>\n",
              "    .dataframe tbody tr th:only-of-type {\n",
              "        vertical-align: middle;\n",
              "    }\n",
              "\n",
              "    .dataframe tbody tr th {\n",
              "        vertical-align: top;\n",
              "    }\n",
              "\n",
              "    .dataframe thead th {\n",
              "        text-align: right;\n",
              "    }\n",
              "</style>\n",
              "<table border=\"1\" class=\"dataframe\">\n",
              "  <thead>\n",
              "    <tr style=\"text-align: right;\">\n",
              "      <th></th>\n",
              "      <th>c</th>\n",
              "      <th>c_growth</th>\n",
              "      <th>pc</th>\n",
              "      <th>k</th>\n",
              "      <th>k_growth</th>\n",
              "      <th>pk</th>\n",
              "      <th>sp500_ret_real</th>\n",
              "      <th>TBill_ret_real</th>\n",
              "    </tr>\n",
              "  </thead>\n",
              "  <tbody>\n",
              "    <tr>\n",
              "      <th>1954-01-01</th>\n",
              "      <td>6032.108179</td>\n",
              "      <td>0.009646</td>\n",
              "      <td>16.787</td>\n",
              "      <td>612.575385</td>\n",
              "      <td>-0.030679</td>\n",
              "      <td>53.724</td>\n",
              "      <td>0.054588</td>\n",
              "      <td>-0.001841</td>\n",
              "    </tr>\n",
              "    <tr>\n",
              "      <th>1954-04-01</th>\n",
              "      <td>6016.150101</td>\n",
              "      <td>-0.002646</td>\n",
              "      <td>16.842</td>\n",
              "      <td>642.405728</td>\n",
              "      <td>0.048697</td>\n",
              "      <td>52.375</td>\n",
              "      <td>0.116224</td>\n",
              "      <td>0.005776</td>\n",
              "    </tr>\n",
              "    <tr>\n",
              "      <th>1954-07-01</th>\n",
              "      <td>6092.160954</td>\n",
              "      <td>0.012634</td>\n",
              "      <td>16.775</td>\n",
              "      <td>645.100551</td>\n",
              "      <td>0.004195</td>\n",
              "      <td>51.516</td>\n",
              "      <td>0.036534</td>\n",
              "      <td>0.009413</td>\n",
              "    </tr>\n",
              "    <tr>\n",
              "      <th>1954-10-01</th>\n",
              "      <td>6194.585854</td>\n",
              "      <td>0.016813</td>\n",
              "      <td>16.697</td>\n",
              "      <td>684.643171</td>\n",
              "      <td>0.061297</td>\n",
              "      <td>51.215</td>\n",
              "      <td>0.137278</td>\n",
              "      <td>0.007692</td>\n",
              "    </tr>\n",
              "    <tr>\n",
              "      <th>1955-01-01</th>\n",
              "      <td>6259.103977</td>\n",
              "      <td>0.010415</td>\n",
              "      <td>16.696</td>\n",
              "      <td>745.842631</td>\n",
              "      <td>0.089389</td>\n",
              "      <td>51.535</td>\n",
              "      <td>0.082005</td>\n",
              "      <td>0.001627</td>\n",
              "    </tr>\n",
              "  </tbody>\n",
              "</table>\n",
              "</div>"
            ],
            "text/plain": [
              "                      c  c_growth  ...  sp500_ret_real  TBill_ret_real\n",
              "1954-01-01  6032.108179  0.009646  ...        0.054588       -0.001841\n",
              "1954-04-01  6016.150101 -0.002646  ...        0.116224        0.005776\n",
              "1954-07-01  6092.160954  0.012634  ...        0.036534        0.009413\n",
              "1954-10-01  6194.585854  0.016813  ...        0.137278        0.007692\n",
              "1955-01-01  6259.103977  0.010415  ...        0.082005        0.001627\n",
              "\n",
              "[5 rows x 8 columns]"
            ]
          },
          "metadata": {
            "tags": []
          },
          "execution_count": 9
        }
      ]
    },
    {
      "cell_type": "code",
      "metadata": {
        "id": "GJ2saCRW1Wq5"
      },
      "source": [
        "# Exportanto dados\n",
        "# dta2.to_csv('dataset.csv')\n",
        "# files.download('dataset.csv')"
      ],
      "execution_count": 10,
      "outputs": []
    }
  ]
}