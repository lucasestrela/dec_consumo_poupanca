{
  "nbformat": 4,
  "nbformat_minor": 0,
  "metadata": {
    "colab": {
      "name": "Lista08_Pref_Recursiva.ipynb",
      "provenance": [],
      "collapsed_sections": [],
      "authorship_tag": "ABX9TyOZevgtyOOSGhG8as3AyZZC"
    },
    "kernelspec": {
      "name": "python3",
      "display_name": "Python 3"
    },
    "language_info": {
      "name": "python"
    }
  },
  "cells": [
    {
      "cell_type": "markdown",
      "metadata": {
        "id": "DGluAdfHGjBQ"
      },
      "source": [
        "# Problema 1)\n",
        "\n",
        "Considere as preferências recursivas:\n",
        " \n",
        "$$U_t = \\Bigg \\{ (1-\\beta) C_t^{\\frac{1-\\gamma}{\\theta}} + \\beta \\bigg( E_t \\Big[ U_t^{1-\\gamma} \\Big]\\bigg)^{\\frac{1}{\\theta}}\\Bigg\\}^{\\frac{\\theta}{1-\\gamma}} $$\n",
        "\n",
        "em que $C_t$ é o consumo no período $t$, $\\theta \\equiv \\frac{1-\\gamma}{1-\\psi^{-1}}$, sendo $\\gamma$ o coefciente de aversão relativa ao risco e a elasticidade de substituição intertemporal. Considere a seguinte restrição orçament·ria:\n",
        "\n",
        "$$W_{t+1} = R_{w, t+1} (W_t - C_t)$$\n",
        "\n",
        "em que $W_t$ é a riqueza no período $t$ e $R_{w,t+1}$ é o retorno em $t + 1$ de toda riqueza investida em $t$. Neste arcabouço, Epstein e Zin (1989) derivaram as seguintes equações de Euler:\n",
        "\n",
        "$$ 1 = E_t \\Bigg[ \\bigg \\{ \\beta \\bigg( \\frac{C_{t+1}}{C_t} \\bigg)^{-\\frac{1}{\\psi}} R_{w,t+1} \\bigg\\}^{\\theta} \\Bigg] \\tag{1}$$\n",
        "\n",
        "$$ 1 = E_t \\Bigg[ \\bigg \\{ \\beta \\bigg( \\frac{C_{t+1}}{C_t} \\bigg)^{-\\frac{1}{\\psi}} \\bigg\\}^{\\theta} \\bigg\\{ \\frac{1}{R_{w,t+1}}\\bigg\\}^{1-\\theta} R_{i,t+1}  \\Bigg]  \\tag{2}$$\n",
        "\n",
        "Note que o consumidor escolhe a sequência de consumo e o investimento ótimo em cada um dos ativos da economia, de modo que $R_{w,t+1} = \\sum^{N}_{i=1} w_{i,t} R_{i, t+1}$, em que $R_{i, t+1}$ é o retorno bruto em $t + 1$ do investimento feito no ativo $i$ no período $t$ e $w_{i,t}$ é a fração da riqueza investida no ativo $i$ no período $t$, havendo na economia $N$ ativos $(i = 1, ..., N)$ \n"
      ]
    },
    {
      "cell_type": "markdown",
      "metadata": {
        "id": "ryqJx1lkKnzy"
      },
      "source": [
        "## Item a) \n",
        "Considerando o GMM, discuta se é possível identificar $\\gamma$ e $\\psi$ com base na equação de Euler (1)? Se for possível, explique como a estimação por GMM seria feita. Caso não seja possivel, poderia ser feita algum ajuste na equação de Euler que permita a estimação da mesma? Em caso afirmativo, apresente tal ajuste.\n",
        "\n",
        "---\n",
        "\n",
        "**Resposta**\n",
        "\n",
        "Note que existe uma solução trivial para (1). Quando $\\theta=0$, $\\psi$ não está identificado, logo não é possível estimar a equação neste formato. Alternativamente poderíamos definir ambas equações de Euler como condições de momento e instrumentando com variáveis defasadas. Outra opção seria linearizar a equação (1), como veremos no item c) e verificar que é possível estimar de forma linear."
      ]
    },
    {
      "cell_type": "markdown",
      "metadata": {
        "id": "N_f9OrDHKozC"
      },
      "source": [
        "\n",
        "## Item b) \n",
        "Mostre como os parâmetros $\\theta$ e $\\psi$ podem ser estimados pelo Método Generalizado dos Momentos com base na equação de Euler (2). Após estimar $\\theta$ e $\\psi$, construa uma estimativa de $\\gamma$. Use o Método Delta para calcular a variância desta estimativa de $\\gamma$.\n",
        "\n",
        "---\n",
        "\n",
        "**Resposta**\n",
        "\n",
        "Seja a Equação de Euler (2):\n",
        "\n",
        "$$ 1 = E_t \\Bigg[ \\bigg \\{ \\beta \\bigg( \\frac{C_{t+1}}{C_t} \\bigg)^{-\\frac{1}{\\psi}} \\bigg\\}^{\\theta} \\bigg\\{ \\frac{1}{R_{w,t+1}}\\bigg\\}^{1-\\theta} R_{i,t+1}  \\Bigg]  \\tag{2}$$\n",
        "\n",
        "Note que se diminuirmos (-1) em ambos os lados da equação, podemos escrever\n",
        "\n",
        "$$ 0 = E_t \\Bigg[ \\bigg \\{ \\beta \\bigg( \\frac{C_{t+1}}{C_t} \\bigg)^{-\\frac{1}{\\psi}} \\bigg\\}^{\\theta} \\bigg\\{ \\frac{1}{R_{w,t+1}}\\bigg\\}^{1-\\theta} R_{i,t+1}  -1 \\Bigg] $$\n",
        "\n",
        "Note que como a esperança está condicionada em $t$, podemos utilizar um vetor $\\textbf{z}_t$ de variáveis disponíveis no tempo $t$ para multiplicar a equação acima sem introduzir endogeneidade. Em outras palavras podemos utilizar um conjunto informacional $\\textbf{z}_t$ que explica as variáveis de escolha em $t+1$ (são, portanto, instrumentos), para multiplicar em ambos os lados, chegando em:\n",
        "\n",
        "$$ 0 = E_t \\Bigg[ \\bigg \\{ \\beta \\bigg( \\frac{C_{t+1}}{C_t} \\bigg)^{-\\frac{1}{\\psi}} \\bigg\\}^{\\theta} \\bigg\\{ \\frac{1}{R_{w,t+1}}\\bigg\\}^{1-\\theta} R_{i,t+1}  -1 \\Bigg] \\times \\textbf{z}_t $$\n",
        "\n",
        "Podemos construir uma função $h(\\boldsymbol{\\Gamma}, \\textbf{x})$ como:\n",
        "\n",
        "\\begin{align*}\n",
        "h(\\boldsymbol{\\Gamma}, \\textbf{x}) = \n",
        "  \\begin{bmatrix}\n",
        "  \\Bigg[ \\bigg \\{ \\beta \\bigg( \\frac{C_{t+1}}{C_t} \\bigg)^{-\\frac{1}{\\psi}} \\bigg\\}^{\\theta} \\bigg\\{ \\frac{1}{R_{w,t+1}}\\bigg\\}^{1-\\theta} R_{i,t+1}  -1 \\Bigg]  \\times z_{t,1} \\\\\n",
        "  \\Bigg[ \\bigg \\{ \\beta \\bigg( \\frac{C_{t+1}}{C_t} \\bigg)^{-\\frac{1}{\\psi}} \\bigg\\}^{\\theta} \\bigg\\{ \\frac{1}{R_{w,t+1}}\\bigg\\}^{1-\\theta} R_{i,t+1}  -1 \\Bigg]  \\times z_{t,2} \\\\\n",
        "  \\vdots \\\\\n",
        "  \\Bigg[ \\bigg \\{ \\beta \\bigg( \\frac{C_{t+1}}{C_t} \\bigg)^{-\\frac{1}{\\psi}} \\bigg\\}^{\\theta} \\bigg\\{ \\frac{1}{R_{w,t+1}}\\bigg\\}^{1-\\theta} R_{i,t+1}  -1 \\Bigg]  \\times z_{t,n}\n",
        "  \\end{bmatrix},\n",
        "\\end{align*}\n",
        "\n",
        "\n",
        "---\n",
        "\n",
        "**O método Delta** nos diz que se\n",
        "\n",
        "$$Y \\approx N \\big(\\mu, \\Sigma \\big),$$\n",
        "\n",
        "$g:\\mathbb{R}^k \\rightarrow \\mathbb{R}$ e seja:\n",
        "\n",
        "\\begin{align*}\n",
        "\\nabla g(y) = \n",
        "  \\begin{bmatrix}\n",
        "  \\frac{\\partial g}{\\partial y_1} \\\\\n",
        "  \\vdots \\\\\n",
        "  \\frac{\\partial g}{\\partial y_k} \\\\\n",
        "  \\end{bmatrix}.\n",
        "\\end{align*}\n",
        "\n",
        "Denotando $\\nabla_\\mu = \\nabla g(\\mu)$ e assuma que os elementos de $\\nabla_\\mu$ sejam não nulos, então:\n",
        "\n",
        "$$g(Y) \\approx N(\\mu, \\nabla_\\mu^T \\Sigma \\nabla_\\mu)$$\n",
        "\n",
        "onde $\\nabla^T$ representa a matriz transposta. Epstein e Zin (1989) definem \n",
        "\n",
        "$$\\theta \\equiv \\frac{1-\\gamma}{1-\\psi^{-1}}$$\n",
        "\n",
        "calculando a inversa\n",
        "\n",
        "\n",
        "$$\\gamma = 1 - \\frac{\\theta (\\psi-1)}{\\psi}$$\n",
        "\n",
        "Seja $g(\\theta, \\psi) =  1 - \\frac{\\theta (\\psi-1)}{\\psi}$, calculando a matriz dos gradientes:\n",
        "\n",
        "\\begin{align*}\n",
        "\\nabla g(y) = \n",
        "  \\begin{bmatrix}\n",
        "  -\\frac{\\psi-1}{\\psi} \\\\\n",
        "  -\\frac{\\theta}{\\psi^2}\n",
        "  \\end{bmatrix}.\n",
        "\\end{align*}\n",
        "\n",
        "Portanto, \n",
        "\n",
        "\\begin{align*}\n",
        "Var(\\gamma) & = \n",
        "\\begin{bmatrix}\n",
        "  -\\frac{\\psi-1}{\\psi} & & -\\frac{\\theta}{\\psi^2} \n",
        "\\end{bmatrix} \n",
        "\\Sigma_{\\theta, \\gamma}\n",
        "  \\begin{bmatrix}\n",
        "  -\\frac{\\psi-1}{\\psi} \\\\\n",
        "  -\\frac{\\theta}{\\psi^2}\n",
        "  \\end{bmatrix},\n",
        "\\end{align*}\n",
        "onde \n",
        "\n",
        "\\begin{align*}\n",
        "\\Sigma_{\\theta, \\gamma} = \n",
        "  \\begin{bmatrix}\n",
        "      Var(\\theta) && Cov(\\theta, \\gamma) \\\\\n",
        "      Cov(\\theta, \\gamma) && Var(\\gamma)\n",
        "  \\end{bmatrix}\n",
        "\\end{align*}"
      ]
    },
    {
      "cell_type": "markdown",
      "metadata": {
        "id": "MiO0zPY-Kpxs"
      },
      "source": [
        "\n",
        "## Item c) \n",
        "Assumindo as hipóteses de log-normalidade e homocedasticidade, encontre a versão log-linear da equação de Euler (1). Mostre como o parâmetro $\\psi$ pode ser estimados pelo Método Generalizado dos Momentos (GMM). Explique como esta estimação é feita. \n",
        "\n",
        "---\n",
        "\n",
        "**Resposta**\n",
        "\n",
        "Seja a equação de Euler\n",
        "\n",
        "$$ 1 = E_t \\Bigg[ \\bigg \\{ \\beta \\bigg( \\frac{C_{t+1}}{C_t} \\bigg)^{-\\frac{1}{\\psi}} R_{w,t+1} \\bigg\\}^{\\theta} \\Bigg] $$\n",
        "\n",
        "Defina\n",
        "\n",
        "$$X_{t+1} \\equiv \\bigg \\{ \\beta \\bigg( \\frac{C_{t+1}}{C_t} \\bigg)^{-\\frac{1}{\\psi}} R_{w,t+1} \\bigg\\}^{\\theta} $$\n",
        "\n",
        "Supondo que a distribuição conjunta $X_{t+1}$ seja log-normal e que $x_{t+1} \\equiv \\ln X_{t+1}$. Podemos simplificar, \n",
        "\n",
        "$$x_{t+1} = \\theta \\ln \\beta - \\frac{\\theta}{\\psi} \\Delta \\ln C_{t+1} + \\theta m_{t+1},$$\n",
        "\n",
        "onde $m_{t+1} \\equiv \\ln M_{t+1}$. Supondo homocedasticidade, calculamos a variância\n",
        "\n",
        "\\begin{align*}\n",
        "Var[x_{t+1}] = Var\\bigg[-\\frac{\\theta}{\\psi} \\Delta \\ln C_{t+1} + \\theta m_{t+1} \\bigg] = \\sigma^2\n",
        "\\end{align*}\n",
        "\n",
        "\n",
        "Sabemos que a distribuição log-normal possui a seguinte propriedade:\n",
        "\n",
        "$$E(X_{t+1}) = \\exp \\{E[x_{t+1}] + \\frac{1}{2}Var[x_{t+1}]\\}$$\n",
        "\n",
        "Logo, substituindo,\n",
        "\n",
        "\\begin{align*}\n",
        "    \\bigg \\{ \\beta \\bigg( \\frac{C_{t+1}}{C_t} \\bigg)^{-\\frac{1}{\\psi}} R_{w,t+1} \\bigg\\}^{\\theta} & = \\exp \\Bigg\\{E_t \\bigg[\\theta \\ln \\beta - \\frac{\\theta}{\\psi} \\Delta \\ln C_{t+1} + \\theta m_{t+1} \\bigg] + \\frac{1}{2} \\sigma^2 \\Bigg\\} \\\\\n",
        "   1 & = \\exp \\Bigg\\{E_t \\bigg[\\theta \\ln \\beta - \\frac{\\theta}{\\psi} \\Delta \\ln C_{t+1} + \\theta m_{t+1} \\bigg] + \\frac{1}{2} \\sigma^2 \\Bigg\\} && \\text{[Usando (1)]}\\\\\n",
        "   0 & =\\theta \\ln \\beta - \\frac{\\theta}{\\psi} E_t \\bigg[\\Delta \\ln C_{t+1}\\bigg] + \\theta E_t \\bigg[m_{t+1} \\bigg] + \\frac{1}{2} \\sigma^2  && \\text{[Aplicando $\\ln$]} \n",
        "\\end{align*}\n",
        "\n",
        "Note que sempre podemos escrever uma variável aleatória como:\n",
        "\n",
        "\\begin{align*}\n",
        "    \\Delta \\ln C_{t+1} = E_t [\\Delta \\ln C_{t+1}] + \\varepsilon^C_{t+1},\n",
        "\\end{align*}\n",
        "\n",
        "desde que $ E_t [\\varepsilon^C_{t+1}] = 0$, suponha que isto valha. Portanto,\n",
        "\n",
        "\\begin{align*}\n",
        "   0 & =\\theta \\ln \\beta - \\frac{\\theta}{\\psi} (\\Delta \\ln C_{t+1} - \\varepsilon^C_{t+1}) + \\theta (m_{t+1} - \\varepsilon^m_{t+1}) + \\frac{1}{2} \\sigma^2  \\\\\n",
        "   & =\\theta \\ln \\beta - \\frac{\\theta}{\\psi} \\Delta \\ln C_{t+1} + \\frac{\\theta}{\\psi} \\varepsilon^C_{t+1} + \\theta m_{t+1} - \\theta \\varepsilon^m_{t+1} + \\frac{1}{2} \\sigma^2 \\\\\n",
        "   & =\\theta \\ln \\beta + \\frac{1}{2} \\sigma^2 - \\frac{\\theta}{\\psi} \\Delta \\ln C_{t+1} + \\theta m_{t+1} + \\frac{\\theta}{\\psi} \\varepsilon^C_{t+1} - \\theta \\varepsilon^m_{t+1}.\n",
        "\\end{align*}\n",
        "\n",
        "Reordenando e definindo $\\mu \\equiv \\psi \\ln \\beta + \\frac{\\psi}{2 \\theta} \\sigma^2$ e $\\varepsilon_{t+1} \\equiv \\varepsilon^C_{t+1} - \\psi \\varepsilon^m_{t+1}$ obtemos a versão linearizada da equação de Euler:\n",
        "\n",
        "$$\\Delta \\ln C_{t+1} = \\mu + \\psi m_{t+1} + \\epsilon_{t+1}.$$\n",
        "\n",
        "---\n",
        "\n",
        "**Para estimar via GMM:**\n",
        "\n",
        "Ao contrário do que ocorre no item a), a equação linearizada é identificada, sendo possível estimá-la via GMM (ou por IV). Denote $h(\\mu, \\psi)$ como:\n",
        "\n",
        "\n",
        "\\begin{align*}\n",
        "h(\\mu, \\psi) = \n",
        "  \\begin{bmatrix}\n",
        "  (\\Delta \\ln C_{t+1} - \\mu - \\psi m_{t+1} - \\epsilon_{t+1}) \\times z_{t,1} \\\\\n",
        "  (\\Delta \\ln C_{t+1} - \\mu - \\psi m_{t+1} - \\epsilon_{t+1}) \\times z_{t,2} \\\\\n",
        "  \\vdots \\\\\n",
        "  (\\Delta \\ln C_{t+1} - \\mu - \\psi m_{t+1} - \\epsilon_{t+1}) \\times z_{t,n}\n",
        "  \\end{bmatrix},\n",
        "\\end{align*}\n",
        "\n",
        "onde $z_{t} = [z_{t,1} \\quad z_{t,2} \\quad ... \\quad z_{t,n}]$ é uma matriz de instrumentos, onde $n \\geq 2$.\n",
        "\n",
        "\n",
        "\n",
        "\n"
      ]
    },
    {
      "cell_type": "markdown",
      "metadata": {
        "id": "VKz43c0dKq1O"
      },
      "source": [
        "\n",
        "## Item d) \n",
        "Assumindo as hipóteses de log-normalidade e homocedasticidade, encontre a versão log-linear da equação de Euler (2). Mostre como os parâmetros $\\theta$ e $\\psi$ podem ser estimados pelo Método Generalizado dos Momentos (GMM). Explique como esta estimação é feita. Após estimar $\\theta$ e $\\psi$, construa uma estimativa de $\\gamma$. Use o Método Delta para calcular a variância desta estimativa de $\\gamma$.\n",
        "\n",
        "---\n",
        "\n",
        "**Resposta**\n",
        "\n",
        "Seja a equação de Euler\n",
        "\n",
        "$$1 = E_t \\Bigg[ \\bigg \\{ \\beta \\bigg( \\frac{C_{t+1}}{C_t} \\bigg)^{-\\frac{1}{\\psi}} \\bigg\\}^{\\theta} \\bigg\\{ \\frac{1}{R_{w,t+1}}\\bigg\\}^{1-\\theta} R_{i,t+1}  \\Bigg] $$\n",
        "\n",
        "Defina\n",
        "\n",
        "$$X_{i, t+1} \\equiv \\beta^{\\theta} \\bigg( \\frac{C_{t+1}}{C_t} \\bigg)^{-\\frac{\\theta}{\\psi}} R_{w,t+1}^{\\theta - 1} R_{i,t+1}  $$\n",
        "\n",
        "Supondo que a distribuição conjunta $X_{i, t+1}$ seja log-normal e que $x_{i, t+1} \\equiv \\ln X_{i, t+1}$. Podemos simplificar, \n",
        "\n",
        "\\begin{align*}\n",
        "x_{i, t+1} & = \\theta \\ln \\beta -\\frac{\\theta}{\\psi} \\Delta \\ln C_{t+1} + (\\theta - 1) \\ln R_{w,t+1} + \\ln R_{i,t+1}\\\\\n",
        "& = \\theta \\ln \\beta -\\frac{\\theta}{\\psi} \\Delta \\ln C_{t+1} + (\\theta - 1) r_{w,t+1} + \\ln r_{i,t+1} \n",
        "\\end{align*}\n",
        "\n",
        "onde $r_{i, t+1} \\equiv \\ln R_{i, t+1}$ e $r_{w, t+1} \\equiv \\ln R_{w, t+1}$. Supondo homocedasticidade, calculamos a variância\n",
        "\n",
        "\\begin{align*}\n",
        "Var[x_{i, t+1}] = Var \\bigg[ -\\frac{\\theta}{\\psi} \\Delta \\ln C_{t+1} + (\\theta - 1) r_{w,t+1} + \\ln r_{i,t+1}  \\bigg] = \\sigma_i^2\n",
        "\\end{align*}\n",
        "\n",
        "\n",
        "Sabemos que a distribuição log-normal possui a seguinte propriedade:\n",
        "\n",
        "$$E(X_{i, t+1}) = \\exp \\{E[x_{i, t+1}] + \\frac{1}{2}Var[x_{i, t+1}]\\}$$\n",
        "\n",
        "Logo, substituindo $X_{i, t+1}$,\n",
        "\n",
        "\\begin{align*}\n",
        "    E \\Bigg[\\beta^{\\theta} \\bigg( \\frac{C_{t+1}}{C_t} \\bigg)^{-\\frac{\\theta}{\\psi}} R_{w,t+1}^{\\theta - 1} R_{i,t+1} \\Bigg] & = \\exp \\Bigg\\{E_t \\bigg[\\theta \\ln \\beta -\\frac{\\theta}{\\psi} \\Delta \\ln C_{t+1} + (\\theta - 1) r_{w,t+1} + \\ln r_{i,t+1}  \\bigg] + \\frac{1}{2} \\sigma_i^2 \\Bigg\\} \\\\\n",
        "   1 & = \\exp \\Bigg\\{E_t \\bigg[\\theta \\ln \\beta -\\frac{\\theta}{\\psi} \\Delta \\ln C_{t+1} + (\\theta - 1) r_{w,t+1} + \\ln r_{i,t+1}  \\bigg]  + \\frac{1}{2} \\sigma_i^2 \\Bigg\\} && \\text{[Usando (2)]}\\\\\n",
        "   0 & = \\theta \\ln \\beta - \\frac{\\theta}{\\psi} E_t \\Big[ \\Delta \\ln C_{t+1} \\Big] + (\\theta - 1) E_t \\Big[r_{w,t+1}\\Big] + E_t \\Big[ \\ln r_{i,t+1}\\Big]  + \\frac{1}{2} \\sigma_i^2  && \\text{[Aplicando $\\ln$]} \n",
        "\\end{align*}\n",
        "\n",
        "Note que sempre podemos escrever uma variável aleatória como:\n",
        "\n",
        "\\begin{align*}\n",
        "    \\Delta \\ln C_{t+1} = E_t [\\Delta \\ln C_{t+1}] + \\varepsilon^C_{t+1},\n",
        "\\end{align*}\n",
        "\n",
        "desde que $ E_t [\\varepsilon^C_{t+1}] = 0$, suponha que isto valha. Portanto,\n",
        "\n",
        "\\begin{align*}\n",
        "   0 & = \\theta \\ln \\beta - \\frac{\\theta}{\\psi} (\\Delta \\ln C_{t+1} - \\varepsilon^C_{t+1}) + (\\theta - 1) (r_{w, t+1} - \\varepsilon^{r_w}_{t+1}) + (r_{i, t+1} - \\varepsilon^{r_i}_{t+1})  + \\frac{1}{2} \\sigma_i^2 \\\\\n",
        "  & = \\theta \\ln \\beta - \\frac{\\theta}{\\psi} \\Delta \\ln C_{t+1} + \\frac{\\theta}{\\psi} \\varepsilon^C_{t+1} + (\\theta - 1) r_{w, t+1} - (\\theta - 1) \\varepsilon^{r_w}_{t+1} + r_{i, t+1} - \\varepsilon^{r_i}_{t+1}  + \\frac{1}{2} \\sigma_i^2 \\\\\n",
        "  & = \\theta \\ln \\beta + \\frac{1}{2} \\sigma_i^2 - \\frac{\\theta}{\\psi} \\Delta \\ln C_{t+1} + (\\theta - 1) r_{w, t+1} + r_{i, t+1} - \\varepsilon^{r_i}_{t+1} + \\frac{\\theta}{\\psi} \\varepsilon^C_{t+1} - (\\theta - 1) \\varepsilon^{r_w}_{t+1} \n",
        "\\end{align*}\n",
        "\n",
        "Reordenando \n",
        "\\begin{align*}\n",
        "   \\Delta \\ln C_{t+1} & = \\psi \\theta \\ln \\beta + \\frac{\\psi}{2 \\theta} \\sigma_i^2 + \\frac{\\psi(\\theta - 1)}{\\theta} r_{w, t+1} +  \\frac{\\psi}{\\theta} r_{i, t+1} -  \\frac{\\psi}{\\theta} \\varepsilon^{r_i}_{t+1} + \\varepsilon^C_{t+1} -  \\frac{\\psi(\\theta - 1)}{\\theta}\\varepsilon^{r_w}_{t+1} \\\\\n",
        "   & = \\mu + \\frac{\\psi(\\theta - 1)}{\\theta} r_{w, t+1} +  \\frac{\\psi}{\\theta} r_{i, t+1} + \\varepsilon_{t+1},\n",
        "\\end{align*}\n",
        "\n",
        "onde $\\mu_i \\equiv \\psi \\theta \\ln \\beta + \\frac{\\psi}{2 \\theta} \\sigma_i^2$ e $\\varepsilon_{t+1} \\equiv -  \\frac{\\psi}{\\theta} \\varepsilon^{r_i}_{t+1} + \\varepsilon^C_{t+1} -  \\frac{\\psi(\\theta - 1)}{\\theta}\\varepsilon^{r_w}_{t+1}$. Logo, a equação de Euler linearizada se torna:\n",
        "\n",
        "$$$$\n",
        "\n",
        " \n",
        "\\begin{align*}\n",
        "   \\Delta \\ln C_{t+1}  & = \\mu + \\frac{\\psi(\\theta - 1)}{\\theta} r_{w, t+1} +  \\frac{\\psi}{\\theta} r_{i, t+1} + \\varepsilon_{t+1},\n",
        "\\end{align*}\n",
        "\n",
        "\n",
        "$$$$\n",
        "\n",
        "---\n",
        "\n",
        "**Para estimar via GMM:**\n",
        "\n",
        "A equação linearizada é identificada, sendo possível estimá-la via GMM (ou por IV). Denote $h(\\boldsymbol{\\Gamma}, \\textbf{x})$ como:\n",
        "\n",
        "\n",
        "\\begin{align*}\n",
        "h(\\boldsymbol{\\Gamma}, \\textbf{x}) = \n",
        "  \\begin{bmatrix}\n",
        "  \\Big(\\Delta \\ln C_{t+1} - \\mu - \\frac{\\psi(\\theta - 1)}{\\theta} r_{w, t+1} - \\frac{\\psi}{\\theta} r_{i, t+1} - \\varepsilon_{t+1} \\Big) \\times z_{t,1} \\\\\n",
        "  \\Big(\\Delta \\ln C_{t+1} - \\mu - \\frac{\\psi(\\theta - 1)}{\\theta} r_{w, t+1} - \\frac{\\psi}{\\theta} r_{i, t+1} - \\varepsilon_{t+1} \\Big) \\times z_{t,2} \\\\\n",
        "  \\vdots \\\\\n",
        "  \\Big(\\Delta \\ln C_{t+1} - \\mu - \\frac{\\psi(\\theta - 1)}{\\theta} r_{w, t+1} - \\frac{\\psi}{\\theta} r_{i, t+1} - \\varepsilon_{t+1} \\Big) \\times z_{t,n}\n",
        "  \\end{bmatrix},\n",
        "\\end{align*}\n",
        "\n",
        "onde $z_{t} = [z_{t,1} \\quad z_{t,2} \\quad ... \\quad z_{t,n}]$ é uma matriz de instrumentos, onde $n \\geq 2$.\n",
        "\n",
        "\n",
        "---\n",
        "\n",
        "De forma similar ao item b). Seja $g(\\theta, \\psi) =  1 - \\frac{\\theta (\\psi-1)}{\\psi}$, calculando a matriz dos gradientes:\n",
        "\n",
        "\\begin{align*}\n",
        "\\nabla g(y) = \n",
        "  \\begin{bmatrix}\n",
        "  -\\frac{\\psi-1}{\\psi} \\\\\n",
        "  -\\frac{\\theta}{\\psi^2}\n",
        "  \\end{bmatrix}.\n",
        "\\end{align*}\n",
        "\n",
        "Portanto, \n",
        "\n",
        "\\begin{align*}\n",
        "Var(\\gamma) & = \n",
        "\\begin{bmatrix}\n",
        "  -\\frac{\\psi-1}{\\psi} & & -\\frac{\\theta}{\\psi^2} \n",
        "\\end{bmatrix} \n",
        "\\Sigma_{\\theta, \\gamma}\n",
        "  \\begin{bmatrix}\n",
        "  -\\frac{\\psi-1}{\\psi} \\\\\n",
        "  -\\frac{\\theta}{\\psi^2}\n",
        "  \\end{bmatrix},\n",
        "\\end{align*}\n",
        "onde \n",
        "\n",
        "\\begin{align*}\n",
        "\\Sigma_{\\theta, \\gamma} = \n",
        "  \\begin{bmatrix}\n",
        "      Var(\\theta) && Cov(\\theta, \\gamma) \\\\\n",
        "      Cov(\\theta, \\gamma) && Var(\\gamma)\n",
        "  \\end{bmatrix}\n",
        "\\end{align*}"
      ]
    },
    {
      "cell_type": "markdown",
      "metadata": {
        "id": "vuYi6nPnKsI-"
      },
      "source": [
        "# Problema 2) \n",
        "\n",
        "Usando dados da Lista 2 estime os parâmetros estruturais das preferências recursivas.\n",
        "\n"
      ]
    },
    {
      "cell_type": "markdown",
      "metadata": {
        "id": "4YOOO3BCKtTu"
      },
      "source": [
        "## Item a) \n",
        "\n",
        "Considere a Equação de Euler (2).\n",
        "\n"
      ]
    },
    {
      "cell_type": "code",
      "metadata": {
        "colab": {
          "base_uri": "https://localhost:8080/"
        },
        "id": "YkZaOdUopiqZ",
        "outputId": "ee7267ba-b643-4f71-b1e1-fa7248cf246a"
      },
      "source": [
        "pip install fredapi"
      ],
      "execution_count": null,
      "outputs": [
        {
          "output_type": "stream",
          "text": [
            "Requirement already satisfied: fredapi in /usr/local/lib/python3.7/dist-packages (0.4.3)\n",
            "Requirement already satisfied: pandas in /usr/local/lib/python3.7/dist-packages (from fredapi) (1.1.5)\n",
            "Requirement already satisfied: numpy>=1.15.4 in /usr/local/lib/python3.7/dist-packages (from pandas->fredapi) (1.19.5)\n",
            "Requirement already satisfied: python-dateutil>=2.7.3 in /usr/local/lib/python3.7/dist-packages (from pandas->fredapi) (2.8.1)\n",
            "Requirement already satisfied: pytz>=2017.2 in /usr/local/lib/python3.7/dist-packages (from pandas->fredapi) (2018.9)\n",
            "Requirement already satisfied: six>=1.5 in /usr/local/lib/python3.7/dist-packages (from python-dateutil>=2.7.3->pandas->fredapi) (1.15.0)\n"
          ],
          "name": "stdout"
        }
      ]
    },
    {
      "cell_type": "code",
      "metadata": {
        "colab": {
          "base_uri": "https://localhost:8080/"
        },
        "id": "nW2VYO_hnST5",
        "outputId": "ef4fad6c-d1e0-4f70-fb8d-b995498667e9"
      },
      "source": [
        "from fredapi import Fred\n",
        "from datetime import datetime\n",
        "from scipy import stats\n",
        "from statsmodels.sandbox.regression import gmm\n",
        "from google.colab import files\n",
        "\n",
        "import numpy as np\n",
        "import pandas as pd\n",
        "import statsmodels.api as sm\n",
        "import matplotlib.pyplot as plt"
      ],
      "execution_count": null,
      "outputs": [
        {
          "output_type": "stream",
          "text": [
            "/usr/local/lib/python3.7/dist-packages/statsmodels/tools/_testing.py:19: FutureWarning: pandas.util.testing is deprecated. Use the functions in the public API at pandas.testing instead.\n",
            "  import pandas.util.testing as tm\n"
          ],
          "name": "stderr"
        }
      ]
    },
    {
      "cell_type": "code",
      "metadata": {
        "id": "HDMZwpOipteH"
      },
      "source": [
        "#######################################\n",
        "#### Importando os dados do Github ####\n",
        "#######################################\n",
        "\n",
        "\n",
        "# Importando os dados do Github\n",
        "df_q  = pd.read_csv('https://raw.githubusercontent.com/lucasestrela/dec_consumo_poupanca/main/dados/BEA_Tab115_Quarter.csv',\n",
        "                             delimiter = \";\")\n",
        "\n",
        "p_q  = pd.read_csv('https://raw.githubusercontent.com/lucasestrela/dec_consumo_poupanca/main/dados/BEA_Tab114_Quarter.csv',\n",
        "                             delimiter = \";\")\n",
        "\n",
        "# Deletando a primeira coluna\n",
        "del df_q['Line']\n",
        "del p_q['Line']\n",
        "\n",
        "# Transpondo a matriz\n",
        "df_q  = df_q.T\n",
        "p_q   = p_q.T\n",
        "\n",
        "# Excluindo primeira linha a add ela como var name\n",
        "df_q.columns = df_q.iloc[0, :]\n",
        "p_q.columns  = p_q.iloc[0, :]\n",
        "\n",
        "df_q = df_q.iloc[1:, :]\n",
        "p_q  = p_q.iloc[1:, :]\n",
        "\n",
        "\n",
        "\n",
        "# Removendo o underline\n",
        "df_q.index = df_q.index.str.replace(\"_\", \"\")\n",
        "p_q.index = p_q.index.str.replace(\"_\", \"\")\n",
        "\n",
        "\n",
        "# Transformando em data\n",
        "df_q.index = pd.to_datetime( df_q.index , errors='coerce')\n",
        "p_q.index = pd.to_datetime( p_q.index , errors='coerce')\n",
        "\n",
        "\n",
        "\n",
        "\n",
        "# Renomeando\n",
        "df_q = df_q.rename(columns={df_q.columns[3]: 'consumption'})\n",
        "p_q  = p_q.rename(columns={p_q.columns[3]: 'consumption'})\n",
        "\n",
        "\n",
        "\n",
        "# df_q = df_q.rename(columns={'Services': 'consumption'})\n",
        "# p_q  = p_q.rename(columns={'Services': 'consumption'})\n",
        "\n",
        "\n",
        "# Transformando em .float\n",
        "df_q['consumption'] = pd.to_numeric(df_q['consumption'])\n",
        "p_q['consumption'] = pd.to_numeric(p_q['consumption'])\n",
        "\n",
        "# Calculando consumo real\n",
        "consumo_real = df_q['consumption']/p_q['consumption']\n",
        "\n",
        "# Crescimento real\n",
        "cresc_consumo_real = consumo_real/consumo_real.shift(1) - 1\n",
        "\n",
        "# Calculando a tx de inflação (1+...%)\n",
        "tx_inf1 = p_q['consumption']/p_q['consumption'].shift(1)\n",
        "\n",
        "\n",
        "dta = pd.DataFrame([consumo_real, cresc_consumo_real, tx_inf1]).T\n",
        "dta.columns = ['c', 'c_growth', 'inflacao']\n",
        "\n",
        "\n",
        "\n",
        "#######################################\n",
        "###### Importando dados do SP500 ######\n",
        "#######################################\n",
        "\n",
        "\n",
        "sp500  = pd.read_csv('https://raw.githubusercontent.com/lucasestrela/dec_consumo_poupanca/main/dados/sp500.csv',\n",
        "                             delimiter = \",\")\n",
        "\n",
        "# Selecionando variaveis\n",
        "sp500 = sp500[['ref.date', 'price.adjusted']]\n",
        "sp500.columns = ['date', 'price']\n",
        "\n",
        "# Adicionando o indice de datas\n",
        "sp500.index = pd.to_datetime( sp500['date'] , errors='coerce')\n",
        "\n",
        "\n",
        "# Criando variavel indicadora para mudança de quarter\n",
        "sp500['quarter'] = sp500.index.quarter\n",
        "sp500['year'] = sp500.index.year\n",
        "sp500['group_indicator'] = sp500['quarter']  != sp500['quarter'] .shift(-1)\n",
        "\n",
        "# Filtrando apenas os ultimos meses do quarter e selecionando ano que quero\n",
        "sp500 = sp500[sp500['group_indicator'] == True]\n",
        "sp500 = sp500[sp500['year'] >= 1947][:-2]\n",
        "\n",
        "# Selecionando variaveis\n",
        "sp500 = sp500[['price']]\n",
        "\n",
        "\n",
        "# Copiando o indice\n",
        "sp500.index = p_q.index\n",
        "\n",
        "# Calculando o retonro e o ret real\n",
        "sp500['sp500_ret_real'] = ((sp500['price']/sp500['price'].shift(1)) / tx_inf1) - 1\n",
        "sp500['sp500_ret'] = sp500['price']/sp500['price'].shift(1) - 1\n",
        "\n",
        "# Fazendo o merge dos dois datasets\n",
        "dta = dta.join(sp500)"
      ],
      "execution_count": null,
      "outputs": []
    },
    {
      "cell_type": "code",
      "metadata": {
        "id": "x8Ev0FA1pX_U"
      },
      "source": [
        "fred = Fred(api_key='548624ed839059b759900a51992bc8c8')\n",
        "\n",
        "# Obtendo dados trimestrais do FRED usando a média do período\n",
        "tb3m = fred.get_series('DTB3', frequency = 'q', aggregation_method = 'avg')\n",
        "\n",
        "# Transformando em dataframe\n",
        "tb3m = pd.DataFrame(tb3m, columns = ['T-Bill'])\n",
        "\n",
        "# Transformando o retorno em trimestral\n",
        "tb3m['TBill_ret'] = np.power(1+tb3m['T-Bill']/100, 0.25) - 1"
      ],
      "execution_count": null,
      "outputs": []
    },
    {
      "cell_type": "code",
      "metadata": {
        "id": "IG4a60hT0GTx"
      },
      "source": [
        "# Fazendo o merge dos dois datasets\n",
        "dta2 = dta.join(tb3m['TBill_ret'])\n",
        "\n",
        "dta2['TBill_ret_real'] = ( 1 + dta2['TBill_ret'] ) / dta2['inflacao'] - 1\n",
        "\n",
        "dta2 = dta2[['c', 'c_growth', 'sp500_ret_real', 'TBill_ret_real']].dropna()"
      ],
      "execution_count": null,
      "outputs": []
    },
    {
      "cell_type": "code",
      "metadata": {
        "id": "GJ2saCRW1Wq5"
      },
      "source": [
        "# Exportanto dados\n",
        "# dta2.to_csv('dataset.csv')\n",
        "# files.download('dataset.csv')"
      ],
      "execution_count": null,
      "outputs": []
    },
    {
      "cell_type": "code",
      "metadata": {
        "id": "wdGguai51y_b"
      },
      "source": [
        "# Calculando a 1 defasagem do crescimento do consumo\n",
        "dta2['c_growth_lag1'] = dta2['c_growth'].shift(1)\n",
        "dta2['c_growth_lag2'] = dta2['c_growth'].shift(2)\n",
        "\n",
        "# Calculando a 1 defasagem e um adiantamento do consumo\n",
        "dta2['c_lag1']  = dta2['c'].shift(1)\n",
        "dta2['c_forw1'] = dta2['c'].shift(-1)\n",
        "\n",
        "# Calculando a 1 e 2 defasagem e um adiantamento do consumo\n",
        "dta2['sp500_r_lag1']  = dta2['sp500_ret_real'].shift(1) + 1\n",
        "dta2['sp500_r_lag2']  = dta2['sp500_ret_real'].shift(2) + 1\n",
        "dta2['sp500_r_forw1'] = dta2['sp500_ret_real'].shift(-1) + 1\n",
        "\n",
        "\n",
        "dta2['tbill_r_lag1']  = dta2['TBill_ret_real'].shift(1) + 1\n",
        "dta2['tbill_r_lag2']  = dta2['TBill_ret_real'].shift(2) + 1\n",
        "dta2['tbill_r_forw1'] = dta2['TBill_ret_real'].shift(-1) + 1\n",
        "\n",
        "# Constante\n",
        "dta2['const'] = 1\n",
        "\n",
        "# Removendo os missings\n",
        "dta_clean = dta2.dropna()\n",
        "\n",
        "# Calculando as endógenas, as variáveis contemporaneas\n",
        "endog_df = dta_clean[['sp500_r_forw1', 'tbill_r_forw1', 'c_forw1', 'c']]\n",
        "exog_df  = endog_df\n",
        "\n",
        "# Os instrumentos serão as variáveis defasadas\n",
        "instrument_df = dta_clean[['sp500_r_lag2', 'tbill_r_lag2', 'c_growth_lag2', 'const']]\n",
        "\n",
        "# Transformando em array\n",
        "endog, exog, instrument  = map(np.asarray, [endog_df, exog_df, instrument_df])"
      ],
      "execution_count": null,
      "outputs": []
    },
    {
      "cell_type": "markdown",
      "metadata": {
        "id": "l4eczx8uKf90"
      },
      "source": [
        "Do **Problema 1**, Item b) a função de momento pode ser escrita como:\n",
        "\n",
        "\\begin{align*}\n",
        "h(\\boldsymbol{\\Gamma}, \\textbf{x}) = \n",
        "  \\begin{bmatrix}\n",
        "  \\Bigg[ \\bigg \\{ \\beta \\bigg( \\frac{C_{t+1}}{C_t} \\bigg)^{-\\frac{1}{\\psi}} \\bigg\\}^{\\theta} \\bigg\\{ \\frac{1}{R_{w,t+1}}\\bigg\\}^{1-\\theta} R_{i,t+1}  -1 \\Bigg]  \\times z_{t,1} \\\\\n",
        "  \\vdots \\\\\n",
        "  \\Bigg[ \\bigg \\{ \\beta \\bigg( \\frac{C_{t+1}}{C_t} \\bigg)^{-\\frac{1}{\\psi}} \\bigg\\}^{\\theta} \\bigg\\{ \\frac{1}{R_{w,t+1}}\\bigg\\}^{1-\\theta} R_{i,t+1}  -1 \\Bigg]  \\times z_{t,n}\n",
        "  \\end{bmatrix},\n",
        "\\end{align*}"
      ]
    },
    {
      "cell_type": "code",
      "metadata": {
        "id": "L9-oeMbW1wAd"
      },
      "source": [
        "def moment_consumption1(params, exog):\n",
        "    beta, theta, psi = params\n",
        "    sp500_r_forw1, tbill_r_forw1, c_forw1, c = exog.T  # unwrap iterable (ndarray)\n",
        "    \n",
        "    # moment condition without instrument    \n",
        "    err = 1 - np.power(beta, theta) * np.power(c_forw1 / c, - theta/psi) * np.power(1/sp500_r_forw1, theta) * np.power(tbill_r_forw1, 1 - theta) \n",
        "\n",
        "    return -err"
      ],
      "execution_count": null,
      "outputs": []
    },
    {
      "cell_type": "code",
      "metadata": {
        "colab": {
          "base_uri": "https://localhost:8080/"
        },
        "id": "Q6OLZAFx3ZOK",
        "outputId": "2c7bf443-8df7-413c-b570-f1a2df23d33f"
      },
      "source": [
        "# Vetor de zeros\n",
        "endog1 = np.zeros(exog.shape[0])\n",
        "\n",
        "# Rodando o GMM. Endogenos sao 0's, exógenos as variaveis que entram na eq de Euler e instrumentos sao as variaveis defasadas\n",
        "mod1   = gmm.NonlinearIVGMM(endog1, exog, instrument, moment_consumption1, k_moms=4, k_params=3)\n",
        "\n",
        "# Calculando uma matriz de pesos\n",
        "w0inv  = np.dot(instrument.T, instrument) / len(endog1)\n",
        "\n",
        "# Fitando o modelo\n",
        "res1   = mod1.fit([1.0, 0.3, 1.5], maxiter=1000, inv_weights = w0inv, weights_method='hac', wargs={'maxlag':4})\n"
      ],
      "execution_count": null,
      "outputs": [
        {
          "output_type": "stream",
          "text": [
            "Optimization terminated successfully.\n",
            "         Current function value: 0.000005\n",
            "         Iterations: 3\n",
            "         Function evaluations: 4\n",
            "         Gradient evaluations: 4\n",
            "Optimization terminated successfully.\n",
            "         Current function value: 0.006496\n",
            "         Iterations: 86\n",
            "         Function evaluations: 95\n",
            "         Gradient evaluations: 95\n",
            "Optimization terminated successfully.\n",
            "         Current function value: 0.003843\n",
            "         Iterations: 8\n",
            "         Function evaluations: 10\n",
            "         Gradient evaluations: 10\n",
            "Optimization terminated successfully.\n",
            "         Current function value: 0.002819\n",
            "         Iterations: 5\n",
            "         Function evaluations: 8\n",
            "         Gradient evaluations: 8\n",
            "Optimization terminated successfully.\n",
            "         Current function value: 0.002928\n",
            "         Iterations: 4\n",
            "         Function evaluations: 7\n",
            "         Gradient evaluations: 7\n",
            "Optimization terminated successfully.\n",
            "         Current function value: 0.002882\n",
            "         Iterations: 4\n",
            "         Function evaluations: 7\n",
            "         Gradient evaluations: 7\n",
            "Optimization terminated successfully.\n",
            "         Current function value: 0.002893\n",
            "         Iterations: 3\n",
            "         Function evaluations: 6\n",
            "         Gradient evaluations: 6\n",
            "Optimization terminated successfully.\n",
            "         Current function value: 0.002890\n",
            "         Iterations: 1\n",
            "         Function evaluations: 3\n",
            "         Gradient evaluations: 3\n",
            "Optimization terminated successfully.\n",
            "         Current function value: 0.002890\n",
            "         Iterations: 1\n",
            "         Function evaluations: 3\n",
            "         Gradient evaluations: 3\n"
          ],
          "name": "stdout"
        }
      ]
    },
    {
      "cell_type": "code",
      "metadata": {
        "colab": {
          "base_uri": "https://localhost:8080/"
        },
        "id": "UEEOIfF3BWHN",
        "outputId": "42fa982b-d794-465e-b8c2-17afcae0a5e6"
      },
      "source": [
        "# Print do modelo\n",
        "print(res1.summary(yname='Euler Eq', xname=['Desconto', 'Theta', 'IES']))"
      ],
      "execution_count": null,
      "outputs": [
        {
          "output_type": "stream",
          "text": [
            "                            NonlinearIVGMM Results                            \n",
            "==============================================================================\n",
            "Dep. Variable:               Euler Eq   Hansen J:                       0.7657\n",
            "Model:                 NonlinearIVGMM   Prob (Hansen J):                 0.382\n",
            "Method:                           GMM                                         \n",
            "Date:                Sat, 01 May 2021                                         \n",
            "Time:                        23:45:20                                         \n",
            "No. Observations:                 265                                         \n",
            "==============================================================================\n",
            "                 coef    std err          z      P>|z|      [0.025      0.975]\n",
            "------------------------------------------------------------------------------\n",
            "Desconto       1.0067      0.017     58.361      0.000       0.973       1.040\n",
            "Theta          0.4624      0.517      0.894      0.371      -0.551       1.476\n",
            "IES         1.468e+05   5.97e+09   2.46e-05      1.000   -1.17e+10    1.17e+10\n",
            "==============================================================================\n"
          ],
          "name": "stdout"
        }
      ]
    },
    {
      "cell_type": "markdown",
      "metadata": {
        "id": "48rT0EiSRc-2"
      },
      "source": [
        "#### Calculando Var($\\gamma$)"
      ]
    },
    {
      "cell_type": "markdown",
      "metadata": {
        "id": "w8ATcFpNRhR4"
      },
      "source": [
        "Via metodo delta\n",
        "\n",
        "\\begin{align*}\n",
        "Var(\\gamma) & = \n",
        "\\begin{bmatrix}\n",
        "  -\\frac{\\psi-1}{\\psi} & & -\\frac{\\theta}{\\psi^2} \n",
        "\\end{bmatrix} \n",
        "\\Sigma_{\\theta, \\gamma}\n",
        "  \\begin{bmatrix}\n",
        "  -\\frac{\\psi-1}{\\psi} \\\\\n",
        "  -\\frac{\\theta}{\\psi^2}\n",
        "  \\end{bmatrix},\n",
        "\\end{align*}\n",
        "onde \n",
        "\n",
        "\\begin{align*}\n",
        "\\Sigma_{\\theta, \\gamma} = \n",
        "  \\begin{bmatrix}\n",
        "      Var(\\theta) && Cov(\\theta, \\gamma) \\\\\n",
        "      Cov(\\theta, \\gamma) && Var(\\gamma)\n",
        "  \\end{bmatrix}\n",
        "\\end{align*}"
      ]
    },
    {
      "cell_type": "code",
      "metadata": {
        "colab": {
          "base_uri": "https://localhost:8080/"
        },
        "id": "bwbo58NIQtiT",
        "outputId": "3f4fd0e2-0da6-42aa-c523-33787d67f1c8"
      },
      "source": [
        "theta = res1.params[1]\n",
        "psi   = res1.params[2]\n",
        "\n",
        "gradiente = np.array([0 , -(psi - 1)/psi, -theta/psi**2])\n",
        "\n",
        "var_gamma = np.matmul(gradiente, res1.cov_params())\n",
        "var_gamma = np.matmul(var_gamma, gradiente)\n",
        "\n",
        "print('Gamma = ', np.round(1-theta*(psi-1)/psi) )\n",
        "print('Var(Gamma) = ', np.round(var_gamma, 3) )"
      ],
      "execution_count": null,
      "outputs": [
        {
          "output_type": "stream",
          "text": [
            "Gamma =  1.0\n",
            "Var(Gamma) =  0.388\n"
          ],
          "name": "stdout"
        }
      ]
    },
    {
      "cell_type": "markdown",
      "metadata": {
        "id": "vOutZfh2KuYk"
      },
      "source": [
        "## Item b) \n",
        "\n",
        "Considere a hipótese de log-normalidade e homocedasticidade, estime as versões linearizadas das Equação de Euler (1) e (2)"
      ]
    },
    {
      "cell_type": "markdown",
      "metadata": {
        "id": "zR6scYFmDIRj"
      },
      "source": [
        "Do Problema 1 a equação de Euler (1) linearizada fornece as condições de momento\n",
        "\n",
        "\\begin{align*}\n",
        "h(\\mu, \\psi) = \n",
        "  \\begin{bmatrix}\n",
        "  (\\Delta \\ln C_{t+1} - \\mu - \\psi m_{t+1} - \\epsilon_{t+1}) \\times z_{t,1} \\\\\n",
        "  \\vdots \\\\\n",
        "  (\\Delta \\ln C_{t+1} - \\mu - \\psi m_{t+1} - \\epsilon_{t+1}) \\times z_{t,n}\n",
        "  \\end{bmatrix},\n",
        "\\end{align*}\n",
        "\n",
        "Já a Equação de Euler (2) linearizada fornece as condições de momento:\n",
        "\n",
        "\\begin{align*}\n",
        "h(\\boldsymbol{\\Gamma}, \\textbf{x}) = \n",
        "  \\begin{bmatrix}\n",
        "  \\Big(\\Delta \\ln C_{t+1} - \\mu - \\frac{\\psi(\\theta - 1)}{\\theta} r_{w, t+1} - \\frac{\\psi}{\\theta} r_{i, t+1} - \\varepsilon_{t+1} \\Big) \\times z_{t,1} \\\\\n",
        "  \\vdots \\\\\n",
        "  \\Big(\\Delta \\ln C_{t+1} - \\mu - \\frac{\\psi(\\theta - 1)}{\\theta} r_{w, t+1} - \\frac{\\psi}{\\theta} r_{i, t+1} - \\varepsilon_{t+1} \\Big) \\times z_{t,n}\n",
        "  \\end{bmatrix}\n",
        "\\end{align*}\n"
      ]
    },
    {
      "cell_type": "markdown",
      "metadata": {
        "id": "aVoOuLEAQqeM"
      },
      "source": [
        "### Modelo 2"
      ]
    },
    {
      "cell_type": "code",
      "metadata": {
        "id": "OpXA7UcGCoLh"
      },
      "source": [
        "def moment_consumption_lin2(params, exog):\n",
        "    pi_0, pi_1, pi_2 = params\n",
        "\n",
        "    sp500_r_forw1, tbill_r_forw1, c_forw1, c = exog.T  # unwrap iterable (ndarray)\n",
        "    \n",
        "    # moment condition without instrument    \n",
        "    err = np.log(c_forw1 / c) - pi_0 - pi_1 * sp500_r_forw1 - pi_2 * tbill_r_forw1\n",
        "\n",
        "    return -err"
      ],
      "execution_count": null,
      "outputs": []
    },
    {
      "cell_type": "code",
      "metadata": {
        "colab": {
          "base_uri": "https://localhost:8080/"
        },
        "id": "Kt09-eUQDyjq",
        "outputId": "6c62abeb-e7ce-4861-d069-39a8388017b2"
      },
      "source": [
        "# Vetor de zeros\n",
        "endog = np.zeros(exog.shape[0])\n",
        "\n",
        "\n",
        "# Rodando o GMM. Endogenos sao 0's, exógenos as variaveis que entram na eq de Euler e instrumentos sao as variaveis defasadas\n",
        "mod_lin2   = gmm.NonlinearIVGMM(endog, exog, instrument, moment_consumption_lin2, k_moms=4, k_params=3)\n",
        "\n",
        "\n",
        "# Fitando o modelo\n",
        "res_lin2   = mod_lin2.fit([-1.0763, 0.8047, 0.2668], maxiter=1000, inv_weights = w0inv, weights_method='hac', wargs={'maxlag':4})"
      ],
      "execution_count": null,
      "outputs": [
        {
          "output_type": "stream",
          "text": [
            "Optimization terminated successfully.\n",
            "         Current function value: 0.000000\n",
            "         Iterations: 1\n",
            "         Function evaluations: 3\n",
            "         Gradient evaluations: 3\n",
            "Optimization terminated successfully.\n",
            "         Current function value: 0.000086\n",
            "         Iterations: 3\n",
            "         Function evaluations: 8\n",
            "         Gradient evaluations: 8\n",
            "Optimization terminated successfully.\n",
            "         Current function value: 0.000085\n",
            "         Iterations: 1\n",
            "         Function evaluations: 3\n",
            "         Gradient evaluations: 3\n",
            "Optimization terminated successfully.\n",
            "         Current function value: 0.000085\n",
            "         Iterations: 0\n",
            "         Function evaluations: 1\n",
            "         Gradient evaluations: 1\n"
          ],
          "name": "stdout"
        }
      ]
    },
    {
      "cell_type": "code",
      "metadata": {
        "colab": {
          "base_uri": "https://localhost:8080/"
        },
        "id": "LT6CkmrpMrf7",
        "outputId": "d47ff403-40dd-4072-98b8-0f8701a115e0"
      },
      "source": [
        "print(res_lin2.summary(yname='Euler Eq', xname=['Mu', 'Pi1', 'Pi2']))"
      ],
      "execution_count": null,
      "outputs": [
        {
          "output_type": "stream",
          "text": [
            "                            NonlinearIVGMM Results                            \n",
            "==============================================================================\n",
            "Dep. Variable:               Euler Eq   Hansen J:                      0.02258\n",
            "Model:                 NonlinearIVGMM   Prob (Hansen J):                 0.881\n",
            "Method:                           GMM                                         \n",
            "Date:                Sat, 01 May 2021                                         \n",
            "Time:                        23:45:20                                         \n",
            "No. Observations:                 265                                         \n",
            "==============================================================================\n",
            "                 coef    std err          z      P>|z|      [0.025      0.975]\n",
            "------------------------------------------------------------------------------\n",
            "Mu            -1.0658      1.777     -0.600      0.549      -4.549       2.417\n",
            "Pi1            0.8075      1.929      0.418      0.676      -2.974       4.589\n",
            "Pi2            0.2537      1.198      0.212      0.832      -2.094       2.601\n",
            "==============================================================================\n"
          ],
          "name": "stdout"
        }
      ]
    },
    {
      "cell_type": "code",
      "metadata": {
        "colab": {
          "base_uri": "https://localhost:8080/"
        },
        "id": "CPvGPtW6EJH-",
        "outputId": "491114b5-de11-4f78-ba11-1ff2040eee48"
      },
      "source": [
        "# pi_1 = psi * (theta - 1)/theta\n",
        "# pi_2 = psi/theta\n",
        "\n",
        "pi_1 = res_lin2.params[1]\n",
        "pi_2 = res_lin2.params[2]\n",
        "\n",
        "psi   = pi_1 * pi_2**2 + pi_2\n",
        "theta = psi/pi_2\n",
        "\n",
        "\n",
        "\n",
        "print('Modelo Nao Linear')\n",
        "print('Psi = ', np.round(res1.params[1], 3), '  ','Theta = ', np.round(res1.params[2], 3))\n",
        "print()\n",
        "print('Modelo Linearizado')\n",
        "print('Psi = ', np.round(psi,3),'  ', 'Theta = ', np.round(theta,3))"
      ],
      "execution_count": null,
      "outputs": [
        {
          "output_type": "stream",
          "text": [
            "Modelo Nao Linear\n",
            "Psi =  0.462    Theta =  146751.577\n",
            "\n",
            "Modelo Linearizado\n",
            "Psi =  0.306    Theta =  1.205\n"
          ],
          "name": "stdout"
        }
      ]
    },
    {
      "cell_type": "markdown",
      "metadata": {
        "id": "y7rrzXFoQnIk"
      },
      "source": [
        "### Modelo 1"
      ]
    },
    {
      "cell_type": "code",
      "metadata": {
        "id": "S-tiSd6ALdKK"
      },
      "source": [
        "# Removendo os missings\n",
        "dta_clean = dta2.dropna()\n",
        "\n",
        "# Calculando as endógenas, as variáveis contemporaneas\n",
        "endog_df = dta_clean[['sp500_r_forw1', 'c_forw1', 'c']]\n",
        "exog_df  = endog_df\n",
        "\n",
        "# Os instrumentos serão as variáveis defasadas\n",
        "instrument_df = dta_clean[['sp500_r_lag1', 'sp500_r_lag2', 'c_growth_lag2', 'const']]\n",
        "\n",
        "# Transformando em array\n",
        "endog, exog, instrument  = map(np.asarray, [endog_df, exog_df, instrument_df])"
      ],
      "execution_count": null,
      "outputs": []
    },
    {
      "cell_type": "code",
      "metadata": {
        "id": "4EmfXW1SK9gb"
      },
      "source": [
        "def moment_consumption_lin1(params, exog):\n",
        "    pi_0, pi_1 = params\n",
        "\n",
        "    sp500_r_forw1, c_forw1, c = exog.T  # unwrap iterable (ndarray)\n",
        "    \n",
        "    # moment condition without instrument    \n",
        "    err = np.log(c_forw1 / c) - pi_0 - pi_1 * sp500_r_forw1\n",
        "\n",
        "    return -err"
      ],
      "execution_count": null,
      "outputs": []
    },
    {
      "cell_type": "code",
      "metadata": {
        "colab": {
          "base_uri": "https://localhost:8080/"
        },
        "id": "Sz3YAFgnPW7Q",
        "outputId": "3181bc73-a5b6-425b-db4b-05d6091166c5"
      },
      "source": [
        "# Vetor de zeros\n",
        "endog = np.zeros(exog.shape[0])\n",
        "\n",
        "\n",
        "# Rodando o GMM. Endogenos sao 0's, exógenos as variaveis que entram na eq de Euler e instrumentos sao as variaveis defasadas\n",
        "mod_lin1   = gmm.NonlinearIVGMM(endog, exog, instrument, moment_consumption_lin1, k_moms=4, k_params=2)\n",
        "\n",
        "\n",
        "# Fitando o modelo\n",
        "res_lin1   = mod_lin1.fit([0.7285, -0.7009], maxiter=1000, inv_weights = w0inv, weights_method='hac', wargs={'maxlag':4})"
      ],
      "execution_count": null,
      "outputs": [
        {
          "output_type": "stream",
          "text": [
            "Optimization terminated successfully.\n",
            "         Current function value: 0.000055\n",
            "         Iterations: 4\n",
            "         Function evaluations: 11\n",
            "         Gradient evaluations: 11\n",
            "Optimization terminated successfully.\n",
            "         Current function value: 0.002958\n",
            "         Iterations: 4\n",
            "         Function evaluations: 9\n",
            "         Gradient evaluations: 9\n",
            "Optimization terminated successfully.\n",
            "         Current function value: 0.009173\n",
            "         Iterations: 4\n",
            "         Function evaluations: 8\n",
            "         Gradient evaluations: 8\n",
            "Optimization terminated successfully.\n",
            "         Current function value: 0.002723\n",
            "         Iterations: 4\n",
            "         Function evaluations: 9\n",
            "         Gradient evaluations: 9\n",
            "Optimization terminated successfully.\n",
            "         Current function value: 0.004398\n",
            "         Iterations: 3\n",
            "         Function evaluations: 8\n",
            "         Gradient evaluations: 8\n",
            "Optimization terminated successfully.\n",
            "         Current function value: 0.003517\n",
            "         Iterations: 4\n",
            "         Function evaluations: 9\n",
            "         Gradient evaluations: 9\n",
            "Optimization terminated successfully.\n",
            "         Current function value: 0.003882\n",
            "         Iterations: 3\n",
            "         Function evaluations: 8\n",
            "         Gradient evaluations: 8\n",
            "Optimization terminated successfully.\n",
            "         Current function value: 0.003733\n",
            "         Iterations: 3\n",
            "         Function evaluations: 8\n",
            "         Gradient evaluations: 8\n",
            "Optimization terminated successfully.\n",
            "         Current function value: 0.003775\n",
            "         Iterations: 1\n",
            "         Function evaluations: 3\n",
            "         Gradient evaluations: 3\n",
            "Optimization terminated successfully.\n",
            "         Current function value: 0.003777\n",
            "         Iterations: 1\n",
            "         Function evaluations: 3\n",
            "         Gradient evaluations: 3\n"
          ],
          "name": "stdout"
        }
      ]
    },
    {
      "cell_type": "code",
      "metadata": {
        "colab": {
          "base_uri": "https://localhost:8080/"
        },
        "id": "SepYh-iREAns",
        "outputId": "87f9759c-6342-4ac9-8ba8-a958bcfbeef1"
      },
      "source": [
        "# Print do modelo\n",
        "print(res_lin1.summary(yname='Euler Eq', xname=['Mu', 'Psi']))"
      ],
      "execution_count": null,
      "outputs": [
        {
          "output_type": "stream",
          "text": [
            "                            NonlinearIVGMM Results                            \n",
            "==============================================================================\n",
            "Dep. Variable:               Euler Eq   Hansen J:                        1.001\n",
            "Model:                 NonlinearIVGMM   Prob (Hansen J):                 0.606\n",
            "Method:                           GMM                                         \n",
            "Date:                Sat, 01 May 2021                                         \n",
            "Time:                        23:45:46                                         \n",
            "No. Observations:                 265                                         \n",
            "==============================================================================\n",
            "                 coef    std err          z      P>|z|      [0.025      0.975]\n",
            "------------------------------------------------------------------------------\n",
            "Mu             0.6242      1.134      0.551      0.582      -1.598       2.846\n",
            "Psi           -0.5990      1.111     -0.539      0.590      -2.777       1.579\n",
            "==============================================================================\n"
          ],
          "name": "stdout"
        }
      ]
    }
  ]
}