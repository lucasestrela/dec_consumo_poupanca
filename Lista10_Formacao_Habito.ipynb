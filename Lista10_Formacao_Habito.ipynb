{
  "nbformat": 4,
  "nbformat_minor": 0,
  "metadata": {
    "colab": {
      "name": "Lista10_Formacao_Habito.ipynb",
      "provenance": [],
      "collapsed_sections": [],
      "toc_visible": true,
      "authorship_tag": "ABX9TyOi/a6n69VJ9iZVognlUcCX"
    },
    "kernelspec": {
      "name": "python3",
      "display_name": "Python 3"
    },
    "language_info": {
      "name": "python"
    }
  },
  "cells": [
    {
      "cell_type": "markdown",
      "metadata": {
        "id": "jAce0iQtGAf9"
      },
      "source": [
        "# Problema 1) \n",
        "\n",
        "Considere o problema do consumidor:\n",
        "\n",
        "$$\\max_{ \\{C_t\\}_{t=0}^{\\infty} } E_0 \\Bigg\\{ \\sum_{t=0}^{\\infty} \\beta^t [u(C_t) + v(C_{t-1})] \\Bigg\\}$$\n",
        "\n",
        "\\begin{align*}\n",
        "\\text{sujeito a}\n",
        "    \\begin{cases}\n",
        "      A_{t+1} = R_{t+1}(A_t + Y_t - C_t) \\\\\n",
        "      A_{0}\\text{ e } C_{-1} \\text{ dados}\n",
        "    \\end{cases}\n",
        "\\end{align*}\n",
        "\n",
        "\n",
        "em que $A_t$, $Y_t$ e $C_t$ são, respectivamente, riqueza, renda, consumo no período $t$ enquanto $R_{t+1}$ é a taxa de juros no período $t + 1$, $\\beta \\in (0, 1)$, $u(C_t, C_{t-1})$ é a função utilidade que depende de $C_t$ e $C_{t-1}$."
      ]
    },
    {
      "cell_type": "markdown",
      "metadata": {
        "id": "5r3wVdKIWFNe"
      },
      "source": [
        "## Item a) \n",
        "\n",
        "Assumindo solução interior, encontre a equação de Euler deste problema.\n",
        "\n",
        "---\n",
        "\n",
        "**Resposta**\n",
        "\n",
        "Seja a Equação de Bellman\n",
        "\n",
        "\\begin{align*}\n",
        "    V(A_{t}, C_{t-1}) = \\max_{\\{C_t\\}_{t=0}^{\\infty}} \\bigg\\{ u(C_t) + v(C_{t-1}) + \\beta E_t\\Big[ V(A_{t+1}, C_{t}) \\Big] \\bigg\\} \n",
        "\\end{align*}\n",
        "\n",
        "Resolvendo o problema de maximização, a CPO\n",
        "\n",
        "\\begin{align*}\n",
        "    0 & = u'(C_t) + \\beta E_t\\Big[ V_1(R_{t+1}(A_t + Y_t - C_t), C_{t}) (- R_{t+1}) + V_2(R_{t+1}(A_t + Y_t - C_t), C_{t}) \\Big]\\\\\n",
        "    0 & = u'(C_t) + \\beta E_t\\Big[ V_1(A_{t+1}, C_{t}) (- R_{t+1}) + V_2 (A_{t+1}, C_{t}) \\Big] \\\\\n",
        "    0 & = u'(C_t) - \\beta  E_t \\Big[V_1(A_{t+1}, C_{t}) R_{t+1}\\Big] + \\beta  E_t \\Big[ V_2 (A_{t+1}, C_{t})\\Big] \\\\\n",
        "    \\beta  E_t \\Big[ V_1(A_{t+1}, C_{t}) R_{t+1}\\Big] & = u'(C_t) + \\beta E_t \\Big [V_2 (A_{t+1}, C_{t})\\Big] \\tag{1}\n",
        "\\end{align*}\n",
        "\n",
        "Utilizando o Teorema do Envelope\n",
        "\n",
        "\\begin{align*}\n",
        "     V_1 (A_{t}, C_{t-1}) = \\beta E_t \\Big [ V_1 (A_{t+1}, C_{t}) R_{t+1} \\Big] \\tag{2}\n",
        "\\end{align*}\n",
        "\n",
        "\\begin{align*}\n",
        "     V_2 (A_{t}, C_{t-1}) = v'(C_{t-1}) \\tag{3}\n",
        "\\end{align*}\n",
        "\n",
        "Note que podemos utilizar (2) e (3) em (1) para obter\n",
        "\n",
        "\\begin{align*}\n",
        "    \\underbrace{\\beta  E_t \\Big[ V_1(A_{t+1}, C_{t}) R_{t+1}\\Big]}_{ V_1 (A_{t}, C_{t-1})} & = u'(C_t) + \\beta E_t \\Big [\\underbrace{V_2 (A_{t+1}, C_{t})}_{v'(C_{t})}\\Big]  \\\\\n",
        "   V_1 (A_{t}, C_{t-1}) & = u'(C_t) + \\beta E_t \\Big [v'(C_{t})\\Big]  \\\\\n",
        "\\end{align*}\n",
        "\n",
        "Utilizando este resultado acima em (2)\n",
        "\n",
        "\\begin{align*}\n",
        "     \\underbrace{V_1 (A_{t}, C_{t-1})}_{u'(C_t) + \\beta E_t \\Big [v'(C_{t})\\Big]} & = \\beta E_t \\Big [ \\underbrace{V_1 (A_{t+1}, C_{t})}_{u'(C_{t+1}) + \\beta E_{t+1} \\Big [v'(C_{t+1})\\Big]} R_{t+1} \\Big] \\\\\n",
        "    u'(C_t) + \\beta v'(C_{t}) & = \\beta E_t \\Big [ \\Big( u'(C_{t+1}) + \\beta E_{t+1} \\Big [v'(C_{t+1})\\Big]\\Big) R_{t+1} \\Big] \\\\\n",
        "    u'(C_t) + \\beta v'(C_{t}) & = \\beta E_t \\Big [u'(C_{t+1}) R_{t+1}\\Big ] + \\beta^2 E_t \\Big[ E_{t+1} \\big [v'(C_{t+1})\\big] R_{t+1} \\Big]\\\\\n",
        "    u'(C_t) + \\beta v'(C_{t}) & = \\beta E_t \\Big [u'(C_{t+1}) R_{t+1} \\Big ] + \\beta^2 E_t \\big [v'(C_{t+1}) R_{t+1} \\big]\n",
        "\\end{align*}"
      ]
    },
    {
      "cell_type": "markdown",
      "metadata": {
        "id": "RBZ9b92nVX0B"
      },
      "source": [
        "## Item b) \n",
        "\n",
        "Mostre que\n",
        "\n",
        "$$\\sum_{t=0}^{\\infty} \\beta^t [u(C_t) + v(C_{t-1})] = v(C_{-1}) + \\sum_{t=0}^{\\infty} \\beta^t [u(C_t) + \\beta v(C_t)]$$\n",
        "\n",
        "---\n",
        "\n",
        "**Resposta**\n",
        "\n",
        "\\begin{align*}\n",
        "    \\sum_{t=0}^{\\infty} \\beta^t [u(C_t) + v(C_{t-1})] & = \\sum_{t=0}^{\\infty} \\beta^t u(C_t) + \\sum_{t=0}^{\\infty} \\beta^t v(C_{t-1}) \\\\\n",
        "    & = [\\beta^0 u(C_0) + \\beta^1 u(C_1) + ... ]+[ \\beta^0 v(C_{-1}) + \\beta^1 v(C_{0}) + \\beta^2 v(C_{1})]\\\\\n",
        "    & =  \\beta^0 v(C_{-1}) + [\\beta^0 u(C_0) + \\beta^1 u(C_1) + ... ]+[ \\beta^1 v(C_{0}) + \\beta^2 v(C_{1})]\\\\\n",
        "    & =  v(C_{-1}) + u(C_0) + [\\beta^1 u(C_1) + ... ]+[ \\beta^1 v(C_{0}) + \\beta^2 v(C_{1})] \\\\\n",
        "    & =  v(C_{-1}) + \\sum_{t=0}^{\\infty} \\beta^{t} u(C_0) + \\sum_{t=0}^{\\infty} \\beta^{t+1} v(C_{0}) \\\\\n",
        "    & =  v(C_{-1}) + \\sum_{t=0}^{\\infty} \\beta^{t} \\big[ u(C_0) + \\beta v(C_{0}) \\big]\n",
        "\\end{align*}"
      ]
    },
    {
      "cell_type": "markdown",
      "metadata": {
        "id": "QRlDrPWdVaNF"
      },
      "source": [
        "## Item c) \n",
        "\n",
        "Defina $h \\equiv u(C_t) + \\beta v(C_t)$. Resolva o seguinte problema e compare o resultado com o obtido em **(a)**.\n",
        "\n",
        "$$\\max_{ \\{C_t\\}_{t=0}^{\\infty} } E_0 \\Bigg\\{ \\sum_{t=0}^{\\infty} \\beta^t h(C_t) \\Bigg\\}$$\n",
        "\n",
        "\\begin{align*}\n",
        "\\text{sujeito a}\n",
        "    \\begin{cases}\n",
        "      A_{t+1} = R_{t+1}(A_t + Y_t - C_t) \\\\\n",
        "      A_{0} \\text{ dado}\n",
        "    \\end{cases}\n",
        "\\end{align*}\n",
        "\n",
        "---\n",
        "\n",
        "**Resposta**\n",
        "\n",
        "\n",
        "Seja a Equação de Bellman\n",
        "\n",
        "\\begin{align*}\n",
        "    V(A_{t}) = \\max_{\\{C_t\\}_{t=0}^{\\infty}} \\bigg\\{ h(C_t) + \\beta E_t\\Big[ V(A_{t+1}) \\Big] \\bigg\\} \n",
        "\\end{align*}\n",
        "\n",
        "Resolvendo o problema de maximização, a CPO\n",
        "\n",
        "\\begin{align*}\n",
        "    0 & = h' (C_t)+ \\beta E_t\\Big[ V'(R_{t+1}(A_t + Y_t - C_t)) (- R_{t+1}) \\Big]\\\\\n",
        "    0 & = h'(C_t) + \\beta E_t\\Big[ V'(A_{t+1}) (- R_{t+1}) \\Big] \\\\\n",
        "    0 & = h'(C_t) - \\beta  E_t \\Big[V'(A_{t+1}) R_{t+1}\\Big] \\\\\n",
        "    \\beta  E_t \\Big[ V'(A_{t+1}) R_{t+1}\\Big] & = h'(C_t)  \\tag{1}\n",
        "\\end{align*}\n",
        "\n",
        "Utilizando o Teorema do Envelope\n",
        "\n",
        "\\begin{align*}\n",
        "     V'(A_{t}) = \\beta E_t \\Big [ V' (A_{t+1}) R_{t+1} \\Big] \\tag{2}\n",
        "\\end{align*}\n",
        "\n",
        "Note que podemos utilizar (2) em (1) para obter\n",
        "\n",
        "\\begin{align*}\n",
        "V'(A_{t}) & = h'(C_t) \\\\\n",
        "V'(A_{t+1}) & = h'(C_{t+1}) \\\\\n",
        "\\end{align*}\n",
        "\n",
        "Utilizando este resultado acima em (1)\n",
        "\n",
        "\\begin{align*}\n",
        "     \\beta  E_t \\Big[ h'(C_{t+1}) R_{t+1}\\Big] & = h'(C_t) \\\\\n",
        "       E_t \\Bigg[\\beta \\frac{h'(C_{t+1})}{ h'(C_t)} R_{t+1} - 1 \\Bigg] & = 0 \\\\\n",
        "\\end{align*}"
      ]
    },
    {
      "cell_type": "markdown",
      "metadata": {
        "id": "JsbKfTGZVcy7"
      },
      "source": [
        "## Item d) \n",
        "\n",
        "Use a expressão apresentada em **(b)** para calcular a derivada da utilidade marginal de $C_{\\tau}$ com respeito a $C_{\\tau-1}$. Considerando todos os resultados obtidos em **(a)**, **(b)**, **(c)** e **(d)** discuta se há, de fato, formação de hábito quando a utilidade é separável no consumo corrente e no consumo defasado.\n",
        "\n",
        "---\n",
        "\n",
        "**Resposta**\n",
        "\n",
        "Seja a função utilidade $U_0$ definida como\n",
        "\n",
        "$$ U_0 \\equiv \\sum_{t=0}^{\\infty} \\beta^t [u(C_t) + v(C_{t-1})] = v(C_{-1}) + \\sum_{t=0}^{\\infty} \\beta^t [u(C_t) + \\beta v(C_t)]$$\n",
        "\n",
        "Perceba que podemos definir uma função $h(C_t) \\equiv u(C_t) + v(C_{t})$, tal como fizemos no item **(c)** e escrever a função $U_0$ de forma que ela apenas dependa do consumo no período corrente\n",
        "\n",
        "$$ U_0 = v(C_{-1}) + \\sum_{t=0}^{\\infty} \\beta^t h(C_t)$$\n",
        "\n",
        "Note que ao calcular a derivada parcial de $U_0$ em relação a $C_{t}$, o primeiro termo da expressão a direita, $v(C_{-1})$ não afetará o resultado da maximização.\n",
        "\n",
        "Portanto, quando definimos a formação de hábito com uma utilidade separável no consumo corrente e no consumo defasado, na prática, não atingimos o nosso objetivo, uma vez que é possível reescrever este problema de forma a depender apenas do consumo corrente.\n",
        "\n"
      ]
    },
    {
      "cell_type": "markdown",
      "metadata": {
        "id": "AyZcyFM1VfXQ"
      },
      "source": [
        "# Problema 2) \n",
        "\n",
        "Considere o problema do consumidor\n",
        "\n",
        "$$\\max_{ \\{C_t\\}_{t=0}^{\\infty} } E_0 \\Bigg\\{ \\sum_{t=0}^{\\infty} \\beta^t u(C_t, C_{t-1}) \\Bigg\\}$$\n",
        "\n",
        "\\begin{align*}\n",
        "\\text{sujeito a}\n",
        "    \\begin{cases}\n",
        "      A_{t+1} = R_{t+1}(A_t + Y_t - C_t) \\\\\n",
        "      A_{0}\\text{ e } C_{-1} \\text{ dados}\n",
        "    \\end{cases}\n",
        "\\end{align*}\n",
        "\n",
        "em que $A_t$, $Y_t$ e $C_t$ são, respectivamente, riqueza, renda, consumo no período t enquanto Rt+1 é a taxa de juros no período $t + 1$, $\\beta \\in (0, 1)$, $u(C_t, C_{t-1})$ é a função utilidade que depende de $C_t$ e $C_{t-1}$"
      ]
    },
    {
      "cell_type": "markdown",
      "metadata": {
        "id": "49soBfwYVhkU"
      },
      "source": [
        "## Item a) \n",
        "\n",
        "Assumindo solução interior, encontre a equação de Euler deste problema\n",
        "\n",
        "---\n",
        "\n",
        "**Resposta**\n",
        "\n",
        "Seja a Equação de Bellman\n",
        "\n",
        "\\begin{align*}\n",
        "    V(A_{t}, C_{t-1}) = \\max_{\\{C_t\\}_{t=0}^{\\infty}} \\bigg\\{ u(C_t, C_{t-1}) + \\beta E_t\\Big[ V(A_{t+1}, C_{t}) \\Big] \\bigg\\} \n",
        "\\end{align*}\n",
        "\n",
        "Resolvendo o problema de maximização, a CPO\n",
        "\n",
        "\\begin{align*}\n",
        "    0 & = u_1(C_t, C_{t-1}) + \\beta E_t\\Big[ V_1(R_{t+1}(A_t + Y_t - C_t), C_{t}) (- R_{t+1}) + V_2(R_{t+1}(A_t + Y_t - C_t), C_{t}) \\Big]\\\\\n",
        "    0 & = u_1(C_t, C_{t-1}) + \\beta E_t\\Big[ V_1(A_{t+1}, C_{t}) (- R_{t+1}) + V_2 (A_{t+1}, C_{t}) \\Big] \\\\\n",
        "    0 & = u_1(C_t, C_{t-1}) - \\beta  E_t \\Big[V_1(A_{t+1}, C_{t}) R_{t+1}\\Big] + \\beta E_t \\Big[ V_2 (A_{t+1}, C_{t})\\Big] \\\\\n",
        "    \\beta  E_t \\Big[ V_1(A_{t+1}, C_{t}) R_{t+1}\\Big] & = u_1(C_t, C_{t-1}) + \\beta E_t \\Big [V_2 (A_{t+1}, C_{t})\\Big] \\tag{1}\n",
        "\\end{align*}\n",
        "\n",
        "Utilizando o Teorema do Envelope\n",
        "\n",
        "\\begin{align*}\n",
        "     V_1 (A_{t}, C_{t-1}) = \\beta E_t \\Big [ V_1 (A_{t+1}, C_{t}) R_{t+1} \\Big] \\tag{2}\n",
        "\\end{align*}\n",
        "\n",
        "\\begin{align*}\n",
        "     V_2 (A_{t}, C_{t-1}) = u_2 (C_{t}, C_{t-1}) \\tag{3}\n",
        "\\end{align*}\n",
        "\n",
        "Note que podemos utilizar (2) e (3) em (1) para obter\n",
        "\n",
        "\\begin{align*}\n",
        "    \\underbrace{\\beta  E_t \\Big[ V_1(A_{t+1}, C_{t}) R_{t+1}\\Big]}_{ V_1 (A_{t}, C_{t-1})} & = u_1(C_t, C_{t-1}) + \\beta E_t \\Big [\\underbrace{V_2 (A_{t+1}, C_{t})}_{u_2 (C_{t+1}, C_{t})}\\Big]  \\\\\n",
        "   V_1 (A_{t}, C_{t-1}) & =  u_1(C_t, C_{t-1}) + \\beta E_t \\Big [u_2 (C_{t+1}, C_{t}) \\Big]  \\\\\n",
        "\\end{align*}\n",
        "\n",
        "Utilizando este resultado acima em (2)\n",
        "\n",
        "\\begin{align*}\n",
        "     \\underbrace{V_1 (A_{t}, C_{t-1})}_{u_1(C_t, C_{t-1}) + \\beta E_t \\Big [u_2 (C_{t+1}, C_{t})\\Big] } & = \\beta E_t \\Big [ \\underbrace{V_1 (A_{t+1}, C_{t})}_{u_1(C_{t+1}, C_{t}) + \\beta E_{t+1} \\Big [u_2 (C_{t+2}, C_{t+1})\\Big] } R_{t+1} \\Big] \\\\\n",
        "    u_1(C_t, C_{t-1}) + \\beta E_t \\Big [u_2 (C_{t+1}, C_{t})\\Big] & = \\beta E_t \\Big[ \\Big( u_1(C_{t+1}, C_{t}) + \\beta E_{t+1} \\Big [u_2 (C_{t+2}, C_{t+1})\\Big] \\Big) R_{t+1} \\Big] \\\\\n",
        "    u_1(C_t, C_{t-1}) + \\beta E_t \\Big [u_2 (C_{t+1}, C_{t})\\Big] & = \\beta E_t \\Big[ u_1(C_{t+1}, C_{t})R_{t+1}  \\Big] + \\beta^2 E_t \\Big [u_2 (C_{t+2}, C_{t+1}) R_{t+1} \\Big]  \\tag{*}\n",
        "\\end{align*}\n",
        "\n",
        "Em que (*) é a equação de Euler"
      ]
    },
    {
      "cell_type": "markdown",
      "metadata": {
        "id": "njFoL-bdVjvO"
      },
      "source": [
        "## Item b) \n",
        "\n",
        "Verifique se a equação de Euler obtida em **(a)** é igual a condição obtida ao se calcular:\n",
        "\n",
        "$$E_t \\bigg[ \\frac{\\partial U_0}{\\partial C_t} \\bigg] = E_t \\bigg[ \\frac{\\partial U_0}{\\partial C_{t+1}} R_{t+1} \\bigg]$$\n",
        "em que\n",
        "\n",
        "$$U_0 = \\sum^{\\infty}_{t=0} \\beta^t u(C_t, C_{t-1})$$\n",
        "\n",
        "\n",
        "---\n",
        "\n",
        "**Resposta**\n",
        "\n",
        "Calculando as derivadas parciais\n",
        "\n",
        "\\begin{align*}\n",
        " \\frac{\\partial U_0}{\\partial C_t} & = \\beta^{t} u_1(C_t, C_{t-1}) + \\beta^{t+1}u_2(C_{t+1}, C_t) \\\\\n",
        " \\frac{\\partial U_0}{\\partial C_{t+1}} & = \\beta^{t+1} u_1(C_{t+1}, C_{t}) + \\beta^{t+2} u_2(C_{t+2}, C_{t+1})\n",
        "\\end{align*}\n",
        "\n",
        "Substituindo na esperança\n",
        "\n",
        "$$E_t \\bigg[ \\beta^{t} u_1(C_t, C_{t-1}) + \\beta^{t+1}u_2(C_{t+1}, C_t)  \\bigg] = E_t \\bigg[ \\beta^{t+1} u_1(C_{t+1}, C_{t}) + \\beta^{t+2} u_2(C_{t+2}, C_{t+1}) R_{t+1} \\bigg]$$\n",
        "\n",
        "Podemos dividir ambos os lados por $\\beta^t$ e retirar a parcela $u_1(C_t, C_{t-1}) $ do operador esperança\n",
        "\n",
        "$$ u_1(C_t, C_{t-1}) + E_t \\bigg[ \\beta u_2(C_{t+1}, C_t)  \\bigg] = E_t \\bigg[ \\beta u_1(C_{t+1}, C_{t}) + \\beta^2 u_2(C_{t+2}, C_{t+1}) R_{t+1} \\bigg]$$\n",
        "\n",
        "Que identica a expressão (*)."
      ]
    },
    {
      "cell_type": "markdown",
      "metadata": {
        "id": "Dtzn_dWwVmGa"
      },
      "source": [
        "## Item c) \n",
        "\n",
        "Suponha que a utilidade é tal que $u(C_\\tau, C_{\\tau - 1}) = u(C_\\tau -\\alpha C_{\\tau-1})$. Considerando o resultado obtido em **(a)**, apresente a equação de Euler do consumidor para esta utilidade.\n",
        "\n",
        "---\n",
        "\n",
        "**Resposta**\n",
        "\n",
        "Seja a equação de Euler encontrada em **(a)**\n",
        "\n",
        "\\begin{align*}\n",
        "    u_1(C_t, C_{t-1}) + \\beta E_t \\Big [u_2 (C_{t+1}, C_{t})\\Big] & = \\beta E_t \\Big[ u_1(C_{t+1}, C_{t})R_{t+1}  \\Big] + \\beta^2 E_t \\Big [u_2 (C_{t+2}, C_{t+1}) R_{t+1} \\Big] \n",
        "\\end{align*}\n",
        "\n",
        "Calculando a derivada parcial da utilidade suposta\n",
        "\n",
        "\\begin{align*}\n",
        "    u_1 (C_\\tau, C_{\\tau - 1}) & = u_1(C_\\tau -\\alpha C_{\\tau-1}) \\\\\n",
        "    u_2 (C_\\tau, C_{\\tau - 1}) & = -\\alpha u_2(C_\\tau -\\alpha C_{\\tau-1})\n",
        "\\end{align*}\n",
        "\n",
        "Substituindo na equação de Euler\n",
        "\\begin{align*}\n",
        "   u_1(C_t -\\alpha C_{t-1}) + \\beta E_t \\Big [-\\alpha u_2(C_{t+1} -\\alpha C_{t})\\Big] & = \\beta E_t \\Big[ u_1(C_{t+1} - \\alpha C_{t})R_{t+1}  \\Big] + \\beta^2 E_t \\Big [-\\alpha u_2(C_{t+2} -\\alpha C_{t+1}) R_{t+1} \\Big] \\\\\n",
        "   u_1(C_t - \\alpha C_{t-1}) - \\alpha \\beta E_t \\Big [ u_2(C_{t+1} -\\alpha C_{t})\\Big] & = \\beta E_t \\Big[ u_1(C_{t+1} - \\alpha C_{t})R_{t+1}  \\Big] - \\alpha \\beta^2 E_t \\Big [ u_2(C_{t+2} -\\alpha C_{t+1}) R_{t+1} \\Big] \\\\\n",
        "   u_1(C_t - \\alpha C_{t-1})  & = \\beta E_t \\Big[ u_1(C_{t+1} - \\alpha C_{t})R_{t+1}  \\Big] - \\alpha \\beta^2 E_t \\Big [ u_2(C_{t+2} -\\alpha C_{t+1}) R_{t+1} \\Big] + \\alpha \\beta E_t \\Big [ u_2(C_{t+1} -\\alpha C_{t})\\Big] \\\\\n",
        "   u_1(C_t - \\alpha C_{t-1})  & = \\beta E_t \\Big[ u_1(C_{t+1} - \\alpha C_{t})R_{t+1} - \\alpha \\big( u_2(C_{t+2} - \\alpha C_{t+1}) \\beta R_{t+1} - u_2(C_{t+1} -\\alpha C_{t}) \\big)\\Big] \\\\\n",
        "\\end{align*}"
      ]
    },
    {
      "cell_type": "markdown",
      "metadata": {
        "id": "oYAsCqrgVoBL"
      },
      "source": [
        "## Item d) \n",
        "\n",
        "Suponha que $\\beta R = 1$ e que a utilidade é quadrática, como se\n",
        "\n",
        "$$u(C_{\\tau} - \\alpha C_{\\tau-1} ) = (C_{\\tau} - \\alpha C_{\\tau-1}) - \\frac{b}{2} (C_{\\tau} - \\alpha C_{\\tau-1})^2$$\n",
        "\n",
        "Considerando o resultado obtido em **(c)**, apresente a equação de Euler do consumidor para esta utilidade. Verifique o que ocorre com a equação de Euler quando $\\alpha = 0$. O resultado obtido, sob  $\\alpha = 0$, é inesperado? Explique sua resposta.\n",
        "\n",
        "---\n",
        "\n",
        "**Resposta**\n",
        "\n",
        "Seja a Equação de Euler encontrada acima\n",
        "\\begin{align*}\n",
        "   u_1(C_t - \\alpha C_{t-1})  & = \\beta E_t \\Big[ u_1(C_{t+1} - \\alpha C_{t})R_{t+1} - \\alpha \\big( u_2(C_{t+2} - \\alpha C_{t+1}) \\beta R_{t+1} - u_2(C_{t+1} -\\alpha C_{t}) \\big)\\Big] \\\\\n",
        "\\end{align*}\n",
        "\n",
        "Utilizando que $\\beta R = 1$\n",
        "\n",
        "\\begin{align*}\n",
        "   u_1(C_t - \\alpha C_{t-1})  & = E_t \\Big[ u_1(C_{t+1} - \\alpha C_{t}) - \\beta \\alpha \\big( u_2(C_{t+2} - \\alpha C_{t+1}) - u_2 (C_{t+1} -\\alpha C_{t}) \\big)\\Big]\n",
        "\\end{align*}\n",
        "\n",
        "Calculamos a derivada parcial da função quadrática\n",
        "\n",
        "\\begin{align*}\n",
        "   u(x) & = x - \\frac{b}{2} x^2 \\\\\n",
        "   u_1(x) = u_2(x) & = 1 - b x \\\\\n",
        "\\end{align*}\n",
        "\n",
        "\n",
        "Substituindo na equação de Euler,\n",
        "\n",
        "\\begin{align*}\n",
        "   1-b(C_t - \\alpha C_{t-1})  & = E_t \\Big[ 1-b(C_{t+1} - \\alpha C_{t}) - \\beta \\alpha \\big( 1-b(C_{t+2} - \\alpha C_{t+1}) - [1-b (C_{t+1} -\\alpha C_{t})] \\big)\\Big] \\\\\n",
        "   -b(C_t - \\alpha C_{t-1})  & = E_t \\Big[ -b(C_{t+1} - \\alpha C_{t}) - \\beta \\alpha b \\big(-(C_{t+2} - \\alpha C_{t+1}) + (C_{t+1} -\\alpha C_{t}) \\big)\\Big] \\\\\n",
        "   C_t - \\alpha C_{t-1}  & = E_t \\Big[ (C_{t+1} - \\alpha C_{t}) + \\beta \\alpha \\big((C_{t+1} -\\alpha C_{t}) -(C_{t+2} - \\alpha C_{t+1})   \\big)\\Big] \\\\\n",
        "   C_t - \\alpha C_{t-1}  & = E_t \\Big[ C_{t+1} - \\alpha C_{t} + \\beta \\alpha \\big(C_{t+1} -\\alpha C_{t} - C_{t+2} + \\alpha C_{t+1})  \\Big] \\\\\n",
        "   C_t - \\alpha C_{t-1}  & = E_t \\Big[ C_{t+1} - \\alpha C_{t} + \\beta \\alpha C_{t+1} -  \\beta \\alpha  \\alpha C_{t} -  \\beta \\alpha  C_{t+2} +  \\beta \\alpha^2 C_{t+1} \\Big] \\\\\n",
        "   0  & = E_t \\Big[ (1 + \\beta \\alpha + \\beta \\alpha^2) C_{t+1} - (\\alpha + \\beta \\alpha^2 ) C_{t} -  \\beta \\alpha  C_{t+2}  \\Big] + \\alpha C_{t-1} - C_t \\\\\n",
        "   0  & = E_t \\Big[ (1 + \\beta \\alpha + \\beta \\alpha^2) C_{t+1} - (\\alpha + \\beta \\alpha^2 + 1 ) C_{t} -  \\beta \\alpha  C_{t+2}  + \\alpha C_{t-1} \\Big]  \\\\\n",
        "   0  & = E_t \\Big[ (1 + \\beta \\alpha^2) C_{t+1} - \\beta \\alpha \\Delta C_{t+2} - (\\alpha + \\beta \\alpha^2 + 1 ) C_{t}   + \\alpha C_{t-1} \\Big]  \\\\\n",
        "   0  & = E_t \\Big[ (1 + \\beta \\alpha^2) \\Delta C_{t+1} - \\beta \\alpha \\Delta C_{t+2} - \\alpha C_{t}   + \\alpha C_{t-1} \\Big]  \\\\\n",
        "   0  & = E_t \\Big[  - \\beta \\alpha \\Delta C_{t+2}  + (1 + \\beta \\alpha^2) \\Delta C_{t+1}- \\alpha \\Delta C_{t} \\Big]  \\\\\n",
        "\\end{align*}"
      ]
    },
    {
      "cell_type": "markdown",
      "metadata": {
        "id": "up_GMVy_VqUv"
      },
      "source": [
        "## Item e) \n",
        "\n",
        "Suponha que os consumidores comportam-se de acordo com a equação de Euler obtida em **(d)** para $\\alpha \\neq 0$. Explique como esta equação pode ser estimada pelo GMM. Os parâmetros $\\alpha$ e $\\beta$ podem ser identificados? Explique sua resposta.\n",
        "\n",
        "---\n",
        "\n",
        "**Resposta**\n",
        "\n",
        "Para estimar a equação acima bastaria que tomar uma matriz $\\textbf{z}_t$ de instrumentos e multiplicar a equação de Euler acima via GMM"
      ]
    },
    {
      "cell_type": "markdown",
      "metadata": {
        "id": "XhjWRqViVsS-"
      },
      "source": [
        "## Item f) \n",
        "\n",
        "Suponha que a utilidade seja:\n",
        "\n",
        "$$u(C_\\tau - \\alpha C_{\\tau - 1}) = \\frac{(C_\\tau - \\alpha C_{t-1})^{1-\\gamma}}{1-\\gamma}$$\n",
        "\n",
        "Considerando o resultado obtido em **(c)**, apresente a equação de Euler do consumidor para esta utilidade. Verifique o que ocorre com a equação de Euler quando $\\alpha = 0$. O resultado obtido, sob $\\alpha = 0$, é inesperado? Explique sua resposta.\n",
        "\n",
        "---\n",
        "\n",
        "**Resposta**\n",
        "\n",
        "Seja a função de utilidade CRRA descrita acima, calculando as suas derivadas parciais, obtemos\n",
        "\n",
        "\\begin{align*}\n",
        "   u_1(x) = u_2 (x) =  x^{-\\gamma}\n",
        "\\end{align*}\n",
        "\n",
        "Substituindo na equação de Euler encontrada em **(c)**\n",
        "\n",
        "\\begin{align*}\n",
        "   (C_t - \\alpha C_{t-1})^{-\\gamma}  & = \\beta E_t \\Big[ (C_{t+1} - \\alpha C_{t})^{-\\gamma} R_{t+1} - \\alpha \\big( (C_{t+2} - \\alpha C_{t+1})^{-\\gamma} \\beta R_{t+1} - (C_{t+1} -\\alpha C_{t})^{-\\gamma}  \\big)\\Big] \\\\\n",
        "\\end{align*}\n",
        "\n",
        "No caso em que $\\alpha = 0$\n",
        "\n",
        "\\begin{align*}\n",
        "   (C_t)^{-\\gamma}  & = \\beta E_t \\Big[ (C_{t+1} )^{-\\gamma} R_{t+1}\\Big] \\\\\n",
        "   0  & =  E_t \\Bigg[ \\beta\\bigg( \\frac{C_{t+1}}{C_t} \\bigg)^{-\\gamma} R_{t+1} - 1\\Bigg] \\\\\n",
        "\\end{align*}\n",
        "\n",
        "E voltamos na equação de Euler original, quando não havia hábito. O resultado é totalmente esperado, uma vez que quando zeramos o coeficiente de habito do modelo, de fato, voltamos à formulação anterior."
      ]
    },
    {
      "cell_type": "markdown",
      "metadata": {
        "id": "Fl1vzDbVVuqr"
      },
      "source": [
        "## Item g) \n",
        "\n",
        "Suponha que os consumidores comportam-se de acordo com a equação de Euler obtida em **(f)** para $\\alpha = 0$. Explique como a equação de Euler pode ser estimada pelo GMM.\n",
        "\n",
        "---\n",
        "\n",
        "**Resposta**\n",
        "\n",
        "Caso não haja hábito, basta proceder como faziamos originalmente, tome uma matriz $\\textbf{z}_t$ de instrumentos e multiplique a equação de Euler acima para proceder com a estimação via GMM."
      ]
    },
    {
      "cell_type": "markdown",
      "metadata": {
        "id": "KKfDtUIbVw3f"
      },
      "source": [
        "## Item h) \n",
        "\n",
        "Suponha que \n",
        "\n",
        "$$u(C_\\tau, C_{\\tau - 1}) = \\frac{(C_\\tau / C_{\\tau - 1}^{\\alpha})^{1-\\gamma}}{1-\\gamma}$$\n",
        "\n",
        "Considerando o resultado obtido em **(a)**, apresente a equação de Euler do consumidor para esta utilidade. Verifique o que ocorre com a equação de Euler quando $\\alpha = 0$. O resultado obtido, sob $\\alpha = 0$, é inesperado? Explique sua resposta.\n",
        "\n",
        "---\n",
        "\n",
        "**Resposta**\n",
        "\n",
        "Seja a equação de Euler abaixo a obtida em **(a)**\n",
        "\n",
        "\\begin{align*}\n",
        "    u_1(C_t, C_{t-1}) + \\beta E_t \\Big [u_2 (C_{t+1}, C_{t})\\Big] & = \\beta E_t \\Big[ u_1(C_{t+1}, C_{t})R_{t+1}  \\Big] + \\beta^2 E_t \\Big [u_2 (C_{t+2}, C_{t+1}) R_{t+1} \\Big] \n",
        "\\end{align*}\n",
        "\n",
        "Calculando as derivadas parciais da função de utilidade suposta\n",
        "\n",
        "\\begin{align*}\n",
        "    u_1(C_\\tau, C_{\\tau - 1}) & = C_\\tau^{-\\gamma} C_{\\tau - 1}^{\\alpha(\\gamma-1)} \\\\\n",
        "    u_2(C_\\tau, C_{\\tau - 1}) & = \\frac{\\alpha(1-\\gamma)C_\\tau^{1-\\gamma}}{1-\\gamma} C_{\\tau - 1}^{\\alpha(1-\\gamma) - 1} = \\alpha C_\\tau^{1-\\gamma} C_{\\tau - 1}^{\\alpha(1-\\gamma) - 1}\n",
        "\\end{align*}\n",
        "\n",
        "e substituindo na equação de Euler\n",
        "\n",
        "\\begin{align*}\n",
        "     C_t^{-\\gamma} C_{t - 1}^{\\alpha(\\gamma-1)} + \\beta E_t \\Big[ \\alpha C_{t+1}^{1-\\gamma} C_{t}^{\\alpha(1-\\gamma) - 1} \\Big] & = \\beta E_t \\Big[ C_{t+1}^{-\\gamma} C_{t}^{\\alpha(\\gamma-1)} R_{t+1}  \\Big] + \\beta^2 E_t \\Big[\\alpha C_{t+2}^{1-\\gamma} C_{t+1}^{\\alpha(1-\\gamma) - 1} R_{t+1} \\Big] \\\\\n",
        "     C_t^{-\\gamma} C_{t - 1}^{\\alpha(\\gamma-1)} & = \\beta E_t \\Big[  R_{t+1} \\Big(C_{t+1}^{-\\gamma} C_{t}^{\\alpha(\\gamma-1)} + \\beta \\alpha C_{t+2}^{1-\\gamma} C_{t+1}^{\\alpha(1-\\gamma) - 1} \\Big) - \\alpha C_{t+1}^{1-\\gamma} C_{t}^{\\alpha(1-\\gamma) - 1} \\Big] \n",
        "\\end{align*}\n",
        "\n",
        "\n",
        "\n",
        "\n",
        "Quando $\\alpha = 0$\n",
        "\n",
        "\\begin{align*}\n",
        "     C_t^{-\\gamma} & = \\beta E_t \\Big[  R_{t+1} C_{t+1}^{-\\gamma}  \\Big] \\\\\n",
        "     0 & =  E_t \\Bigg[  \\beta R_{t+1} \\bigg(\\frac{C_{t+1}}{C_t}\\bigg)^{-\\gamma}  - 1 \\Bigg] \n",
        "\\end{align*}\n",
        "\n",
        "novamente, voltamos ao caso em que não há hábito."
      ]
    },
    {
      "cell_type": "markdown",
      "metadata": {
        "id": "MUeme7NpVy3j"
      },
      "source": [
        "## Item i) \n",
        "\n",
        "Suponha que a utilidade seja\n",
        "\n",
        "$$u(C_\\tau, C_{\\tau - 1}) = - \\frac{1}{\\theta} e^{-\\theta(C_\\tau - \\alpha C_{\\tau - 1})}$$\n",
        "\n",
        "Considerando o resultado obtido em **(a)**, apresente a equação de Euler do consumidor para esta utilidade. Verifique o que ocorre com a equação de Euler quando $\\alpha = 0$. O resultado obtido, sob $\\alpha = 0$, é inesperado? Explique sua resposta.\n",
        "\n",
        "---\n",
        "\n",
        "**Resposta**\n",
        "\n",
        "\n",
        "Seja a equação de Euler abaixo a obtida em **(a)**\n",
        "\n",
        "\\begin{align*}\n",
        "    u_1(C_t, C_{t-1}) + \\beta E_t \\Big [u_2 (C_{t+1}, C_{t})\\Big] & = \\beta E_t \\Big[ u_1(C_{t+1}, C_{t})R_{t+1}  \\Big] + \\beta^2 E_t \\Big [u_2 (C_{t+2}, C_{t+1}) R_{t+1} \\Big] \n",
        "\\end{align*}\n",
        "\n",
        "Calculando as derivadas parciais da função de utilidade suposta\n",
        "\n",
        "\\begin{align*}\n",
        "  u_1(C_\\tau, C_{\\tau - 1}) & = - \\frac{1}{\\theta} e^{-\\theta(C_\\tau - \\alpha C_{\\tau - 1})} (-\\theta) = e^{-\\theta(C_\\tau - \\alpha C_{\\tau - 1})} \\\\\n",
        "  u_2(C_\\tau, C_{\\tau - 1}) & = - \\frac{1}{\\theta} e^{-\\theta(C_\\tau - \\alpha C_{\\tau - 1})} (\\alpha \\theta) = - \\alpha e^{-\\theta(C_\\tau - \\alpha C_{\\tau - 1})}\n",
        "\\end{align*}\n",
        "\n",
        "Substituindo na Equação de Euler\n",
        "\n",
        "\\begin{align*}\n",
        "    e^{-\\theta(C_{t} - \\alpha C_{t - 1})} + \\beta E_t \\Big [- \\alpha e^{-\\theta(C_{t+1} - \\alpha C_{t})} \\Big] & = \\beta E_t \\Big[ e^{-\\theta(C_{t+1} - \\alpha C_{t})} R_{t+1}  \\Big] + \\beta^2 E_t \\Big [- \\alpha e^{-\\theta(C_{t+2} - \\alpha C_{\\tau + 1})} R_{t+1} \\Big] \\\\\n",
        "    e^{-\\theta(C_{t} - \\alpha C_{t - 1})} - \\alpha \\beta E_t \\Big [ e^{-\\theta(C_{t+1} - \\alpha C_{t})} \\Big] & = \\beta E_t \\Big[ e^{-\\theta(C_{t+1} - \\alpha C_{t})} R_{t+1}  \\Big] - \\alpha \\beta^2 E_t \\Big [ e^{-\\theta(C_{t+2} - \\alpha C_{\\tau + 1})} R_{t+1} \\Big] \\\\\n",
        "    e^{-\\theta(C_{t} - \\alpha C_{t - 1})} & = \\beta E_t \\Big[ e^{-\\theta(C_{t+1} - \\alpha C_{t})} R_{t+1} + \\alpha \\beta e^{-\\theta(C_{t+1} - \\alpha C_{t})}  \\Big] - \\alpha \\beta^2 E_t \\Big [ e^{-\\theta(C_{t+2} - \\alpha C_{\\tau + 1})} R_{t+1} \\Big] \\\\\n",
        "    e^{-\\theta(C_{t} - \\alpha C_{t - 1})} & = \\beta E_t \\Big[  (R_{t+1} + \\alpha \\beta) e^{-\\theta(C_{t+1} - \\alpha C_{t})} \\Big] - \\alpha \\beta^2 E_t \\Big [ e^{-\\theta(C_{t+2} - \\alpha C_{\\tau + 1})} R_{t+1} \\Big] \\\\\n",
        "    e^{-\\theta(C_{t} - \\alpha C_{t - 1})} & = \\beta E_t \\Big[  (R_{t+1} + \\alpha \\beta) e^{-\\theta(C_{t+1} - \\alpha C_{t})} - \\alpha \\beta e^{-\\theta(C_{t+2} - \\alpha C_{\\tau + 1})} R_{t+1} \\Big]\n",
        "\\end{align*}\n",
        "\n",
        "E quando $\\alpha = 0$\n",
        "\n",
        "\\begin{align*}\n",
        "    e^{-\\theta(C_{t} - 0 C_{t - 1})} & = \\beta E_t \\Big[  (R_{t+1} + 0 \\beta) e^{-\\theta(C_{t+1} - 0 C_{t})} - 0 \\beta e^{-\\theta(C_{t+2} - 0 C_{\\tau + 1})} R_{t+1} \\Big] \\\\\n",
        "    e^{-\\theta C_{t}} & = \\beta E_t \\Big[ R_{t+1}  e^{-\\theta C_{t+1}} \\Big] \\\\\n",
        "    1 & = \\beta E_t \\Bigg[ R_{t+1}  \\frac{e^{-\\theta C_{t+1}}}{e^{-\\theta C_{t}}} \\Bigg] \\\\\n",
        "    1 & = \\beta E_t \\Bigg[ R_{t+1} e^{\\theta C_{t} -\\theta C_{t+1}} \\Bigg] \\\\\n",
        "    0 & = \\beta E_t \\Bigg[ R_{t+1} e^{- \\theta \\Delta C_{t+1}} - 1\\Bigg] \\\\\n",
        "\\end{align*}"
      ]
    },
    {
      "cell_type": "markdown",
      "metadata": {
        "id": "MhARDq8tV13J"
      },
      "source": [
        "# Problema 3) [Hábito Externo] \n",
        "\n",
        "Considere\n",
        "\n",
        "$$\\max_{ \\{C_t\\}_{t=0}^{\\infty} } E_0 \\Bigg\\{ \\sum_{t=0}^{\\infty} \\beta^t u(C_t, \\bar{C}_{t-1}) \\Bigg\\}$$\n",
        "\n",
        "\\begin{align*}\n",
        "\\text{sujeito a}\n",
        "    \\begin{cases}\n",
        "      A_{t+1} = R_{t+1}(A_t + Y_t - C_t) \\\\\n",
        "      A_{0}\\text{ e } C_{-1} \\text{ dados}\n",
        "    \\end{cases}\n",
        "\\end{align*}\n",
        "\n",
        "em que $A_t$, $Y_t$ e $C_t$ são, respectivamente, riqueza, renda, consumo no período $t$ enquanto $R_{t+1}$ é a taxa de juros no período $t + 1$, $\\beta \\in (0, 1)$, $u(C_t, \\bar{C}_{t-1})$ é a função utilidade que depende de $C_t$ e $\\bar{C}_{t-1}$, sendo $\\bar{C}_t$ o nÌvel de consumo agregado."
      ]
    },
    {
      "cell_type": "markdown",
      "metadata": {
        "id": "o6ZPohwYV37v"
      },
      "source": [
        "## Item a) \n",
        "\n",
        "Assumindo solução interior, encontre a solução de Euler deste problema\n",
        "\n",
        "---\n",
        "\n",
        "**Resposta**\n",
        "\n",
        "Seja a Equação de Bellman\n",
        "\n",
        "$$V(A_t) = \\max_{\\{C_t\\}_{t=0}^{\\infty}} \\Big\\{u(C_t, \\bar{C}_{t-1}) + \\beta E_t \\big[ V(A_{t+1}) \\big] \\Big\\}$$\n",
        "\n",
        "Calculando a equação a condição de primeira ordem\n",
        "\n",
        "\\begin{align*}\n",
        "    u_1 (C_t, \\bar{C}_{t-1}) + \\beta E_t \\Big[ V'(A_{t+1}) (-R_{t+1}) \\Big] & = 0 \\\\\n",
        "    u_1 (C_t, \\bar{C}_{t-1}) & = \\beta E_t \\Big[ V'(A_{t+1}) R_{t+1} \\Big] \\tag{1}\n",
        "\\end{align*}\n",
        "\n",
        "Utilizando o Teorema do Envelope, derivando em relação a $A_{t+1}$\n",
        "\n",
        "\\begin{align*}\n",
        "    V'(A_t) = \\beta E_t \\big[ V'(A_{t+1}) R_{t+1} \\big]  \\tag{2}\n",
        "\\end{align*}\n",
        "\n",
        "Substituindo (2) em (1)\n",
        "\n",
        "\\begin{align*}\n",
        "    u_1 (C_t, \\bar{C}_{t-1}) & = V'(A_t) \\\\\n",
        "    u_1 (C_{t+1}, \\bar{C}_{t}) & = V'(A_{t+1}) \n",
        "\\end{align*}\n",
        "\n",
        "podemos utilizar esta última equação em (1) novamente\n",
        "\n",
        "\\begin{align*}\n",
        "    u_1 (C_t, \\bar{C}_{t-1}) & = \\beta E_t \\Big[u_1 (C_{t+1}, \\bar{C}_{t}) R_{t+1} \\Big] \\\\\n",
        "    0 & = E_t \\Bigg[\\beta \\frac{u_1 (C_{t+1}, \\bar{C}_{t})}{u_1 (C_t, \\bar{C}_{t-1})}  R_{t+1} - 1\\Bigg] \\tag{*}\n",
        "\\end{align*}\n",
        "\n",
        "Note que (*) a equação de Euler"
      ]
    },
    {
      "cell_type": "markdown",
      "metadata": {
        "id": "X19dkde7V5i5"
      },
      "source": [
        "## Item b) \n",
        "\n",
        "Suponha que a utilidade é tal que $u(C_t, \\bar{C}_{t-1}) = u(C_{\\tau} - \\alpha \\bar{C}_{\\tau-1})$. Considerando o resultado obtido em **(a)**, apresente a equação de Euler do consumidor para esta utilidade.\n",
        "\n",
        "---\n",
        "\n",
        "**Resposta**\n",
        "\n",
        "Seja a equação de Euler encontrada no item anterior\n",
        "\n",
        "\\begin{align*}\n",
        "    0 & =  E_t \\Bigg[\\beta \\frac{u_1 (C_{t+1}, \\bar{C}_{t})}{u_1 (C_t, \\bar{C}_{t-1})}  R_{t+1} - 1\\Bigg] \n",
        "\\end{align*}\n",
        "\n",
        "Seja a função utilidade suposta, podemos calcular a derivada parcial\n",
        "\n",
        "\\begin{align*}\n",
        "      \\frac{\\partial u(C_t, \\bar{C}_{t-1})}{\\partial C_t} \\equiv u_1 (C_{t}, \\bar{C}_{t-1}) = u'(C_{t} - \\alpha \\bar{C}_{t-1})\n",
        "\\end{align*}\n",
        "\n",
        "Substituindo na equação de Euler\n",
        "\n",
        "\\begin{align*}\n",
        "    0 & = E_t \\Bigg[\\beta \\frac{u'(C_{t+1} - \\alpha \\bar{C}_{t})}{u'(C_{t} - \\alpha \\bar{C}_{t-1})}  R_{t+1} - 1\\Bigg] \n",
        "\\end{align*}"
      ]
    },
    {
      "cell_type": "markdown",
      "metadata": {
        "id": "VUKXwLq7V7Dp"
      },
      "source": [
        "## Item c) \n",
        "\n",
        "Suponha que $\\beta R = 1$ e que a utilidade é quadrática, como segue:\n",
        "\n",
        "$$u(C_\\tau - \\alpha \\bar{C}_{\\tau - 1}) = (C_\\tau - \\alpha \\bar{C}_{\\tau - 1}) - \\frac{b}{2} (C_\\tau - \\alpha \\bar{C}_{\\tau-1} )^2$$\n",
        "\n",
        "Considerando o resultado obtido em **(b)**, apresente a equação de Euler do consumidor para esta utilidade. Verifique o que ocorre com a equação de Euler quando $\\alpha = 0$. O resultado obtido, sob $\\alpha = 0$, é inesperado? Explique sua resposta.\n",
        "\n",
        "---\n",
        "\n",
        "**Resposta**\n",
        "\n",
        "Seja a equação de Euler encontrada no item anterior\n",
        "\n",
        "\\begin{align*}\n",
        "    0 & = E_t \\Bigg[\\beta \\frac{u'(C_{t+1} - \\alpha \\bar{C}_{t})}{u'(C_{t} - \\alpha \\bar{C}_{t-1})}  R_{t+1} - 1\\Bigg] \n",
        "\\end{align*}\n",
        "\n",
        "Calculando a derivada da função de utilidade suposta\n",
        "\n",
        "$$u'(x) = 1 - b x$$\n",
        "\n",
        "Substituindo na equação de Euler e supondo $\\beta R = 1$\n",
        "\\begin{align*}\n",
        "    1 - b(C_{t} - \\alpha \\bar{C}_{t-1}) & = E_t \\Bigg[1 - b(C_{t+1} - \\alpha \\bar{C}_{t}) \\Bigg] \\\\\n",
        "    C_{t} - \\alpha \\bar{C}_{t-1} & = E_t \\Big[C_{t+1} - \\alpha \\bar{C}_{t} \\Big] \\\\\n",
        "    \\alpha \\bar{C}_{t} - \\alpha \\bar{C}_{t-1} & = E_t \\Big[C_{t+1} - C_{t} \\Big] \\\\\n",
        "    \\alpha \\Delta \\bar{C}_{t}  & = E_t \\Big[\\Delta C_{t+1} \\Big] \\\\\n",
        "\\end{align*}\n",
        "\n",
        "Quando $\\alpha = 0$ voltamos a hipótese do passeio aleatório do consumo.\n",
        "\n",
        "\\begin{align*}\n",
        "    0 & = E_t \\Big[\\Delta C_{t+1} \\Big] \\\\\n",
        "\\end{align*}"
      ]
    },
    {
      "cell_type": "markdown",
      "metadata": {
        "id": "waoiqyJ-V9Mz"
      },
      "source": [
        "## Item d) \n",
        "\n",
        "Suponha que os consumidores comportam-se de acordo com a equação de Euler obtida em **(c)** para $\\alpha \\neq 0$. Explique como esta equação de Euler pode ser estimada pelo GMM.\n",
        "\n",
        "---\n",
        "\n",
        "**Resposta**"
      ]
    },
    {
      "cell_type": "markdown",
      "metadata": {
        "id": "grYkmYVmV-33"
      },
      "source": [
        "## Item e) \n",
        "\n",
        "Suponha que a utilidade seja:\n",
        "\n",
        "$$u(C_\\tau - \\alpha \\bar{C}_{\\tau - 1}) = \\frac{(C_\\tau - \\alpha \\bar{C}_{\\tau - 1})^{1-\\gamma}}{1-\\gamma}$$\n",
        "\n",
        "Considerando o resultado obtido em **(b)**, apresente a equação de Euler do consumidor para esta utilidade. Verifique o que ocorre com a equação de Euler quando $\\alpha = 0$. O resultado obtido, sob $\\alpha = 0$, é inesperado? Explique sua resposta.\n",
        "\n",
        "---\n",
        "\n",
        "**Resposta**"
      ]
    },
    {
      "cell_type": "markdown",
      "metadata": {
        "id": "O7qw9dNBWALp"
      },
      "source": [
        "## Item f) \n",
        "\n",
        "Suponha que a utilidade seja:\n",
        "\n",
        "$$u(C_\\tau, \\bar{C}_{\\tau - 1}) = \\frac{(C_\\tau / \\bar{C}_{\\tau - 1}^\\alpha )^{1-\\gamma}}{1-\\gamma}$$\n",
        "\n",
        "Considerando o resultado obtido em **(a)**, apresente a equação de Euler do consumidor para esta utilidade. Verifique o que ocorre com a equação de Euler quando $\\alpha = 0$. O resultado obtido, sob $\\alpha = 0$, é inesperado? Explique sua resposta.\n",
        "\n",
        "---\n",
        "\n",
        "**Resposta**\n",
        "\n",
        "\n",
        "Seja a equação de Euler encontrada no item **(a)**\n",
        "\n",
        "\\begin{align*}\n",
        "    0 & = E_t \\Bigg[\\beta \\frac{u_1 (C_{t+1}, \\bar{C}_{t})}{u_1 (C_t, \\bar{C}_{t-1})}  R_{t+1} - 1\\Bigg]\n",
        "\\end{align*}\n",
        "\n",
        "Calculando a derivada parcial\n",
        "\n",
        "$$u_1(C_t, \\bar{C}_{t - 1}) = C^{-\\gamma}_t \\bar{C}_{t-1}^{\\alpha (\\gamma - 1)} $$\n",
        "\n",
        "Substituindo na equação de Euler\n",
        "\n",
        "\\begin{align*}\n",
        "    0  & = E_t \\Bigg[\\beta \\frac{C^{-\\gamma}_{t+1 }\\bar{C}_{t}^{\\alpha (\\gamma - 1)} }{C^{-\\gamma}_t \\bar{C}_{t-1}^{\\alpha (\\gamma - 1)} }  R_{t+1} - 1\\Bigg] \\\\\n",
        "    0 & = E_t \\Bigg[\\underbrace{\\beta \\bigg ( \\frac{C_{t+1 } }{C_t }\\bigg)^{-\\gamma} \\bigg( \\frac{\\bar{C}_{t}}{\\bar{C}_{t-1}} \\bigg)^{\\alpha (\\gamma - 1)}}_{SDF} R_{t+1} - 1\\Bigg] \\\\\n",
        "\\end{align*}\n",
        "\n",
        "Note que se $\\alpha = 0$\n",
        "\n",
        "\\begin{align*}\n",
        "    0 & = E_t \\Bigg[\\beta \\bigg ( \\frac{C_{t+1 } }{C_t }\\bigg)^{-\\gamma}  R_{t+1} - 1\\Bigg] \\\\\n",
        "\\end{align*}\n",
        "\n",
        "voltando ao caso original da CRRA sem hábito."
      ]
    },
    {
      "cell_type": "markdown",
      "metadata": {
        "id": "5qiQoF6vWBfT"
      },
      "source": [
        "## Item g) \n",
        "\n",
        "Suponha que a utilidade seja:\n",
        "\n",
        "$$u(C_\\tau, \\bar{C}_{\\tau - 1}) = - \\frac{1}{\\theta} e^{-\\theta(C_\\tau - \\alpha \\bar{C}_{\\tau - 1})}$$\n",
        "\n",
        "Considerando o resultado obtido em **(a)**, apresente a equação de Euler do consumidor para esta utilidade. Verifique o que ocorre com a equação de Euler quando $\\alpha = 0$. O resultado obtido, sob $\\alpha = 0$, é inesperado? Explique sua resposta.\n",
        "\n",
        "---\n",
        "\n",
        "**Resposta**\n",
        "\n",
        "Calculando as derivadas parciais da função de utilidade suposta\n",
        "\n",
        "\\begin{align*}\n",
        "  u_1(C_\\tau, C_{\\tau - 1}) & = - \\frac{1}{\\theta} e^{-\\theta(C_\\tau - \\alpha C_{\\tau - 1})} (-\\theta) = e^{-\\theta(C_\\tau - \\alpha C_{\\tau - 1})} \\\\\n",
        "  u_2(C_\\tau, C_{\\tau - 1}) & = - \\frac{1}{\\theta} e^{-\\theta(C_\\tau - \\alpha C_{\\tau - 1})} (\\alpha \\theta) = - \\alpha e^{-\\theta(C_\\tau - \\alpha C_{\\tau - 1})}\n",
        "\\end{align*}\n",
        "\n",
        "Substituindo na Equação de Euler de **(a)**\n",
        "\n",
        "\\begin{align*}\n",
        "    u_1 (C_t, \\bar{C}_{t-1}) & = E_t \\Big[\\beta u_1 (C_{t+1}, \\bar{C}_{t})  R_{t+1} - 1\\Big] \\\\\n",
        "    e^{-\\theta(C_{t} - \\alpha \\bar{C}_{t - 1})} & = E_t \\Big[\\beta e^{-\\theta(C_{t+1} - \\alpha \\bar{C}_{t})}  R_{t+1} - 1\\Big] \\\\\n",
        "    1 & = E_t \\Big[\\beta e^{-\\theta(C_{t+1} - \\alpha \\bar{C}_{t})+\\theta(C_{t} - \\alpha \\bar{C}_{t - 1})}  R_{t+1} - 1\\Big] \\\\\n",
        "    1 & = E_t \\Big[\\beta e^{\\theta(C_{t} - \\alpha \\bar{C}_{t - 1} - C_{t+1} + \\alpha \\bar{C}_{t})}  R_{t+1} - 1\\Big] \\\\\n",
        "    1 & = E_t \\Big[\\beta e^{\\theta(C_{t}- C_{t+1} + \\alpha (\\bar{C}_{t}- \\bar{C}_{t - 1}))}  R_{t+1} - 1\\Big] \\\\\n",
        "    1 & = E_t \\Big[\\beta e^{\\theta(\\Delta C_{t+1} - \\alpha \\Delta \\bar{C}_{t})}  R_{t+1} - 1\\Big] \\\\\n",
        "\\end{align*}"
      ]
    },
    {
      "cell_type": "markdown",
      "metadata": {
        "id": "KLpPTC1xhCb-"
      },
      "source": [
        "# Problema 4) [Hábito Externo]\n",
        "\n",
        "Considere o problema do consumidor:\n",
        "\n",
        "$$\\max_{ \\{C_t \\}_{t=0}^{\\infty} } E_0 \\Bigg\\{ \\sum_{t=0}^{\\infty} \\beta^t \\frac{1}{1-\\gamma} \\bigg( \\frac{C_t}{H_{t-1}^{\\alpha} } \\bigg)^{1-\\gamma} \\Bigg\\}$$\n",
        "\n",
        "\\begin{align*}\n",
        "\\text{sujeito a}\n",
        "    \\begin{cases}\n",
        "      A_{t+1} = R_{t+1}(A_t + Y_t - C_t) \\\\\n",
        "      A_{0}\\text{ e } C_{-1} \\text{ dados}\n",
        "    \\end{cases}\n",
        "\\end{align*}\n",
        "\n",
        "em que $C_t$ é o consumo privado e $H_{t-1}$ é o nível de Hábito, $\\beta \\in (0, 1)$,$ \\gamma > 0$ e $\\alpha \\geq 0$. Defina $H_t \\equiv \\exp\\{\\Phi(L) \\ln \\bar{C}_t\\}$, em que $\\bar{C}_t$ é o consumo agregado e $\\Phi (L) = \\sum^{P}_{i=0}\\phi_i L^i $."
      ]
    },
    {
      "cell_type": "markdown",
      "metadata": {
        "id": "ofsjWW-TiVXa"
      },
      "source": [
        "## Item a)\n",
        "\n",
        "Assumindo solução interior, encontre a equação de Euler deste problema, como uma função de $\\frac{C_{t+1}}{C_t}$, $\\frac{H_{t}}{H_{t-1}}$ e $R_{t+1}$.\n",
        "\n",
        "---\n",
        "\n",
        "**Resposta**\n",
        "\n",
        "Seja a equação de Bellman\n",
        "\n",
        "\\begin{align*}\n",
        "V(A_t) & = \\max_{ \\{C_t\\}_{t=0}^{\\infty} }  \\Bigg\\{ \\frac{1}{1-\\gamma} C_t^{1-\\gamma} H_{t-1}^{\\alpha(\\gamma - 1)} + \\beta E_t \\Big[ V(A_{t+1})\\Big] \\Bigg\\} \\\\\n",
        " & = \\max_{ \\{C_t \\}_{t=0}^{\\infty} }  \\Bigg\\{ \\frac{1}{1-\\gamma} C_t^{1-\\gamma} H_{t-1}^{\\alpha(\\gamma - 1)} + \\beta E_t \\Big[ V(R_{t+1}(A_t + Y_t - C_t))\\Big] \\Bigg\\}\n",
        "\\end{align*}\n",
        "\n",
        "A condição de primeira ordem deste problema de maximização\n",
        "\n",
        "\\begin{align*}\n",
        "0 & = C_t^{-\\gamma} H_{t-1}^{\\alpha(\\gamma - 1)} + \\beta E_t \\Big[ V(A_{t+1}) (-R_{t+1})\\Big] \\\\\n",
        "C_t^{-\\gamma} H_{t-1}^{\\alpha(\\gamma - 1)} & = \\beta E_t \\Big[ V(A_{t+1}) R_{t+1} \\Big]  \\tag{1}\n",
        "\\end{align*}\n",
        "\n",
        "Utilizando o Teorema do Envelope\n",
        "\n",
        "\\begin{align*}\n",
        "V'(A_{t}) = \\beta E_t \\Big[ V'(A_{t+1}) R_{t+1}\\Bigg] \\tag{2}\n",
        "\\end{align*}\n",
        "\n",
        "Igualando (1) e (2),\n",
        "\n",
        "\\begin{align*}\n",
        "C_t^{-\\gamma} H_{t-1}^{\\alpha(\\gamma - 1)} & = V'(A_{t})\\\\\n",
        "C_{t+1}^{-\\gamma} H_{t}^{\\alpha(\\gamma - 1)} & = V'(A_{t+1})\n",
        "\\end{align*}\n",
        "\n",
        "E substituindo o resultado acima em (1)\n",
        "\n",
        "\\begin{align*}\n",
        "C_t^{-\\gamma} H_{t-1}^{\\alpha(\\gamma - 1)} & = \\beta E_t \\Big[ C_{t+1}^{-\\gamma} H_{t}^{\\alpha(\\gamma - 1)} R_{t+1} \\Big]   \\\\\n",
        "\\bigg(\\frac{H_{t-1}}{H_{t}} \\bigg)^{\\alpha(\\gamma - 1)} & = \\beta E_t \\Bigg[\\bigg(\\frac{ C_{t+1} }{C_t} \\bigg)^{-\\gamma} R_{t+1} \\Bigg]  \\tag{*}\n",
        "\\end{align*} \n",
        "\n",
        "Em que (*) é a equação de Euler do problema."
      ]
    },
    {
      "cell_type": "markdown",
      "metadata": {
        "id": "cDFkR7C7iWc1"
      },
      "source": [
        "## Item b) \n",
        "\n",
        "Assumindo a hipótese de log-normalidade e homocedasticidade, use a equação de Euler obtida em **(a)** para encontrar uma expressão para a taxa de crescimento do consumo.\n",
        "\n",
        "---\n",
        "\n",
        "**Resposta**\n",
        "\n",
        "Defina $X_{t+1} \\equiv \\beta \\Big(\\frac{ C_{t+1} }{C_t} \\Big)^{-\\gamma} R_{t+1} $. Suponha que $X_{t+1}$ possua distribuição log-normal com variância $\\sigma^2$ para todo $t$, defina também:\n",
        "\n",
        "$$x_{t+1} \\equiv \\ln X_{t+1} = \\ln \\beta - \\gamma \\ln \\Delta C_{t+1} + r_{t+1},$$\n",
        "\n",
        "onde $r_{t+1} \\equiv \\ln R_{t+1}$. Então\n",
        "\n",
        "\\begin{align*}\n",
        "E_t[X_{t+1}] & = \\exp \\Big\\{E_t[x_{t+1}] + \\frac{1}{2} Var_t [x_{t+1}]\\Big\\} \\\\\n",
        " & = \\exp \\Big\\{E_t[\\ln \\beta - \\gamma \\ln \\Delta C_{t+1} + r_{t+1}] + \\frac{1}{2} \\sigma^2 \\Big\\}  \\tag{1}\n",
        "\\end{align*} \n",
        "\n",
        "Da equação de Euler:\n",
        "\\begin{align*}\n",
        "\\bigg(\\frac{H_{t-1}}{H_{t}} \\bigg)^{\\alpha(\\gamma - 1)} & = \\beta E_t \\Bigg[\\bigg(\\frac{ C_{t+1} }{C_t} \\bigg)^{-\\gamma} R_{t+1} \\Bigg]  \n",
        "\\end{align*} \n",
        "\n",
        "note que podemos substituir o LHS da equação de Euler em (1)\n",
        "\n",
        "\\begin{align*}\n",
        "\\bigg(\\frac{H_{t-1}}{H_{t}} \\bigg)^{\\alpha(\\gamma - 1)} & = \\exp \\Big\\{E_t[\\ln \\beta - \\gamma \\ln \\Delta C_{t+1} + r_{t+1}] + \\frac{1}{2} \\sigma^2 \\Big\\} \\\\\n",
        "\\alpha(\\gamma - 1)  \\ln \\bigg(\\frac{H_{t-1}}{H_{t}} \\bigg) & = E_t[\\ln \\beta - \\gamma \\ln \\Delta C_{t+1} + r_{t+1}] + \\frac{1}{2} \\sigma^2 \\\\\n",
        "\\alpha(\\gamma - 1)  \\ln \\Delta H_{t} & = \\ln \\beta - \\gamma  E_t[\\ln \\Delta C_{t+1}] + E_t[r_{t+1}] + \\frac{1}{2} \\sigma^2 \n",
        "\\end{align*} \n",
        "\n",
        "Note que podemos decompor uma vairável aleatória como\n",
        "\n",
        "$$\\Delta C_{t+1} = E_t[\\Delta C_{t+1}] + \\varepsilon^{C}_{t+1},$$\n",
        "$$r_{t+1} = E_t[r_{t+1}] + \\varepsilon^{r}_{t+1},$$\n",
        "\n",
        "sendo $E[ \\varepsilon^{r}_{t+1}] = E[ \\varepsilon^{C}_{t+1}] = 0$, portanto, substituindo na equação de Euler acima\n",
        "\n",
        "\\begin{align*}\n",
        "\\alpha(\\gamma - 1)  \\ln \\Delta H_{t} & = \\ln \\beta - \\gamma  \\ln \\Delta C_{t+1} + \\gamma  \\varepsilon^{C}_{t+1}+ r_{t+1} - \\varepsilon^{r}_{t+1} + \\frac{1}{2} \\sigma^2 \\\\\n",
        "\\gamma  \\ln \\Delta C_{t+1}  & = \\ln \\beta + 0.5 \\sigma^2 + r_{t+1} - \\alpha(\\gamma - 1)  \\ln \\Delta H_{t} + \\gamma  \\varepsilon^{C}_{t+1} - \\varepsilon^{r}_{t+1}  \\\\\n",
        "\\ln \\Delta C_{t+1}  & = \\frac{\\ln \\beta + 0.5 \\sigma^2}{\\gamma } + \\frac{1}{\\gamma }r_{t+1} - \\frac{\\alpha(\\gamma - 1)}{\\gamma }  \\ln \\Delta H_{t} +  \\varepsilon^{C}_{t+1} - \\frac{1}{\\gamma }\\varepsilon^{r}_{t+1}   \\\\\n",
        "\\ln \\Delta C_{t+1}  & = \\frac{\\ln \\beta + 0.5 \\sigma^2}{\\gamma } + \\frac{1}{\\gamma }r_{t+1} - \\frac{\\alpha(\\gamma - 1)}{\\gamma }  \\ln \\Delta H_{t} +  \\varepsilon_{t+1},\n",
        "\\end{align*} \n",
        "\n",
        "onde $\\varepsilon_{t+1} \\equiv \\varepsilon^{C}_{t+1} - \\frac{1}{\\gamma }\\varepsilon^{r}_{t+1}$. Utilizando a definição $H_t \\equiv \\exp\\{\\Phi(L) \\ln \\bar{C}_t\\}$ na expressao $\\ln \\Delta H_t$\n",
        "\n",
        "\\begin{align*}\n",
        "\\ln \\Delta H_{t} & = H_{t} - H_{t-1} \\\\\n",
        "&= \\Phi(L) \\ln \\bar{C}_t - \\Phi(L) \\ln \\bar{C}_{t-1} \\\\\n",
        "&= \\Phi(L) \\Delta \\ln \\bar{C}_t \\\\\n",
        "&= \\sum_{i=0}^{P} \\phi_i L^i  \\Delta \\ln \\bar{C}_t\n",
        "\\end{align*} \n",
        "\n",
        "Substituindo na equação de Euler\n",
        "\n",
        "\\begin{align*}\n",
        "\\ln \\Delta C_{t+1}  & = \\frac{\\ln \\beta + 0.5 \\sigma^2}{\\gamma } + \\frac{1}{\\gamma }r_{t+1} - \\frac{\\alpha(\\gamma - 1)}{\\gamma }  \\sum_{i=0}^{P} \\phi_i L^i  \\Delta \\ln \\bar{C}_t +  \\varepsilon_{t+1} \\tag{**}\n",
        "\\end{align*} "
      ]
    },
    {
      "cell_type": "markdown",
      "metadata": {
        "id": "sIwJt_JjiYcJ"
      },
      "source": [
        "## Item c)\n",
        "\n",
        "Explique como a equação de Euler obtida em **(b)** pode ser estimada por GMM. Como você testaria se existe formação de hábito? Explique sua resposta\n",
        "\n",
        "---\n",
        "\n",
        "**Resposta**\n",
        "\n",
        "Para Estimar (**) por GMM, podemos assumir $\\phi_0 = 1$ e recuperar o valor de $\\alpha$ para verificar se $\\alpha = 0$"
      ]
    },
    {
      "cell_type": "markdown",
      "metadata": {
        "id": "jTBW2RrliZDn"
      },
      "source": [
        "# Problema 5) [Hábito Externo]\n",
        "\n",
        "$$\\max_{ \\{C_t, A_{t+1} \\}_{t=0}^{\\infty} } E_0  \\sum_{t=0}^{\\infty} \\beta^t \\Bigg[ - \\frac{1}{\\theta} \\exp \\{\\theta (C_t - \\alpha H_{t-1}) \\}\\Bigg]$$\n",
        "\n",
        "\\begin{align*}\n",
        "\\text{sujeito a}\n",
        "    \\begin{cases}\n",
        "      A_{t+1} = R_{t+1}(A_t + Y_t - C_t) \\\\\n",
        "      A_{0}\\text{ e } H_{-1} \\text{ dados}\n",
        "    \\end{cases}\n",
        "\\end{align*}\n",
        "\n",
        "em que $C_t$ é o consumo privado e $H_{t-1}$ é o nível de hábito, $\\beta \\in (0, 1)$, $ \\gamma > 0$ e $\\alpha \\geq 0$. Defina $H_t \\equiv \\Phi(L) \\bar{C}_t$, em que $\\bar{C}_t$ é o consumo agregado e $\\Phi (L) = \\sum^{P}_{i=0}\\phi_i L^i $."
      ]
    },
    {
      "cell_type": "markdown",
      "metadata": {
        "id": "n9DfHmahqVic"
      },
      "source": [
        "# Item a) \n",
        "\n",
        "Assumindo solução interior, encontre a equação de Euler deste problema, como função de $\\Delta C_{t+1}, \\Delta H_t$ e $R_{t+1}$.\n",
        "\n",
        "---\n",
        "\n",
        "**Resposta**"
      ]
    },
    {
      "cell_type": "markdown",
      "metadata": {
        "id": "xEwwHw66lgaS"
      },
      "source": [
        "\n",
        "# Item b) \n",
        "\n",
        "Assumindo a hipótese de log-normalidade e homocedasticidade, use a equação de Euler obtida em **(a)** para encontrar uma expressão para a variação do consumo.\n",
        "\n",
        "---\n",
        "\n",
        "**Resposta**\n"
      ]
    },
    {
      "cell_type": "markdown",
      "metadata": {
        "id": "f4LtiP-JlhDu"
      },
      "source": [
        "\n",
        "\n",
        "# Item c) \n",
        "\n",
        "Explique como a equação de Euler obtida em **(b)** pode ser estimada por GMM. Como você testaria se existe formação de Hábito? Explique sua resposta\n",
        "\n",
        "---\n",
        "\n",
        "**Resposta**\n"
      ]
    },
    {
      "cell_type": "markdown",
      "metadata": {
        "id": "GhTBeteMlN8o"
      },
      "source": [
        "# Problema 6)\n",
        "\n",
        "Usando dados da economia norte-americana estime, pelo GMM, as equações de Euler dos seguintes exercÌcios:\n",
        "\n",
        "1. Problema 2: **(d)**\n",
        "2. Problema 2: **(f)**\n",
        "3. Problema 2: **(h)**\n",
        "4. Problema 3: **(c)**\n",
        "5. Problema 3: **(e)**\n",
        "6. Problema 3: **(f)**\n",
        "7. Problema 4: **(b)**"
      ]
    },
    {
      "cell_type": "code",
      "metadata": {
        "colab": {
          "base_uri": "https://localhost:8080/"
        },
        "id": "-6Og0q8MwUKx",
        "outputId": "608f17ba-b995-4e0e-bfc7-fce94906dca3"
      },
      "source": [
        "from statsmodels.sandbox.regression import gmm\n",
        "\n",
        "import numpy as np\n",
        "import pandas as pd\n",
        "import statsmodels.api as sm\n",
        "import matplotlib.pyplot as plt"
      ],
      "execution_count": null,
      "outputs": [
        {
          "output_type": "stream",
          "text": [
            "/usr/local/lib/python3.7/dist-packages/statsmodels/tools/_testing.py:19: FutureWarning: pandas.util.testing is deprecated. Use the functions in the public API at pandas.testing instead.\n",
            "  import pandas.util.testing as tm\n"
          ],
          "name": "stderr"
        }
      ]
    },
    {
      "cell_type": "code",
      "metadata": {
        "id": "_8jWwPUWweEx"
      },
      "source": [
        "dta2  = pd.read_csv('https://raw.githubusercontent.com/lucasestrela/dec_consumo_poupanca/main/dados/dataset_trim.csv',\n",
        "                             delimiter = \",\")\n"
      ],
      "execution_count": null,
      "outputs": []
    },
    {
      "cell_type": "code",
      "metadata": {
        "id": "PpCQ52rzwTBY"
      },
      "source": [
        "# Calculando a 1 defasagem do crescimento do consumo\n",
        "dta2['c_growth_lag1'] = dta2['c_growth'].shift(1)\n",
        "dta2['c_growth_lag2'] = dta2['c_growth'].shift(2)\n",
        "\n",
        "# Calculando a 1 defasagem e um adiantamento do consumo\n",
        "dta2['c_lag1']  = dta2['c'].shift(1)\n",
        "dta2['c_lag2']  = dta2['c'].shift(2)\n",
        "dta2['c_forw1'] = dta2['c'].shift(-1)\n",
        "dta2['c_forw2'] = dta2['c'].shift(-2)\n",
        "\n",
        "# Calculando a 1 e 2 defasagem e um adiantamento do consumo\n",
        "dta2['sp500_r_lag1']  = dta2['sp500_ret_real'].shift(1) + 1\n",
        "dta2['sp500_r_lag2']  = dta2['sp500_ret_real'].shift(2) + 1\n",
        "dta2['sp500_r_forw1'] = dta2['sp500_ret_real'].shift(-1) + 1\n",
        "\n",
        "\n",
        "dta2['tbill_r_lag1']  = dta2['TBill_ret_real'].shift(1) + 1\n",
        "dta2['tbill_r_lag2']  = dta2['TBill_ret_real'].shift(2) + 1\n",
        "dta2['tbill_r_forw1'] = dta2['TBill_ret_real'].shift(-1) + 1\n",
        "\n",
        "# Constante\n",
        "dta2['const'] = 1\n",
        "\n",
        "# Removendo os missings\n",
        "dta_clean = dta2.dropna()"
      ],
      "execution_count": null,
      "outputs": []
    },
    {
      "cell_type": "markdown",
      "metadata": {
        "id": "rVP5CY6yc582"
      },
      "source": [
        "**2 (d)**\n",
        "\\begin{align*}\n",
        "   0  & = E_t \\Big[  - \\beta \\alpha \\Delta C_{t+2}  + (1 + \\beta \\alpha^2) \\Delta C_{t+1}- \\alpha \\Delta C_{t} \\Big]  \\\\\n",
        "\\end{align*}"
      ]
    },
    {
      "cell_type": "code",
      "metadata": {
        "id": "It-ke0BYc0EH",
        "colab": {
          "base_uri": "https://localhost:8080/"
        },
        "outputId": "253f2a8b-d80e-4edd-b397-19134ce1764a"
      },
      "source": [
        "# Calculando as endógenas, as variáveis contemporaneas\n",
        "endog_df = dta_clean[['c_forw2', 'c_forw1', 'c', 'c_lag1']]\n",
        "exog_df  = endog_df\n",
        "\n",
        "# Os instrumentos serão as variáveis defasadas\n",
        "instrument_df = dta_clean[['sp500_r_lag2', 'tbill_r_lag2', 'c_growth_lag2', 'const']]\n",
        "\n",
        "# Transformando em array\n",
        "endog, exog, instrument  = map(np.asarray, [endog_df, exog_df, instrument_df])\n",
        "\n",
        "# Vetor de zeros\n",
        "endog1 = np.zeros(exog.shape[0])\n",
        "\n",
        "def moment_consumption1(params, exog):\n",
        "    beta, alpha = params\n",
        "\n",
        "    c_forw2, c_forw1, c, c_lag1 = exog.T  # unwrap iterable (ndarray)\n",
        "    \n",
        "    # moment condition without instrument    \n",
        "    err = - beta * alpha * (c_forw2 / c_forw1) + (1+beta * np.power(alpha, 2)) * (c_forw1 / c) - alpha * (c / c_lag1)\n",
        "\n",
        "    return -err\n",
        "\n",
        "# Rodando o GMM. Endogenos sao 0's, exógenos as variaveis que entram na eq de Euler e instrumentos sao as variaveis defasadas\n",
        "mod1   = gmm.NonlinearIVGMM(endog1, exog, instrument, moment_consumption1, k_moms=4, k_params=2)\n",
        "\n",
        "# Calculando uma matriz de pesos\n",
        "w0inv  = np.dot(instrument.T, instrument) / len(endog1)\n",
        "\n",
        "# Fitando o modelo\n",
        "res1   = mod1.fit([1.0, 0.3], maxiter=1000, inv_weights = w0inv)\n",
        "\n",
        "# Print do modelo\n",
        "print(res1.summary(yname='Euler Eq', xname=['Desconto', 'Habito']))"
      ],
      "execution_count": null,
      "outputs": [
        {
          "output_type": "stream",
          "text": [
            "Optimization terminated successfully.\n",
            "         Current function value: 0.000001\n",
            "         Iterations: 12\n",
            "         Function evaluations: 13\n",
            "         Gradient evaluations: 13\n",
            "Optimization terminated successfully.\n",
            "         Current function value: 0.001025\n",
            "         Iterations: 23\n",
            "         Function evaluations: 31\n",
            "         Gradient evaluations: 31\n",
            "Optimization terminated successfully.\n",
            "         Current function value: 0.004796\n",
            "         Iterations: 7\n",
            "         Function evaluations: 10\n",
            "         Gradient evaluations: 10\n",
            "Optimization terminated successfully.\n",
            "         Current function value: 0.004505\n",
            "         Iterations: 4\n",
            "         Function evaluations: 8\n",
            "         Gradient evaluations: 8\n",
            "Optimization terminated successfully.\n",
            "         Current function value: 0.004497\n",
            "         Iterations: 1\n",
            "         Function evaluations: 3\n",
            "         Gradient evaluations: 3\n",
            "                            NonlinearIVGMM Results                            \n",
            "==============================================================================\n",
            "Dep. Variable:               Euler Eq   Hansen J:                        1.187\n",
            "Model:                 NonlinearIVGMM   Prob (Hansen J):                 0.552\n",
            "Method:                           GMM                                         \n",
            "Date:                Mon, 17 May 2021                                         \n",
            "Time:                        01:30:18                                         \n",
            "No. Observations:                 264                                         \n",
            "==============================================================================\n",
            "                 coef    std err          z      P>|z|      [0.025      0.975]\n",
            "------------------------------------------------------------------------------\n",
            "Desconto      -0.0020      0.652     -0.003      0.998      -1.281       1.277\n",
            "Habito         1.0002      0.001   1250.083      0.000       0.999       1.002\n",
            "==============================================================================\n"
          ],
          "name": "stdout"
        }
      ]
    },
    {
      "cell_type": "markdown",
      "metadata": {
        "id": "kM39VONae5Hg"
      },
      "source": [
        "**2 (f)**\n",
        "\n",
        "\\begin{align*}\n",
        "   (C_t - \\alpha C_{t-1})^{-\\gamma}  & = \\beta E_t \\Big[ (C_{t+1} - \\alpha C_{t})^{-\\gamma} R_{t+1} - \\alpha \\big( (C_{t+2} - \\alpha C_{t+1})^{-\\gamma} \\beta R_{t+1} - (C_{t+1} -\\alpha C_{t})^{-\\gamma}  \\big)\\Big] \\\\\n",
        "\\end{align*}"
      ]
    },
    {
      "cell_type": "code",
      "metadata": {
        "id": "kpLVp7ui4z1B"
      },
      "source": [
        "# Calculando as endógenas, as variáveis contemporaneas\n",
        "endog_df = dta_clean[['c_forw2', 'c_forw1', 'c', 'c_lag1', 'tbill_r_forw1']]\n",
        "exog_df  = endog_df\n",
        "\n",
        "# Os instrumentos serão as variáveis defasadas\n",
        "instrument_df = dta_clean[['sp500_r_lag1', 'sp500_r_lag2', 'tbill_r_lag2', 'tbill_r_lag2', 'c_growth_lag2', 'const']]\n",
        "\n",
        "# Transformando em array\n",
        "endog, exog, instrument  = map(np.asarray, [endog_df, exog_df, instrument_df])\n",
        "\n",
        "# Vetor de zeros\n",
        "endog1 = np.zeros(exog.shape[0])"
      ],
      "execution_count": null,
      "outputs": []
    },
    {
      "cell_type": "code",
      "metadata": {
        "id": "8pcPabZHeyZz",
        "colab": {
          "base_uri": "https://localhost:8080/",
          "height": 561
        },
        "outputId": "e3901c08-ed18-4e41-8e2d-7812fb8c0fb0"
      },
      "source": [
        "def moment_consumption1(params, exog):\n",
        "    alpha, gamma, beta = params\n",
        "\n",
        "    c_forw2, c_forw1, c, c_lag1, tbill_r_forw1 = exog.T  # unwrap iterable (ndarray)\n",
        "    \n",
        "    # moment condition without instrument    \n",
        "    err = beta * (np.power(c_forw1 - alpha * c, - gamma) * tbill_r_forw1 - \n",
        "                  alpha*beta* np.power(c_forw2 - alpha * c_forw1, - gamma) * tbill_r_forw1 -\n",
        "                  np.power(c_forw1 - alpha * c, - gamma)) - np.power(c + alpha * c_lag1, - gamma)\n",
        "\n",
        "    return -err\n",
        "\n",
        "# Rodando o GMM. Endogenos sao 0's, exógenos as variaveis que entram na eq de Euler e instrumentos sao as variaveis defasadas\n",
        "mod1   = gmm.NonlinearIVGMM(endog1, exog, instrument, moment_consumption1, k_moms=6, k_params=3)\n",
        "\n",
        "# Calculando uma matriz de pesos\n",
        "w0inv  = np.dot(instrument.T, instrument) / len(endog1)\n",
        "\n",
        "# Fitando o modelo\n",
        "res1   = mod1.fit([1.0, 0.3, 1], maxiter=1000, inv_weights = w0inv)"
      ],
      "execution_count": null,
      "outputs": [
        {
          "output_type": "stream",
          "text": [
            "Warning: NaN result encountered.\n",
            "         Current function value: nan\n",
            "         Iterations: 0\n",
            "         Function evaluations: 1\n",
            "         Gradient evaluations: 1\n"
          ],
          "name": "stdout"
        },
        {
          "output_type": "stream",
          "text": [
            "/usr/local/lib/python3.7/dist-packages/ipykernel_launcher.py:8: RuntimeWarning: invalid value encountered in power\n",
            "  \n",
            "/usr/local/lib/python3.7/dist-packages/ipykernel_launcher.py:9: RuntimeWarning: invalid value encountered in power\n",
            "  if __name__ == '__main__':\n"
          ],
          "name": "stderr"
        },
        {
          "output_type": "error",
          "ename": "LinAlgError",
          "evalue": "ignored",
          "traceback": [
            "\u001b[0;31m---------------------------------------------------------------------------\u001b[0m",
            "\u001b[0;31mLinAlgError\u001b[0m                               Traceback (most recent call last)",
            "\u001b[0;32m<ipython-input-73-515eebf60389>\u001b[0m in \u001b[0;36m<module>\u001b[0;34m()\u001b[0m\n\u001b[1;32m     18\u001b[0m \u001b[0;34m\u001b[0m\u001b[0m\n\u001b[1;32m     19\u001b[0m \u001b[0;31m# Fitando o modelo\u001b[0m\u001b[0;34m\u001b[0m\u001b[0;34m\u001b[0m\u001b[0;34m\u001b[0m\u001b[0m\n\u001b[0;32m---> 20\u001b[0;31m \u001b[0mres1\u001b[0m   \u001b[0;34m=\u001b[0m \u001b[0mmod1\u001b[0m\u001b[0;34m.\u001b[0m\u001b[0mfit\u001b[0m\u001b[0;34m(\u001b[0m\u001b[0;34m[\u001b[0m\u001b[0;36m1.0\u001b[0m\u001b[0;34m,\u001b[0m \u001b[0;36m0.3\u001b[0m\u001b[0;34m,\u001b[0m \u001b[0;36m1\u001b[0m\u001b[0;34m]\u001b[0m\u001b[0;34m,\u001b[0m \u001b[0mmaxiter\u001b[0m\u001b[0;34m=\u001b[0m\u001b[0;36m1000\u001b[0m\u001b[0;34m,\u001b[0m \u001b[0minv_weights\u001b[0m \u001b[0;34m=\u001b[0m \u001b[0mw0inv\u001b[0m\u001b[0;34m)\u001b[0m\u001b[0;34m\u001b[0m\u001b[0;34m\u001b[0m\u001b[0m\n\u001b[0m",
            "\u001b[0;32m/usr/local/lib/python3.7/dist-packages/statsmodels/sandbox/regression/gmm.py\u001b[0m in \u001b[0;36mfit\u001b[0;34m(self, start_params, maxiter, inv_weights, weights_method, wargs, has_optimal_weights, optim_method, optim_args)\u001b[0m\n\u001b[1;32m    677\u001b[0m                                            \u001b[0mwargs\u001b[0m\u001b[0;34m=\u001b[0m\u001b[0mwargs\u001b[0m\u001b[0;34m,\u001b[0m\u001b[0;34m\u001b[0m\u001b[0;34m\u001b[0m\u001b[0m\n\u001b[1;32m    678\u001b[0m                                            \u001b[0moptim_method\u001b[0m\u001b[0;34m=\u001b[0m\u001b[0moptim_method\u001b[0m\u001b[0;34m,\u001b[0m\u001b[0;34m\u001b[0m\u001b[0;34m\u001b[0m\u001b[0m\n\u001b[0;32m--> 679\u001b[0;31m                                            optim_args=optim_args)\n\u001b[0m\u001b[1;32m    680\u001b[0m             \u001b[0;31m# TODO weights returned by fititer is inv_weights - not true anymore\u001b[0m\u001b[0;34m\u001b[0m\u001b[0;34m\u001b[0m\u001b[0;34m\u001b[0m\u001b[0m\n\u001b[1;32m    681\u001b[0m             \u001b[0;31m# weights_ currently not necessary and used anymore\u001b[0m\u001b[0;34m\u001b[0m\u001b[0;34m\u001b[0m\u001b[0;34m\u001b[0m\u001b[0m\n",
            "\u001b[0;32m/usr/local/lib/python3.7/dist-packages/statsmodels/sandbox/regression/gmm.py\u001b[0m in \u001b[0;36mfititer\u001b[0;34m(self, start, maxiter, start_invweights, weights_method, wargs, optim_method, optim_args)\u001b[0m\n\u001b[1;32m    913\u001b[0m         \u001b[0;32mfor\u001b[0m \u001b[0mit\u001b[0m \u001b[0;32min\u001b[0m \u001b[0mrange\u001b[0m\u001b[0;34m(\u001b[0m\u001b[0mmaxiter\u001b[0m\u001b[0;34m)\u001b[0m\u001b[0;34m:\u001b[0m\u001b[0;34m\u001b[0m\u001b[0;34m\u001b[0m\u001b[0m\n\u001b[1;32m    914\u001b[0m             \u001b[0mwinv\u001b[0m \u001b[0;34m=\u001b[0m \u001b[0mwinv_new\u001b[0m\u001b[0;34m\u001b[0m\u001b[0;34m\u001b[0m\u001b[0m\n\u001b[0;32m--> 915\u001b[0;31m             \u001b[0mw\u001b[0m \u001b[0;34m=\u001b[0m \u001b[0mnp\u001b[0m\u001b[0;34m.\u001b[0m\u001b[0mlinalg\u001b[0m\u001b[0;34m.\u001b[0m\u001b[0mpinv\u001b[0m\u001b[0;34m(\u001b[0m\u001b[0mwinv\u001b[0m\u001b[0;34m)\u001b[0m\u001b[0;34m\u001b[0m\u001b[0;34m\u001b[0m\u001b[0m\n\u001b[0m\u001b[1;32m    916\u001b[0m             \u001b[0;31m#this is still calling function not method\u001b[0m\u001b[0;34m\u001b[0m\u001b[0;34m\u001b[0m\u001b[0;34m\u001b[0m\u001b[0m\n\u001b[1;32m    917\u001b[0m \u001b[0;31m##            resgmm = fitgmm(momcond, (), start, weights=winv, fixed=None,\u001b[0m\u001b[0;34m\u001b[0m\u001b[0;34m\u001b[0m\u001b[0;34m\u001b[0m\u001b[0m\n",
            "\u001b[0;32m<__array_function__ internals>\u001b[0m in \u001b[0;36mpinv\u001b[0;34m(*args, **kwargs)\u001b[0m\n",
            "\u001b[0;32m/usr/local/lib/python3.7/dist-packages/numpy/linalg/linalg.py\u001b[0m in \u001b[0;36mpinv\u001b[0;34m(a, rcond, hermitian)\u001b[0m\n\u001b[1;32m   2001\u001b[0m         \u001b[0;32mreturn\u001b[0m \u001b[0mwrap\u001b[0m\u001b[0;34m(\u001b[0m\u001b[0mres\u001b[0m\u001b[0;34m)\u001b[0m\u001b[0;34m\u001b[0m\u001b[0;34m\u001b[0m\u001b[0m\n\u001b[1;32m   2002\u001b[0m     \u001b[0ma\u001b[0m \u001b[0;34m=\u001b[0m \u001b[0ma\u001b[0m\u001b[0;34m.\u001b[0m\u001b[0mconjugate\u001b[0m\u001b[0;34m(\u001b[0m\u001b[0;34m)\u001b[0m\u001b[0;34m\u001b[0m\u001b[0;34m\u001b[0m\u001b[0m\n\u001b[0;32m-> 2003\u001b[0;31m     \u001b[0mu\u001b[0m\u001b[0;34m,\u001b[0m \u001b[0ms\u001b[0m\u001b[0;34m,\u001b[0m \u001b[0mvt\u001b[0m \u001b[0;34m=\u001b[0m \u001b[0msvd\u001b[0m\u001b[0;34m(\u001b[0m\u001b[0ma\u001b[0m\u001b[0;34m,\u001b[0m \u001b[0mfull_matrices\u001b[0m\u001b[0;34m=\u001b[0m\u001b[0;32mFalse\u001b[0m\u001b[0;34m,\u001b[0m \u001b[0mhermitian\u001b[0m\u001b[0;34m=\u001b[0m\u001b[0mhermitian\u001b[0m\u001b[0;34m)\u001b[0m\u001b[0;34m\u001b[0m\u001b[0;34m\u001b[0m\u001b[0m\n\u001b[0m\u001b[1;32m   2004\u001b[0m \u001b[0;34m\u001b[0m\u001b[0m\n\u001b[1;32m   2005\u001b[0m     \u001b[0;31m# discard small singular values\u001b[0m\u001b[0;34m\u001b[0m\u001b[0;34m\u001b[0m\u001b[0;34m\u001b[0m\u001b[0m\n",
            "\u001b[0;32m<__array_function__ internals>\u001b[0m in \u001b[0;36msvd\u001b[0;34m(*args, **kwargs)\u001b[0m\n",
            "\u001b[0;32m/usr/local/lib/python3.7/dist-packages/numpy/linalg/linalg.py\u001b[0m in \u001b[0;36msvd\u001b[0;34m(a, full_matrices, compute_uv, hermitian)\u001b[0m\n\u001b[1;32m   1659\u001b[0m \u001b[0;34m\u001b[0m\u001b[0m\n\u001b[1;32m   1660\u001b[0m         \u001b[0msignature\u001b[0m \u001b[0;34m=\u001b[0m \u001b[0;34m'D->DdD'\u001b[0m \u001b[0;32mif\u001b[0m \u001b[0misComplexType\u001b[0m\u001b[0;34m(\u001b[0m\u001b[0mt\u001b[0m\u001b[0;34m)\u001b[0m \u001b[0;32melse\u001b[0m \u001b[0;34m'd->ddd'\u001b[0m\u001b[0;34m\u001b[0m\u001b[0;34m\u001b[0m\u001b[0m\n\u001b[0;32m-> 1661\u001b[0;31m         \u001b[0mu\u001b[0m\u001b[0;34m,\u001b[0m \u001b[0ms\u001b[0m\u001b[0;34m,\u001b[0m \u001b[0mvh\u001b[0m \u001b[0;34m=\u001b[0m \u001b[0mgufunc\u001b[0m\u001b[0;34m(\u001b[0m\u001b[0ma\u001b[0m\u001b[0;34m,\u001b[0m \u001b[0msignature\u001b[0m\u001b[0;34m=\u001b[0m\u001b[0msignature\u001b[0m\u001b[0;34m,\u001b[0m \u001b[0mextobj\u001b[0m\u001b[0;34m=\u001b[0m\u001b[0mextobj\u001b[0m\u001b[0;34m)\u001b[0m\u001b[0;34m\u001b[0m\u001b[0;34m\u001b[0m\u001b[0m\n\u001b[0m\u001b[1;32m   1662\u001b[0m         \u001b[0mu\u001b[0m \u001b[0;34m=\u001b[0m \u001b[0mu\u001b[0m\u001b[0;34m.\u001b[0m\u001b[0mastype\u001b[0m\u001b[0;34m(\u001b[0m\u001b[0mresult_t\u001b[0m\u001b[0;34m,\u001b[0m \u001b[0mcopy\u001b[0m\u001b[0;34m=\u001b[0m\u001b[0;32mFalse\u001b[0m\u001b[0;34m)\u001b[0m\u001b[0;34m\u001b[0m\u001b[0;34m\u001b[0m\u001b[0m\n\u001b[1;32m   1663\u001b[0m         \u001b[0ms\u001b[0m \u001b[0;34m=\u001b[0m \u001b[0ms\u001b[0m\u001b[0;34m.\u001b[0m\u001b[0mastype\u001b[0m\u001b[0;34m(\u001b[0m\u001b[0m_realType\u001b[0m\u001b[0;34m(\u001b[0m\u001b[0mresult_t\u001b[0m\u001b[0;34m)\u001b[0m\u001b[0;34m,\u001b[0m \u001b[0mcopy\u001b[0m\u001b[0;34m=\u001b[0m\u001b[0;32mFalse\u001b[0m\u001b[0;34m)\u001b[0m\u001b[0;34m\u001b[0m\u001b[0;34m\u001b[0m\u001b[0m\n",
            "\u001b[0;32m/usr/local/lib/python3.7/dist-packages/numpy/linalg/linalg.py\u001b[0m in \u001b[0;36m_raise_linalgerror_svd_nonconvergence\u001b[0;34m(err, flag)\u001b[0m\n\u001b[1;32m     95\u001b[0m \u001b[0;34m\u001b[0m\u001b[0m\n\u001b[1;32m     96\u001b[0m \u001b[0;32mdef\u001b[0m \u001b[0m_raise_linalgerror_svd_nonconvergence\u001b[0m\u001b[0;34m(\u001b[0m\u001b[0merr\u001b[0m\u001b[0;34m,\u001b[0m \u001b[0mflag\u001b[0m\u001b[0;34m)\u001b[0m\u001b[0;34m:\u001b[0m\u001b[0;34m\u001b[0m\u001b[0;34m\u001b[0m\u001b[0m\n\u001b[0;32m---> 97\u001b[0;31m     \u001b[0;32mraise\u001b[0m \u001b[0mLinAlgError\u001b[0m\u001b[0;34m(\u001b[0m\u001b[0;34m\"SVD did not converge\"\u001b[0m\u001b[0;34m)\u001b[0m\u001b[0;34m\u001b[0m\u001b[0;34m\u001b[0m\u001b[0m\n\u001b[0m\u001b[1;32m     98\u001b[0m \u001b[0;34m\u001b[0m\u001b[0m\n\u001b[1;32m     99\u001b[0m \u001b[0;32mdef\u001b[0m \u001b[0m_raise_linalgerror_lstsq\u001b[0m\u001b[0;34m(\u001b[0m\u001b[0merr\u001b[0m\u001b[0;34m,\u001b[0m \u001b[0mflag\u001b[0m\u001b[0;34m)\u001b[0m\u001b[0;34m:\u001b[0m\u001b[0;34m\u001b[0m\u001b[0;34m\u001b[0m\u001b[0m\n",
            "\u001b[0;31mLinAlgError\u001b[0m: SVD did not converge"
          ]
        }
      ]
    },
    {
      "cell_type": "markdown",
      "metadata": {
        "id": "AUtX4NA8g_vD"
      },
      "source": [
        "**2 (h)**\n",
        "\n",
        "\\begin{align*}\n",
        "     C_t^{-\\gamma} C_{t - 1}^{\\alpha(\\gamma-1)} & = \\beta E_t \\Big[  R_{t+1} \\Big(C_{t+1}^{-\\gamma} C_{t}^{\\alpha(\\gamma-1)} + \\beta \\alpha C_{t+2}^{1-\\gamma} C_{t+1}^{\\alpha(1-\\gamma) - 1} \\Big) - \\alpha C_{t+1}^{1-\\gamma} C_{t}^{\\alpha(1-\\gamma) - 1} \\Big] \n",
        "\\end{align*}\n"
      ]
    },
    {
      "cell_type": "code",
      "metadata": {
        "id": "-taqI2a55lQP"
      },
      "source": [
        "# Calculando as endógenas, as variáveis contemporaneas\n",
        "endog_df = dta_clean[['c_forw2', 'c_forw1', 'c', 'c_lag1', 'tbill_r_forw1']]\n",
        "exog_df  = endog_df\n",
        "\n",
        "# Os instrumentos serão as variáveis defasadas\n",
        "instrument_df = dta_clean[['sp500_r_lag2', 'tbill_r_lag2', 'c_growth_lag2', 'const']]\n",
        "\n",
        "# Transformando em array\n",
        "endog, exog, instrument  = map(np.asarray, [endog_df, exog_df, instrument_df])\n",
        "\n",
        "# Vetor de zeros\n",
        "endog1 = np.zeros(exog.shape[0])"
      ],
      "execution_count": null,
      "outputs": []
    },
    {
      "cell_type": "code",
      "metadata": {
        "id": "J7ZIy1iKnyLR",
        "colab": {
          "base_uri": "https://localhost:8080/"
        },
        "outputId": "5cdfb440-7961-4611-eda8-96ce39465e60"
      },
      "source": [
        "def moment_consumption1(params, exog):\n",
        "    gamma, alpha, beta = params\n",
        "\n",
        "    c_forw2, c_forw1, c, c_lag1, tbill_r_forw1 = exog.T  # unwrap iterable (ndarray)\n",
        "    \n",
        "    # moment condition without instrument    \n",
        "    err = beta * (tbill_r_forw1 * (np.power(c_forw1, - gamma) * np.power(c, alpha*(gamma - 1))\n",
        "                                    + beta * alpha * np.power(c_forw2, 1-gamma) * np.power(c_forw1, alpha*(1-gamma) - 1)\n",
        "                                  ) - alpha * np.power(c_forw1, 1-gamma) * np.power(c, alpha*(1-gamma)-1)\n",
        "                  ) - np.power(c, - gamma) * np.power(c_lag1, alpha*(gamma-1) )\n",
        "\n",
        "    return -err\n",
        "\n",
        "# Rodando o GMM. Endogenos sao 0's, exógenos as variaveis que entram na eq de Euler e instrumentos sao as variaveis defasadas\n",
        "mod1   = gmm.NonlinearIVGMM(endog1, exog, instrument, moment_consumption1, k_moms=4, k_params=3)\n",
        "\n",
        "# Calculando uma matriz de pesos\n",
        "w0inv  = np.dot(instrument.T, instrument) / len(endog1)\n",
        "\n",
        "# Fitando o modelo\n",
        "res1   = mod1.fit([1.0, 0.3, 0], maxiter=1000, inv_weights = w0inv)\n",
        "\n",
        "\n",
        "# Print do modelo\n",
        "print(res1.summary(yname='Euler Eq', xname=['Aversão', 'Habito', 'Desconto']))"
      ],
      "execution_count": null,
      "outputs": [
        {
          "output_type": "stream",
          "text": [
            "Optimization terminated successfully.\n",
            "         Current function value: 0.000000\n",
            "         Iterations: 0\n",
            "         Function evaluations: 1\n",
            "         Gradient evaluations: 1\n",
            "Optimization terminated successfully.\n",
            "         Current function value: 0.000000\n",
            "         Iterations: 6\n",
            "         Function evaluations: 10\n",
            "         Gradient evaluations: 10\n",
            "Optimization terminated successfully.\n",
            "         Current function value: 0.000000\n",
            "         Iterations: 7\n",
            "         Function evaluations: 14\n",
            "         Gradient evaluations: 14\n",
            "Optimization terminated successfully.\n",
            "         Current function value: 0.000000\n",
            "         Iterations: 28\n",
            "         Function evaluations: 31\n",
            "         Gradient evaluations: 31\n",
            "Optimization terminated successfully.\n",
            "         Current function value: 0.000000\n",
            "         Iterations: 122\n",
            "         Function evaluations: 158\n",
            "         Gradient evaluations: 158\n",
            "Optimization terminated successfully.\n",
            "         Current function value: 0.000000\n",
            "         Iterations: 44\n",
            "         Function evaluations: 47\n",
            "         Gradient evaluations: 47\n",
            "Optimization terminated successfully.\n",
            "         Current function value: 0.000000\n",
            "         Iterations: 226\n",
            "         Function evaluations: 262\n",
            "         Gradient evaluations: 262\n",
            "Warning: Desired error not necessarily achieved due to precision loss.\n",
            "         Current function value: 0.031100\n",
            "         Iterations: 0\n",
            "         Function evaluations: 16\n",
            "         Gradient evaluations: 4\n",
            "                            NonlinearIVGMM Results                            \n",
            "==============================================================================\n",
            "Dep. Variable:               Euler Eq   Hansen J:                        8.210\n",
            "Model:                 NonlinearIVGMM   Prob (Hansen J):               0.00417\n",
            "Method:                           GMM                                         \n",
            "Date:                Mon, 17 May 2021                                         \n",
            "Time:                        01:21:03                                         \n",
            "No. Observations:                 264                                         \n",
            "==============================================================================\n",
            "                 coef    std err          z      P>|z|      [0.025      0.975]\n",
            "------------------------------------------------------------------------------\n",
            "Aversão        8.3865      4.120      2.035      0.042       0.311      16.462\n",
            "Habito        -0.4863      0.856     -0.568      0.570      -2.163       1.191\n",
            "Desconto    4.641e-28   3.67e-26      0.013      0.990   -7.15e-26    7.25e-26\n",
            "==============================================================================\n"
          ],
          "name": "stdout"
        }
      ]
    },
    {
      "cell_type": "markdown",
      "metadata": {
        "id": "FcU6qVkniBIv"
      },
      "source": [
        "**3 (c)**\n",
        "\n",
        "\\begin{align*}\n",
        "    \\alpha \\Delta \\bar{C}_{t}  & = E_t \\Big[\\Delta C_{t+1} \\Big] \\\\\n",
        "\\end{align*}"
      ]
    },
    {
      "cell_type": "code",
      "metadata": {
        "id": "zfDjbdA26jZ7"
      },
      "source": [
        "# Calculando as endógenas, as variáveis contemporaneas\n",
        "endog_df = dta_clean[['c_forw1', 'c', 'c_lag1']]\n",
        "exog_df  = endog_df\n",
        "\n",
        "# Os instrumentos serão as variáveis defasadas\n",
        "instrument_df = dta_clean[['sp500_r_lag2', 'tbill_r_lag2', 'c_growth_lag2', 'const']]\n",
        "\n",
        "# Transformando em array\n",
        "endog, exog, instrument  = map(np.asarray, [endog_df, exog_df, instrument_df])\n",
        "\n",
        "# Vetor de zeros\n",
        "endog1 = np.zeros(exog.shape[0])"
      ],
      "execution_count": null,
      "outputs": []
    },
    {
      "cell_type": "code",
      "metadata": {
        "id": "JfYQrRi9inkN",
        "colab": {
          "base_uri": "https://localhost:8080/",
          "height": 748
        },
        "outputId": "f82ff8a8-f6fc-40f7-986e-43ffb241995a"
      },
      "source": [
        "def moment_consumption1(params, exog):\n",
        "    gamma, alpha, beta = params\n",
        "\n",
        "    c_forw1, c, c_lag1 = exog.T  # unwrap iterable (ndarray)\n",
        "    \n",
        "    # moment condition without instrument    \n",
        "    err = (c_forw1/c) - alpha * (c/c_lag1)\n",
        "\n",
        "    return -err\n",
        "\n",
        "# Rodando o GMM. Endogenos sao 0's, exógenos as variaveis que entram na eq de Euler e instrumentos sao as variaveis defasadas\n",
        "mod1   = gmm.NonlinearIVGMM(endog1, exog, instrument, moment_consumption1, k_moms=4, k_params=3)\n",
        "\n",
        "# Calculando uma matriz de pesos\n",
        "w0inv  = np.dot(instrument.T, instrument) / len(endog1)\n",
        "\n",
        "# Fitando o modelo\n",
        "res1   = mod1.fit([1.0, 0.3, 0], maxiter=1000, inv_weights = w0inv)\n",
        "\n",
        "\n",
        "# Print do modelo\n",
        "print(res1.summary(yname='Euler Eq', xname=['Aversão', 'Habito', 'Desconto']))"
      ],
      "execution_count": null,
      "outputs": [
        {
          "output_type": "stream",
          "text": [
            "Optimization terminated successfully.\n",
            "         Current function value: 0.000000\n",
            "         Iterations: 2\n",
            "         Function evaluations: 3\n",
            "         Gradient evaluations: 3\n",
            "Optimization terminated successfully.\n",
            "         Current function value: 0.004491\n",
            "         Iterations: 1\n",
            "         Function evaluations: 3\n",
            "         Gradient evaluations: 3\n",
            "Optimization terminated successfully.\n",
            "         Current function value: 0.004497\n",
            "         Iterations: 1\n",
            "         Function evaluations: 3\n",
            "         Gradient evaluations: 3\n",
            "Optimization terminated successfully.\n",
            "         Current function value: 0.004496\n",
            "         Iterations: 1\n",
            "         Function evaluations: 3\n",
            "         Gradient evaluations: 3\n"
          ],
          "name": "stdout"
        },
        {
          "output_type": "error",
          "ename": "LinAlgError",
          "evalue": "ignored",
          "traceback": [
            "\u001b[0;31m---------------------------------------------------------------------------\u001b[0m",
            "\u001b[0;31mLinAlgError\u001b[0m                               Traceback (most recent call last)",
            "\u001b[0;32m<ipython-input-69-6a3eed0c79ef>\u001b[0m in \u001b[0;36m<module>\u001b[0;34m()\u001b[0m\n\u001b[1;32m     16\u001b[0m \u001b[0;34m\u001b[0m\u001b[0m\n\u001b[1;32m     17\u001b[0m \u001b[0;31m# Fitando o modelo\u001b[0m\u001b[0;34m\u001b[0m\u001b[0;34m\u001b[0m\u001b[0;34m\u001b[0m\u001b[0m\n\u001b[0;32m---> 18\u001b[0;31m \u001b[0mres1\u001b[0m   \u001b[0;34m=\u001b[0m \u001b[0mmod1\u001b[0m\u001b[0;34m.\u001b[0m\u001b[0mfit\u001b[0m\u001b[0;34m(\u001b[0m\u001b[0;34m[\u001b[0m\u001b[0;36m1.0\u001b[0m\u001b[0;34m,\u001b[0m \u001b[0;36m0.3\u001b[0m\u001b[0;34m,\u001b[0m \u001b[0;36m0\u001b[0m\u001b[0;34m]\u001b[0m\u001b[0;34m,\u001b[0m \u001b[0mmaxiter\u001b[0m\u001b[0;34m=\u001b[0m\u001b[0;36m1000\u001b[0m\u001b[0;34m,\u001b[0m \u001b[0minv_weights\u001b[0m \u001b[0;34m=\u001b[0m \u001b[0mw0inv\u001b[0m\u001b[0;34m)\u001b[0m\u001b[0;34m\u001b[0m\u001b[0;34m\u001b[0m\u001b[0m\n\u001b[0m\u001b[1;32m     19\u001b[0m \u001b[0;34m\u001b[0m\u001b[0m\n\u001b[1;32m     20\u001b[0m \u001b[0;34m\u001b[0m\u001b[0m\n",
            "\u001b[0;32m/usr/local/lib/python3.7/dist-packages/statsmodels/sandbox/regression/gmm.py\u001b[0m in \u001b[0;36mfit\u001b[0;34m(self, start_params, maxiter, inv_weights, weights_method, wargs, has_optimal_weights, optim_method, optim_args)\u001b[0m\n\u001b[1;32m    704\u001b[0m                                         \u001b[0mwargs\u001b[0m \u001b[0;34m=\u001b[0m \u001b[0mwargs\u001b[0m\u001b[0;34m,\u001b[0m\u001b[0;34m\u001b[0m\u001b[0;34m\u001b[0m\u001b[0m\n\u001b[1;32m    705\u001b[0m                                         \u001b[0moptions_other\u001b[0m \u001b[0;34m=\u001b[0m \u001b[0moptions_other\u001b[0m\u001b[0;34m,\u001b[0m\u001b[0;34m\u001b[0m\u001b[0;34m\u001b[0m\u001b[0m\n\u001b[0;32m--> 706\u001b[0;31m                                         optim_args = optim_args)\n\u001b[0m\u001b[1;32m    707\u001b[0m \u001b[0;34m\u001b[0m\u001b[0m\n\u001b[1;32m    708\u001b[0m         \u001b[0mself\u001b[0m\u001b[0;34m.\u001b[0m\u001b[0mresults\u001b[0m \u001b[0;34m=\u001b[0m \u001b[0mresults\u001b[0m \u001b[0;31m# FIXME: remove, still keeping it temporarily\u001b[0m\u001b[0;34m\u001b[0m\u001b[0;34m\u001b[0m\u001b[0m\n",
            "\u001b[0;32m/usr/local/lib/python3.7/dist-packages/statsmodels/sandbox/regression/gmm.py\u001b[0m in \u001b[0;36m__init__\u001b[0;34m(self, *args, **kwds)\u001b[0m\n\u001b[1;32m   1133\u001b[0m         \u001b[0mself\u001b[0m\u001b[0;34m.\u001b[0m\u001b[0mdf_resid\u001b[0m \u001b[0;34m=\u001b[0m \u001b[0mnp\u001b[0m\u001b[0;34m.\u001b[0m\u001b[0minf\u001b[0m\u001b[0;34m\u001b[0m\u001b[0;34m\u001b[0m\u001b[0m\n\u001b[1;32m   1134\u001b[0m \u001b[0;34m\u001b[0m\u001b[0m\n\u001b[0;32m-> 1135\u001b[0;31m         \u001b[0mself\u001b[0m\u001b[0;34m.\u001b[0m\u001b[0mcov_params_default\u001b[0m \u001b[0;34m=\u001b[0m \u001b[0mself\u001b[0m\u001b[0;34m.\u001b[0m\u001b[0m_cov_params\u001b[0m\u001b[0;34m(\u001b[0m\u001b[0;34m)\u001b[0m\u001b[0;34m\u001b[0m\u001b[0;34m\u001b[0m\u001b[0m\n\u001b[0m\u001b[1;32m   1136\u001b[0m \u001b[0;34m\u001b[0m\u001b[0m\n\u001b[1;32m   1137\u001b[0m     \u001b[0;34m@\u001b[0m\u001b[0mcache_readonly\u001b[0m\u001b[0;34m\u001b[0m\u001b[0;34m\u001b[0m\u001b[0m\n",
            "\u001b[0;32m/usr/local/lib/python3.7/dist-packages/statsmodels/sandbox/regression/gmm.py\u001b[0m in \u001b[0;36m_cov_params\u001b[0;34m(self, **kwds)\u001b[0m\n\u001b[1;32m   1166\u001b[0m         \u001b[0mgradmoms\u001b[0m \u001b[0;34m=\u001b[0m \u001b[0mself\u001b[0m\u001b[0;34m.\u001b[0m\u001b[0mmodel\u001b[0m\u001b[0;34m.\u001b[0m\u001b[0mgradient_momcond\u001b[0m\u001b[0;34m(\u001b[0m\u001b[0mself\u001b[0m\u001b[0;34m.\u001b[0m\u001b[0mparams\u001b[0m\u001b[0;34m)\u001b[0m\u001b[0;34m\u001b[0m\u001b[0;34m\u001b[0m\u001b[0m\n\u001b[1;32m   1167\u001b[0m         \u001b[0mmoms\u001b[0m \u001b[0;34m=\u001b[0m \u001b[0mself\u001b[0m\u001b[0;34m.\u001b[0m\u001b[0mmodel\u001b[0m\u001b[0;34m.\u001b[0m\u001b[0mmomcond\u001b[0m\u001b[0;34m(\u001b[0m\u001b[0mself\u001b[0m\u001b[0;34m.\u001b[0m\u001b[0mparams\u001b[0m\u001b[0;34m)\u001b[0m\u001b[0;34m\u001b[0m\u001b[0;34m\u001b[0m\u001b[0m\n\u001b[0;32m-> 1168\u001b[0;31m         \u001b[0mcovparams\u001b[0m \u001b[0;34m=\u001b[0m \u001b[0mself\u001b[0m\u001b[0;34m.\u001b[0m\u001b[0mcalc_cov_params\u001b[0m\u001b[0;34m(\u001b[0m\u001b[0mmoms\u001b[0m\u001b[0;34m,\u001b[0m \u001b[0mgradmoms\u001b[0m\u001b[0;34m,\u001b[0m \u001b[0;34m**\u001b[0m\u001b[0mkwds\u001b[0m\u001b[0;34m)\u001b[0m\u001b[0;34m\u001b[0m\u001b[0;34m\u001b[0m\u001b[0m\n\u001b[0m\u001b[1;32m   1169\u001b[0m \u001b[0;34m\u001b[0m\u001b[0m\n\u001b[1;32m   1170\u001b[0m         \u001b[0;32mreturn\u001b[0m \u001b[0mcovparams\u001b[0m\u001b[0;34m\u001b[0m\u001b[0;34m\u001b[0m\u001b[0m\n",
            "\u001b[0;32m/usr/local/lib/python3.7/dist-packages/statsmodels/sandbox/regression/gmm.py\u001b[0m in \u001b[0;36mcalc_cov_params\u001b[0;34m(self, moms, gradmoms, weights, use_weights, has_optimal_weights, weights_method, wargs)\u001b[0m\n\u001b[1;32m   1214\u001b[0m             \u001b[0;31m# TOD0 make has_optimal_weights depend on convergence or iter >2\u001b[0m\u001b[0;34m\u001b[0m\u001b[0;34m\u001b[0m\u001b[0;34m\u001b[0m\u001b[0m\n\u001b[1;32m   1215\u001b[0m             cov = np.linalg.inv(np.dot(gradmoms.T,\n\u001b[0;32m-> 1216\u001b[0;31m                                     np.dot(np.linalg.inv(omegahat), gradmoms)))\n\u001b[0m\u001b[1;32m   1217\u001b[0m         \u001b[0;32melse\u001b[0m\u001b[0;34m:\u001b[0m\u001b[0;34m\u001b[0m\u001b[0;34m\u001b[0m\u001b[0m\n\u001b[1;32m   1218\u001b[0m             \u001b[0mgw\u001b[0m \u001b[0;34m=\u001b[0m \u001b[0mnp\u001b[0m\u001b[0;34m.\u001b[0m\u001b[0mdot\u001b[0m\u001b[0;34m(\u001b[0m\u001b[0mgradmoms\u001b[0m\u001b[0;34m.\u001b[0m\u001b[0mT\u001b[0m\u001b[0;34m,\u001b[0m \u001b[0mweights\u001b[0m\u001b[0;34m)\u001b[0m\u001b[0;34m\u001b[0m\u001b[0;34m\u001b[0m\u001b[0m\n",
            "\u001b[0;32m<__array_function__ internals>\u001b[0m in \u001b[0;36minv\u001b[0;34m(*args, **kwargs)\u001b[0m\n",
            "\u001b[0;32m/usr/local/lib/python3.7/dist-packages/numpy/linalg/linalg.py\u001b[0m in \u001b[0;36minv\u001b[0;34m(a)\u001b[0m\n\u001b[1;32m    544\u001b[0m     \u001b[0msignature\u001b[0m \u001b[0;34m=\u001b[0m \u001b[0;34m'D->D'\u001b[0m \u001b[0;32mif\u001b[0m \u001b[0misComplexType\u001b[0m\u001b[0;34m(\u001b[0m\u001b[0mt\u001b[0m\u001b[0;34m)\u001b[0m \u001b[0;32melse\u001b[0m \u001b[0;34m'd->d'\u001b[0m\u001b[0;34m\u001b[0m\u001b[0;34m\u001b[0m\u001b[0m\n\u001b[1;32m    545\u001b[0m     \u001b[0mextobj\u001b[0m \u001b[0;34m=\u001b[0m \u001b[0mget_linalg_error_extobj\u001b[0m\u001b[0;34m(\u001b[0m\u001b[0m_raise_linalgerror_singular\u001b[0m\u001b[0;34m)\u001b[0m\u001b[0;34m\u001b[0m\u001b[0;34m\u001b[0m\u001b[0m\n\u001b[0;32m--> 546\u001b[0;31m     \u001b[0mainv\u001b[0m \u001b[0;34m=\u001b[0m \u001b[0m_umath_linalg\u001b[0m\u001b[0;34m.\u001b[0m\u001b[0minv\u001b[0m\u001b[0;34m(\u001b[0m\u001b[0ma\u001b[0m\u001b[0;34m,\u001b[0m \u001b[0msignature\u001b[0m\u001b[0;34m=\u001b[0m\u001b[0msignature\u001b[0m\u001b[0;34m,\u001b[0m \u001b[0mextobj\u001b[0m\u001b[0;34m=\u001b[0m\u001b[0mextobj\u001b[0m\u001b[0;34m)\u001b[0m\u001b[0;34m\u001b[0m\u001b[0;34m\u001b[0m\u001b[0m\n\u001b[0m\u001b[1;32m    547\u001b[0m     \u001b[0;32mreturn\u001b[0m \u001b[0mwrap\u001b[0m\u001b[0;34m(\u001b[0m\u001b[0mainv\u001b[0m\u001b[0;34m.\u001b[0m\u001b[0mastype\u001b[0m\u001b[0;34m(\u001b[0m\u001b[0mresult_t\u001b[0m\u001b[0;34m,\u001b[0m \u001b[0mcopy\u001b[0m\u001b[0;34m=\u001b[0m\u001b[0;32mFalse\u001b[0m\u001b[0;34m)\u001b[0m\u001b[0;34m)\u001b[0m\u001b[0;34m\u001b[0m\u001b[0;34m\u001b[0m\u001b[0m\n\u001b[1;32m    548\u001b[0m \u001b[0;34m\u001b[0m\u001b[0m\n",
            "\u001b[0;32m/usr/local/lib/python3.7/dist-packages/numpy/linalg/linalg.py\u001b[0m in \u001b[0;36m_raise_linalgerror_singular\u001b[0;34m(err, flag)\u001b[0m\n\u001b[1;32m     86\u001b[0m \u001b[0;34m\u001b[0m\u001b[0m\n\u001b[1;32m     87\u001b[0m \u001b[0;32mdef\u001b[0m \u001b[0m_raise_linalgerror_singular\u001b[0m\u001b[0;34m(\u001b[0m\u001b[0merr\u001b[0m\u001b[0;34m,\u001b[0m \u001b[0mflag\u001b[0m\u001b[0;34m)\u001b[0m\u001b[0;34m:\u001b[0m\u001b[0;34m\u001b[0m\u001b[0;34m\u001b[0m\u001b[0m\n\u001b[0;32m---> 88\u001b[0;31m     \u001b[0;32mraise\u001b[0m \u001b[0mLinAlgError\u001b[0m\u001b[0;34m(\u001b[0m\u001b[0;34m\"Singular matrix\"\u001b[0m\u001b[0;34m)\u001b[0m\u001b[0;34m\u001b[0m\u001b[0;34m\u001b[0m\u001b[0m\n\u001b[0m\u001b[1;32m     89\u001b[0m \u001b[0;34m\u001b[0m\u001b[0m\n\u001b[1;32m     90\u001b[0m \u001b[0;32mdef\u001b[0m \u001b[0m_raise_linalgerror_nonposdef\u001b[0m\u001b[0;34m(\u001b[0m\u001b[0merr\u001b[0m\u001b[0;34m,\u001b[0m \u001b[0mflag\u001b[0m\u001b[0;34m)\u001b[0m\u001b[0;34m:\u001b[0m\u001b[0;34m\u001b[0m\u001b[0;34m\u001b[0m\u001b[0m\n",
            "\u001b[0;31mLinAlgError\u001b[0m: Singular matrix"
          ]
        }
      ]
    },
    {
      "cell_type": "markdown",
      "metadata": {
        "id": "KisYZSqXkofr"
      },
      "source": [
        "**3 (f)**\n",
        "\n",
        "\\begin{align*}\n",
        "    0 & = E_t \\Bigg[\\beta \\bigg ( \\frac{C_{t+1 } }{C_t }\\bigg)^{-\\gamma} \\bigg( \\frac{\\bar{C}_{t}}{\\bar{C}_{t-1}} \\bigg)^{\\alpha (\\gamma - 1)} R_{t+1} - 1\\Bigg] \\\\\n",
        "\\end{align*}"
      ]
    },
    {
      "cell_type": "code",
      "metadata": {
        "id": "KLf_ndG_64Xr"
      },
      "source": [
        "# Calculando as endógenas, as variáveis contemporaneas\n",
        "endog_df = dta_clean[['c_forw1', 'c', 'c_lag1', 'tbill_r_forw1']]\n",
        "exog_df  = endog_df\n",
        "\n",
        "# Os instrumentos serão as variáveis defasadas\n",
        "instrument_df = dta_clean[['sp500_r_lag2', 'tbill_r_lag2', 'c_growth_lag2', 'const']]\n",
        "\n",
        "# Transformando em array\n",
        "endog, exog, instrument  = map(np.asarray, [endog_df, exog_df, instrument_df])\n",
        "\n",
        "# Vetor de zeros\n",
        "endog1 = np.zeros(exog.shape[0])"
      ],
      "execution_count": null,
      "outputs": []
    },
    {
      "cell_type": "code",
      "metadata": {
        "id": "izLXVAjZkqqM",
        "colab": {
          "base_uri": "https://localhost:8080/"
        },
        "outputId": "52ac0d86-75ec-4cad-e1a7-f30ca8cf8cff"
      },
      "source": [
        "def moment_consumption1(params, exog):\n",
        "    gamma, alpha, beta = params\n",
        "\n",
        "    c_forw1, c, c_lag1, tbill_r_forw1 = exog.T  # unwrap iterable (ndarray)\n",
        "    \n",
        "    # moment condition without instrument    \n",
        "    err = beta * np.power(c_forw1/c, - gamma) * np.power(c/c_lag1, alpha * (gamma - 1)) * tbill_r_forw1 - 1\n",
        "\n",
        "    return -err\n",
        "\n",
        "# Rodando o GMM. Endogenos sao 0's, exógenos as variaveis que entram na eq de Euler e instrumentos sao as variaveis defasadas\n",
        "mod1   = gmm.NonlinearIVGMM(endog1, exog, instrument, moment_consumption1, k_moms=4, k_params=2)\n",
        "\n",
        "# Calculando uma matriz de pesos\n",
        "w0inv  = np.dot(instrument.T, instrument) / len(endog1)\n",
        "\n",
        "# Fitando o modelo\n",
        "res1   = mod1.fit([1.0, 0.3, 1], maxiter=1000, inv_weights = w0inv)\n",
        "\n",
        "\n",
        "# Print do modelo\n",
        "print(res1.summary(yname='Euler Eq', xname=['Aversão', 'Habito', 'Desconto']))"
      ],
      "execution_count": null,
      "outputs": [
        {
          "output_type": "stream",
          "text": [
            "Optimization terminated successfully.\n",
            "         Current function value: 0.000006\n",
            "         Iterations: 1\n",
            "         Function evaluations: 3\n",
            "         Gradient evaluations: 3\n",
            "Optimization terminated successfully.\n",
            "         Current function value: 0.000188\n",
            "         Iterations: 28\n",
            "         Function evaluations: 38\n",
            "         Gradient evaluations: 38\n",
            "Optimization terminated successfully.\n",
            "         Current function value: 0.000008\n",
            "         Iterations: 15\n",
            "         Function evaluations: 20\n",
            "         Gradient evaluations: 20\n",
            "Optimization terminated successfully.\n",
            "         Current function value: 0.000008\n",
            "         Iterations: 1\n",
            "         Function evaluations: 3\n",
            "         Gradient evaluations: 3\n",
            "                            NonlinearIVGMM Results                            \n",
            "==============================================================================\n",
            "Dep. Variable:               Euler Eq   Hansen J:                     0.001998\n",
            "Model:                 NonlinearIVGMM   Prob (Hansen J):                 0.964\n",
            "Method:                           GMM                                         \n",
            "Date:                Mon, 17 May 2021                                         \n",
            "Time:                        01:24:23                                         \n",
            "No. Observations:                 264                                         \n",
            "==============================================================================\n",
            "                 coef    std err          z      P>|z|      [0.025      0.975]\n",
            "------------------------------------------------------------------------------\n",
            "Aversão        5.6870      4.672      1.217      0.223      -3.469      14.843\n",
            "Habito         0.8623      0.588      1.467      0.142      -0.290       2.014\n",
            "Desconto       1.0040      0.018     55.451      0.000       0.969       1.040\n",
            "==============================================================================\n"
          ],
          "name": "stdout"
        }
      ]
    },
    {
      "cell_type": "markdown",
      "metadata": {
        "id": "Ti5DP1vAlVJj"
      },
      "source": [
        "**4 (b)**\n",
        "\n",
        "\\begin{align*}\n",
        "\\ln \\Delta C_{t+1}  & = \\frac{\\ln \\beta + 0.5 \\sigma^2}{\\gamma } + \\frac{1}{\\gamma }r_{t+1} - \\frac{\\alpha(\\gamma - 1)}{\\gamma }  \\sum_{i=0}^{P} \\phi_i L^i  \\Delta \\ln \\bar{C}_t +  \\varepsilon_{t+1}\n",
        "\\end{align*} "
      ]
    },
    {
      "cell_type": "code",
      "metadata": {
        "id": "fVe0UcBi7MHY"
      },
      "source": [
        "# Calculando as endógenas, as variáveis contemporaneas\n",
        "endog_df = dta_clean[['c_forw1', 'c', 'c_lag1', 'tbill_r_forw1']]\n",
        "exog_df  = endog_df\n",
        "\n",
        "# Os instrumentos serão as variáveis defasadas\n",
        "instrument_df = dta_clean[['sp500_r_lag1', 'tbill_r_lag1', 'c_growth_lag1', 'const']]\n",
        "\n",
        "# Transformando em array\n",
        "endog, exog, instrument  = map(np.asarray, [endog_df, exog_df, instrument_df])\n",
        "\n",
        "# Vetor de zeros\n",
        "endog1 = np.zeros(exog.shape[0])"
      ],
      "execution_count": null,
      "outputs": []
    },
    {
      "cell_type": "code",
      "metadata": {
        "id": "BzzcxcCPlYa2",
        "colab": {
          "base_uri": "https://localhost:8080/",
          "height": 748
        },
        "outputId": "8cddb5c7-17dc-4ad5-d457-4b1c522f3c51"
      },
      "source": [
        "def moment_consumption1(params, exog):\n",
        "    gamma, alpha, beta, mu = params\n",
        "\n",
        "    c_forw1, c, c_lag1, tbill_r_forw1 = exog.T  # unwrap iterable (ndarray)\n",
        "    \n",
        "    # moment condition without instrument    \n",
        "    err = mu + 1/gamma * np.log(tbill_r_forw1) - alpha*(gamma-1)/gamma * (1 * np.log(c / c_lag1) )\n",
        "\n",
        "    return -err\n",
        "\n",
        "# Rodando o GMM. Endogenos sao 0's, exógenos as variaveis que entram na eq de Euler e instrumentos sao as variaveis defasadas\n",
        "mod1   = gmm.NonlinearIVGMM(endog1, exog, instrument, moment_consumption1, k_moms=4, k_params=4)\n",
        "\n",
        "# Calculando uma matriz de pesos\n",
        "w0inv  = np.dot(instrument.T, instrument) / len(endog1)\n",
        "\n",
        "# Fitando o modelo\n",
        "res1   = mod1.fit([1.0, 0.3, 1, 2], maxiter=1000, inv_weights = w0inv)\n",
        "\n",
        "\n",
        "# Print do modelo\n",
        "print(res1.summary(yname='Euler Eq', xname=['Aversão', 'Habito', 'Desconto', 'Const']))"
      ],
      "execution_count": null,
      "outputs": [
        {
          "output_type": "stream",
          "text": [
            "Optimization terminated successfully.\n",
            "         Current function value: 0.000000\n",
            "         Iterations: 26\n",
            "         Function evaluations: 30\n",
            "         Gradient evaluations: 30\n",
            "Optimization terminated successfully.\n",
            "         Current function value: 0.000000\n",
            "         Iterations: 91\n",
            "         Function evaluations: 98\n",
            "         Gradient evaluations: 98\n",
            "Optimization terminated successfully.\n",
            "         Current function value: 0.000000\n",
            "         Iterations: 213\n",
            "         Function evaluations: 222\n",
            "         Gradient evaluations: 222\n",
            "Warning: Desired error not necessarily achieved due to precision loss.\n",
            "         Current function value: 0.045547\n",
            "         Iterations: 0\n",
            "         Function evaluations: 16\n",
            "         Gradient evaluations: 4\n"
          ],
          "name": "stdout"
        },
        {
          "output_type": "error",
          "ename": "LinAlgError",
          "evalue": "ignored",
          "traceback": [
            "\u001b[0;31m---------------------------------------------------------------------------\u001b[0m",
            "\u001b[0;31mLinAlgError\u001b[0m                               Traceback (most recent call last)",
            "\u001b[0;32m<ipython-input-61-18f0a2d62c9f>\u001b[0m in \u001b[0;36m<module>\u001b[0;34m()\u001b[0m\n\u001b[1;32m     16\u001b[0m \u001b[0;34m\u001b[0m\u001b[0m\n\u001b[1;32m     17\u001b[0m \u001b[0;31m# Fitando o modelo\u001b[0m\u001b[0;34m\u001b[0m\u001b[0;34m\u001b[0m\u001b[0;34m\u001b[0m\u001b[0m\n\u001b[0;32m---> 18\u001b[0;31m \u001b[0mres1\u001b[0m   \u001b[0;34m=\u001b[0m \u001b[0mmod1\u001b[0m\u001b[0;34m.\u001b[0m\u001b[0mfit\u001b[0m\u001b[0;34m(\u001b[0m\u001b[0;34m[\u001b[0m\u001b[0;36m1.0\u001b[0m\u001b[0;34m,\u001b[0m \u001b[0;36m0.3\u001b[0m\u001b[0;34m,\u001b[0m \u001b[0;36m1\u001b[0m\u001b[0;34m,\u001b[0m \u001b[0;36m2\u001b[0m\u001b[0;34m]\u001b[0m\u001b[0;34m,\u001b[0m \u001b[0mmaxiter\u001b[0m\u001b[0;34m=\u001b[0m\u001b[0;36m1000\u001b[0m\u001b[0;34m,\u001b[0m \u001b[0minv_weights\u001b[0m \u001b[0;34m=\u001b[0m \u001b[0mw0inv\u001b[0m\u001b[0;34m)\u001b[0m\u001b[0;34m\u001b[0m\u001b[0;34m\u001b[0m\u001b[0m\n\u001b[0m\u001b[1;32m     19\u001b[0m \u001b[0;34m\u001b[0m\u001b[0m\n\u001b[1;32m     20\u001b[0m \u001b[0;34m\u001b[0m\u001b[0m\n",
            "\u001b[0;32m/usr/local/lib/python3.7/dist-packages/statsmodels/sandbox/regression/gmm.py\u001b[0m in \u001b[0;36mfit\u001b[0;34m(self, start_params, maxiter, inv_weights, weights_method, wargs, has_optimal_weights, optim_method, optim_args)\u001b[0m\n\u001b[1;32m    704\u001b[0m                                         \u001b[0mwargs\u001b[0m \u001b[0;34m=\u001b[0m \u001b[0mwargs\u001b[0m\u001b[0;34m,\u001b[0m\u001b[0;34m\u001b[0m\u001b[0;34m\u001b[0m\u001b[0m\n\u001b[1;32m    705\u001b[0m                                         \u001b[0moptions_other\u001b[0m \u001b[0;34m=\u001b[0m \u001b[0moptions_other\u001b[0m\u001b[0;34m,\u001b[0m\u001b[0;34m\u001b[0m\u001b[0;34m\u001b[0m\u001b[0m\n\u001b[0;32m--> 706\u001b[0;31m                                         optim_args = optim_args)\n\u001b[0m\u001b[1;32m    707\u001b[0m \u001b[0;34m\u001b[0m\u001b[0m\n\u001b[1;32m    708\u001b[0m         \u001b[0mself\u001b[0m\u001b[0;34m.\u001b[0m\u001b[0mresults\u001b[0m \u001b[0;34m=\u001b[0m \u001b[0mresults\u001b[0m \u001b[0;31m# FIXME: remove, still keeping it temporarily\u001b[0m\u001b[0;34m\u001b[0m\u001b[0;34m\u001b[0m\u001b[0m\n",
            "\u001b[0;32m/usr/local/lib/python3.7/dist-packages/statsmodels/sandbox/regression/gmm.py\u001b[0m in \u001b[0;36m__init__\u001b[0;34m(self, *args, **kwds)\u001b[0m\n\u001b[1;32m   1133\u001b[0m         \u001b[0mself\u001b[0m\u001b[0;34m.\u001b[0m\u001b[0mdf_resid\u001b[0m \u001b[0;34m=\u001b[0m \u001b[0mnp\u001b[0m\u001b[0;34m.\u001b[0m\u001b[0minf\u001b[0m\u001b[0;34m\u001b[0m\u001b[0;34m\u001b[0m\u001b[0m\n\u001b[1;32m   1134\u001b[0m \u001b[0;34m\u001b[0m\u001b[0m\n\u001b[0;32m-> 1135\u001b[0;31m         \u001b[0mself\u001b[0m\u001b[0;34m.\u001b[0m\u001b[0mcov_params_default\u001b[0m \u001b[0;34m=\u001b[0m \u001b[0mself\u001b[0m\u001b[0;34m.\u001b[0m\u001b[0m_cov_params\u001b[0m\u001b[0;34m(\u001b[0m\u001b[0;34m)\u001b[0m\u001b[0;34m\u001b[0m\u001b[0;34m\u001b[0m\u001b[0m\n\u001b[0m\u001b[1;32m   1136\u001b[0m \u001b[0;34m\u001b[0m\u001b[0m\n\u001b[1;32m   1137\u001b[0m     \u001b[0;34m@\u001b[0m\u001b[0mcache_readonly\u001b[0m\u001b[0;34m\u001b[0m\u001b[0;34m\u001b[0m\u001b[0m\n",
            "\u001b[0;32m/usr/local/lib/python3.7/dist-packages/statsmodels/sandbox/regression/gmm.py\u001b[0m in \u001b[0;36m_cov_params\u001b[0;34m(self, **kwds)\u001b[0m\n\u001b[1;32m   1166\u001b[0m         \u001b[0mgradmoms\u001b[0m \u001b[0;34m=\u001b[0m \u001b[0mself\u001b[0m\u001b[0;34m.\u001b[0m\u001b[0mmodel\u001b[0m\u001b[0;34m.\u001b[0m\u001b[0mgradient_momcond\u001b[0m\u001b[0;34m(\u001b[0m\u001b[0mself\u001b[0m\u001b[0;34m.\u001b[0m\u001b[0mparams\u001b[0m\u001b[0;34m)\u001b[0m\u001b[0;34m\u001b[0m\u001b[0;34m\u001b[0m\u001b[0m\n\u001b[1;32m   1167\u001b[0m         \u001b[0mmoms\u001b[0m \u001b[0;34m=\u001b[0m \u001b[0mself\u001b[0m\u001b[0;34m.\u001b[0m\u001b[0mmodel\u001b[0m\u001b[0;34m.\u001b[0m\u001b[0mmomcond\u001b[0m\u001b[0;34m(\u001b[0m\u001b[0mself\u001b[0m\u001b[0;34m.\u001b[0m\u001b[0mparams\u001b[0m\u001b[0;34m)\u001b[0m\u001b[0;34m\u001b[0m\u001b[0;34m\u001b[0m\u001b[0m\n\u001b[0;32m-> 1168\u001b[0;31m         \u001b[0mcovparams\u001b[0m \u001b[0;34m=\u001b[0m \u001b[0mself\u001b[0m\u001b[0;34m.\u001b[0m\u001b[0mcalc_cov_params\u001b[0m\u001b[0;34m(\u001b[0m\u001b[0mmoms\u001b[0m\u001b[0;34m,\u001b[0m \u001b[0mgradmoms\u001b[0m\u001b[0;34m,\u001b[0m \u001b[0;34m**\u001b[0m\u001b[0mkwds\u001b[0m\u001b[0;34m)\u001b[0m\u001b[0;34m\u001b[0m\u001b[0;34m\u001b[0m\u001b[0m\n\u001b[0m\u001b[1;32m   1169\u001b[0m \u001b[0;34m\u001b[0m\u001b[0m\n\u001b[1;32m   1170\u001b[0m         \u001b[0;32mreturn\u001b[0m \u001b[0mcovparams\u001b[0m\u001b[0;34m\u001b[0m\u001b[0;34m\u001b[0m\u001b[0m\n",
            "\u001b[0;32m/usr/local/lib/python3.7/dist-packages/statsmodels/sandbox/regression/gmm.py\u001b[0m in \u001b[0;36mcalc_cov_params\u001b[0;34m(self, moms, gradmoms, weights, use_weights, has_optimal_weights, weights_method, wargs)\u001b[0m\n\u001b[1;32m   1214\u001b[0m             \u001b[0;31m# TOD0 make has_optimal_weights depend on convergence or iter >2\u001b[0m\u001b[0;34m\u001b[0m\u001b[0;34m\u001b[0m\u001b[0;34m\u001b[0m\u001b[0m\n\u001b[1;32m   1215\u001b[0m             cov = np.linalg.inv(np.dot(gradmoms.T,\n\u001b[0;32m-> 1216\u001b[0;31m                                     np.dot(np.linalg.inv(omegahat), gradmoms)))\n\u001b[0m\u001b[1;32m   1217\u001b[0m         \u001b[0;32melse\u001b[0m\u001b[0;34m:\u001b[0m\u001b[0;34m\u001b[0m\u001b[0;34m\u001b[0m\u001b[0m\n\u001b[1;32m   1218\u001b[0m             \u001b[0mgw\u001b[0m \u001b[0;34m=\u001b[0m \u001b[0mnp\u001b[0m\u001b[0;34m.\u001b[0m\u001b[0mdot\u001b[0m\u001b[0;34m(\u001b[0m\u001b[0mgradmoms\u001b[0m\u001b[0;34m.\u001b[0m\u001b[0mT\u001b[0m\u001b[0;34m,\u001b[0m \u001b[0mweights\u001b[0m\u001b[0;34m)\u001b[0m\u001b[0;34m\u001b[0m\u001b[0;34m\u001b[0m\u001b[0m\n",
            "\u001b[0;32m<__array_function__ internals>\u001b[0m in \u001b[0;36minv\u001b[0;34m(*args, **kwargs)\u001b[0m\n",
            "\u001b[0;32m/usr/local/lib/python3.7/dist-packages/numpy/linalg/linalg.py\u001b[0m in \u001b[0;36minv\u001b[0;34m(a)\u001b[0m\n\u001b[1;32m    544\u001b[0m     \u001b[0msignature\u001b[0m \u001b[0;34m=\u001b[0m \u001b[0;34m'D->D'\u001b[0m \u001b[0;32mif\u001b[0m \u001b[0misComplexType\u001b[0m\u001b[0;34m(\u001b[0m\u001b[0mt\u001b[0m\u001b[0;34m)\u001b[0m \u001b[0;32melse\u001b[0m \u001b[0;34m'd->d'\u001b[0m\u001b[0;34m\u001b[0m\u001b[0;34m\u001b[0m\u001b[0m\n\u001b[1;32m    545\u001b[0m     \u001b[0mextobj\u001b[0m \u001b[0;34m=\u001b[0m \u001b[0mget_linalg_error_extobj\u001b[0m\u001b[0;34m(\u001b[0m\u001b[0m_raise_linalgerror_singular\u001b[0m\u001b[0;34m)\u001b[0m\u001b[0;34m\u001b[0m\u001b[0;34m\u001b[0m\u001b[0m\n\u001b[0;32m--> 546\u001b[0;31m     \u001b[0mainv\u001b[0m \u001b[0;34m=\u001b[0m \u001b[0m_umath_linalg\u001b[0m\u001b[0;34m.\u001b[0m\u001b[0minv\u001b[0m\u001b[0;34m(\u001b[0m\u001b[0ma\u001b[0m\u001b[0;34m,\u001b[0m \u001b[0msignature\u001b[0m\u001b[0;34m=\u001b[0m\u001b[0msignature\u001b[0m\u001b[0;34m,\u001b[0m \u001b[0mextobj\u001b[0m\u001b[0;34m=\u001b[0m\u001b[0mextobj\u001b[0m\u001b[0;34m)\u001b[0m\u001b[0;34m\u001b[0m\u001b[0;34m\u001b[0m\u001b[0m\n\u001b[0m\u001b[1;32m    547\u001b[0m     \u001b[0;32mreturn\u001b[0m \u001b[0mwrap\u001b[0m\u001b[0;34m(\u001b[0m\u001b[0mainv\u001b[0m\u001b[0;34m.\u001b[0m\u001b[0mastype\u001b[0m\u001b[0;34m(\u001b[0m\u001b[0mresult_t\u001b[0m\u001b[0;34m,\u001b[0m \u001b[0mcopy\u001b[0m\u001b[0;34m=\u001b[0m\u001b[0;32mFalse\u001b[0m\u001b[0;34m)\u001b[0m\u001b[0;34m)\u001b[0m\u001b[0;34m\u001b[0m\u001b[0;34m\u001b[0m\u001b[0m\n\u001b[1;32m    548\u001b[0m \u001b[0;34m\u001b[0m\u001b[0m\n",
            "\u001b[0;32m/usr/local/lib/python3.7/dist-packages/numpy/linalg/linalg.py\u001b[0m in \u001b[0;36m_raise_linalgerror_singular\u001b[0;34m(err, flag)\u001b[0m\n\u001b[1;32m     86\u001b[0m \u001b[0;34m\u001b[0m\u001b[0m\n\u001b[1;32m     87\u001b[0m \u001b[0;32mdef\u001b[0m \u001b[0m_raise_linalgerror_singular\u001b[0m\u001b[0;34m(\u001b[0m\u001b[0merr\u001b[0m\u001b[0;34m,\u001b[0m \u001b[0mflag\u001b[0m\u001b[0;34m)\u001b[0m\u001b[0;34m:\u001b[0m\u001b[0;34m\u001b[0m\u001b[0;34m\u001b[0m\u001b[0m\n\u001b[0;32m---> 88\u001b[0;31m     \u001b[0;32mraise\u001b[0m \u001b[0mLinAlgError\u001b[0m\u001b[0;34m(\u001b[0m\u001b[0;34m\"Singular matrix\"\u001b[0m\u001b[0;34m)\u001b[0m\u001b[0;34m\u001b[0m\u001b[0;34m\u001b[0m\u001b[0m\n\u001b[0m\u001b[1;32m     89\u001b[0m \u001b[0;34m\u001b[0m\u001b[0m\n\u001b[1;32m     90\u001b[0m \u001b[0;32mdef\u001b[0m \u001b[0m_raise_linalgerror_nonposdef\u001b[0m\u001b[0;34m(\u001b[0m\u001b[0merr\u001b[0m\u001b[0;34m,\u001b[0m \u001b[0mflag\u001b[0m\u001b[0;34m)\u001b[0m\u001b[0;34m:\u001b[0m\u001b[0;34m\u001b[0m\u001b[0;34m\u001b[0m\u001b[0m\n",
            "\u001b[0;31mLinAlgError\u001b[0m: Singular matrix"
          ]
        }
      ]
    }
  ]
}