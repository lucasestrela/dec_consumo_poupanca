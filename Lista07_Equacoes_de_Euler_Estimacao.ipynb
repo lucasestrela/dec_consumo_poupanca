{
  "nbformat": 4,
  "nbformat_minor": 0,
  "metadata": {
    "colab": {
      "name": "Lista07_Equacoes_de_Euler_Estimacao.ipynb",
      "provenance": [],
      "collapsed_sections": [],
      "toc_visible": true,
      "authorship_tag": "ABX9TyPFkMYNEOLCCtpqVEBBfA64"
    },
    "kernelspec": {
      "name": "python3",
      "display_name": "Python 3"
    },
    "language_info": {
      "name": "python"
    }
  },
  "cells": [
    {
      "cell_type": "code",
      "metadata": {
        "id": "BIXk5u_9GdbB"
      },
      "source": [
        ""
      ],
      "execution_count": 2,
      "outputs": []
    },
    {
      "cell_type": "markdown",
      "metadata": {
        "id": "S0UYT4RuG6Eg"
      },
      "source": [
        "# Problema 1)\n",
        "\n",
        "Considere o consumidor do consumidor:\n",
        "\n",
        "$$\\max_{\\{C_t, \\omega_{1,t}, \\omega_{2,t}\\}} E_0 \\sum^{\\infty}_{t=0} \\beta^t u(C_t)$$\n",
        "\n",
        "\\begin{align*}\n",
        "sa. \n",
        "\\begin{cases} \n",
        "A_{t+1} = R^P_{t+1} (A_t + Y_t - C_t) \\\\\n",
        "R^P_{t+1} = \\omega_{1,t} R_{1, t+1} + \\omega_{2,t} R_{2, t+1} \\\\\n",
        "\\omega_{1,t} + \\omega_{2,t} = 1 \\\\\n",
        "A_0 \\text{ dado}\n",
        "\\end{cases} \n",
        "\\end{align*}\n",
        "\n",
        "\n",
        "em que $\\beta \\in (0,1)$ e $u(\\cdot)$ é a utilidade intratemporal $(u'(\\cdot) > 0$ e $u'' (\\cdot) < 0)$. O ativo 1 é livre de risco e tem retorno bruto $R_{1,t}$ no período $t$. O ativo 2 é arriscado e tem retorno bruto $R_{2,t}$ no período t. O consumidor escolhe a fração de seus recursos investir em cada ativo, $\\omega_{1, t}$ e $\\omega_{2, t}$, obtendo o retorno do seu portfolio $R^P_{t+1}$.\n"
      ]
    },
    {
      "cell_type": "markdown",
      "metadata": {
        "id": "qM1wWJM0Oq9m"
      },
      "source": [
        "\n",
        "\n",
        "## Item a) \n",
        "\n",
        "Assumindo solução interior, encontre a equação de Euler do consumidor\n",
        "\n",
        "---\n",
        "\n",
        "**Resposta**\n",
        "\n",
        "Como temos dois ativos neste modelo, podemos substituir a 3ª restrição na 2ª, eliminando uma variável no problema de otimização\n",
        "\n",
        "\n",
        "$$\\max_{\\{C_t, \\omega_{2,t}\\}} E_0 \\sum^{\\infty}_{t=0} \\beta^t u(C_t)$$\n",
        "\n",
        "\\begin{align*}\n",
        "sa. \n",
        "\\begin{cases} \n",
        "A_{t+1} = \\Big ((1 - \\omega_{2,t}) R_{1, t+1} + \\omega_{2,t} R_{2, t+1} \\Big) \\Big (A_t + Y_t - C_t \\Big) \\\\\n",
        "A_0 \\text{ dado}\n",
        "\\end{cases} \n",
        "\\end{align*}\n",
        "\n",
        "Podemos escrever a equação de Bellman deste problema como:\n",
        "\n",
        "\\begin{align*}\n",
        "    V(A_t) & = \\max_{\\{C_t, \\omega_{2,t}\\}} \\Big \\{ u(C_t) + \\beta E_t  \\big[ V(A_{t+1}) \\big] \\Big \\} \\\\\n",
        "    & = \\max_{\\{C_t, \\omega_{2,t}\\}} \\Bigg \\{ u(C_t) + \\beta E_t  \\bigg[ V \\Big(\\Big ((1 - \\omega_{2,t}) R_{1, t+1} + \\omega_{2,t} R_{2, t+1} \\Big) \\Big (A_t + Y_t - C_t \\Big)\\Big) \\bigg] \\Bigg \\} \\\\\n",
        "    & = \\max_{\\{C_t, \\omega_{2,t}\\}} \\Bigg \\{ u(C_t) + \\beta E_t  \\bigg[ V \\Big(\\Big (R_{1, t+1}- \\omega_{2,t} R_{1, t+1} + \\omega_{2,t} R_{2, t+1} \\Big) \\Big (A_t + Y_t - C_t \\Big)\\Big) \\bigg] \\Bigg \\} \\\\\n",
        "    & = \\max_{\\{C_t, \\omega_{2,t}\\}} \\Bigg \\{ u(C_t) + \\beta E_t  \\bigg[ V \\Big(\\Big (R_{1, t+1} - \\omega_{2,t} ( R_{1, t+1} - R_{2, t+1}) \\Big) \\Big (A_t + Y_t - C_t \\Big)\\Big) \\bigg] \\Bigg \\} \\\\\n",
        "\\end{align*}\n",
        "\n",
        "Calculando a CPO em relação ao consumo no periodo $t$:\n",
        "\n",
        "\\begin{align*}\n",
        "    0 & = u'(C_t) + \\beta E_t  \\bigg[(-1)\\Big (R_{1, t+1} - \\omega_{2,t} ( R_{1, t+1} - R_{2, t+1}) \\Big)  V' \\Big( A_{t+1}\\Big) \\bigg] \\\\\n",
        "    u'(C_t) & = \\beta E_t  \\bigg[\\Big ((1 - \\omega_{2,t}) R_{1, t+1} + \\omega_{2,t} R_{2, t+1} \\Big)  V' ( A_{t+1}) \\bigg] \\\\\n",
        "    u'(C_t) & = \\beta E_t  \\bigg[\\Big(R_{1, t+1} - \\omega_{2,t} (R_{1, t+1} - R_{2, t+1} ) \\Big) V' ( A_{t+1}) \\bigg] \\tag{1}\n",
        "\\end{align*}\n",
        "\n",
        "e calculando a CPO em relação a $\\omega_{2,t}$\n",
        "\n",
        "\\begin{align*}\n",
        "   0 & = \\beta E_t  \\bigg[ -( R_{1, t+1} - R_{2, t+1})  (A_t + Y_t - C_t ) V' (A_{t+1}) \\bigg] \\\\\n",
        "    & = E_t  \\bigg[ (A_t + Y_t - C_t ) V' (A_{t+1}) R_{1, t+1}\\bigg]-   E_t  \\bigg[(A_t + Y_t - C_t ) V' (A_{t+1}) R_{2, t+1} \\bigg]\n",
        "\\end{align*} \n",
        "\n",
        "\n",
        "reordenando:\n",
        "\n",
        "\\begin{align*}\n",
        "   E_t  \\bigg[ V' (A_{t+1}) R_{1, t+1}\\bigg] & = E_t  \\bigg[V' (A_{t+1}) R_{2, t+1})  \\bigg]  \\tag{2}\n",
        "\\end{align*}\n",
        "\n",
        "Utilizando o teorema Benveniste Scheinkman:\n",
        "\n",
        "\\begin{align*}\n",
        "      V'(A_t) & = \\beta  E_t  \\bigg[ \\Big (R_{1, t+1} - \\omega_{2,t} ( R_{1, t+1} - R_{2, t+1}) \\Big)  V' (A_{t+1}) \\bigg] \\tag{3}\n",
        "\\end{align*}\n",
        "\n",
        "Note que podemos igualar (3) e (2):\n",
        "\n",
        "\\begin{align*}\n",
        "      V'(A_t) & = u'(C_t) \\\\\n",
        "      V'(A_{t+1}) & = u'(C_{t+1})\n",
        "\\end{align*}\n",
        "\n",
        "E substituindo em (3)\n",
        "\n",
        "\\begin{align*}\n",
        "      u'(C_t) & = \\beta  E_t  \\bigg[ \\Big (R_{1, t+1} - \\omega_{2,t} ( R_{1, t+1} - R_{2, t+1}) \\Big)  u'(C_{t+1}) \\bigg] \\\\\n",
        "      & = \\beta  E_t  \\bigg[ (1 - \\omega_{2,t}) R_{1, t+1} u'(C_{t+1})  + \\omega_{2,t} R_{2, t+1} u'(C_{t+1})  \\bigg] \\\\\n",
        "      & =  (1 - \\omega_{2,t}) \\beta  E_t  \\bigg[R_{1, t+1} u'(C_{t+1}) \\bigg]   + \\omega_{2,t} \\beta  E_t  \\bigg[R_{2, t+1} u'(C_{t+1})  \\bigg] \\\\\n",
        "\\end{align*}\n",
        "\n",
        "utilizando (2)\n",
        "\n",
        "\\begin{align*}\n",
        "      u'(C_t) & =   \\beta E_t  \\bigg[R_{1, t+1} u'(C_{t+1})  \\bigg] \n",
        "\\end{align*}\n",
        "\n",
        "de modo semelhante obtemos:\n",
        "\n",
        "\\begin{align*}\n",
        "      u'(C_t) & =  \\beta  E_t  \\bigg[R_{2, t+1} u'(C_{t+1})  \\bigg] \n",
        "\\end{align*}\n",
        "\n"
      ]
    },
    {
      "cell_type": "markdown",
      "metadata": {
        "id": "01k_l8NEOsf5"
      },
      "source": [
        "\n",
        "## Item b) \n",
        "\n",
        "Utilizando a resposta obtida em **(a)**, apresente a equação de Euler do consumidor para a utilidade CRRA:\n",
        "\n",
        "\\begin{align*}\n",
        "u(C_t) = \\frac{C_t^{1-\\gamma}}{1-\\gamma}\n",
        "\\end{align*}\n",
        "\n",
        "em que $\\gamma > 0$. Mostre quais parâmetros estruturais podem ser identificados e estimados pelo Método Generalizado dos Momentos (GMM). Explique como esta estimação é feita.\n",
        "\n",
        "\n",
        "---\n",
        "\n",
        "Calculando a primeira derivada da função CRRA:\n",
        "\\begin{align*}\n",
        "u'(C_t) = C_t^{-\\gamma}\n",
        "\\end{align*}\n",
        "\n",
        "substituindo na equação de Euler obtida no problema anterior\n",
        "\n",
        "\\begin{align*}\n",
        "      C_t^{-\\gamma} & =  \\beta  E_t  \\bigg[R_{1, t+1} C_{t+1}^{-\\gamma}  \\bigg] \n",
        "\\end{align*}\n",
        "\n",
        "rearranjando, obtemos:\n",
        "\n",
        "\\begin{align*}\n",
        "     0 & =  E_t  \\bigg[\\beta R_{1, t+1} \\bigg(\\frac{C_{t+1}}{C_t} \\bigg)^{-\\gamma} - 1 \\bigg] \n",
        "\\end{align*}\n",
        "\n",
        "\n",
        "Isto é, possuimos 2 condições de momento para estimar 2 parâmetros estruturais ($\\beta$ e $\\gamma$). Na prática, podemos utilizar um vetor $Z_t$ ortogonal às condições de momento como instrumento. Pode ser utilizado como instrumento as proprias variáveis da equação de Euler defasadas."
      ]
    },
    {
      "cell_type": "markdown",
      "metadata": {
        "id": "wRv9EMQROuNq"
      },
      "source": [
        "\n",
        "## Item c) \n",
        "\n",
        "Assumindo que $\\Big(\\frac{C_{t+1}}{C_t}, R_{1,t+1}, R_{2,t+1}\\Big)$ tem distribuição conjunta log-Normal e homocedástica, apresente a versão loglinear da equação de Euler obtida em **(a)**. Mostre quais parâmetros estruturais podem ser identificados e estimados pelo Método Generalizado dos Momentos (GMM). Explique como esta estimação é feita.\n",
        "\n",
        "\n",
        "---\n",
        "\n",
        "**Resposta**\n",
        "\n",
        "Supondo distribuição lognormal, denote $X_{j,t+1} = \\beta R_{j, t+1} \\Big(\\frac{C_{t+1}}{C_t} \\Big)^{-\\gamma} - 1$, então:\n",
        "\n",
        "$$x = \\ln X = \\ln \\bigg[\\beta  R_{j, t+1} \\Big(\\frac{C_{t+1}}{C_t} \\Big)^{-\\gamma} - 1 \\bigg] = \\ln \\beta + r_{j, t+1} - \\gamma \\Delta C_{t+1},$$\n",
        "\n",
        "onde $r_{j,t+1} \\equiv \\ln R_{j, t+1}$ e $\\Delta C_{t+1} \\equiv \\ln C_{t+1} - \\ln C_t$. Assim,\n",
        "\n",
        "\n",
        "\n",
        "\n",
        "\\begin{align*}\n",
        "    E_t[X] & = \\exp \\{E_t(x) + 1/2 Var_t (x)\\}\\\\\n",
        "    E_t \\bigg[\\beta R_{j, t+1} \\Big(\\frac{C_{t+1}}{C_t} \\Big)^{-\\gamma} - 1\\bigg] & = \\exp \\bigg\\{E_t(\\ln \\beta + r_{j, t+1} - \\gamma \\Delta C_t) + 1/2 Var_t (\\ln \\beta + r_{j, t+1} - \\gamma \\Delta C_{t+1})\\bigg\\}\\\\\n",
        "    1 & = \\exp \\bigg\\{\\ln \\beta  + E_t(r_{j, t+1} - \\gamma \\Delta C_t) + 1/2 Var_t ( r_{j, t+1} - \\gamma \\Delta C_{t+1})\\bigg\\}\\\\\n",
        "    1 & = \\exp \\bigg\\{\\ln \\beta  + E_t(r_{j, t+1} - \\gamma \\Delta C_{t+1}) + 1/2 \\sigma^2_{j,t} \\bigg\\}\\\\\n",
        "    0 & = \\ln \\beta  + E_t(r_{j, t+1}) - \\gamma  E_t(\\Delta C_{t+1}) + \\frac{1}{2} \\sigma^2_{j,t}\n",
        "\\end{align*}\n",
        "\n",
        "onde $Var_t ( r_{j, t+1} - \\gamma \\Delta C_t) \\equiv \\sigma^2_{j,t}$. Note que \n",
        "\n",
        "$$\\Delta C_{t+1} = E_t[\\Delta C_{t+1}] + \\varepsilon^c_{t+1}$$\n",
        "$$r_{j, t+1} = E_t[r_{j, t+1}] + \\varepsilon^r_{t+1}$$\n",
        "\n",
        "desde que $E[\\varepsilon^c_{t+1}] =0$ e $E[\\varepsilon^r_{t+1}] = 0$. Logo, utilizar na equação acima para encontrar:\n",
        "\n",
        "\n",
        "\\begin{align*}\n",
        "    0 & = \\ln \\beta  + (r_{t+1} - \\varepsilon^r_{j, t+1} ) - \\gamma  (\\Delta C_{t+1} -  \\varepsilon^c_{t+1}) + \\frac{1}{2} \\sigma^2_{j,t} \\\\\n",
        "    \\gamma \\Delta C_{t+1} & = \\ln \\beta  + (r_{j, t+1} - \\varepsilon^r_{t+1} ) -  \\gamma \\varepsilon^c_{t+1} + \\frac{1}{2} \\sigma^2_{j,t} \\\\\n",
        "    \\Delta C_{t+1} & = \\frac{1}{\\gamma}\\ln \\beta  + \\frac{1}{\\gamma} r_{j, t+1} - \\frac{1}{\\gamma} \\varepsilon^r_{t+1}  -  \\varepsilon^c_{t+1} + \\frac{1}{2 \\gamma} \\sigma^2_{j,t}\\\\\n",
        "    \\Delta C_{t+1} & = \\frac{1}{\\gamma}\\ln \\beta  + \\frac{1}{\\gamma} r_{j, t+1} + \\frac{1}{2 \\gamma} \\sigma^2_{j,t} + (  \\varepsilon^c_{t+1} - \\frac{1}{\\gamma} \\varepsilon^r_{t+1} )\\\\\n",
        "    \\Delta C_{t+1} & = \\frac{1}{\\gamma}\\ln \\beta  + \\frac{1}{2 \\gamma} \\sigma^2_{j,t}  + \\frac{1}{\\gamma} r_{j, t+1}+ \\varepsilon_{t+1} \\\\\n",
        "    \\Delta C_{t+1} & = \\mu + \\frac{1}{\\gamma} r_{j, t+1}+ \\varepsilon_{t+1},\n",
        "\\end{align*}\n",
        "\n",
        "onde $\\mu \\equiv \\frac{1}{\\gamma}\\ln \\beta  + \\frac{1}{2 \\gamma} \\sigma^2_{j,t} $ e $\\varepsilon_{t+1} \\equiv (  \\varepsilon^c_{t+1} - \\frac{1}{\\gamma} \\varepsilon^r_{t+1} )$.\n"
      ]
    },
    {
      "cell_type": "markdown",
      "metadata": {
        "id": "LQcm0RMPOwlX"
      },
      "source": [
        "\n",
        "# Problema 2) \n",
        "\n",
        "Considere o problema do consumidor\n",
        "\n",
        "$$\\max_{\\{C_t, \\omega_{1,t}, ..., \\omega_{J,t}\\}} E_0 \\sum^{\\infty}_{t=0} \\beta^t u(C_t)$$\n",
        "\n",
        "\\begin{align*}\n",
        "sa. \n",
        "\\begin{cases} \n",
        "A_{t+1} = \\Big[ \\sum_{j=1}^{J} \\omega_{j, t} R_{j, t+1} \\Big] (A_t + Y_t - C_t) \\\\\n",
        " \\sum_{j=1}^{J} \\omega_{j, t}  = 1 \\\\\n",
        "A_0 \\text{ dado}\n",
        "\\end{cases} \n",
        "\\end{align*}\n",
        "\n",
        "em que $\\beta \\in (0,1)$ e $u(\\cdot)$ é a utilidade intratemporal $(u'(\\cdot) > 0$ e $u'' (\\cdot) < 0)$. Existem J ativos, e o j-ésimo ativo tem retorno bruto $R_{j,t+1}$.\n"
      ]
    },
    {
      "cell_type": "markdown",
      "metadata": {
        "id": "lk48H6lSOymM"
      },
      "source": [
        "\n",
        "## Item a)\n",
        "\n",
        "Encontre a equação de Euler do consumidor, assumindo uma solução interior.\n",
        "\n",
        "---\n",
        "\n",
        "**Resposta**\n",
        "\n",
        "\n",
        "Note que podemos reescrever a 2ª restrição como\n",
        "\n",
        "\\begin{align*}\n",
        "    \\omega_{J,t} = 1 - \\sum^{J-1}_{j=1} \\omega_{j,t}\n",
        "\\end{align*}\n",
        "\n",
        "e da primeira restrição:\n",
        "\n",
        "\\begin{align*}\n",
        "      A_{t+1} & = \\Big[ \\sum_{j=1}^{J-1} \\omega_{j, t} R_{j, t+1} +  \\omega_{J, t} R_{J, t+1}  \\Big] (A_t + Y_t - C_t) \\\\\n",
        "      & = \\Big[ \\sum_{j=1}^{J-1} \\omega_{j, t} R_{j, t+1} +  (1 - \\sum^{J-1}_{j=1} \\omega_{j,t}) R_{J, t+1}  \\Big] (A_t + Y_t - C_t) \\\\\n",
        "      & = \\Big[ \\sum_{j=1}^{J-1} \\omega_{j, t} R_{j, t+1} +  R_{J, t+1}  - \\sum^{J-1}_{j=1} \\omega_{j,t} R_{J, t+1}  \\Big] (A_t + Y_t - C_t) \\\\\n",
        "      & = \\Bigg[ \\sum_{j=1}^{J-1} \\omega_{j, t} (R_{j, t+1} - R_{J, t+1}) +  R_{J, t+1} \\Bigg] (A_t + Y_t - C_t) \\\\\n",
        "\\end{align*}\n",
        "\n",
        "\n",
        "Assim, conseguimos eliminar uma restrição e escrevemos a equação de Bellman como:\n",
        "\n",
        "\\begin{align*}\n",
        "    V(A_t) & = \\max_{\\{C_t, \\omega_{1,t}, ..., \\omega_{J-1,t}\\}} \\Big \\{ u(C_t) + \\beta E_t  \\big[ V(A_{t+1}) \\big] \\Big \\}\n",
        "\\end{align*}\n",
        "\n",
        "Calculando a CPO em $C_t$:\n",
        "\\begin{align*}\n",
        "    0 & = u'(C_t) + \\beta E_t  \\Bigg[ V(A_{t+1}) (-1)\\bigg[ \\sum_{j=1}^{J-1} \\omega_{j, t} (R_{j, t+1} - R_{J, t+1}) +  R_{J, t+1} \\bigg] \\Bigg] \\\\\n",
        "    u'(C_t) & = \\beta E_t  \\Bigg[ V(A_{t+1}) \\bigg[ \\sum_{j=1}^{J-1} \\omega_{j, t} (R_{j, t+1} - R_{J, t+1}) +  R_{J, t+1} \\bigg] \\Bigg]  \\tag{2.1}\n",
        "\\end{align*}\n",
        "\n",
        "\n",
        "Calculando a CPO em $\\omega_{j, t}$ para $j \\in \\{1,..., J-1\\}$:\n",
        "\n",
        "\\begin{align*}\n",
        "   0 & = \\beta E_t \\big[ (R_{j, t+1} - R_{J, t+1}) (A_t + Y_t - C_t)V'(A_{t+1}) \\big] \\\\\n",
        "   & = E_t \\big[ R_{j, t+1} V'(A_{t+1})\\big] - E_t \\big[R_{J, t+1} V'(A_{t+1}) \\big] \\\\\n",
        "   E_t \\big[ R_{j, t+1} V'(A_{t+1})\\big] & = E_t \\big[R_{J, t+1} V'(A_{t+1}) \\big]  \\tag{2.2}\n",
        "\\end{align*}\n",
        "\n",
        "Utilizando o teorema de Benveniste Scheinkman:\n",
        "\n",
        "\\begin{align*}\n",
        "    V'(A_t) & = \\beta E_t  \\Bigg[ \\bigg[ \\sum_{j=1}^{J-1} \\omega_{j, t} (R_{j, t+1} - R_{J, t+1}) +  R_{J, t+1} \\bigg]  V'(A_{t+1}) \\Bigg]   \\tag{2.3}\n",
        "\\end{align*}\n",
        "\n",
        "Note que (2.1) e (2.3) possuem o mesmo RHS, então igualando encontramos\n",
        "\n",
        "$$u'(C_t) = V'(A_t), \\qquad \\forall t$$\n",
        "\n",
        "Utilizando (2.1), encontramos\n",
        "\n",
        "\\begin{align*}\n",
        "    u'(C_t) & = \\beta E_t  \\Bigg[ u'(C_{t+1}) \\bigg[ \\sum_{j=1}^{J-1} \\omega_{j, t} (R_{j, t+1} - R_{J, t+1}) +  R_{J, t+1} \\bigg] \\Bigg] \\\\\n",
        "    & = \\beta E_t  \\bigg[ u'(C_{t+1}) \\sum_{j=1}^{J} \\omega_{j, t} R_{j, t+1} \\bigg]  \\tag{2.4}\n",
        "\\end{align*}\n",
        "\n",
        "De (2.2):\n",
        "\\begin{align*}\n",
        "   E_t \\big[ R_{j, t+1} u'(C_{t+1}) \\big] & = E_t \\big[R_{J, t+1} u'(C_{t+1}) \\big] \n",
        "\\end{align*}\n",
        "\n",
        "Utilizando esta última equação em (2.4), chegamos a equação de Euler:\n",
        "\n",
        "\\begin{align*}\n",
        "    u'(C_t) & = \\beta E_t  \\bigg[ u'(C_{t+1}) R_{J, t+1}  \\sum_{j=1}^{J} \\omega_{j, t} \\bigg] \\\\\n",
        "    & = \\beta E_t  \\bigg[ u'(C_{t+1}) R_{j, t+1} \\bigg] \n",
        "\\end{align*}\n"
      ]
    },
    {
      "cell_type": "markdown",
      "metadata": {
        "id": "qhDZjtTcOz0v"
      },
      "source": [
        "\n",
        "## Item b)\n",
        "\n",
        "Utilizando a resposta obtida em **(a)**, apresente a equação de Euler do consumidor para a utilidade CRRA\n",
        "\n",
        "\n",
        "\\begin{align*}\n",
        "u(C_t) = \\frac{C_t^{1-\\gamma}}{1-\\gamma}\n",
        "\\end{align*}\n",
        "\n",
        "em que $\\gamma > 0$. Suponha que esteja disponível o retorno agregado $R_{t+1} = \\sum^{J}_{j=1} \\omega_{j,t} R_{j,t+1}$. Em outras palavras, suponha que os pesos $\\omega_{j,t}$ estejam disponíveis para todo $t$ e $j$. Faça a agregação da equação de Euler com respeito ao retorno dos ativos para estimá-la somente com base no retorno agregado $R_{t+1}$. Feito isto, mostre quais parâmetros estruturais podem ser identificados e estimados pelo Método Generalizado dos Momentos (GMM). Explique como esta estimação é feita\n",
        "\n",
        "---\n",
        "\n",
        "**Resposta**\n",
        "\n",
        "Substituindo a derivada parcial da função utilidade suposta na equação de Euler do item anterior:\n",
        "\n",
        "\n",
        "\\begin{align*}\n",
        "    C_{t}^{-\\gamma} & = \\beta E_t  \\bigg[ C_{t+1}^{-\\gamma} R_{j, t+1} \\bigg] \\\\\n",
        "    0 & =  E_t  \\bigg[ \\beta \\bigg(\\frac{C_{t+1}}{C_{t}^{-\\gamma}} \\bigg)^{-\\gamma} R_{j, t+1} - 1 \\bigg] \n",
        "\\end{align*}\n",
        "\n",
        "Seja $R_{t+1}$ o retorno de uma carteira que seja composta por diferentes ativos. Defina essa carteira como um novo ativo neste mercado, um ativo $J_0$. Como a equação de Euler encontrada anteriormente vale para todo $j$, em particular ela deve valer para $J_0$, caso contrário, o indivíduo não estaria em uma situação otimizadora.\n",
        "\n",
        "Note que possuímos 2 parâmetros a serem estimados nesta equação $\\beta$ e $\\gamma$, no entanto, possuímos apenas uma condição de momento. Para estimar, podemos definir um vetor $Z_t$ ortogonal à condição de momento como instrumento e realizar a estimação. De fato, é comum utilizarmos as variáveis defasadas da diferença do consumo, do retorno dos ativos, da inflação.\n",
        "\n",
        "\n"
      ]
    },
    {
      "cell_type": "markdown",
      "metadata": {
        "id": "SvDYds8TPbnJ"
      },
      "source": [
        "## Item c)\n",
        "\n",
        "Assumindo que $\\Big(\\frac{C_{t+1}}{C_t}, R_{1,t+1},..., R_{J,t+1}\\Big)$ tem distribuição conjunta log-Normal e homocedástica, apresente a versão log-linear da equação de Euler obtida em (a). Faça a agregação da equação de Euler com respeito ao retorno dos ativos para estimá-la somente com base no retorno agregado $R_{t+1}$. Feito isto, mostre quais parâmetros estruturais podem ser identificados e estimados pelo Método Generalizado dos Momentos (GMM). Explique como esta estimação é feita\n",
        "\n",
        "\n",
        "\n",
        "---\n",
        "\n",
        "**Resposta**\n",
        "\n",
        "Supondo distribuição lognormal, denote $X_{j,t+1} = \\beta R_{t+1} \\Big(\\frac{C_{t+1}}{C_t} \\Big)^{-\\gamma}$, então:\n",
        "\n",
        "$$x_{j, t+1} = \\ln X_{j, t+1} = \\ln \\bigg[\\beta  R_{j, t+1} \\Big(\\frac{C_{t+1}}{C_t} \\Big)^{-\\gamma} \\bigg] = \\ln \\beta + r_{t+1} - \\gamma \\Delta C_{t+1},$$\n",
        "\n",
        "onde $r_{j,t+1} \\equiv \\ln R_{j, t+1}$ e $\\Delta C_{t+1} \\equiv \\ln C_{t+1} - \\ln C_t$. Assim,\n",
        "\n",
        "\n",
        "\n",
        "\n",
        "\\begin{align*}\n",
        "    E_t[X] & = \\exp \\{E_t(x) + 1/2 Var_t (x)\\}\\\\\n",
        "    E_t \\bigg[\\beta R_{t+1} \\Big(\\frac{C_{t+1}}{C_t} \\Big)^{-\\gamma} \\bigg] & = \\exp \\bigg\\{E_t(\\ln \\beta + r_{t+1} - \\gamma \\Delta C_t) + 1/2 Var_t (\\ln \\beta + r_{t+1} - \\gamma \\Delta C_{t+1})\\bigg\\}\\\\\n",
        "    1 & = \\exp \\bigg\\{\\ln \\beta  + E_t(r_{t+1} - \\gamma \\Delta C_t) + 1/2 Var_t ( r_{t+1} - \\gamma \\Delta C_{t+1})\\bigg\\}\\\\\n",
        "    1 & = \\exp \\bigg\\{\\ln \\beta  + E_t(r_{t+1} - \\gamma \\Delta C_{t+1}) + 1/2 \\sigma^2_{j,t} \\bigg\\}\\\\\n",
        "    0 & = \\ln \\beta  + E_t(r_{t+1}) - \\gamma  E_t(\\Delta C_{t+1}) + \\frac{1}{2} \\sigma^2_{j,t}\n",
        "\\end{align*}\n",
        "\n",
        "onde $Var_t ( r_{j, t+1} - \\gamma \\Delta C_t) \\equiv \\sigma^2_{j,t}$. Note que \n",
        "\n",
        "$$\\Delta C_{t+1} = E_t[\\Delta C_{t+1}] + \\varepsilon^c_{t+1}$$\n",
        "$$r_{t+1} = E_t[r_{t+1}] + \\varepsilon^r_{t+1}$$\n",
        "\n",
        "desde que $E[\\varepsilon^c_{t+1}] =0$ e $E[\\varepsilon^r_{t+1}] = 0$. Logo, utilizar na equação acima para encontrar:\n",
        "\n",
        "\n",
        "\\begin{align*}\n",
        "    0 & = \\ln \\beta  + (r_{t+1} - \\varepsilon^r_{j, t+1} ) - \\gamma  (\\Delta C_{t+1} -  \\varepsilon^c_{t+1}) + \\frac{1}{2} \\sigma^2_{j,t} \\\\\n",
        "    \\gamma \\Delta C_{t+1} & = \\ln \\beta  + (r_{t+1} - \\varepsilon^r_{t+1} ) -  \\gamma \\varepsilon^c_{t+1} + \\frac{1}{2} \\sigma^2_{j,t} \\\\\n",
        "    \\Delta C_{t+1} & = \\frac{1}{\\gamma}\\ln \\beta  + \\frac{1}{\\gamma} r_{t+1} - \\frac{1}{\\gamma} \\varepsilon^r_{t+1}  -  \\varepsilon^c_{t+1} + \\frac{1}{2 \\gamma} \\sigma^2_{j,t}\\\\\n",
        "    \\Delta C_{t+1} & = \\frac{1}{\\gamma}\\ln \\beta  + \\frac{1}{\\gamma} r_{t+1} + \\frac{1}{2 \\gamma} \\sigma^2_{j,t} + (  \\varepsilon^c_{t+1} - \\frac{1}{\\gamma} \\varepsilon^r_{t+1} )\\\\\n",
        "    \\Delta C_{t+1} & = \\frac{1}{\\gamma}\\ln \\beta  + \\frac{1}{2 \\gamma} \\sigma^2_{j,t}  + \\frac{1}{\\gamma} r_{t+1}+ \\varepsilon_{t+1} \\\\\n",
        "    \\Delta C_{t+1} & = \\mu + \\frac{1}{\\gamma} r_{t+1}+ \\varepsilon_{t+1},\n",
        "\\end{align*}\n",
        "\n",
        "onde $\\mu \\equiv \\frac{1}{\\gamma}\\ln \\beta  + \\frac{1}{2 \\gamma} \\sigma^2_{j,t} $ e $\\varepsilon_{t+1} \\equiv (  \\varepsilon^c_{t+1} - \\frac{1}{\\gamma} \\varepsilon^r_{t+1} )$."
      ]
    },
    {
      "cell_type": "markdown",
      "metadata": {
        "id": "c-b2ZwO4O2ov"
      },
      "source": [
        "\n",
        "# Problema 3) \n",
        "\n",
        "Considere a seguinte equação de Euler do consumidor:\n",
        "\n",
        "$$E_{t-1} \\bigg[ \\bigg(\\frac{C_t}{C_{t-1}} \\bigg)^{-\\gamma} (1+\\tilde{r}_{it})  \\bigg] = \\frac{1}{\\beta}$$\n",
        "\n",
        "Esta equação é obtida quando se assume a utilidade CRRA. Além disso, $1 + \\tilde{r}_{it} = R_{it}$, isto é, o retorno bruto do i-ésimo ativo. Seja $g_{t+1}$ a taxa de crescimento do consumo de $t$ para $t + 1$, dada por:\n",
        "\n",
        "$$g_t = \\frac{C_t}{C_{t-1}} - 1$$\n",
        "\n",
        "Assim, a equação de Euler do consumidor pode ser escrita como:\n",
        "\n",
        "$$E_{t-1} \\Big[ (1+\\tilde{r}_{it})(1+g_t)^{-\\gamma} \\Big] = \\frac{1}{\\beta}$$\n"
      ]
    },
    {
      "cell_type": "markdown",
      "metadata": {
        "id": "jz0RpgVmO3ss"
      },
      "source": [
        "\n",
        "## Item a) \n",
        "\n",
        "Faça a expansão de Taylor de primeira ordem de $f(\\tilde{r}_i,g) = (1+\\tilde{r}_{it})(1+g_t)^{-\\gamma}$ ao redor do ponto $r^* = g^* = 0$\n",
        "\n",
        "---\n",
        "\n",
        "**Resposta**\n",
        "\n",
        "Calculando as derivadas parciais avaliadas em $(r^*, g^*)$:\n",
        "\n",
        "\\begin{align*}\n",
        "      f_1 (r^*, g^*) & = (1+g^*)^{-\\gamma} = 1 \\\\\n",
        "      f_2 (r^*, g^*) & = -\\gamma(1+r^*)(1+g^*)^{-(\\gamma+1)} = -\\gamma\n",
        "\\end{align*}\n",
        "\n",
        "A expansão de Taylor de primeira ordem para uma função $f(\\cdot, \\cdot)$ é dada por\n",
        "\n",
        "\\begin{align*}\n",
        "      f(\\tilde{r}_i,g) & = f(r^*, g^*) + f_1 (r^*, g^*)(\\tilde{r}_i - r^*) + f_2 (r^*, g^*)(g - g^*) \\\\\n",
        "      & = 1 + \\tilde{r}_i  - \\gamma g\n",
        "\\end{align*}"
      ]
    },
    {
      "cell_type": "markdown",
      "metadata": {
        "id": "5ob9Q_2bO47k"
      },
      "source": [
        "\n",
        "## Item b)\n",
        "\n",
        "Use o resultado obtido em (a) para encontrar uma expressão para a equação de Euler na qual a taxa de crescimento\n",
        "do consumo é uma função do retorno dos ativos.\n",
        "\n",
        "---\n",
        "\n",
        "**Resposta**\n",
        "\n",
        "Seja a equação de Euler\n",
        " \n",
        "\\begin{align*}\n",
        "E_{t-1} \\Big[ f(\\tilde{r}_i, g_t) \\Big] = \\frac{1}{\\beta}\n",
        "\\end{align*}\n",
        "\n",
        "Note que ao fazer a expansão de Taylor de primeira ordem, calculamos uma aproximação linear da função $f(\\cdot, \\cdot)$, portanto:\n",
        "\n",
        "\\begin{align*}\n",
        "E_{t-1} \\Big[1 + \\tilde{r}_{it}  - \\gamma g_t \\Big] &  = \\frac{1}{\\beta} \\\\\n",
        "1 + E_{t-1} \\Big[\\tilde{r}_{it} \\Big]  -  \\gamma E_{t-1} \\Big[g_t \\Big] &  = \\frac{1}{\\beta} \n",
        "\\end{align*}\n",
        "\n",
        "reordenando\n",
        "\n",
        "$$1 -  \\frac{1}{\\beta \\gamma }  + E_{t-1} \\Big[\\tilde{r}_{it} \\Big]  \\frac{1}{\\gamma} =E_{t-1} \\Big[g_t \\Big] \\tag{3.1} $$\n",
        "\n",
        "\n",
        "Note que podemos escrever \n",
        "\n",
        "$$\\tilde{r}_{it} = E_{t-1}[\\tilde{r}_{it}] + \\varepsilon^r_{t}$$\n",
        "$$g_{t} = E_{t-1}[g_{t}] + \\varepsilon^g_{t}$$\n",
        "\n",
        "Portanto, \n",
        "\\begin{align*}\n",
        "g_{t} & =  1 -  \\frac{1}{\\beta \\gamma }  + (\\tilde{r}_{it} - \\varepsilon^r_{t}) \\frac{1}{\\gamma} + \\varepsilon^g_{t} \\\\\n",
        "& = \\mu  + \\tilde{r}_{it}\\frac{1}{\\gamma} +  \\varepsilon^g_{t} - \\varepsilon^r_{t} \\frac{1}{\\gamma} \\\\\n",
        "& = \\mu  + \\tilde{r}_{it}\\frac{1}{\\gamma} +  \\varepsilon_{t},\n",
        "\\end{align*}\n",
        "\n",
        "\n",
        "onde $\\mu = 1 -  \\frac{1}{\\beta \\gamma }$ e $\\varepsilon_{t} = \\varepsilon^g_{t} - \\varepsilon^r_{t} \\frac{1}{\\gamma}$.\n",
        "\n",
        "Alternativamente, se consideramos que estamos linearizando ao redor do steady state, podemos considerar que $E_{t-1} \\Big[\\tilde{r}_{it} \\Big] = \\tilde{r}_{i}$ e $E_{t-1} \\Big[g_t \\Big] = g$ para todo $t$ encontrando em (3.1) uma relação deterministica de equilíbrio entre retorno e taxa de crescimento.\n"
      ]
    },
    {
      "cell_type": "markdown",
      "metadata": {
        "id": "3M14iedhO53y"
      },
      "source": [
        "\n",
        "# Problema 4)\n",
        "\n",
        "Usando a Base de Dados construída na Lista 2, estime as equações de Euler (linearizada) do consumidor com utilidade CRRA. Investige se a hipótese de log-normalidade é válida.\n",
        "\n",
        "\n",
        "---\n",
        "\n",
        "Seja a equação de euler:\n",
        "\n",
        "\\begin{align*}\n",
        "    u'(C_t) & = \\beta E_t  \\bigg[ u'(C_{t+1}) R_{j, t+1} \\bigg] \n",
        "\\end{align*}\n",
        "\n",
        "Assumindo utilidade CRRA, encontramos\n",
        "\n",
        "\\begin{align*}\n",
        "    0 & =  E_t  \\bigg[ \\beta \\bigg(\\frac{C_{t+1}}{C_{t}^{-\\gamma}} \\bigg)^{-\\gamma} R_{j, t+1} - 1 \\bigg] \n",
        "\\end{align*}\n",
        "\n",
        "Assumindo distribuição conjunta log-linear\n",
        "\n",
        "\\begin{align*}\n",
        "    \\Delta C_{t+1} & = \\mu + \\frac{1}{\\gamma} r_{j, t+1}+ \\varepsilon_{t+1},\n",
        "\\end{align*}\n",
        "\n",
        "\n",
        "\n",
        "Para equação de Euler poder ser estimada é necessário que qualquer informação disponível no período $t$ seja não correlacionada com \n",
        "\n",
        "$$ \\beta \\bigg(\\frac{C_{t+1}}{C_{t}^{-\\gamma}} \\bigg)^{-\\gamma} R_{j, t+1} - 1 $$\n",
        "\n",
        "para qualquer ativo $j$. Deve ser o caso para\n",
        "\n",
        "\n",
        "\\begin{align*}\n",
        "    \\textbf{0} & =  E_t  \\bigg[ \\beta \\bigg(\\frac{C_{t+1}}{C_{t}^{-\\gamma}} \\bigg)^{-\\gamma} R_{j, t+1} - 1 \\bigg] \\times \\textbf{Z}_t,\n",
        "\\end{align*}\n",
        "\n",
        "onde $\\textbf{Z}_t$ é um subconjunto de informação disponível no período $t$ que seja disponível para o econometrista.\n",
        "\n",
        "Assim, podemos montar a função de momentos\n",
        "\n",
        "\\begin{align*}\n",
        "    h(\\boldsymbol\\theta ; w) = \n",
        "    \\begin{pmatrix}\n",
        "    \\bigg[ \\beta \\bigg(\\frac{C_{t+1}}{C_{t}^{-\\gamma}} \\bigg)^{-\\gamma} R_{1, t+1} - 1 \\bigg] \\times \\textbf{Z}_t \\\\\n",
        "    \\bigg[ \\beta \\bigg(\\frac{C_{t+1}}{C_{t}^{-\\gamma}} \\bigg)^{-\\gamma} R_{2, t+1} - 1 \\bigg] \\times \\textbf{Z}_t \\\\\n",
        "    \\vdots \\\\\n",
        "    \\bigg[ \\beta \\bigg(\\frac{C_{t+1}}{C_{t}^{-\\gamma}} \\bigg)^{-\\gamma} R_{J, t+1} - 1 \\bigg] \\times \\textbf{Z}_t \n",
        "\\end{pmatrix}\n",
        "\\end{align*}\n",
        "\n",
        "e $g(\\boldsymbol\\theta ; w) = \\frac{1}{T}  \\sum_{j=1}^{T} h(\\boldsymbol\\theta ; w)$.\n",
        "\n",
        "\n",
        "\n",
        "\n",
        "\"Moreover, the initial expectation is conditional which produces further implications for the model. Not only is the Euler equation required to have mean zero, it must be uncorrelated with any time $t$ instrument $z_t$, and so it must also be the case that:\"\n",
        "\n",
        "https://photos.kevinsheppard.com/images/5/55/Chapter6.pdf"
      ]
    },
    {
      "cell_type": "code",
      "metadata": {
        "colab": {
          "base_uri": "https://localhost:8080/"
        },
        "id": "qFLDoAFi_BSC",
        "outputId": "4e76d733-d697-4b28-8d07-9e4a530bf9ee"
      },
      "source": [
        "import numpy as np\n",
        "import pandas as pd\n",
        "import statsmodels.api as sm\n",
        "import matplotlib.pyplot as plt\n",
        "\n",
        "from scipy import stats\n",
        "from statsmodels.sandbox.regression import gmm"
      ],
      "execution_count": 3,
      "outputs": [
        {
          "output_type": "stream",
          "text": [
            "/usr/local/lib/python3.7/dist-packages/statsmodels/tools/_testing.py:19: FutureWarning: pandas.util.testing is deprecated. Use the functions in the public API at pandas.testing instead.\n",
            "  import pandas.util.testing as tm\n"
          ],
          "name": "stderr"
        }
      ]
    },
    {
      "cell_type": "code",
      "metadata": {
        "id": "0vFGgGVrA7-P"
      },
      "source": [
        "#######################################\n",
        "#### Importando os dados do Github ####\n",
        "#######################################\n",
        "\n",
        "\n",
        "# Importando os dados do Github\n",
        "df_q  = pd.read_csv('https://raw.githubusercontent.com/lucasestrela/dec_consumo_poupanca/main/dados/BEA_Tab115_Quarter.csv',\n",
        "                             delimiter = \";\")\n",
        "\n",
        "p_q  = pd.read_csv('https://raw.githubusercontent.com/lucasestrela/dec_consumo_poupanca/main/dados/BEA_Tab114_Quarter.csv',\n",
        "                             delimiter = \";\")\n",
        "\n",
        "# Deletando a primeira coluna\n",
        "del df_q['Line']\n",
        "del p_q['Line']\n",
        "\n",
        "# Transpondo a matriz\n",
        "df_q  = df_q.T\n",
        "p_q   = p_q.T\n",
        "\n",
        "# Excluindo primeira linha a add ela como var name\n",
        "df_q.columns = df_q.iloc[0, :]\n",
        "p_q.columns  = p_q.iloc[0, :]\n",
        "\n",
        "df_q = df_q.iloc[1:, :]\n",
        "p_q  = p_q.iloc[1:, :]\n",
        "\n",
        "\n",
        "\n",
        "# Removendo o underline\n",
        "df_q.index = df_q.index.str.replace(\"_\", \"\")\n",
        "p_q.index = p_q.index.str.replace(\"_\", \"\")\n",
        "\n",
        "\n",
        "# Transformando em data\n",
        "df_q.index = pd.to_datetime( df_q.index , errors='coerce')\n",
        "p_q.index = pd.to_datetime( p_q.index , errors='coerce')\n",
        "\n",
        "\n",
        "\n",
        "\n",
        "# Renomeando\n",
        "df_q = df_q.rename(columns={df_q.columns[3]: 'consumption'})\n",
        "p_q  = p_q.rename(columns={p_q.columns[3]: 'consumption'})\n",
        "\n",
        "\n",
        "\n",
        "# df_q = df_q.rename(columns={'Services': 'consumption'})\n",
        "# p_q  = p_q.rename(columns={'Services': 'consumption'})\n",
        "\n",
        "\n",
        "# Transformando em .float\n",
        "df_q['consumption'] = pd.to_numeric(df_q['consumption'])\n",
        "p_q['consumption'] = pd.to_numeric(p_q['consumption'])\n",
        "\n",
        "# Calculando consumo real\n",
        "consumo_real = df_q['consumption']/p_q['consumption']\n",
        "\n",
        "# Crescimento real\n",
        "cresc_consumo_real = consumo_real/consumo_real.shift(1) - 1\n",
        "\n",
        "# Calculando a tx de inflação (1+...%)\n",
        "tx_inf1 = p_q['consumption']/p_q['consumption'].shift(1)\n",
        "\n",
        "\n",
        "dta = pd.DataFrame([consumo_real, cresc_consumo_real]).T\n",
        "dta.columns = ['c', 'c_growth']\n",
        "\n",
        "\n",
        "\n",
        "\n",
        "\n",
        "#######################################\n",
        "###### Importando dados do SP500 ######\n",
        "#######################################\n",
        "\n",
        "\n",
        "sp500  = pd.read_csv('https://raw.githubusercontent.com/lucasestrela/dec_consumo_poupanca/main/dados/sp500.csv',\n",
        "                             delimiter = \",\")\n",
        "\n",
        "# Selecionando variaveis\n",
        "sp500 = sp500[['ref.date', 'price.adjusted']]\n",
        "sp500.columns = ['date', 'price']\n",
        "\n",
        "# Adicionando o indice de datas\n",
        "sp500.index = pd.to_datetime( sp500['date'] , errors='coerce')\n",
        "\n",
        "\n",
        "# Criando variavel indicadora para mudança de quarter\n",
        "sp500['quarter'] = sp500.index.quarter\n",
        "sp500['year'] = sp500.index.year\n",
        "sp500['group_indicator'] = sp500['quarter']  != sp500['quarter'] .shift(-1)\n",
        "\n",
        "# Filtrando apenas os ultimos meses do quarter e selecionando ano que quero\n",
        "sp500 = sp500[sp500['group_indicator'] == True]\n",
        "sp500 = sp500[sp500['year'] >= 1947][:-2]\n",
        "\n",
        "# Selecionando variaveis\n",
        "sp500 = sp500[['price']]\n",
        "\n",
        "\n",
        "# Copiando o indice\n",
        "sp500.index = p_q.index\n",
        "\n",
        "# Calculando o retonro e o ret real\n",
        "sp500['ret_real'] = ((sp500['price']/sp500['price'].shift(1)) / tx_inf1) - 1\n",
        "sp500['r'] = sp500['price']/sp500['price'].shift(1) - 1\n",
        "\n",
        "# Fazendo o merge dos dois datasets\n",
        "dta = dta.join(sp500)\n"
      ],
      "execution_count": 4,
      "outputs": []
    },
    {
      "cell_type": "code",
      "metadata": {
        "id": "3jNWMMvt_DoR"
      },
      "source": [
        "# Calculando a 1 defasagem do crescimento do consumo\n",
        "dta['c_growth_lag1'] = dta['c_growth'].shift(1)\n",
        "\n",
        "# Calculando a 1 defasagem e um adiantamento do consumo\n",
        "dta['c_lag1'] = dta['c'].shift(1)\n",
        "dta['c_forw1'] = dta['c'].shift(-1)\n",
        "\n",
        "# Calculando a 1 e 2 defasagem e um adiantamento do consumo\n",
        "dta['r_lag1'] = dta['ret_real'].shift(1)\n",
        "dta['r_lag2'] = dta['ret_real'].shift(2)\n",
        "dta['r_forw1'] = dta['ret_real'].shift(-1)\n",
        "\n",
        "# Constante\n",
        "dta['const'] = 1\n",
        "\n",
        "# Removendo os missings\n",
        "dta_clean = dta.dropna()\n",
        "\n",
        "# Calculando as endógenas, as variáveis contemporaneas\n",
        "endog_df = dta_clean[['r_forw1', 'c_forw1', 'c']]\n",
        "exog_df = endog_df\n",
        "\n",
        "# Os instrumentos serão as variáveis defasadas\n",
        "instrument_df = dta_clean[['r_lag1', 'r_lag2', 'c_growth_lag1', 'const']]\n",
        "\n",
        "# Transformando em array\n",
        "endog, exog, instrument  = map(np.asarray, [endog_df, exog_df, instrument_df])"
      ],
      "execution_count": 5,
      "outputs": []
    },
    {
      "cell_type": "code",
      "metadata": {
        "id": "ifOqUYyp94vN"
      },
      "source": [
        "def moment_consumption1(params, exog):\n",
        "    beta, gamma = params\n",
        "    r_forw1, c_forw1, c = exog.T  # unwrap iterable (ndarray)\n",
        "    \n",
        "    # moment condition without instrument    \n",
        "    err = 1 - beta * (1 + r_forw1) * np.power(c_forw1 / c, -gamma)\n",
        "    return -err"
      ],
      "execution_count": 6,
      "outputs": []
    },
    {
      "cell_type": "code",
      "metadata": {
        "id": "OYOl6uDVMa4Y"
      },
      "source": [
        "def moment_consumption2(params, exog):\n",
        "    pi_0, pi_1 = params\n",
        "\n",
        "    r_forw1, c_forw1, c = exog.T  # unwrap iterable (ndarray)\n",
        "    \n",
        "    # moment condition without instrument    \n",
        "    # err = 1 - beta * (1 + r_forw1) * np.power(c_forw1 / c, -gamma)\n",
        "\n",
        "    # delta c -  pi0 + pi1 r  = 0 \n",
        "    err = np.log(c_forw1 / c) - pi_0 - pi_1 * r_forw1\n",
        "\n",
        "    return -err"
      ],
      "execution_count": 7,
      "outputs": []
    },
    {
      "cell_type": "code",
      "metadata": {
        "colab": {
          "base_uri": "https://localhost:8080/"
        },
        "id": "xe5z9h7Y-L1B",
        "outputId": "e5d7c666-c8f5-488b-d44f-66a6f4986fbe"
      },
      "source": [
        "# Vetor de zeros\n",
        "endog1 = np.zeros(exog.shape[0])\n",
        "\n",
        "# Rodando o GMM. Endogenos sao 0's, exógenos as variaveis que entram na eq de Euler e instrumentos sao as variaveis defasadas\n",
        "mod1   = gmm.NonlinearIVGMM(endog1, exog, instrument, moment_consumption1, k_moms=4)\n",
        "mod2   = gmm.NonlinearIVGMM(endog1, exog, instrument, moment_consumption2, k_moms=4)\n",
        "\n",
        "# Calculando uma matriz de pesos\n",
        "w0inv  = np.dot(instrument.T, instrument) / len(endog1)\n",
        "\n",
        "# Fitando o modelo\n",
        "res1   = mod1.fit([1,-1], maxiter=2, inv_weights=w0inv)\n",
        "res2   = mod2.fit([1,-1], maxiter=2, inv_weights=w0inv)\n"
      ],
      "execution_count": 8,
      "outputs": [
        {
          "output_type": "stream",
          "text": [
            "Optimization terminated successfully.\n",
            "         Current function value: 0.000008\n",
            "         Iterations: 6\n",
            "         Function evaluations: 13\n",
            "         Gradient evaluations: 13\n",
            "Optimization terminated successfully.\n",
            "         Current function value: 0.001069\n",
            "         Iterations: 5\n",
            "         Function evaluations: 9\n",
            "         Gradient evaluations: 9\n",
            "Optimization terminated successfully.\n",
            "         Current function value: 0.000026\n",
            "         Iterations: 2\n",
            "         Function evaluations: 3\n",
            "         Gradient evaluations: 3\n",
            "Optimization terminated successfully.\n",
            "         Current function value: 0.001853\n",
            "         Iterations: 4\n",
            "         Function evaluations: 9\n",
            "         Gradient evaluations: 9\n"
          ],
          "name": "stdout"
        }
      ]
    },
    {
      "cell_type": "code",
      "metadata": {
        "colab": {
          "base_uri": "https://localhost:8080/"
        },
        "id": "sgUz_RC9-QHT",
        "outputId": "013d0700-e1b4-4212-b01a-45b7c09902dd"
      },
      "source": [
        "# Print do modelo\n",
        "print(res1.summary(yname='Euler Eq', xname=['discount', 'CRRA']))\n",
        "print()\n",
        "print()\n",
        "print(res2.summary(yname='Linear Euler Eq', xname=['pi_0', 'IES']))"
      ],
      "execution_count": 9,
      "outputs": [
        {
          "output_type": "stream",
          "text": [
            "                            NonlinearIVGMM Results                            \n",
            "==============================================================================\n",
            "Dep. Variable:               Euler Eq   Hansen J:                       0.3121\n",
            "Model:                 NonlinearIVGMM   Prob (Hansen J):                 0.856\n",
            "Method:                           GMM                                         \n",
            "Date:                Tue, 27 Apr 2021                                         \n",
            "Time:                        01:23:04                                         \n",
            "No. Observations:                 292                                         \n",
            "==============================================================================\n",
            "                 coef    std err          z      P>|z|      [0.025      0.975]\n",
            "------------------------------------------------------------------------------\n",
            "discount       0.9741      0.014     68.189      0.000       0.946       1.002\n",
            "CRRA          -0.4525      0.970     -0.467      0.641      -2.353       1.448\n",
            "==============================================================================\n",
            "\n",
            "\n",
            "                            NonlinearIVGMM Results                            \n",
            "==============================================================================\n",
            "Dep. Variable:        Linear Euler Eq   Hansen J:                       0.5411\n",
            "Model:                 NonlinearIVGMM   Prob (Hansen J):                 0.763\n",
            "Method:                           GMM                                         \n",
            "Date:                Tue, 27 Apr 2021                                         \n",
            "Time:                        01:23:04                                         \n",
            "No. Observations:                 292                                         \n",
            "==============================================================================\n",
            "                 coef    std err          z      P>|z|      [0.025      0.975]\n",
            "------------------------------------------------------------------------------\n",
            "pi_0           0.0319      0.029      1.100      0.271      -0.025       0.089\n",
            "IES           -0.9153      1.441     -0.635      0.525      -3.739       1.909\n",
            "==============================================================================\n"
          ],
          "name": "stdout"
        }
      ]
    },
    {
      "cell_type": "markdown",
      "metadata": {
        "id": "RL2aTkMYYBUz"
      },
      "source": [
        "\"However, the default GMM standard errors of the estimate are only robust to heteroscedasticity, i.e. variance differs by observation. Since we using time series for our estimation, there is a strong chance that the errors, or better moment conditions, are correlated over time. In this case, we can use a HAC robust standard error, that is robust to heteroscedasticity as well as autocorrelation.\n",
        "\n",
        "In the GMM version in statsmodels, we define these options through weights_method='hac', wargs={'maxlag':4}, which uses the Newey, West standard errors based on 4 lags.\"\n",
        "\n",
        "https://gist.github.com/josef-pkt/6895915"
      ]
    },
    {
      "cell_type": "code",
      "metadata": {
        "colab": {
          "base_uri": "https://localhost:8080/"
        },
        "id": "HLpWrmZc-Wj3",
        "outputId": "504228f4-4ca0-46e3-a920-769e2c7ea7d8"
      },
      "source": [
        "res1_hac4_2s = mod1.fit([1, -1], maxiter=2, inv_weights=w0inv, weights_method='hac', wargs={'maxlag':4})\n",
        "print('\\n\\n')\n",
        "print(res1_hac4_2s.summary(yname='Euler Eq', xname=['discount', 'CRRA']))"
      ],
      "execution_count": 10,
      "outputs": [
        {
          "output_type": "stream",
          "text": [
            "Optimization terminated successfully.\n",
            "         Current function value: 0.000008\n",
            "         Iterations: 6\n",
            "         Function evaluations: 13\n",
            "         Gradient evaluations: 13\n",
            "Optimization terminated successfully.\n",
            "         Current function value: 0.001407\n",
            "         Iterations: 5\n",
            "         Function evaluations: 9\n",
            "         Gradient evaluations: 9\n",
            "\n",
            "\n",
            "\n",
            "                            NonlinearIVGMM Results                            \n",
            "==============================================================================\n",
            "Dep. Variable:               Euler Eq   Hansen J:                       0.4108\n",
            "Model:                 NonlinearIVGMM   Prob (Hansen J):                 0.814\n",
            "Method:                           GMM                                         \n",
            "Date:                Tue, 27 Apr 2021                                         \n",
            "Time:                        01:23:04                                         \n",
            "No. Observations:                 292                                         \n",
            "==============================================================================\n",
            "                 coef    std err          z      P>|z|      [0.025      0.975]\n",
            "------------------------------------------------------------------------------\n",
            "discount       0.9726      0.013     73.250      0.000       0.947       0.999\n",
            "CRRA          -0.5491      0.921     -0.596      0.551      -2.354       1.256\n",
            "==============================================================================\n"
          ],
          "name": "stdout"
        }
      ]
    },
    {
      "cell_type": "code",
      "metadata": {
        "colab": {
          "base_uri": "https://localhost:8080/"
        },
        "id": "wZE4NA3sdSJW",
        "outputId": "650ea55d-e470-4a83-b20e-aa0521e665e3"
      },
      "source": [
        "# delta_c = alpha + r + epsilon\n",
        "\n",
        "reg1 = sm.OLS(endog = dta_clean['c_growth'], exog = dta_clean[['ret_real', 'const']] )\n",
        "\n",
        "res = reg1.fit()\n",
        "\n",
        "print(res.summary())"
      ],
      "execution_count": 11,
      "outputs": [
        {
          "output_type": "stream",
          "text": [
            "                            OLS Regression Results                            \n",
            "==============================================================================\n",
            "Dep. Variable:               c_growth   R-squared:                       0.028\n",
            "Model:                            OLS   Adj. R-squared:                  0.024\n",
            "Method:                 Least Squares   F-statistic:                     8.240\n",
            "Date:                Tue, 27 Apr 2021   Prob (F-statistic):            0.00440\n",
            "Time:                        01:23:04   Log-Likelihood:                 552.86\n",
            "No. Observations:                 292   AIC:                            -1102.\n",
            "Df Residuals:                     290   BIC:                            -1094.\n",
            "Df Model:                           1                                         \n",
            "Covariance Type:            nonrobust                                         \n",
            "==============================================================================\n",
            "                 coef    std err          t      P>|t|      [0.025      0.975]\n",
            "------------------------------------------------------------------------------\n",
            "ret_real       0.0824      0.029      2.871      0.004       0.026       0.139\n",
            "const          0.0121      0.002      5.472      0.000       0.008       0.016\n",
            "==============================================================================\n",
            "Omnibus:                       69.170   Durbin-Watson:                   2.197\n",
            "Prob(Omnibus):                  0.000   Jarque-Bera (JB):              746.977\n",
            "Skew:                           0.576   Prob(JB):                    6.25e-163\n",
            "Kurtosis:                      10.750   Cond. No.                         13.4\n",
            "==============================================================================\n",
            "\n",
            "Warnings:\n",
            "[1] Standard Errors assume that the covariance matrix of the errors is correctly specified.\n"
          ],
          "name": "stdout"
        }
      ]
    },
    {
      "cell_type": "code",
      "metadata": {
        "colab": {
          "base_uri": "https://localhost:8080/",
          "height": 438
        },
        "id": "42jiai0qfOGu",
        "outputId": "43be9cff-0a95-4026-f017-3265160eecdb"
      },
      "source": [
        "def plot_histogram_and_qq(points, mu, sigma, distribution_type=\"norm\"):\n",
        "  # Plot histogram of the 1000 points\n",
        "  plt.figure(figsize=(12,6))\n",
        "  ax = plt.subplot(1,2,1)\n",
        "  count, bins, ignored = plt.hist(points, 30, density = True)\n",
        "  ax.set_title('Histogram')\n",
        "  ax.set_xlabel('Value bin')\n",
        "  ax.set_ylabel('Frequency')\n",
        "\n",
        "  # Overlay the bell curve (normal distribution) on the bins data\n",
        "  bell_curve = 1/(sigma * np.sqrt(2 * np.pi)) * np.exp( - (bins - mu)**2 / (2 * sigma**2))\n",
        "  plt.plot(bins, bell_curve, linewidth=2, color='r')\n",
        "\n",
        "  # Q-Q plot\n",
        "  plt.subplot(1,2,2)\n",
        "  res = stats.probplot(points, dist=distribution_type, plot=plt)\n",
        "  (osm, osr) = res[0]\n",
        "  (slope, intercept, r) = res[1]\n",
        "  # For details see: https://docs.scipy.org/doc/scipy-0.14.0/reference/generated/scipy.stats.probplot.html\n",
        "  print(\"slope, intercept, r:\", slope, intercept, r)\n",
        "  print(\"r is the square root of the coefficient of determination\")\n",
        "\n",
        "  plt.show()\n",
        "  \n",
        "# Run on the initial normally distributed data\n",
        "plot_histogram_and_qq(res.resid, np.mean(res.resid), np.sqrt(np.var(res.resid)))\n"
      ],
      "execution_count": 13,
      "outputs": [
        {
          "output_type": "stream",
          "text": [
            "slope, intercept, r: 0.034534945560396706 6.2432832996794375e-18 0.9402461600456098\n",
            "r is the square root of the coefficient of determination\n"
          ],
          "name": "stdout"
        },
        {
          "output_type": "display_data",
          "data": {
            "image/png": "[encoded data removed]",
            "text/plain": [
              "<Figure size 864x432 with 2 Axes>"
            ]
          },
          "metadata": {
            "tags": [],
            "needs_background": "light"
          }
        }
      ]
    },
    {
      "cell_type": "code",
      "metadata": {
        "colab": {
          "base_uri": "https://localhost:8080/",
          "height": 859
        },
        "id": "URWjiNyO66mD",
        "outputId": "0ab42ea4-f3ed-4ed6-d85c-431430eb8650"
      },
      "source": [
        "plot_histogram_and_qq(res2.resid, np.mean(res2.resid), np.sqrt(np.var(res2.resid)))\n",
        "plot_histogram_and_qq(res1.resid, np.mean(res1.resid), np.sqrt(np.var(res1.resid)))"
      ],
      "execution_count": 15,
      "outputs": [
        {
          "output_type": "stream",
          "text": [
            "slope, intercept, r: 0.08154623863539079 -0.0010298136762749092 0.9802693339019336\n",
            "r is the square root of the coefficient of determination\n"
          ],
          "name": "stdout"
        },
        {
          "output_type": "display_data",
          "data": {
            "image/png": "[encoded data removed]",
            "text/plain": [
              "<Figure size 864x432 with 2 Axes>"
            ]
          },
          "metadata": {
            "tags": [],
            "needs_background": "light"
          }
        },
        {
          "output_type": "stream",
          "text": [
            "slope, intercept, r: 0.07614821427219239 0.0005549337182459286 0.9783253720765761\n",
            "r is the square root of the coefficient of determination\n"
          ],
          "name": "stdout"
        },
        {
          "output_type": "display_data",
          "data": {
            "image/png": "[encoded data removed]",
            "text/plain": [
              "<Figure size 864x432 with 2 Axes>"
            ]
          },
          "metadata": {
            "tags": [],
            "needs_background": "light"
          }
        }
      ]
    },
    {
      "cell_type": "code",
      "metadata": {
        "colab": {
          "base_uri": "https://localhost:8080/"
        },
        "id": "JWyoXDLllbpo",
        "outputId": "54e17e34-3d0c-4eaf-ea9a-51b82624537c"
      },
      "source": [
        "# intercepto = (np.log(beta) + 0.5*sigma^2)/gamma\n",
        "# intercepto * gamma - 0.5*sigma^2 = np.log(beta)\n",
        "\n",
        "sigma = np.sqrt(np.sum(res2.resid**2)/res2.df_resid)\n",
        "gamma = 1/res2.params[1]\n",
        "\n",
        "print('coef de desconto:', np.exp(res.params[0] * gamma - 0.5*sigma**2))\n",
        "print('coef de aversao ao risco:', gamma)\n"
      ],
      "execution_count": 18,
      "outputs": [
        {
          "output_type": "stream",
          "text": [
            "coef de desconto: 0.9139236351788529\n",
            "coef de aversao ao risco: -1.0925941811265298\n"
          ],
          "name": "stdout"
        }
      ]
    }
  ]
}