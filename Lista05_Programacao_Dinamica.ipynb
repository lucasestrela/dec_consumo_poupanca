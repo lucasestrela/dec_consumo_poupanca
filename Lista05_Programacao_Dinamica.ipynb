{
  "nbformat": 4,
  "nbformat_minor": 0,
  "metadata": {
    "colab": {
      "name": "Lista05_Programacao_Dinamica.ipynb",
      "provenance": [],
      "collapsed_sections": [],
      "authorship_tag": "ABX9TyMd3JOGmuFr8zEY2W+VU5jE",
      "include_colab_link": true
    },
    "kernelspec": {
      "name": "python3",
      "display_name": "Python 3"
    },
    "language_info": {
      "name": "python"
    }
  },
  "cells": [
    {
      "cell_type": "markdown",
      "metadata": {
        "id": "view-in-github",
        "colab_type": "text"
      },
      "source": [
        "<a href=\"https://colab.research.google.com/github/lucasestrela/dec_consumo_poupanca/blob/main/Lista05_Programacao_Dinamica.ipynb\" target=\"_parent\"><img src=\"https://colab.research.google.com/assets/colab-badge.svg\" alt=\"Open In Colab\"/></a>"
      ]
    },
    {
      "cell_type": "markdown",
      "metadata": {
        "id": "HStjL-f85eIy"
      },
      "source": [
        "# Problema 1) \n",
        "\n",
        "Considere que se queira maximizar $\\sum^{t=0}_{\\infty} \\beta^t u(c_t)$ sujeito às restrições:\n",
        "\n",
        "\n",
        "1. O consumo mais o investimento somam a quantidade produzida:\n",
        "$$c_t + i_t = f (k_t)$$\n",
        "em que $c_t$ é o consumo, $i_t$ é o invetimento e $f(k_t)$ é a função de produto que depende do capital ($k_t$). Esta é uma restrição de factibilidade.\n",
        "\n",
        "2. Lei de movimento do capital:\n",
        "$$k_{t+1} = (1 - \\delta) k_t + i_t$$\n",
        "em que $\\delta \\in (0, 1)$ é a taxa de depreciação.\n",
        "\n",
        "3. $k_0$ é dado.\n",
        "$u'(\\cdot)>0, u''(\\cdot) < 0 e \\beta \\in (0,1)$. Portanto, o problema torna-se    \n",
        "\n",
        "$$\\max_{\\{c_t,i_t\\}_{t=0}^{\\infty}} \\sum^{\\infty}_{t=0} \\beta^t u(c_t)$$ \n",
        "\n",
        "$$\\text{sujeito a}\n",
        "\\begin{cases} \n",
        "c_t + i_t = f(k_t) \\\\ \n",
        "k_{t+1} = (1-\\delta) k_t + i_t \\\\  \n",
        "k_0 \\quad \\text{dado}    \n",
        "\\end{cases}$$"
      ]
    },
    {
      "cell_type": "markdown",
      "metadata": {
        "id": "4X7mAyjhBaYe"
      },
      "source": [
        "## Item a)\n",
        "\n",
        "Escreva a equação de Bellman deste problema. *Dica:* use $i_t = k_{t+1} - (1 - \\delta) k_t$, para \"eliminar\" $i_t$ da restrição de factibilidade. Posteriormente, use a expressão obtida para substituir $c_t$ da equação de Bellman.\n",
        "\n",
        "---\n",
        "\n",
        "**Resposta**\n",
        "\n",
        "Substituindo a restrição $i_t = k_{t+1} - (1 - \\delta) k_t$ na outra restrição, o problema de maximização torna-se:\n",
        "\n",
        "$$\\max_{\\{c_t\\}_{t=0}^{\\infty}} \\sum^{\\infty}_{t=0} \\beta^t u(c_t)$$ \n",
        "\n",
        "$$\\text{sujeito a}\n",
        "\\begin{cases} \n",
        "c_t = f(k_t) - [k_{t+1} - (1-\\delta) k_t ]\\\\\n",
        "k_0 \\quad \\text{dado}    \n",
        "\\end{cases}$$\n",
        "\n",
        "\n",
        "Seja\n",
        "\\begin{align*}\n",
        "V(k_0) & = \\max_{\\{c_t\\}_{t=0}^{\\infty}} \\Big\\{ u(c_0) +  \\sum^{\\infty}_{t=0} \\beta^{t+1} u(c_{t+1}) \\Big\\} \\\\\n",
        "V(k_0) & = \\max_{\\{c_0\\}} \\Big\\{ u(c_0) + \\beta \\max_{\\{c_t\\}_{t=1}^{\\infty}} \\sum^{\\infty}_{t=0} \\beta^{t} u(c_{t+1})\\Big\\}  \\\\\n",
        "V(k_0) & = \\max_{\\{c_0\\}} \\Big\\{ u(c_0) + \\beta V(k_{1}) \\Big\\}\n",
        "\\end{align*}\n",
        "\n",
        "Fazendo este processo recursivamente, temos para todo $t$ a equação de Bellman:\n",
        "$$ V(k_t) = \\max_{\\{c_t\\}} \\Big\\{ u(c_t) + \\beta V(k_{t+1}) \\Big\\} $$"
      ]
    },
    {
      "cell_type": "markdown",
      "metadata": {
        "id": "F-b4l_oqBcN8"
      },
      "source": [
        "## Item b)\n",
        "Assumindo solução interior, encontre a equação de Euler. Interprete a equação de Euler.\n",
        "\n",
        "---\n",
        "\n",
        "**Resposta**\n",
        " \n",
        "Da equação de Bellman:\n",
        "$$ V(k_t) = \\max_{\\{c_t\\}} \\Big\\{ u(c_t) + \\beta V(k_{t+1}) \\Big\\} $$\n",
        "\n",
        "A condição de primeira ordem deste problema de maximização:\n",
        "\n",
        "\\begin{align}0 = -u' (c_t)+ \\beta V'(k_{t+1})\\tag{1.1}\\end{align}\n",
        "\n",
        "E utilizando o Teorema de Benveniste-Scheinkman:\n",
        "\n",
        "$$ V'(k_t) = \\big[f'(k_t) + (1-\\delta) \\big] u'(c_t)$$\n",
        "$$ \\Rightarrow $$\n",
        "\\begin{align}V'(k_{t+1}) = \\big[f'(k_t) + (1-\\delta) \\big] u'(c_{t+1}) \\tag{1.2}\\end{align}\n",
        "\n",
        "Podemos então substituir (1.1) em (1.2) e encontrar:\n",
        "\n",
        "$$ u' (c_t) = \\beta \\big[f'(k_t) + (1-\\delta) \\big] u'(c_{t+1})$$\n",
        "$$ \\Rightarrow $$\n",
        "$$ \\frac{u'(c_{t})}{ u'(c_{t+1})} = \\beta \\big[f'(k_t) + (1-\\delta) \\big]$$\n",
        "\n",
        "A equação de Euler deste problema diz que no ponto ótimo, a utilidade marginal do consumo no tempo $t$ deve ser igual à utilidade marginal do consumo no tempo $t+1$ descontada a uma taxa $\\beta \\big[f'(k_t) + (1-\\delta) \\big]$. Isto é, o indivíduo está disposto a trocar consumo hoje, por um consumo amanhã se a razão das utilidades marginais for maior que a taxa de desconto do mercado.\n"
      ]
    },
    {
      "cell_type": "markdown",
      "metadata": {
        "id": "ykPvrnOuBeXC"
      },
      "source": [
        "## Item c)\n",
        "Considerando $u(c_t) = ln(c_t)$ e $f(k_t) = 2k^{1/2}_t$, apresente a equação de Euler. Analise como a taxa de crescimento do consumo, $\\Delta \\ln c_{t+1}$, depende de $\\beta$ e $\\delta$.\n",
        "\n",
        "\n",
        "$$ \\frac{\\frac{1}{c_t}}{\\frac{1}{c_{t+1}}} = \\beta \\big[\\frac{1}{k^{1/2}} + (1-\\delta) \\big]$$\n",
        "$$ \\Delta \\ln c_{t+1} =   \\ln \\Big[ \\frac{1 }{k^{1/2}} + (1- \\delta) \\Big] + \\ln \\beta$$\n",
        "\n",
        "Para encontrar o efeito parcial de $\\beta$ e $\\delta$:\n",
        "\n",
        "$$\\frac{\\partial \\Delta \\ln c_{t+1} }{\\partial \\beta} = \\frac{1}{\\beta} > 0$$\n",
        "\n",
        "e também\n",
        "\n",
        "$$\\frac{\\partial \\Delta \\ln c_{t+1} }{\\partial \\delta} =  \\frac{-1}{\\Big[ \\frac{1 }{k^{1/2}} + (1- \\delta) \\Big] } < 0$$"
      ]
    },
    {
      "cell_type": "markdown",
      "metadata": {
        "id": "9QqadtMPBgpT"
      },
      "source": [
        "## Item d)\n",
        "\n",
        "Considerando $u(c_t) = 2 c^{1/2}_t$ e $f(k_t) = 3k^{1/3}_t$, apresente a equação de Euler. Analise como a taxa de crescimento do consumo, $\\Delta \\ln c_{t+1}$, depende de $\\beta$ e $\\delta$.\n",
        "\n",
        "$$ \\frac{\\frac{1}{c_t^{1/2}}}{\\frac{1}{c_{t+1}^{1/2}}} = \\beta \\bigg[\\frac{1}{k_t^{2/3}}+ (1-\\delta) \\bigg]$$\n",
        "$$  \\bigg( \\frac{c_{t+1}} { c_t }  \\bigg)^{1/2}= \\beta \\bigg[\\frac{1}{k_t^{2/3}}+ (1-\\delta) \\bigg]$$\n",
        "$$ \\Delta \\ln c_{t+1} = 2 \\ln \\Bigg( \\beta \\bigg[\\frac{1}{k_t^{2/3}}+ (1-\\delta) \\bigg] \\Bigg)$$\n",
        "\n",
        "Para encontrar o efeito parcial de $\\beta$ e $\\delta$:\n",
        "\n",
        "$$\\frac{\\partial \\Delta \\ln c_{t+1} }{\\partial \\beta} = \\frac{2}{\\beta} $$\n",
        "\n",
        "e também\n",
        "\n",
        "$$\\frac{\\partial \\Delta \\ln c_{t+1} }{\\partial \\delta} =  \\frac{-1}{\\frac{1}{k_t^{2/3}}+ (1-\\delta) } < 0$$\n"
      ]
    },
    {
      "cell_type": "markdown",
      "metadata": {
        "id": "rRSyMqSPBjiH"
      },
      "source": [
        "# Problema 2) \n",
        "\n",
        "Considere o problema de Ramsey de escolher a trajetória $\\{c_t\\}_{t=0}^{\\infty}$ que maximiza $\\sum^{\\infty}_{t=0} \\beta^t u(c_t)$ sujeito à restrição $c_t + k_{t+1} = f(k_t)$, em que $k_0$ é dado. Vamos supor que o governo cria um imposto de $\\tau \\%$ sobre a produção e um benefício lump-sum $\\chi_t$, de modo que o problema torna-se\n",
        "\n",
        "\n",
        "$$\\max_{\\{c_t\\}_{t=0}^{\\infty}} \\sum^{\\infty}_{t=0} \\beta^t u(c_t)$$ \n",
        "$$\\text{sujeito a}\n",
        "\\begin{cases} \n",
        "c_t + k_{t+1} = (1-\\tau)f(k_t)  + \\chi_t \\\\\n",
        "k_0 \\quad \\text{dado}    \n",
        "\\end{cases}$$\n",
        "\n",
        "Assuma que $u' (\\cdot) > 0$, $u''(\\cdot) < 0$, $\\beta \\in (0, 1)$ e $\\tau \\in (0,1)$."
      ]
    },
    {
      "cell_type": "markdown",
      "metadata": {
        "id": "r01cY6ZcBnEC"
      },
      "source": [
        "## Item a) \n",
        "\n",
        "Escreva a equação de Bellman deste problema. *Dica:* use a restrição para \"substituir\" da equação de Bellman."
      ]
    },
    {
      "cell_type": "markdown",
      "metadata": {
        "id": "Gdh6-P2-BomO"
      },
      "source": [
        "## Item b) \n",
        "\n",
        "Assumindo solução interior, encontre a equação de Euler. Interprete a equação de Euler."
      ]
    },
    {
      "cell_type": "markdown",
      "metadata": {
        "id": "YBrwk232BqtF"
      },
      "source": [
        "## Item c)\n",
        "\n",
        "Considerando $u (c_t) = \\ln c_t$ e $f (k_t) = Ak^{\\alpha}_t$, apresente a equação de Euler. Analise como a taxa de crescimento do consumo, $\\Delta \\ln c_{t+1}$, depende de $\\tau$ e $\\chi_t$. Explique os resultados."
      ]
    },
    {
      "cell_type": "markdown",
      "metadata": {
        "id": "QdRTodXgBsmT"
      },
      "source": [
        "# Problema 3) \n",
        "\n",
        "Considere o problema:\n",
        "\n",
        "$$\\max_{\\{c_t\\}_{t=0}^{\\infty}} \\sum^{\\infty}_{t=0} \\beta^t u(c_t)$$ \n",
        "$$\\text{sujeito a}\n",
        "\\begin{cases} \n",
        "c_t + k_{t+1} = y_t \\\\\n",
        "y_t = Ak^{\\alpha}_t \\\\\n",
        "k_0 \\quad \\text{dado},   \n",
        "\\end{cases}$$\n",
        "\n",
        "em que $c_t$ é o consumo, $k_{t+1}$ é o capital, $y_t = Ak^{\\alpha}_t$ é a função de produção. Ainda, $\\beta \\in (0, 1)$, $A > 0$ e $0 < \\alpha < 1$."
      ]
    },
    {
      "cell_type": "markdown",
      "metadata": {
        "id": "GGgaqtinBvab"
      },
      "source": [
        "## Item a) \n",
        "\n",
        "Escreva a equação de Bellman deste problema. *Dica:* use as restrições para \"substituir\" e $y_t$ na equação de Bellman."
      ]
    },
    {
      "cell_type": "markdown",
      "metadata": {
        "id": "YoYA-mavBw4K"
      },
      "source": [
        "## Item b) \n",
        "\n",
        "Encontre a solução deste problema (funções políticas para $c_t$ e $k_{t+1}$) por meio da iteração da função valor, começando com $V_0 = 0$ em:\n",
        "\n",
        "$$V_1 (k) = \\max_{\\tilde{k}} \\Big\\{ \\ln (Ak^\\alpha - \\tilde{k}) + \\beta V_0 (\\tilde{k}) \\Big\\}$$\n",
        "\n",
        "*Dica:* como $V_0 = 0$, inicialmente todo recurso é alocado ao consumo. Sabendo disso, encontre $V_1 (k)$. Depois, maximize:\n",
        "\n",
        "$$V_2 (k) = \\max_{\\tilde{k}} \\Big\\{ \\ln (Ak^\\alpha - \\tilde{k}) + \\beta V_1 (\\tilde{k}) \\Big\\}$$\n",
        "\n",
        "Faça esse procedimento sucessivas vezes, até a solução se tornar evidente"
      ]
    },
    {
      "cell_type": "markdown",
      "metadata": {
        "id": "ejhGqGuHB0S-"
      },
      "source": [
        "c) Suponha que $\\tilde{k} = Ak^{\\alpha}$, em que $\\gamma$ é uma constante inderteminda, e verifique se esta solução é válida. *Dica:* i) Faça a CPO e o teorema do envelope (Benveniste e Scheinkman) e, posteriormente, use $\\tilde{k} = Ak^{\\alpha}$"
      ]
    },
    {
      "cell_type": "markdown",
      "metadata": {
        "id": "auj4aX7_B1_r"
      },
      "source": [
        "## Item d) \n",
        "\n",
        "Suponha que $V(\\tilde{k}) = E + F ln \\tilde{k}$, em que $E$ e $F$ são constantes indeterminadas, e verifique se esta solução é válida.\n",
        "\n",
        "Dicas: i) escreva a equação de Bellman, substituindo $V(\\tilde{k})$ e verifique se a solução proposta é válida para V (k); ii) use as restrições para \"substituir\" $c_t$ e $y_t$ na equação de Bellman."
      ]
    },
    {
      "cell_type": "markdown",
      "metadata": {
        "id": "w_yRiJv3B5Gl"
      },
      "source": [
        "## Item e) \n",
        "\n",
        "Considere $\\beta = 0.98$, $\\alpha = 1/3$ e $A = 2$. Usando as funções políticas encontradas nos itens anteriores, construa as sequências $\\{y_t, k_t, c_t\\}^T_{t=0}$, para $T = 30$. Assuma que $k_0 = 0.1$"
      ]
    },
    {
      "cell_type": "markdown",
      "metadata": {
        "id": "wUYHwSQXB69c"
      },
      "source": [
        "# Problema 4)\n",
        "\n",
        "Considere o seguinte modelo RBC (Kydland e Prescott, 1982; Long e Plosser, 1983):\n",
        "\n",
        "$$\\max_{\\{c_t,k_t, n_t\\}_{t=0}^{\\infty}} E_0 \\sum^{\\infty}_{t=0} \\beta^t [\\ln c_t + \\delta \\ln(1-n_t)]$$ \n",
        "\n",
        "$$\\text{sujeito a}\n",
        "\\begin{cases} \n",
        "c_t + k_{t} = y_t \\\\\n",
        "y_{t+1} = A_{t+1} k^{\\alpha}_t n^{1-\\alpha}_t\\\\\n",
        "\\ln A_{t+1} = \\rho \\ln A_t + \\xi_t   \n",
        "\\end{cases}$$. \n",
        "\n",
        "em que $c_t$ é o consumo, $k_t$ é o capital, $n_t$ é o trabalho. O par‚metro $\\rho \\in (-1, 1)$ e $xi_t$ evolui de acordo com um processo de Markov, de modo que $E_t [\\xi_{t+i}] = 0$ para i > 0."
      ]
    },
    {
      "cell_type": "markdown",
      "metadata": {
        "id": "aWUHT-yzB9Ob"
      },
      "source": [
        "## Item a)\n",
        "Construa a equação de Bellman."
      ]
    },
    {
      "cell_type": "markdown",
      "metadata": {
        "id": "m0_ElyQhB-y4"
      },
      "source": [
        "## Item b) \n",
        "\n",
        "Resolva o problema, supondo que função valor seja tal que \n",
        "\n",
        "$$V (y_t, A_t) = D + G \\ln y_t + H \\ln A_t$$\n",
        "\n",
        "em que $D$, $$ e $H$ são coeÖcientes que devem ser determinados. Em outras palavras, encontre as trajetórias de $k_t$, $n_t$ e $c_t$. \n",
        "\n",
        "Dicas: i) substitua $c_t$ e $y_{t+1}$, usando as restrições $c_t = y_t - k_t$ e $y_{t+1} = A_{t+1} k^{\\alpha}_t n^{1-\\alpha}_t$; ii) calcule e use $E_t [\\ln A_{t+1}]$"
      ]
    },
    {
      "cell_type": "markdown",
      "metadata": {
        "id": "WF10SqfLCAw5"
      },
      "source": [
        "## Item c) \n",
        "\n",
        "Considerando $\\beta = 0. 98$, $\\delta = 0.5$, $\\alpha = 1/3$ e $\\rho = 0.75$, simule 10 trajetórias de $\\{y_t, k_t, n_t, c_t \\}^T_{t=0}$ considerando $y_0 = 0.1$, $A_0 = 1$ e $T = 100$. Para tanto, assuma que $\\xi_t$ tem dois estados $\\xi^P$ e $\\xi^N = -\\xi^P$, com as seguintes probabilidades de transição:\n",
        "\n",
        "\\begin{align}\n",
        "P =\n",
        "\\begin{pmatrix}\n",
        "p_{11} & p_{21} \\\\\n",
        "p_{12} & p_{22} \n",
        "\\end{pmatrix}\n",
        "=\n",
        "\\begin{pmatrix}\n",
        "p_{11} - 1 & p_{22} \\\\\n",
        "1 - p_{11} & p_{22}\n",
        "\\end{pmatrix},\n",
        "\\end{align}\n",
        "\n",
        "em que $p_{ij} = Pr [s_t = j |s_{t-1} = i]$, em que $s_t$ indica o estado no período t. Suponha que $p_{11} = p_{22} = 1/2$. Considere o seguinte grid para $\\xi^P = [0.5, 0.10, 0.15]$. \n",
        "\n",
        "*Dicas:* i) simule $\\ln A_{t+1} = \\rho \\ln A_t + \\xi_{t+1}$, usando $A_0 = 1$ e fazendo sorteios para a sequência $\\xi_1,..., \\xi_T$, ii) tomando-se o exponencial, encontra-se a sequência $A_1,...,A_T$."
      ]
    },
    {
      "cell_type": "markdown",
      "metadata": {
        "id": "VYxcM96vCCXn"
      },
      "source": [
        "## Item d) \n",
        "\n",
        "Refaça a letra (c) considerando outros valores para os parâmetros de preferência e de tecnologia."
      ]
    }
  ]
}