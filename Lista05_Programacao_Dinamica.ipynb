{
  "nbformat": 4,
  "nbformat_minor": 0,
  "metadata": {
    "colab": {
      "name": "Lista05_Programacao_Dinamica.ipynb",
      "provenance": [],
      "collapsed_sections": [],
      "toc_visible": true,
      "authorship_tag": "ABX9TyPAyuX74ZrpDFtXim8/3VlX"
    },
    "kernelspec": {
      "name": "python3",
      "display_name": "Python 3"
    },
    "language_info": {
      "name": "python"
    }
  },
  "cells": [
    {
      "cell_type": "markdown",
      "metadata": {
        "id": "HStjL-f85eIy"
      },
      "source": [
        "# Problema 1) \n",
        "\n",
        "Considere que se queira maximizar $\\sum^{t=0}_{\\infty} \\beta^t u(c_t)$ sujeito às restrições:\n",
        "\n",
        "\n",
        "1. O consumo mais o investimento somam a quantidade produzida:\n",
        "$$c_t + i_t = f (k_t)$$\n",
        "em que $c_t$ é o consumo, $i_t$ é o invetimento e $f(k_t)$ é a função de produto que depende do capital ($k_t$). Esta é uma restrição de factibilidade.\n",
        "\n",
        "2. Lei de movimento do capital:\n",
        "$$k_{t+1} = (1 - \\delta) k_t + i_t$$\n",
        "em que $\\delta \\in (0, 1)$ é a taxa de depreciação.\n",
        "\n",
        "3. $k_0$ é dado.\n",
        "$u'(\\cdot)>0, u''(\\cdot) < 0$ e $\\beta \\in (0,1)$. Portanto, o problema torna-se    \n",
        "\n",
        "$$\\max_{\\{c_t,i_t\\}_{t=0}^{\\infty}} \\sum^{\\infty}_{t=0} \\beta^t u(c_t)$$ \n",
        "\n",
        "$$\\text{sujeito a}\n",
        "\\begin{cases} \n",
        "c_t + i_t = f(k_t) \\\\ \n",
        "k_{t+1} = (1-\\delta) k_t + i_t \\\\  \n",
        "k_0 \\quad \\text{dado}    \n",
        "\\end{cases}$$"
      ]
    },
    {
      "cell_type": "markdown",
      "metadata": {
        "id": "4X7mAyjhBaYe"
      },
      "source": [
        "## Item a)\n",
        "\n",
        "Escreva a equação de Bellman deste problema. *Dica:* use $i_t = k_{t+1} - (1 - \\delta) k_t$, para \"eliminar\" $i_t$ da restrição de factibilidade. Posteriormente, use a expressão obtida para substituir $c_t$ da equação de Bellman.\n",
        "\n",
        "---\n",
        "\n",
        "**Resposta**\n",
        "\n",
        "Substituindo a restrição $i_t = k_{t+1} - (1 - \\delta) k_t$ na outra restrição, o problema de maximização torna-se:\n",
        "\n",
        "$$\\max_{\\{c_t\\}_{t=0}^{\\infty}} \\sum^{\\infty}_{t=0} \\beta^t u(c_t)$$ \n",
        "\n",
        "$$\\text{sujeito a}\n",
        "\\begin{cases} \n",
        "c_t = f(k_t) - [k_{t+1} - (1-\\delta) k_t ]\\\\\n",
        "k_0 \\quad \\text{dado}    \n",
        "\\end{cases}$$\n",
        "\n",
        "\n",
        "Seja\n",
        "\\begin{align*}\n",
        "V(k_0) & = \\max_{\\{c_t\\}_{t=0}^{\\infty}} \\Big\\{ u(c_0) +  \\sum^{\\infty}_{t=0} \\beta^{t+1} u(c_{t+1}) \\Big\\} \\\\\n",
        "V(k_0) & = \\max_{\\{c_0\\}} \\Big\\{ u(c_0) + \\beta \\max_{\\{c_t\\}_{t=1}^{\\infty}} \\sum^{\\infty}_{t=0} \\beta^{t} u(c_{t+1})\\Big\\}  \\\\\n",
        "V(k_0) & = \\max_{\\{c_0\\}} \\Big\\{ u(c_0) + \\beta V(k_{1}) \\Big\\}\n",
        "\\end{align*}\n",
        "\n",
        "Fazendo este processo recursivamente, temos para todo $t$ a equação de Bellman:\n",
        "$$ V(k_t) = \\max_{\\{c_t\\}} \\Big\\{ u(c_t) + \\beta V(k_{t+1}) \\Big\\} $$"
      ]
    },
    {
      "cell_type": "markdown",
      "metadata": {
        "id": "F-b4l_oqBcN8"
      },
      "source": [
        "## Item b)\n",
        "Assumindo solução interior, encontre a equação de Euler. Interprete a equação de Euler.\n",
        "\n",
        "---\n",
        "\n",
        "**Resposta**\n",
        " \n",
        "Da equação de Bellman:\n",
        "$$ V(k_t) = \\max_{\\{c_t\\}} \\Big\\{ u(c_t) + \\beta V(k_{t+1}) \\Big\\} $$\n",
        "\n",
        "A condição de primeira ordem deste problema de maximização:\n",
        "\n",
        "\\begin{align}0 = -u' (c_t)+ \\beta V'(k_{t+1})\\tag{1.1}\\end{align}\n",
        "\n",
        "E utilizando o Teorema de Benveniste-Scheinkman:\n",
        "\n",
        "$$ V'(k_t) = \\big[f'(k_t) + (1-\\delta) \\big] u' \\Big (f(k_t) - [k_{t+1} - (1-\\delta) k_t] \\Big)$$\n",
        "$$ \\Rightarrow $$\n",
        "\\begin{align}V'(k_{t+1}) = \\big[f'(k_t) + (1-\\delta) \\big] u'(c_{t+1}) \\tag{1.2}\\end{align}\n",
        "\n",
        "Podemos então substituir (1.1) em (1.2) e encontrar:\n",
        "\n",
        "$$ u' (c_t) = \\beta \\big[f'(k_t) + (1-\\delta) \\big] u'(c_{t+1})$$\n",
        "$$ \\Rightarrow $$\n",
        "$$ \\frac{u'(c_{t})}{ u'(c_{t+1})} = \\beta \\big[f'(k_t) + (1-\\delta) \\big]$$\n",
        "\n",
        "A equação de Euler deste problema diz que no ponto ótimo, a utilidade marginal do consumo no tempo $t$ deve ser igual à utilidade marginal do consumo no tempo $t+1$ descontada a uma taxa $\\beta \\big[f'(k_t) + (1-\\delta) \\big]$. Isto é, o indivíduo está disposto a trocar consumo hoje, por um consumo amanhã se a razão das utilidades marginais for maior que a taxa de desconto do mercado.\n"
      ]
    },
    {
      "cell_type": "markdown",
      "metadata": {
        "id": "ykPvrnOuBeXC"
      },
      "source": [
        "## Item c)\n",
        "Considerando $u(c_t) = ln(c_t)$ e $f(k_t) = 2k^{1/2}_t$, apresente a equação de Euler. Analise como a taxa de crescimento do consumo, $\\Delta \\ln c_{t+1}$, depende de $\\beta$ e $\\delta$.\n",
        "\n",
        "\n",
        "$$ \\frac{\\frac{1}{c_t}}{\\frac{1}{c_{t+1}}} = \\beta \\big[\\frac{1}{k^{1/2}} + (1-\\delta) \\big]$$\n",
        "$$ \\Delta \\ln c_{t+1} =   \\ln \\Big[ \\frac{1 }{k^{1/2}} + (1- \\delta) \\Big] + \\ln \\beta$$\n",
        "\n",
        "Para encontrar o efeito parcial de $\\beta$ e $\\delta$:\n",
        "\n",
        "$$\\frac{\\partial \\Delta \\ln c_{t+1} }{\\partial \\beta} = \\frac{1}{\\beta} > 0$$\n",
        "\n",
        "e também\n",
        "\n",
        "$$\\frac{\\partial \\Delta \\ln c_{t+1} }{\\partial \\delta} =  \\frac{-1}{\\Big[ \\frac{1 }{k^{1/2}} + (1- \\delta) \\Big] } < 0$$"
      ]
    },
    {
      "cell_type": "markdown",
      "metadata": {
        "id": "9QqadtMPBgpT"
      },
      "source": [
        "## Item d)\n",
        "\n",
        "Considerando $u(c_t) = 2 c^{1/2}_t$ e $f(k_t) = 3k^{1/3}_t$, apresente a equação de Euler. Analise como a taxa de crescimento do consumo, $\\Delta \\ln c_{t+1}$, depende de $\\beta$ e $\\delta$.\n",
        "\n",
        "$$ \\frac{\\frac{1}{c_t^{1/2}}}{\\frac{1}{c_{t+1}^{1/2}}} = \\beta \\bigg[\\frac{1}{k_t^{2/3}}+ (1-\\delta) \\bigg]$$\n",
        "$$  \\bigg( \\frac{c_{t+1}} { c_t }  \\bigg)^{1/2}= \\beta \\bigg[\\frac{1}{k_t^{2/3}}+ (1-\\delta) \\bigg]$$\n",
        "$$ \\Delta \\ln c_{t+1} = 2 \\ln \\Bigg( \\beta \\bigg[\\frac{1}{k_t^{2/3}}+ (1-\\delta) \\bigg] \\Bigg)$$\n",
        "\n",
        "Para encontrar o efeito parcial de $\\beta$ e $\\delta$:\n",
        "\n",
        "$$\\frac{\\partial \\Delta \\ln c_{t+1} }{\\partial \\beta} = \\frac{2}{\\beta} $$\n",
        "\n",
        "e também\n",
        "\n",
        "$$\\frac{\\partial \\Delta \\ln c_{t+1} }{\\partial \\delta} =  \\frac{-2}{\\frac{1}{k_t^{2/3}}+ (1-\\delta) } < 0$$\n"
      ]
    },
    {
      "cell_type": "markdown",
      "metadata": {
        "id": "rRSyMqSPBjiH"
      },
      "source": [
        "# Problema 2) \n",
        "\n",
        "Considere o problema de Ramsey de escolher a trajetória $\\{c_t\\}_{t=0}^{\\infty}$ que maximiza $\\sum^{\\infty}_{t=0} \\beta^t u(c_t)$ sujeito à restrição $c_t + k_{t+1} = f(k_t)$, em que $k_0$ é dado. Vamos supor que o governo cria um imposto de $\\tau \\%$ sobre a produção e um benefício lump-sum $\\chi_t$, de modo que o problema torna-se\n",
        "\n",
        "\n",
        "$$\\max_{\\{c_t\\}_{t=0}^{\\infty}} \\sum^{\\infty}_{t=0} \\beta^t u(c_t)$$ \n",
        "$$\\text{sujeito a}\n",
        "\\begin{cases} \n",
        "c_t + k_{t+1} = (1-\\tau)f(k_t)  + \\chi_t \\\\\n",
        "k_0 \\quad \\text{dado}    \n",
        "\\end{cases}$$\n",
        "\n",
        "Assuma que $u' (\\cdot) > 0$, $u''(\\cdot) < 0$, $\\beta \\in (0, 1)$ e $\\tau \\in (0,1)$."
      ]
    },
    {
      "cell_type": "markdown",
      "metadata": {
        "id": "r01cY6ZcBnEC"
      },
      "source": [
        "## Item a) \n",
        "\n",
        "Escreva a equação de Bellman deste problema. *Dica:* use a restrição para \"substituir\" $c_t$ da equação de Bellman.\n",
        "\n",
        "---\n",
        "\n",
        "**Resposta**\n",
        "\n",
        "Seja\n",
        "\n",
        "$$ V(k_t) = \\max_{\\{c_t\\}} \\Big\\{ u(c_t) + \\beta V(k_{t+1}) \\Big\\} $$\n",
        "\n",
        "Substituindo a restrição:\n",
        "\n",
        "\n",
        "$$ V(k_t) = \\max_{\\{k_{t+1}\\}} \\Big\\{ u \\big[ (1-\\tau)f(k_t)  + \\chi_t -  k_{t+1} \\big] + \\beta V(k_{t+1}) \\Big\\} $$"
      ]
    },
    {
      "cell_type": "markdown",
      "metadata": {
        "id": "Gdh6-P2-BomO"
      },
      "source": [
        "## Item b) \n",
        "\n",
        "Assumindo solução interior, encontre a equação de Euler. Interprete a equação de Euler.\n",
        "\n",
        "\n",
        "A condição de primeira ordem deste problema de maximização:\n",
        "\n",
        "\\begin{align}0 = -u' (c_t)+ \\beta V'(k_{t+1})\\tag{2.1}\\end{align}\n",
        "\n",
        "E utilizando o Teorema de Benveniste-Scheinkman:\n",
        "\n",
        "$$ V'(k_t) = (1-\\tau)f'(k_t) u'\\big[(1-\\tau)f(k_t)  + \\chi_t - k_{t+1} \\big]$$\n",
        "$$ \\Rightarrow $$\n",
        "\\begin{align}V'(k_{t+1}) =(1-\\tau)f'(k_t) u'(c_{t+1}) \\tag{2.2}\\end{align}\n",
        "\n",
        "Podemos então substituir (1.1) em (1.2) e encontrar:\n",
        "\n",
        "$$ u' (c_t) = \\beta \\big[f'(k_t) + (1-\\delta) \\big] u'(c_{t+1})$$\n",
        "$$ \\Rightarrow $$\n",
        "$$ \\frac{u'(c_{t})}{ u'(c_{t+1})} = \\beta (1-\\tau)f'(k_t)$$\n",
        "\n",
        "A equação de Euler deste problema diz que no ponto ótimo, a utilidade marginal do consumo no tempo $t$ deve ser igual à utilidade marginal do consumo no tempo $t+1$ descontada a uma taxa $\\beta (1-\\tau)f'(k_t)$. Isto é, o indivíduo está disposto a trocar consumo hoje, por um consumo amanhã se a razão das utilidades marginais for maior que a taxa de desconto do mercado."
      ]
    },
    {
      "cell_type": "markdown",
      "metadata": {
        "id": "YBrwk232BqtF"
      },
      "source": [
        "## Item c)\n",
        "\n",
        "Considerando $u (c_t) = \\ln c_t$ e $f (k_t) = Ak^{\\alpha}_t$, apresente a equação de Euler. Analise como a taxa de crescimento do consumo, $\\Delta \\ln c_{t+1}$, depende de $\\tau$ e $\\chi_t$. Explique os resultados.\n",
        "\n",
        "---\n",
        "\n",
        "**Resposta**\n",
        "\n",
        "\n",
        "$$ \\frac{c_{t+1}}{ c_{t}} = \\beta (1-\\tau) \\alpha Ak^{\\alpha-1 }_t$$\n",
        "$$ \\Delta \\ln c_{t+1} = \\ln \\beta + \\ln (1-\\tau) + \\ln \\alpha + \\ln A + (\\alpha-1) \\ln k_t$$\n",
        "\n",
        "Para encontrar o efeito parcial de $\\tau$ e $\\chi_t$:\n",
        "\n",
        "$$\\frac{\\partial \\Delta \\ln c_{t+1} }{\\partial \\tau} = -\\frac{1}{1-\\tau} $$\n",
        "\n",
        "e também\n",
        "\n",
        "$$\\frac{\\partial \\Delta \\ln c_{t+1} }{\\partial \\chi_t} = 0$$\n"
      ]
    },
    {
      "cell_type": "markdown",
      "metadata": {
        "id": "QdRTodXgBsmT"
      },
      "source": [
        "# Problema 3) \n",
        "\n",
        "Considere o problema:\n",
        "\n",
        "$$\\max_{\\{c_t\\}_{t=0}^{\\infty}} \\sum^{\\infty}_{t=0} \\beta^t u(c_t)$$ \n",
        "$$\\text{sujeito a}\n",
        "\\begin{cases} \n",
        "c_t + k_{t+1} = y_t \\\\\n",
        "y_t = Ak^{\\alpha}_t \\\\\n",
        "k_0 \\quad \\text{dado},   \n",
        "\\end{cases}$$\n",
        "\n",
        "em que $c_t$ é o consumo, $k_{t+1}$ é o capital, $y_t = Ak^{\\alpha}_t$ é a função de produção. Ainda, $\\beta \\in (0, 1)$, $A > 0$ e $0 < \\alpha < 1$."
      ]
    },
    {
      "cell_type": "markdown",
      "metadata": {
        "id": "GGgaqtinBvab"
      },
      "source": [
        "## Item a) \n",
        "\n",
        "Escreva a equação de Bellman deste problema. *Dica:* use as restrições para \"substituir\" e $y_t$ na equação de Bellman.\n",
        "\n",
        "---\n",
        "\n",
        "**Resposta**\n",
        "\n",
        "Seja\n",
        "\n",
        "$$ V(k_t) = \\max_{\\{c_t\\}} \\Big\\{ u(c_t) + \\beta V(k_{t+1}) \\Big\\} $$\n",
        "\n",
        "Substituindo a restrição:\n",
        "\n",
        "$$ V(k_t) = \\max_{\\{k_{t+1}\\}} \\Big\\{ u(Ak^{\\alpha}_t - k_{t+1}) + \\beta V(k_{t+1}) \\Big\\} $$\n"
      ]
    },
    {
      "cell_type": "markdown",
      "metadata": {
        "id": "YoYA-mavBw4K"
      },
      "source": [
        "## Item b)\n",
        "\n",
        "Encontre a solução deste problema (funções políticas para $c_t$ e $k_{t+1}$) por meio da iteração da função valor, começando com $V_0 = 0$ em:\n",
        "\n",
        "$$V_1 (k) = \\max_{\\tilde{k}} \\Big\\{ \\ln (Ak^\\alpha - \\tilde{k}) + \\beta V_0 (\\tilde{k}) \\Big\\}$$\n",
        "\n",
        "*Dica:* como $V_0 = 0$, inicialmente todo recurso é alocado ao consumo. Sabendo disso, encontre $V_1 (k)$. Depois, maximize:\n",
        "\n",
        "$$V_2 (k) = \\max_{\\tilde{k}} \\Big\\{ \\ln (Ak^\\alpha - \\tilde{k}) + \\beta V_1 (\\tilde{k}) \\Big\\}$$\n",
        "\n",
        "Faça esse procedimento sucessivas vezes, até a solução se tornar evidente.\n",
        "\n",
        "---\n",
        "\n",
        "**Resposta**\n",
        "\n",
        "$$V_1 (k) = \\max_{\\tilde{k}} \\Big\\{ \\ln (Ak^\\alpha - \\tilde{k})\\Big\\}$$\n",
        "\n",
        "Como a função $\\ln(\\cdot)$ é decrescente em $\\tilde{k}$ e $k_t \\geq 0$, para maximizar esta forma funcional escolho $\\tilde{k} = 0$, tal que $V_1 (k) = \\ln (Ak^\\alpha)$. Substituindo esta expressão em $V_2$.\n",
        "\n",
        "$$V_2 (k) = \\max_{\\tilde{k}} \\Big\\{ \\ln (Ak^\\alpha - \\tilde{k}) + \\beta [\\ln (A\\tilde{k}^\\alpha)] \\Big\\}$$\n",
        "\n",
        "maximizando, \n",
        "\n",
        "$$0 =  -\\frac{1}{Ak^\\alpha - \\tilde{k}} + \\beta \\frac{\\alpha \\tilde{k}^{\\alpha-1}}{A\\tilde{k}^\\alpha}$$\n",
        "$$\\frac{1}{Ak^\\alpha - \\tilde{k}} = \\frac{\\beta \\alpha}{A\\tilde{k}}$$\n",
        "$$A\\tilde{k} =  A  \\beta \\alpha k^\\alpha - \\beta \\alpha \\tilde{k}$$\n",
        "$$\\tilde{k} =  \\frac{A \\beta \\alpha k^\\alpha}{A + \\beta \\alpha}$$\n",
        "\n",
        "Substituindo em $V_2$:\n",
        "\n",
        "$$V_2 (k) = \\ln \\Big(Ak^\\alpha - \\frac{A \\beta \\alpha k^\\alpha}{A + \\beta \\alpha} \\Big) + \\beta \\bigg[\\ln A \\Big(\\frac{A \\beta \\alpha k^\\alpha}{A + \\beta \\alpha}\\Big)^\\alpha  \\bigg] $$\n",
        "$$V_2 (k) = \\ln \\Big(Ak^\\alpha (\\frac{A + \\beta \\alpha - \\beta \\alpha}{A + \\beta \\alpha}) \\Big) + \\beta \\bigg[\\ln A + \\alpha \\ln \\frac{A \\beta \\alpha k^\\alpha}{A + \\beta \\alpha}  \\bigg] $$\n",
        "\n",
        "\n",
        "\n",
        "Substituindo $V_2$ em $V_3(k)$:\n",
        "$$V_3 (k) = \\max_{\\tilde{k}} \\Big\\{ \\ln (Ak^\\alpha - \\tilde{k}) + \\beta V_2 (\\tilde{k}) \\Big\\}$$\n",
        "\n",
        "\n",
        "$$V_3 (k) = \\max_{\\tilde{k}} \\Bigg\\{ \\ln (Ak^\\alpha - \\tilde{k}) + \\beta \\Bigg[ \\ln \\Big(\\frac{A^2 k^\\alpha}{A + \\beta \\alpha} \\Big) + \\beta \\bigg[\\ln A + \\alpha \\ln \\frac{A \\beta \\alpha k^\\alpha}{A + \\beta \\alpha}  \\bigg] \\Bigg] \\Bigg\\}$$\n",
        "\n",
        "Calculando a condição de primeira ordem:\n",
        "\n",
        "$$\\tilde{k} = \\frac{\\alpha \\beta + \\alpha^2 \\beta^2 }{1 + \\alpha \\beta + \\alpha^2 \\beta^2}Ak^\\alpha$$\n",
        "\n",
        "Este padrão da função política se repetirá, de forma que podemos escrever\n",
        "\n",
        "$$\\tilde{k} = \\alpha \\beta \\frac{\\sum_{i = 0}^{T-1} \\alpha^i \\beta^i}{\\sum_{i = 0}^{T} \\alpha^i \\beta^i}Ak^\\alpha$$\n",
        "\n",
        "Quando $T \\to \\infty$, podemos escrever então\n",
        "\n",
        "$$\\tilde{k} = \\alpha \\beta Ak^\\alpha$$\n",
        "\n",
        "Substituindo esta função política na restrição $c_t = Ak^\\alpha - \\tilde{k}$:\n",
        "\n",
        "$$c_{t} = Ak^\\alpha - \\alpha \\beta Ak^\\alpha$$\n",
        "$$c_{t} = Ak^\\alpha(1 - \\beta \\alpha)$$\n"
      ]
    },
    {
      "cell_type": "markdown",
      "metadata": {
        "id": "ejhGqGuHB0S-"
      },
      "source": [
        "## Item c)\n",
        "\n",
        "Suponha que $\\tilde{k} = \\gamma Ak^{\\alpha}$, em que $\\gamma$ é uma constante indeterminada, e verifique se esta solução é válida. *Dica:* i) Faça a CPO e o teorema do envelope (Benveniste e Scheinkman) e, posteriormente, use $\\tilde{k} = \\gamma Ak^{\\alpha}$.\n",
        "\n",
        "---\n",
        "\n",
        "**Resposta**\n",
        "\n",
        "Seja a equação de Bellman:\n",
        "$$V(k) = \\max_{\\tilde{k}} \\{\\ln (Ak^\\alpha - \\tilde{k}) + \\beta V(\\tilde{k})\\}$$\n",
        "\n",
        "Calculando a CPO\n",
        "\n",
        "$$0 = - \\frac{1}{Ak^\\alpha - \\tilde{k}} + \\beta V'(\\tilde{k})$$\n",
        "$$\\frac{1}{Ak^\\alpha - \\tilde{k}} = \\beta V'(\\tilde{k})$$\n",
        "\n",
        "Utilizando o Teorema de Benveniste Scheinkman:\n",
        "\n",
        "$$V'(k) = \\alpha Ak^{\\alpha-1} \\frac{1}{Ak^\\alpha - \\tilde{k}}$$\n",
        "\n",
        "Suponha que $\\tilde{k} = \\gamma Ak^{\\alpha}$, podemos substituir na última expressao:\n",
        "\n",
        "$$V'(k) = Ak^{\\alpha-1} \\frac{\\alpha }{Ak^\\alpha -\\gamma Ak^{\\alpha}} = \\frac{\\alpha }{(1 -\\gamma) k}$$\n",
        "\n",
        "Substituindo esta última expressão na CPO\n",
        "\n",
        "$$\\frac{1}{Ak^\\alpha - \\tilde{k}} = \\beta \\frac{\\alpha }{(1 -\\gamma) \\tilde{k}}$$\n",
        "$$\\Rightarrow$$\n",
        "$$(Ak^\\alpha - \\tilde{k})\\alpha  \\beta  =(1 -\\gamma) \\tilde{k}$$\n",
        "\n",
        "Usando novamente $\\tilde{k} = \\gamma Ak^{\\alpha}$\n",
        "\n",
        "$$(Ak^\\alpha -  \\gamma Ak^{\\alpha}) \\alpha \\beta  =(1 -\\gamma)  \\gamma Ak^{\\alpha}$$\n",
        "$$\\Rightarrow$$\n",
        "$$ \\alpha \\beta  = \\gamma $$\n",
        "\n",
        "Podemos substituir entao $\\gamma$ no palpite inicial de $\\tilde{k}$ e encontrar a função política $\\tilde{k} = \\alpha \\beta Ak^{\\alpha}$ e substituindo na restrição $c = y - \\tilde{k}$, temos:\n",
        "\n",
        "$$ c = A k^{\\alpha} - \\alpha \\beta Ak^{\\alpha} $$\n",
        "$$ c = A k^{\\alpha}(1 - \\alpha \\beta)$$\n"
      ]
    },
    {
      "cell_type": "markdown",
      "metadata": {
        "id": "auj4aX7_B1_r"
      },
      "source": [
        "## Item d) \n",
        "\n",
        "Suponha que $V(\\tilde{k}) = E + F \\ln \\tilde{k}$, em que $E$ e $F$ são constantes indeterminadas, e verifique se esta solução é válida.\n",
        "\n",
        "*Dicas*: i) escreva a equação de Bellman, substituindo $V(\\tilde{k})$ e verifique se a solução proposta é válida para V (k); ii) use as restrições para \"substituir\" $c_t$ e $y_t$ na equação de Bellman.\n",
        "\n",
        "---\n",
        "\n",
        "**Resposta**:\n",
        "\n",
        "Suponha $V (\\tilde{k}) = E + F \\ln  \\tilde{k} $\n",
        "\n",
        "$$V(k) = \\max_{\\tilde{k}} \\{\\ln(Ak^{\\alpha} - \\tilde{k}) + \\beta V(\\tilde{k})\\}$$\n",
        "$$V(k) = \\max_{\\tilde{k}} \\{\\ln(Ak^{\\alpha} - \\tilde{k}) + \\beta (E + F \\ln  \\tilde{k}) \\}$$\n",
        "\n",
        "A condição de primeira ordem deste problema de otimização:\n",
        "\n",
        "$$\\frac{1}{Ak^{\\alpha}- \\tilde{k}} = \\frac{\\beta F}{\\tilde{k}} $$\n",
        "$$\\tilde{k} = \\beta F Ak^{\\alpha} - \\beta F \\tilde{k}$$\n",
        "$$\\tilde{k} (1+ \\beta F) = \\beta F Ak^{\\alpha}$$\n",
        "$$\\tilde{k} = \\frac{\\beta F Ak^{\\alpha}}{1+ \\beta F}$$\n",
        "\n",
        "Substituindo na equação de Bellman\n",
        "\n",
        "$$E + F \\ln k = \\ln \\bigg(Ak^{\\alpha} - \\frac{\\beta F Ak^{\\alpha}}{1+ \\beta F}\\bigg) + \\beta \\bigg(E + F \\ln  \\frac{\\beta F Ak^{\\alpha}}{1+ \\beta F}\\bigg) $$\n",
        "$$E + F \\ln k = \\ln \\bigg(\\frac{Ak^{\\alpha}}{1+ \\beta F}\\bigg) + \\beta \\bigg(E + F \\ln  \\frac{\\beta F A}{1+ \\beta F}\\bigg) + \\alpha \\beta F \\ln  k$$\n",
        "$$E + F \\ln k = \\ln \\bigg(\\frac{A}{1+ \\beta F}\\bigg) + \\alpha \\ln k+ \\beta \\bigg(E + F \\ln  \\frac{\\beta F A}{1+ \\beta F}\\bigg) + \\alpha \\beta F \\ln  k$$\n",
        "\n",
        "Em que podemos separar\n",
        "$$E  = \\ln \\bigg(\\frac{A}{1+ \\beta F}\\bigg) + \\beta \\bigg(E + F \\ln  \\frac{\\beta F A}{1+ \\beta F}\\bigg) $$\n",
        "e também\n",
        "$$F = \\alpha  + \\alpha \\beta F $$\n",
        "$$F = \\frac{\\alpha}{1 - \\alpha \\beta} $$\n",
        "\n",
        "Portanto, podemos substituir na função política\n",
        "$$\\tilde{k} = \\frac{\\beta \\frac{\\alpha}{1 - \\alpha \\beta} Ak^{\\alpha}}{1+ \\beta \\frac{\\alpha}{1 - \\alpha \\beta}}$$\n",
        "$$\\tilde{k} = \\frac{ \\frac{\\beta \\alpha Ak^{\\alpha}}{1 - \\alpha \\beta} }{1+ \\frac{\\beta \\alpha}{1 - \\alpha \\beta}}$$\n",
        "$$\\tilde{k} = \\frac{ \\frac{\\beta \\alpha Ak^{\\alpha}}{1 - \\alpha \\beta} }{\\frac{1 - \\alpha \\beta  + \\beta \\alpha}{1 - \\alpha \\beta}}$$\n",
        "$$\\tilde{k} = \\alpha \\beta Ak^{\\alpha}$$\n",
        "\n",
        "Utilizando este último resultado encontrado na restrição orçamentária\n",
        "\n",
        "$$c_t  = A k^{\\alpha}_t - \\alpha \\beta Ak_t^{\\alpha}$$\n",
        "$$c_t  = A k^{\\alpha}_t( 1  - \\alpha \\beta)$$"
      ]
    },
    {
      "cell_type": "markdown",
      "metadata": {
        "id": "w_yRiJv3B5Gl"
      },
      "source": [
        "## Item e) \n",
        "\n",
        "Considere $\\beta = 0.98$, $\\alpha = 1/3$ e $A = 2$. Usando as funções políticas encontradas nos itens anteriores, construa as sequências $\\{y_t, k_t, c_t\\}^T_{t=0}$, para $T = 30$. Assuma que $k_0 = 0.1$"
      ]
    },
    {
      "cell_type": "code",
      "metadata": {
        "id": "sslLgpdI7p-J"
      },
      "source": [
        "import numpy as np\n",
        "import matplotlib.pyplot as plt"
      ],
      "execution_count": 94,
      "outputs": []
    },
    {
      "cell_type": "code",
      "metadata": {
        "id": "oeCxinxK7raL"
      },
      "source": [
        "beta  = 0.98\n",
        "alpha = 1/3\n",
        "A     = 2\n",
        "\n",
        "T  = 30\n",
        "k0 = 0.1"
      ],
      "execution_count": 95,
      "outputs": []
    },
    {
      "cell_type": "code",
      "metadata": {
        "id": "KrC3Y0Lt74lM"
      },
      "source": [
        "k_seq = np.zeros(T)\n",
        "c_seq = np.zeros(T)\n",
        "y_seq = np.zeros(T)\n",
        "\n",
        "k_seq[0] = k0\n",
        "c_seq[0] = A*k0**alpha*(1-alpha*beta)\n",
        "y_seq[0] = A*k0**alpha\n",
        "\n",
        "for i in range(1, T):\n",
        "\n",
        "  # Adiciono a 2 entrada da sequencia\n",
        "  k_seq[i] = alpha*beta*A*k0**alpha\n",
        "\n",
        "  # Eu salvo a entrada anterior, para usar de lag na construção de k_seq\n",
        "  k0 = np.copy(k_seq[i])\n",
        "\n",
        "  # Preencho a 2 entrada usando o k (k_seq construido no loop atual)\n",
        "  c_seq[i] = A*k0**alpha*(1-alpha*beta)\n",
        "\n",
        "  y_seq[i] = A*k0**alpha"
      ],
      "execution_count": 97,
      "outputs": []
    },
    {
      "cell_type": "code",
      "metadata": {
        "colab": {
          "base_uri": "https://localhost:8080/",
          "height": 265
        },
        "id": "i11eJaak9Szy",
        "outputId": "bbbbdbf8-d608-4524-b3fc-cec2a132b33a"
      },
      "source": [
        "plt.plot(k_seq, label = 'k_t')\n",
        "plt.plot(c_seq, label = 'c_t')\n",
        "plt.plot(y_seq, label = 'y_t')\n",
        "plt.legend()\n",
        "plt.show()"
      ],
      "execution_count": 98,
      "outputs": [
        {
          "output_type": "display_data",
          "data": {
            "image/png": "[encoded data removed]",
            "text/plain": [
              "<Figure size 432x288 with 1 Axes>"
            ]
          },
          "metadata": {
            "tags": [],
            "needs_background": "light"
          }
        }
      ]
    },
    {
      "cell_type": "markdown",
      "metadata": {
        "id": "wUYHwSQXB69c"
      },
      "source": [
        "# Problema 4)\n",
        "\n",
        "Considere o seguinte modelo RBC (Kydland e Prescott, 1982; Long e Plosser, 1983):\n",
        "\n",
        "\\begin{align}\\max_{\\{c_t,k_t, n_t\\}_{t=0}^{\\infty}} E_0 \\sum^{\\infty}_{t=0} \\beta^t [\\ln c_t + \\delta \\ln(1-n_t)] \\tag{4.1} \\end{align}\n",
        "\n",
        "$$\\text{sujeito a}\n",
        "\\begin{cases} \n",
        "c_t + k_{t} = y_t \\\\\n",
        "y_{t+1} = A_{t+1} k^{\\alpha}_t n^{1-\\alpha}_t\\\\\n",
        "\\ln A_{t+1} = \\rho \\ln A_t + \\xi_t   \n",
        "\\end{cases}$$\n",
        "\n",
        "em que $c_t$ é o consumo, $k_t$ é o capital, $n_t$ é o trabalho. O parâmetro $\\rho \\in (-1, 1)$ e $\\xi_t$ evolui de acordo com um processo de Markov, de modo que $E_t [\\xi_{t+i}] = 0$ para $i > 0$."
      ]
    },
    {
      "cell_type": "markdown",
      "metadata": {
        "id": "aWUHT-yzB9Ob"
      },
      "source": [
        "## Item a)\n",
        "Construa a equação de Bellman.\n",
        "\n",
        "---\n",
        "\n",
        "**Resposta**\n",
        "\n",
        "$$V(y_{t}, A_{t}) = \\max_{\\{c_{t},k_{t}, n_{t}\\}_{t=0}^{\\infty}} \\Big\\{ \\ln c_t + \\delta \\ln(1-n_t) + \\beta E_t[V(y_{t+1}, A_{t+1})] \\Big\\} $$"
      ]
    },
    {
      "cell_type": "markdown",
      "metadata": {
        "id": "m0_ElyQhB-y4"
      },
      "source": [
        "## Item b) \n",
        "\n",
        "Resolva o problema, supondo que função valor seja tal que \n",
        "\n",
        "$$V (y_t, A_t) = D + G \\ln y_t + H \\ln A_t$$\n",
        "\n",
        "em que $D$, $G$ e $H$ são coeficientes que devem ser determinados. Em outras palavras, encontre as trajetórias de $k_t$, $n_t$ e $c_t$. \n",
        "\n",
        "*Dicas*: i) substitua $c_t$ e $y_{t+1}$, usando as restrições $c_t = y_t - k_t$ e $y_{t+1} = A_{t+1} k^{\\alpha}_t n^{1-\\alpha}_t$; ii) calcule e use $E_t [\\ln A_{t+1}]$\n",
        "\n",
        "---\n",
        "\n",
        "**Resposta**\n",
        "\n",
        "Suponha que $V (y_t, A_t) = D + G \\ln y_t + H \\ln A_t$. Substituindo na equação de Bellman construída em (a):\n",
        "\n",
        "\n",
        "$$D + G \\ln y_t + H \\ln A_t = \\max_{\\{k_{t}, n_{t}\\}_{t=0}^{\\infty}} \\Big\\{ \\ln c_t + \\delta \\ln(1-n_t) + \\beta E_t \\big[D + G \\ln y_{t+1} + H \\ln A_{t+1} \\big] \\Big\\} $$\n",
        "$$\\Rightarrow$$\n",
        "$$D + G \\ln y_t + H \\ln A_t= \\max_{\\{k_{t}, n_{t}\\}_{t=0}^{\\infty}} \\Big\\{ \\ln c_t + \\delta \\ln(1-n_t) + D  \\beta + G  \\beta E_t [\\ln y_{t+1}] + H  \\beta E_t [\\ln A_{t+1}] \\Big\\} $$\n",
        "\n",
        "Substituindo a restrição $c_t = y_t -  k_{t}$ na equação acima, eliminamos uma dimensão do problema de maximização e podemos fazer isso também em $y_{t+1} = A_{t+1} k^{\\alpha}_t n^{1-\\alpha}_t$\n",
        "\n",
        "$$D + G \\ln y_t + H \\ln A_t= \\max_{\\{k_{t}, n_{t}\\}_{t=0}^{\\infty}} \\Big\\{ \\ln (y_t -  k_{t}) + \\delta \\ln(1-n_t) + D  \\beta + G  \\beta E_t [\\ln A_{t+1} k^{\\alpha}_t n^{1-\\alpha}_t] + H  \\beta E_t [\\ln A_{t+1}] \\Big\\} $$\n",
        "$$\\Rightarrow$$\n",
        "$$D + G \\ln y_t + H \\ln A_t= \\max_{\\{k_{t}, n_{t}\\}_{t=0}^{\\infty}} \\Big\\{ \\ln (y_t -  k_{t}) + \\delta \\ln(1-n_t) + D  \\beta + G  \\beta E_t [\\ln A_{t+1}] + G  \\beta \\alpha \\ln k_t + G \\beta(1-\\alpha) \\ln n_t + H  \\beta E_t [\\ln A_{t+1}] \\Big\\} $$\n",
        "$$\\Rightarrow$$\n",
        "$$D + G \\ln y_t + H \\ln A_t= \\max_{\\{k_{t}, n_{t}\\}_{t=0}^{\\infty}} \\Big\\{ \\ln (y_t -  k_{t}) + \\delta \\ln(1-n_t) + D  \\beta + G  \\beta \\alpha \\ln k_t + G \\beta(1-\\alpha) \\ln n_t + \\beta (H + G) E_t[\\ln A_{t+1}]  \\Big\\} $$\n",
        "\n",
        "E como sabemos que $E_t[\\ln A_{t+1}] = \\rho \\ln A_{t}$, substituimos para obter\n",
        "\n",
        "\\begin{align}D + G \\ln y_t + H \\ln A_t= \\max_{\\{k_{t}, n_{t}\\}_{t=0}^{\\infty}} \\Big\\{ \\ln (y_t -  k_{t}) + \\delta \\ln(1-n_t) + D  \\beta + G  \\beta \\alpha \\ln k_t + G \\beta(1-\\alpha) \\ln n_t + \\beta (H + G) \\rho \\ln A_{t}  \\Big\\} \\tag{4.2} \\end{align}\n",
        "\n",
        "Calculando a CPO em relação a $k_t$:\n",
        "\n",
        "$$ \\frac{1}{y_t -  k_{t}} = G  \\beta \\alpha \\frac{1}{k_t} $$\n",
        "$$\\Rightarrow$$\n",
        "$$ (1 + G  \\beta \\alpha)  k_{t}= G  \\beta \\alpha y_t $$\n",
        "$$\\Rightarrow$$\n",
        "\\begin{align}k_{t}= \\frac{G  \\beta \\alpha}{1 + G  \\beta \\alpha} y_t \\tag{4.3}\\end{align}\n",
        "\n",
        "Derivando em relação a $n_t$:\n",
        "\n",
        "$$\\frac{\\delta}{(1-n_t)} = \\frac{G \\beta(1-\\alpha)}{n_t} $$\n",
        "$$\\Rightarrow$$\n",
        "$$\\delta n_t + G \\beta(1-\\alpha) n_t= G \\beta(1-\\alpha) $$\n",
        "$$\\Rightarrow$$\n",
        "\\begin{align}n_t = \\frac{G\\beta(1-\\alpha)}{\\delta  + G \\beta(1-\\alpha) }\\tag{4.4}\\end{align}\n",
        "\n",
        "Substituindo (4.3) e (4.4) em (4.2):\n",
        "\n",
        "$$D + G \\ln y_t + H \\ln A_t = \\ln \\Bigg[y_t -  \\frac{G  \\beta \\alpha}{1 + G  \\beta \\alpha} y_t \\Bigg] + \\delta \\ln  \\Bigg[1- \\frac{G\\beta(1-\\alpha)}{\\delta  + G \\beta(1-\\alpha)} \\Bigg] + D  \\beta + G  \\beta \\alpha \\ln \\Bigg[  \\frac{G  \\beta \\alpha}{1 + G  \\beta \\alpha} y_t \\Bigg] + G \\beta(1-\\alpha) \\ln \\Bigg[ \\frac{G\\beta(1-\\alpha)}{\\delta  + G \\beta(1-\\alpha) } \\Bigg] + \\beta (H + G) \\rho \\ln A_{t} $$\n",
        "$$\\Longrightarrow$$\n",
        "$$D + G \\ln y_t + H \\ln A_t = \\ln \\Bigg[\\frac{1}{1 + G  \\beta \\alpha} \\Bigg]+ \\ln y_t + \\delta \\ln  \\Bigg[\\frac{\\delta}{\\delta  + G \\beta(1-\\alpha)} \\Bigg] + D  \\beta + G  \\beta \\alpha \\ln \\Bigg[  \\frac{G  \\beta \\alpha}{1 + G  \\beta \\alpha} \\Bigg] + G  \\beta \\alpha \\ln y_t+ G \\beta(1-\\alpha) \\ln \\Bigg[ \\frac{G\\beta(1-\\alpha)}{\\delta  + G \\beta(1-\\alpha) } \\Bigg] + \\beta (H + G) \\rho \\ln A_{t} $$\n",
        "$$\\Longrightarrow$$\n",
        "$$D + G \\ln y_t + H \\ln A_t = \\ln \\Bigg[\\frac{1}{1 + G  \\beta \\alpha} \\Bigg]+ \\ln y_t + \\delta \\ln  \\Bigg[\\frac{\\delta}{\\delta  + G \\beta(1-\\alpha)} \\Bigg] + D  \\beta + G  \\beta \\alpha \\ln \\Bigg[  \\frac{G  \\beta \\alpha}{1 + G  \\beta \\alpha} \\Bigg] + G  \\beta \\alpha \\ln y_t+ G \\beta(1-\\alpha) \\ln \\Bigg[ \\frac{G\\beta(1-\\alpha)}{\\delta  + G \\beta(1-\\alpha) } \\Bigg] + \\beta (H + G) \\rho \\ln A_{t} $$\n",
        "\n",
        "Logo, podemos reescrever:\n",
        "\n",
        "$$D = \\ln \\Bigg[\\frac{1}{1 + G  \\beta \\alpha} \\Bigg] + \\delta \\ln  \\Bigg[\\frac{\\delta}{\\delta  + G \\beta(1-\\alpha)} \\Bigg] + D  \\beta + G  \\beta \\alpha \\ln \\Bigg[  \\frac{G  \\beta \\alpha}{1 + G  \\beta \\alpha} \\Bigg] +  G \\beta(1-\\alpha) \\ln \\Bigg[ \\frac{G\\beta(1-\\alpha)}{\\delta  + G \\beta(1-\\alpha) } \\Bigg]  $$\n",
        "\n",
        "e \n",
        "$$G \\ln y_t = \\ln y_t + G  \\beta \\alpha \\ln y_t = (1 + G  \\beta \\alpha) \\ln y_t$$\n",
        "$$\\Longrightarrow$$\n",
        "$$G = \\frac{1}{1- \\beta \\alpha}$$ \n",
        "\n",
        "e também,\n",
        "\n",
        "$$H \\ln A_t = \\beta (H + G) \\rho \\ln A_{t} $$\n",
        "$$\\Longrightarrow$$\n",
        "$$H = \\frac{\\beta \\rho G}{1-\\beta \\rho}$$\n",
        "\n",
        "Como ja encontramos $G$, obtemos $H = \\frac{\\beta \\rho}{1-\\beta \\rho} \\frac{1}{1- \\beta \\alpha}$. Nos resta a encontrar $D$:\n",
        "\n",
        "$$D = \\ln \\Bigg[\\frac{1}{1 +  \\frac{\\beta \\alpha}{1- \\beta \\alpha}  } \\Bigg] + \\delta \\ln  \\Bigg[\\frac{\\delta}{\\delta  +  \\frac{ \\beta(1-\\alpha)}{1- \\beta \\alpha}} \\Bigg] + D  \\beta +  \\frac{ \\beta \\alpha}{1- \\beta \\alpha}  \\ln \\Bigg[  \\frac{ \\frac{\\beta \\alpha}{1- \\beta \\alpha}  }{1 +  \\frac{1}{1- \\beta \\alpha}  \\beta \\alpha} \\Bigg] +   \\frac{ \\beta(1-\\alpha) }{1- \\beta \\alpha}\\ln \\Bigg[ \\frac{\\frac{1}{1- \\beta \\alpha}\\beta(1-\\alpha)}{\\delta  +  \\frac{\\beta(1-\\alpha)}{1- \\beta \\alpha}  } \\Bigg]  $$\n",
        "$$\\Longrightarrow$$\n",
        "$$D = \\ln \\Bigg[\\frac{1}{\\frac{1- \\beta \\alpha + \\beta \\alpha}{1- \\beta \\alpha}  } \\Bigg] + \\delta \\ln  \\Bigg[\\frac{\\delta}{ \\frac{\\delta (1- \\beta \\alpha) + \\beta(1-\\alpha)}{1- \\beta \\alpha}} \\Bigg] + D  \\beta +  \\frac{ \\beta \\alpha}{1- \\beta \\alpha}  \\ln \\Bigg[  \\frac{ \\frac{\\beta \\alpha}{1- \\beta \\alpha}  }{\\frac{1- \\beta \\alpha + \\beta \\alpha}{1- \\beta \\alpha}  } \\Bigg] +   \\frac{ \\beta(1-\\alpha) }{1- \\beta \\alpha}\\ln \\Bigg[ \\frac{\\frac{\\beta(1-\\alpha)}{1- \\beta \\alpha}}{\\frac{\\delta (1- \\beta \\alpha) + \\beta(1-\\alpha)}{1- \\beta \\alpha}  } \\Bigg]  $$\n",
        "$$\\Longrightarrow$$\n",
        "$$D (1-\\beta)= \\ln (1- \\beta \\alpha) + \\delta \\ln  \\Bigg[\\frac{\\delta (1- \\beta \\alpha)}{\\delta (1- \\beta \\alpha) + \\beta(1-\\alpha)} \\Bigg]  +  \\frac{ \\beta \\alpha}{1- \\beta \\alpha}  \\ln (\\beta \\alpha)  +   \\frac{ \\beta(1-\\alpha) }{1- \\beta \\alpha}\\ln \\Bigg[ \\frac{\\beta(1-\\alpha)}{\\delta (1- \\beta \\alpha) + \\beta(1-\\alpha) } \\Bigg]  $$\n",
        "\n",
        "\n",
        "Podemos substituir na função política (4.3) e (4.4) e encontrar:\n",
        "\n",
        "\n",
        "$$n_t = \\frac{\\frac{1}{1- \\beta \\alpha} \\beta(1-\\alpha)}{\\delta  + \\frac{1}{1- \\beta \\alpha} \\beta(1-\\alpha)} = \\frac{\\beta(1-\\alpha)}{\\delta (1- \\beta \\alpha) +  \\beta(1-\\alpha)} $$\n",
        "\n",
        "$$k_{t}= \\frac{\\frac{1}{1- \\beta \\alpha} \\beta \\alpha}{\\frac{1- \\beta \\alpha + \\beta \\alpha}{1- \\beta \\alpha}} y_t = \\beta \\alpha y_t = \\beta \\alpha (A_{t} n_{t-1} k_{t-1}) =  \\frac{A_{t} \\beta^2 \\alpha (1-\\alpha)}{\\delta (1- \\beta \\alpha) +  \\beta(1-\\alpha)} k_{t-1}$$\n",
        "\n",
        "\n"
      ]
    },
    {
      "cell_type": "markdown",
      "metadata": {
        "id": "WF10SqfLCAw5"
      },
      "source": [
        "## Item c) \n",
        "\n",
        "Considerando $\\beta = 0. 98$, $\\delta = 0.5$, $\\alpha = 1/3$ e $\\rho = 0.75$, simule 10 trajetórias de $\\{y_t, k_t, n_t, c_t \\}^T_{t=0}$ considerando $y_0 = 0.1$, $A_0 = 1$ e $T = 100$. Para tanto, assuma que $\\xi_t$ tem dois estados $\\xi^P$ e $\\xi^N = -\\xi^P$, com as seguintes probabilidades de transição:\n",
        "\n",
        "\\begin{align*}\n",
        "P =\n",
        "\\begin{pmatrix}\n",
        "p_{11} & p_{21} \\\\\n",
        "p_{12} & p_{22} \n",
        "\\end{pmatrix}\n",
        "=\n",
        "\\begin{pmatrix}\n",
        "p_{11} & 1 - p_{22} \\\\\n",
        "1 - p_{11} & p_{22}\n",
        "\\end{pmatrix},\n",
        "\\end{align*}\n",
        "\n",
        "em que $p_{ij} = Pr [s_t = j |s_{t-1} = i]$, em que $s_t$ indica o estado no período $t$. Suponha que $p_{11} = p_{22} = 1/2$. Considere o seguinte grid para $\\xi^P = [0.5, 0.10, 0.15]$. \n",
        "\n",
        "*Dicas:* i) simule $\\ln A_{t+1} = \\rho \\ln A_t + \\xi_{t+1}$, usando $A_0 = 1$ e fazendo sorteios para a sequência $\\xi_1,..., \\xi_T$, ii) tomando-se o exponencial, encontra-se a sequência $A_1,...,A_T$."
      ]
    },
    {
      "cell_type": "code",
      "metadata": {
        "id": "e4C7nM7l-tx8"
      },
      "source": [
        "import numpy as np\n",
        "import matplotlib.pyplot as plt"
      ],
      "execution_count": 39,
      "outputs": []
    },
    {
      "cell_type": "code",
      "metadata": {
        "id": "Vs52lfBn-xE8"
      },
      "source": [
        "# Parâmetros\n",
        "beta  = 0.98\n",
        "delta = 0.5\n",
        "rho   = 0.75\n",
        "alpha = 1/3\n",
        "T     = 100\n",
        "\n",
        "# Condições iniciais\n",
        "y0 = 0.1\n",
        "A0 = 1\n",
        "k0 = beta*alpha*y0\n",
        "\n",
        "# Grid de Estados\n",
        "xi_p = np.array([0.05, 0.10, 0.15])\n",
        "xi_n = -xi_p\n",
        "\n",
        "xi = np.array([xi_p, xi_n])\n",
        "\n",
        "# Probabilidade pra cada estado\n",
        "prob = np.array([\n",
        "                 [1/2, 1/2],\n",
        "                 [1/2, 1/2]\n",
        "                 ])\n",
        "\n",
        "# Construindo as sequencias\n",
        "A = np.zeros(T)\n",
        "k = np.zeros(T)\n",
        "n = np.zeros(T)\n",
        "y = np.zeros(T)\n",
        "c = np.zeros(T)\n",
        "\n",
        "#Termo inicial de A\n",
        "A[0] = A0\n",
        "y[0] = y0\n",
        "k[0] = k0\n",
        "c[0] = y[0] - k[0]\n",
        "\n",
        "# Sequencia de erros. Apenas existem 2 estados (cada coluna na matriz)\n",
        "erro = np.random.choice(xi[:, 0], \n",
        "                        size = T, \n",
        "                        replace = True)\n",
        "\n",
        "\n"
      ],
      "execution_count": 144,
      "outputs": []
    },
    {
      "cell_type": "code",
      "metadata": {
        "colab": {
          "base_uri": "https://localhost:8080/",
          "height": 282
        },
        "id": "LklH_soozIQT",
        "outputId": "13bdba1e-4069-4cb2-d2eb-3fe4bbc0990c"
      },
      "source": [
        "for i in range(1, T):\n",
        "  # Construindo o grid\n",
        "  A[i] = np.exp( rho*np.log(A[i-1]) + erro[i] )\n",
        "\n",
        "# Trajetoria de kt e nt das fçs politicas\n",
        "n[0] = (beta*(1-alpha)/ (delta*(1-alpha * beta) + beta*(1-alpha)))\n",
        "\n",
        "\n",
        "for t in range(1, T):\n",
        "    # Da restrição\n",
        "    y[t] = A[t]* (k[t-1]**alpha) * ( n[t]**(1-alpha) )\n",
        "\n",
        "    # Trajetoria de kt e nt das fçs politicas\n",
        "    # k[t] = k[t-1]*(A[t]*beta**2 *alpha*(1-alpha) / (delta* (1-beta*alpha) + beta * (1-alpha) ) )\n",
        "    k[t] = beta*alpha*y[t]\n",
        "    n[t] = (beta*(1-alpha)/ (delta*(1-alpha * beta) + beta*(1-alpha)))\n",
        "\n",
        "    # Da restrição\n",
        "    # y[t] = A[t]* (k[t-1]**alpha) * ( n[t]**(1-alpha) )\n",
        "    c[t] = y[t] - k[t]\n",
        "\n",
        "plt.plot(range(0, T), k, label = '$k_t$')\n",
        "plt.plot(range(0, T), n, label = '$n_t$')\n",
        "plt.plot(range(0, T), y, label = '$y_t$')\n",
        "plt.plot(range(0, T), c, label = '$c_t$')\n",
        "plt.legend()"
      ],
      "execution_count": 148,
      "outputs": [
        {
          "output_type": "execute_result",
          "data": {
            "text/plain": [
              "<matplotlib.legend.Legend at 0x7f6721a72ad0>"
            ]
          },
          "metadata": {
            "tags": []
          },
          "execution_count": 148
        },
        {
          "output_type": "display_data",
          "data": {
            "image/png": "[encoded data removed]",
            "text/plain": [
              "<Figure size 432x288 with 1 Axes>"
            ]
          },
          "metadata": {
            "tags": [],
            "needs_background": "light"
          }
        }
      ]
    },
    {
      "cell_type": "markdown",
      "metadata": {
        "id": "VYxcM96vCCXn"
      },
      "source": [
        "## Item d) \n",
        "\n",
        "Refaça a letra (c) considerando outros valores para os parâmetros de preferência e de tecnologia."
      ]
    }
  ]
}