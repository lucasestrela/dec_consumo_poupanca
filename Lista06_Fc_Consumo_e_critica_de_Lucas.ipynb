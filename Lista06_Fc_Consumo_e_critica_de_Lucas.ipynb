{
  "nbformat": 4,
  "nbformat_minor": 0,
  "metadata": {
    "colab": {
      "name": "Lista06_Fc_Consumo_e_critica_de_Lucas.ipynb",
      "provenance": [],
      "collapsed_sections": [],
      "toc_visible": true,
      "authorship_tag": "ABX9TyOUy0O+vHGrqaXC4yadLpSF"
    },
    "kernelspec": {
      "name": "python3",
      "display_name": "Python 3"
    },
    "language_info": {
      "name": "python"
    }
  },
  "cells": [
    {
      "cell_type": "markdown",
      "metadata": {
        "id": "f5op6mZ6hnRb"
      },
      "source": [
        "# Problema 1) \n",
        "\n",
        "Considere o problema do consumidor:\n",
        "$$ \\max_{\\{C_t\\}_{t=0}^{\\infty}} \\Big\\{  E_{t} \\sum_{i=0}^{\\infty} [\\beta^t u(C_t)]\\Big \\}$$\n",
        "\n",
        "$$\\text{sujeito a}\n",
        "\\begin{cases}\n",
        "A_{t+1} = R_{t+1} (A_t + Y_t - C_t) \\\\\n",
        "A_0 \\quad \\text{dado}\n",
        "\\end{cases}\n",
        "$$\n",
        "\n",
        "em que $C_t$, $A_t$, $Y_t$ e $R_t$ são, respectivamente, o consumo, a riqueza, a renda e o retorno de um ativo. Supomos que há apenas um ativo na economia. A utilidade instantânea $u(\\cdot)$ é tal que $u' (\\cdot) > 0$ e $u''(\\cdot) < 0$. O desconto intertemporal $\\beta \\in (0, 1)$.\n"
      ]
    },
    {
      "cell_type": "markdown",
      "metadata": {
        "id": "lFNB7V_To6df"
      },
      "source": [
        "## Item a) \n",
        "\n",
        "Escreva a equação de Bellman deste problema. *Dica:* usa a restrição para substituir $A_{t+1}$ na equação de Bellman.\n",
        "\n",
        "---\n",
        "\n",
        "**Resposta**\n",
        "\n",
        "Seja\n",
        "\n",
        "\\begin{align*}\n",
        "V(A_{t}) & = \\max_{\\{C_t\\}_{t=0}^{\\infty}} \\Big\\{ u(C_t) + \\beta E_t[ V(A_{t+1})] \\Big\\} \\\\\n",
        "& =  \\max_{\\{C_t\\}_{t=0}^{\\infty}} \\Big\\{ u(C_t) + \\beta E_t \\Big[ V \\big (R_{t+1} (A_t + Y_t - C_t) \\big) \\Big] \\Big\\} \n",
        "\\end{align*}"
      ]
    },
    {
      "cell_type": "markdown",
      "metadata": {
        "id": "xTFfOK1uo9EG"
      },
      "source": [
        "\n",
        "## Item b) \n",
        "\n",
        "Assumindo solução interior, encontre e interprete a equação de Euler do consumidor.\n",
        "\n",
        "---\n",
        "\n",
        "**Resposta**\n",
        "\n",
        "Suponha que a solução seja interior, calculamos a condição de primeira ordem para o problema, obtendo:\n",
        "\n",
        "\n",
        "\\begin{align*}\n",
        "0 & =  u'(C_t) + \\beta E_t \\Big[ (-R_{t+1}) V' \\big (R_{t+1} (A_t + Y_t - C_t) \\big) \\Big]  \\\\\n",
        "u'(C_t) & = \\beta E_t \\Big[ R_{t+1} V' \\big (A_{t+1} \\big) \\Big] \n",
        "\\end{align*}\n",
        "\n",
        "Utilizando o Teorema de Benveniste Scheinkman, calculamos\n",
        "\n",
        "\\begin{align*}\n",
        "V'(A_t) & = \\beta E_t \\Big[ R_{t+1} V' \\big (R_{t+1} (A_t + Y_t - C_t) \\big) \\Big] \\\\\n",
        "        & = \\beta E_t \\Big[ R_{t+1} V' (A_{t+1}) \\Big]\n",
        "\\end{align*}\n",
        "\n",
        "Note que podemos igualar ambas equações e encontrar\n",
        "\n",
        "\\begin{align*}\n",
        "u'(C_t) & = V'(A_t) \\\\\n",
        "& \\Longrightarrow \\\\\n",
        "u'(C_{t+1}) & = V'(A_{t+1})\n",
        "\\end{align*}\n",
        "\n",
        "Então, da condição de primeira ordem e da igualdade encontrada acima, chegamos na condição de Euler:\n",
        "\n",
        "\\begin{align*}\n",
        "u'(C_t) & = \\beta E_t \\Big[ R_{t+1} u'(C_{t+1}) \\Big] \\tag{1.1}\n",
        "\\end{align*}"
      ]
    },
    {
      "cell_type": "markdown",
      "metadata": {
        "id": "Qn80cswRo8-s"
      },
      "source": [
        "\n",
        "## Item c) \n",
        "\n",
        "É possivel resolver este problema considerando a variável de estado $X_t = A_t + Y_t$. A cada período $t$, esta variável simplesmente mede a quantidade de recursos que o consumidor possui para consumir ou poupar (*cash-on-hand*). Reescreva a restrição orçamentária do consumidor eliminando as variáveis $A_{t+1}$ e $A_t$, apresente equação de Bellman e, assumindo solução interior, obtenha a equação de Euler do consumidor.\n",
        "\n",
        "---\n",
        "\n",
        "**Resposta**\n",
        "\n",
        "Seja para todo $t$, $X_t = A_t + Y_t$. Logo, podemos reescrever a restrição $A_{t+1} = R_{t+1} (A_t + Y_t - C_t)$ como $X_{t+1} - Y_{t+1} = R_{t+1} (X_t - C_t)$, ou de outra forma, $X_{t+1} = R_{t+1} (X_t - C_t) + Y_{t+1}$.\n",
        "\n",
        "Logo, a equação de Bellman pode ser escrita como\n",
        "\n",
        "\\begin{align*}\n",
        "V(X_{t}) &  =  \\max_{\\{C_t\\}_{t=0}^{\\infty}} \\Big\\{ u(C_t) + \\beta E_t \\Big[ V (X_{t+1}) \\Big] \\Big\\}\n",
        "\\end{align*}\n",
        "\n",
        "Calculando a CPO\n",
        "\n",
        "\\begin{align*}\n",
        "0 & = u'(C_t) + \\beta E_t \\Big[ (-R_{t+1}) V' (X_{t+1}) \\Big] \\\\\n",
        "u'(C_t) & = \\beta E_t \\Big[ R_{t+1} V' (X_{t+1}) \\Big]\n",
        "\\end{align*}\n",
        "\n",
        "Usando B&S\n",
        "\n",
        "\\begin{align*}\n",
        "V'(X_{t}) &  = \\beta E_t \\Big[ (R_{t+1})V' (X_{t+1}) \\Big]\n",
        "\\end{align*}\n",
        "\n",
        "Note que o lado direito de ambas equações são iguais, logo:\n",
        "\n",
        "\\begin{align*}\n",
        "u'(C_t) & = V'(X_{t})\n",
        "\\end{align*}\n",
        "\n",
        "Substituindo na CPO, encontramos a equação de Euler\n",
        "\n",
        "\\begin{align*}\n",
        "u'(C_t) & = \\beta E_t \\Big[ R_{t+1} u'(C_{t+1})\\Big],\n",
        "\\end{align*}\n",
        "idêntica a encontrada no item anterior.\n"
      ]
    },
    {
      "cell_type": "markdown",
      "metadata": {
        "id": "1p90LLeVo83o"
      },
      "source": [
        "\n",
        "\n",
        "# Problema 2) \n",
        "\n",
        "Ao resolver o problema do consumidor descrito no **Problema 1**, Hall (1978) considerou as seguintes hipóteses:\n",
        "\n",
        "1. Taxa de juros constante, $R = 1 + r$, com $r > 0$;\n",
        "2. Desconto intertemporal é o recÌproco da taxa de juros, $\\beta = 1/R$, de modo que $\\beta R = 1$;\n",
        "3. Função utilidade quadrática\n",
        "\n",
        "$$u(C_t) = C_t - \\frac{a}{2} C^2_t$$"
      ]
    },
    {
      "cell_type": "markdown",
      "metadata": {
        "id": "MxLD6NaMo8sU"
      },
      "source": [
        "\n",
        "## Item a) \n",
        "\n",
        "Quais são as condições para que $u' (\\cdot) > 0$ e $u''(\\cdot) < 0$?\n",
        "\n",
        "---\n",
        "\n",
        "**Resposta**\n",
        "\n",
        "Calculando $u'(C_t) \\equiv \\frac{\\partial u(C_t)}{\\partial C} = 1 - a C_t$ e $u''(C_t) \\equiv \\frac{\\partial^2 u(C_t)}{\\partial C^2} = - a$ , logo para a condição do enunciado valer $0 < a < \\frac{1}{C_t}$."
      ]
    },
    {
      "cell_type": "markdown",
      "metadata": {
        "id": "YwMCW8U4o8YY"
      },
      "source": [
        "\n",
        "## Item b) \n",
        "\n",
        "Assumindo solução interior, resolva o problema do consumidor e mostre que a equação de Euler dele é descrita por um passeio aleatório.\n",
        "\n",
        "---\n",
        "\n",
        "**Resposta**\n",
        "\n",
        "Utilizando a hipotese 2, podemos reescrever (1.1) como:\n",
        "\n",
        "$$u'(C_t) = E_t \\Big[u'(C_{t+1}) \\Big]$$\n",
        "\n",
        "Utilizando a derivada parcial calculada anteriormente chegamos em\n",
        "\n",
        "$$C_t = E_t [ C_{t+1} ]$$\n",
        "\n",
        "Note que podemos escrever:\n",
        "\n",
        "$$C_{t+1} = E_t [ C_{t+1} ] + \\varepsilon_{t+1}$$\n",
        "\n",
        "sendo $E_t (\\varepsilon_{t+1}) = 0$. Reordenando, temos $E_t [ C_{t+1} ] =  C_{t+1} - \\varepsilon_{t+1}$, o que nos permite reescrever a equação de Euler como:\n",
        "\n",
        "$$C_t = C_{t+1} - \\varepsilon_{t+1}$$\n",
        "$$ \\Rightarrow $$\n",
        "$$C_{t+1}=  C_t + \\varepsilon_{t+1}$$\n",
        "$$ \\Rightarrow $$\n",
        "$$ \\Delta C_{t+1} = \\varepsilon_{t+1} $$\n",
        "\n",
        "\n",
        "\n",
        "\n"
      ]
    },
    {
      "cell_type": "markdown",
      "metadata": {
        "id": "Ahm4RWy9pHKx"
      },
      "source": [
        "\n",
        "## Item c)\n",
        "\n",
        "Qual é a melhor previsão no período $t$ para o consumo futuro ($C_{t+i}, i > 0$)? Qual é a melhor previsão no período $t$ para a variação do consumo futuro ($\\Delta C_{t+i}, i > 0$)?\n",
        "\n",
        "---\n",
        "\n",
        "**Resposta**\n",
        "\n",
        "Utilizando a estrutura do modelo proposto por Hall, podemos calcular o consumo futuro recursivamente:\n",
        "\n",
        "\\begin{align*}\n",
        "C_{t+i} & = C_{t+i-1} + \\varepsilon_{t+i} \\\\\n",
        " & = [C_{t+i-2} + \\varepsilon_{t+i-1}] + \\varepsilon_{t+i} \\\\\n",
        " & = [C_{t+i-3} + \\varepsilon_{t+i-2}] + \\varepsilon_{t+i-1} + \\varepsilon_{t+i} \\\\\n",
        " & = [C_{t} + \\varepsilon_{t+1}] + ... + \\varepsilon_{t+i} \\\\\n",
        " & = C_{t} + \\sum^{i}_{j=1} \\varepsilon_{t+j}\n",
        "\\end{align*}\n",
        "\n",
        "Aplicando a esperança, a melhor previsão se torna\n",
        "\\begin{align*}\n",
        "E [C_{t+i}] = C_{t}\n",
        "\\end{align*}\n",
        "\n",
        "Para a variação do consumo, \n",
        "\n",
        "\\begin{align*}\n",
        "E [\\Delta C_{t+i}] & = 0\n",
        "\\end{align*}\n",
        "\n"
      ]
    },
    {
      "cell_type": "markdown",
      "metadata": {
        "id": "Rae3JZK0pHzX"
      },
      "source": [
        "\n",
        "## Item d) \n",
        "\n",
        "Calcule a função consumo. Para tanto, construa a restrição orçamentária intertemporal usando a restrição do problema do consumidor e use o resultado do passeio aleatório do consumo. \n",
        "\n",
        "*Dica:* Assuma que\n",
        "\n",
        "$$ \\lim_{\\kappa \\to \\infty} \\frac{A_{t+\\kappa}}{R^{\\kappa}} = 0$$\n",
        "\n",
        "---\n",
        "\n",
        "**Resposta**\n",
        "\n",
        "Da restrição intertemporal e utilizando a hipótese de juros constantes\n",
        "\n",
        "\\begin{align*}\n",
        "\\frac{A_{t+1}}{R} & = A_t + Y_t - C_t \\\\\n",
        "A_t & = \\frac{A_{t+1}}{R} - Y_t + C_t\n",
        "\\end{align*}\n",
        "\n",
        "Note que podemos reescrever a última equação de forma recursiva\n",
        "\\begin{align*}\n",
        "A_t & = \\frac{1}{R} A_{t+1} - Y_t + C_t \\\\\n",
        "& = \\frac{1}{R} \\bigg[ \\frac{1}{R} A_{t+2} - Y_{t+1} + C_{t+1}  \\bigg] - Y_t + C_t \\\\\n",
        "& = \\frac{1}{R^2} A_{t+2} +  \\frac{1}{R} (- Y_{t+1} + C_{t+1}) + (- Y_t + C_t) \\\\\n",
        "& = \\frac{1}{R^2} \\bigg[ \\frac{1}{R} A_{t+3} - Y_{t+2} + C_{t+2} \\bigg] +  \\frac{1}{R} (- Y_t + C_t) + (- Y_t + C_t) \\\\\n",
        "& = \\frac{1}{R^3} A_{t+3} + \\frac{1}{R^2} (- Y_{t+2} + C_{t+2}) +  \\frac{1}{R} (- Y_t + C_t) + (- Y_t + C_t) \\\\\n",
        "& = \\quad  \\vdots \\\\\n",
        "& = \\lim_{j \\to \\infty} \\frac{A_{t+j}}{R^j}  + \\sum_{i = 0}^{\\infty} \\frac{1}{R^i} (- Y_{t+i} + C_{t+i})\n",
        "\\end{align*}\n",
        "\n",
        "Supondo que $\\lim_{\\kappa \\to \\infty} \\frac{A_{t+\\kappa}}{R^{\\kappa}} = 0$, podemos escrever a restrição intertemporal como\n",
        "\n",
        "\\begin{align*}\n",
        "\\sum_{i = 0}^{\\infty} \\frac{1}{R^i} C_{t+i} & = A_t + \\sum_{i = 0}^{\\infty} \\frac{1}{R^i} Y_{t+i}\n",
        "\\end{align*}\n",
        "\n",
        "Aplicando a esperança em ambos os lados e utilizando o resultado do passeio aleatório do consumo\n",
        "\n",
        "\\begin{align*}\n",
        "\\sum_{i = 0}^{\\infty} \\frac{1}{R^i} E[C_{t+i}] & = A_t + \\sum_{i = 0}^{\\infty} \\frac{1}{R^i} E[Y_{t+i}] \\\\\n",
        "\\sum_{i = 0}^{\\infty} \\frac{1}{R^i} C_{t} & = A_t + \\sum_{i = 0}^{\\infty} \\frac{1}{R^i} E[Y_{t+i}] \\\\\n",
        "C_{t} & = \\frac{A_t + \\sum_{i = 0}^{\\infty} \\frac{1}{R^i} E[Y_{t+i}]}{\\sum_{i = 0}^{\\infty} \\frac{1}{R^i}} \\\\\n",
        "& = \\frac{A_t + \\sum_{i = 0}^{\\infty} \\frac{1}{R^i} E[Y_{t+i}]}{\\frac{1}{1- (1/R)}} \\\\\n",
        "& = \\frac{A_t + \\sum_{i = 0}^{\\infty} \\frac{1}{R^i} E[Y_{t+i}]}{\\frac{R}{R - 1}}\\\\\n",
        "& = \\frac{A_t + \\sum_{i = 0}^{\\infty} \\frac{1}{R^i} E[Y_{t+i}]}{\\frac{1+r}{r}}\\\\\n",
        "& = \\frac{r}{1+r} \\bigg[A_t + \\sum_{i = 0}^{\\infty} \\frac{1}{R^i} E[Y_{t+i}] \\bigg]\n",
        "\\end{align*}\n",
        "\n",
        "\n"
      ]
    },
    {
      "cell_type": "markdown",
      "metadata": {
        "id": "QY1X-Fb-pHxK"
      },
      "source": [
        "## Item e) \n",
        "\n",
        "Discuta as propriedades da função consumo obtida na letra **(d)**.\n",
        "\n",
        "---\n",
        "\n",
        "**Resposta**\n",
        "\n",
        "A função consumo encontrada diz que o consumo no tempo $t$ depende da soma descontada do rendimento do ativo $A_t$ e da renda futura (descontada) ao valor presente. Este resultado implica que se a expectativa de renda futura não for alterada, o consumo se manterá igual em todos os períodos."
      ]
    },
    {
      "cell_type": "markdown",
      "metadata": {
        "id": "qb8_MwKLpHu6"
      },
      "source": [
        "# Problema 3) \n",
        "\n",
        "O que ocorre se assumirmos um processo estocástico para a renda? Digamos que a renda é função de sua defasagem e um choque contemporâneo, isto é, $Y_{t+1} = f (Y_t, \\varepsilon_t)$.\n",
        "\n",
        "\n",
        "Considere o problema do consumidor:\n",
        "$$ \\max_{\\{C_t\\}_{t=0}^{\\infty}} \\Big\\{  E_{0} \\sum_{i=0}^{\\infty} \\beta^t u(C_t) \\Big \\}$$\n",
        "\n",
        "\\begin{align*}\\text{sujeito a}\n",
        "  \\begin{cases}\n",
        "  A_{t+1} = R_{t+1} (A_t + Y_t - C_t) \\\\\n",
        "  Y_{t+1} = f (Y_t, \\varepsilon_t)\\\\\n",
        "  A_0 \\quad \\text{dado}\n",
        "  \\end{cases} \\tag{3.1}\n",
        "\\end{align*}\n"
      ]
    },
    {
      "cell_type": "markdown",
      "metadata": {
        "id": "48bz7KGypHsO"
      },
      "source": [
        "\n",
        "## Item a) \n",
        "\n",
        "Assumindo solução interior, encontre a equação de Euler deste problema. Dica: considere $A_t$ e $Y_t$ como variáveis de estado.\n",
        "\n",
        "---\n",
        "\n",
        "**Resposta**\n",
        "\n",
        "Seja a equação de Bellman\n",
        "\\begin{align*}\n",
        "V(A_t, Y_t) & = \\max_{\\{C_t\\}_{t=0}^{\\infty}} \\Big \\{ u(C_t) + \\beta E_t [V(A_{t+1}, Y_{t+1})] \\Big\\} \\\\\n",
        " & = \\max_{\\{C_t\\}_{t=0}^{\\infty}} \\Big \\{ u(C_t) + \\beta E_t \\Big [V \\big( R_{t+1} (A_t + Y_t - C_t), f(Y_t, \\varepsilon_t) \\big) \\Big]\\Big\\} \\\\\n",
        "\\end{align*}\n",
        "\n",
        "Para encontrar a equação de Euler, calculamos a condição de primeira ordem deste problema:\n",
        "\n",
        "\\begin{align*}\n",
        "0&=  u'(C_t) + \\beta E_t \\Big [ (-R_{t+1}) V_{1} \\big( R_{t+1} (A_t + Y_t - C_t), f(Y_t, \\varepsilon_t) \\big) \\Big] \\\\\n",
        " u'(C_t) &=  \\beta E_t \\Big [ R_{t+1} V_{1} (A_{t+1}, Y_{t+1}) \\Big] \\tag{3.2} \\\\\n",
        "\\end{align*}\n",
        "\n",
        "E utilizando o teorema de Benveniste Scheinkman:\n",
        "\n",
        "\\begin{align*}\n",
        "V_{1}(A_t, Y_t) & =\\beta E_t \\Big [ (R_{t+1}) V_{1} \\big( R_{t+1} (A_t + Y_t - C_t), f(Y_t, \\varepsilon_t) \\big) \\Big] \\\\\n",
        " & =\\beta E_t \\Big [ (R_{t+1}) V_{1} (A_{t+1}, Y_{t+1}) \\Big]  \\tag{3.3}\n",
        "\\end{align*}\n",
        "\n",
        "\\begin{align*}\n",
        "V_{2}(A_t, Y_t) & =\\beta E_t \\Big [  f_1 (Y_t, \\varepsilon_t) V_{2} \\big( R_{t+1} (A_t + Y_t - C_t), f(Y_t, \\varepsilon_t) \\big) \\Big] \\\\\n",
        " & =\\beta E_t \\Big [  f_1(Y_t, \\varepsilon_t) V_{2} (A_{t+1}, Y_{t+1}) \\Big]  \\tag{3.4}\n",
        "\\end{align*} \n",
        "\n",
        "Note que podemos igualar (3.2) e (3.3)\n",
        "\n",
        "$$u'(C_t) = V_{1}(A_t, Y_t)$$\n",
        "\n",
        "que pode ser utilizado em (3.2) para finalmente encontrarmos a equação de Euler\n",
        "\n",
        "$$u'(C_t) =  \\beta E_t \\Big [ R_{t+1} u'(C_{t+1}) \\Big] $$"
      ]
    },
    {
      "cell_type": "markdown",
      "metadata": {
        "id": "4CWfIzUFpHof"
      },
      "source": [
        "## Item b) \n",
        "\n",
        "Assumindo as hipóteses do **Problema 2** - juros constante, $\\beta R = 1$ e utilidade quadrática, apresente a equação de Euler e a função consumo.\n",
        "\n",
        "---\n",
        "\n",
        "**Resposta**\n",
        "\n",
        "Utilizando a equação de Euler do item anterior, supondo as hipóteses do Problema 2 válidas aqui e utilizando utilidade quadrática, podemos escrever\n",
        "\n",
        "\n",
        "\\begin{align*}\n",
        "1 - a C_{t} & =  E_t \\Big [1 - a C_{t+1} \\Big] \\\\\n",
        "C_{t} & =  E_t \\Big [C_{t+1} \\Big]\n",
        "\\end{align*}\n",
        "\n",
        "Isto é, o mesmo resultado encontrado no Problema 2. Como a restrição é a mesma, podemos reescreve-la recursivamente, supor $\\lim_{\\kappa \\to \\infty} \\frac{A_{t+\\kappa}}{R^{\\kappa}} = 0$, utilizar o resultado do passeio aleatório do consumo e encontrar\n",
        "\n",
        "$$C_{t} =  \\frac{r}{1+r} \\bigg[A_t + \\sum_{i = 0}^{\\infty} \\frac{1}{R^i} E[Y_{t+i}] \\bigg]$$"
      ]
    },
    {
      "cell_type": "markdown",
      "metadata": {
        "id": "wTKSFBImpHhc"
      },
      "source": [
        "## Item c) \n",
        "\n",
        "Suponha que $Y_t = \\phi_1 Y_{t+1} + \\varepsilon_t$, em que $0 < \\phi_1 < 1$ e $E_{t-1} (\\varepsilon_t) = 0$. Calcule $E_t (Y_{t+i})$ e aplique este resultado a função consumo obtida na letra **(b)**. Posteriormente, considere $\\phi_1 = 1$. Com base nos resultados discuta se o consumo depende da renda corrente ou da renda permanente. Ainda, discuta se o fato do consumo depender da renda corrente é uma evidência clara a favor da função consumo Keynesiana\n",
        "\n",
        "---\n",
        "\n",
        "**Resposta**\n",
        "\n",
        "Note que podemos escrever $E_t (Y_{t+i})$ recursivamente:\n",
        "\n",
        "\\begin{align*}\n",
        "Y_{t+i} & = \\phi_1 Y_{t+i-1} + \\varepsilon_{t+i} \\\\\n",
        " & = \\phi_1 [\\phi_1 Y_{t+i-2} + \\varepsilon_{t+i-1}] + \\varepsilon_{t+i} \\\\\n",
        " & = \\phi_1^2[ \\phi_1 Y_{t+i-3} + \\varepsilon_{t+i-2}] + \\phi_1 \\varepsilon_{t+i-1} + \\varepsilon_{t+i} \\\\\n",
        " & = \\quad \\vdots \\\\\n",
        " & = \\phi_1^i Y_{t} + \\phi_1^{i-1}\\varepsilon_{t+1} + ... + \\varepsilon_{t+i} \\\\\n",
        " & = \\phi_1^i Y_{t} + \\sum^{i}_{j=1} \\phi_1^{j-1} \\varepsilon_{t+j}\n",
        "\\end{align*}\n",
        "\n",
        "Aplicando a esperança\n",
        "\n",
        "\\begin{align*}\n",
        "E_t  (Y_{t+i}) & = \\phi_1^i Y_{t}\n",
        "\\end{align*}\n",
        "\n",
        "e a função consumo se torna\n",
        "\n",
        "\\begin{align*}\n",
        "C_{t} & =  \\frac{r}{1+r} \\bigg[A_t + \\sum_{i = 0}^{\\infty} \\frac{1}{R^i} E[Y_{t+i}] \\bigg] \\\\\n",
        " & = \\frac{r}{1+r} \\bigg[A_t + Y_{t} \\sum_{i = 0}^{\\infty} \\bigg(\\frac{\\phi_1}{R}\\bigg)^i \\bigg]  \\\\\n",
        " & = \\frac{r}{1+r} \\bigg[A_t + Y_{t} \\frac{1}{1- (\\phi_1 / R)} \\bigg]  \\\\\n",
        " & = \\frac{r}{1+r} \\bigg[A_t + Y_{t} \\frac{1+r}{1 + r - \\phi_1} \\bigg]   \\\\\n",
        " & = \\frac{r}{1+r} A_t + \\frac{r}{1 + r - \\phi_1} Y_t \n",
        "\\end{align*}\n",
        "\n",
        "Supondo $\\phi_1 = 1$\n",
        "\n",
        "\\begin{align*}\n",
        "C_{t} & = \\frac{r}{1+r} A_t + Y_t \n",
        "\\end{align*}\n",
        "\n",
        "\n",
        "A função consumo derivada neste item depende da renda corrente uma vez que esta é uma boa previsão da renda futura. De fato, a função encontrada se assemelha à função consumo keynesiana, no entanto, a derivada neste exercício é muito mais flexível, permitindo que haja incorporação da riqueza via mercado de títulos, e permite a suposição de diferentes processos geradores para renda ou diferentes tipos de funções utilidades.\n"
      ]
    },
    {
      "cell_type": "markdown",
      "metadata": {
        "id": "Q3zMjZI-pHQQ"
      },
      "source": [
        "\n",
        "\n",
        "# Problema 4) \n",
        "\n",
        "Reproduza a *Tabela 1* de Gomes e da Silva (2019) para os seguintes cenários:\n",
        "\n",
        "a) $p = 0.85$ e $r = 0.04$\n",
        "\n",
        "b) $p = 0.90$ e $r = 0.04$\n",
        "\n",
        "c) $p = 0.95$ e $r = 0.04$\n",
        "\n",
        "d) $p = 0.85$ e $r = 0.02$\n",
        "\n",
        "e) $p = 0.90$ e $r = 0.02$\n",
        "\n",
        "f) $p = 0.95$ e $r = 0.02$\n",
        "\n"
      ]
    },
    {
      "cell_type": "code",
      "metadata": {
        "id": "XhoQLsQxZm_N"
      },
      "source": [
        "import numpy as np\n",
        "from scipy.optimize import fsolve\n",
        "import sys"
      ],
      "execution_count": null,
      "outputs": []
    },
    {
      "cell_type": "code",
      "metadata": {
        "id": "CeWodhblc9hf"
      },
      "source": [
        "func = lambda tau : gamma - (p*tau)/( (1-p)*(1-tau) ) "
      ],
      "execution_count": null,
      "outputs": []
    },
    {
      "cell_type": "code",
      "metadata": {
        "colab": {
          "base_uri": "https://localhost:8080/"
        },
        "id": "ja6eGAtQZoey",
        "outputId": "0a0562d2-8e0c-4c92-d913-feace15fef35"
      },
      "source": [
        "# Construindo os grids\n",
        "gamma_grid = np.arange(0.1, 1.10, 0.1)\n",
        "p_grid     = np.array([0.85, 0.90, 0.95, 0.85, 0.90, 0.95])\n",
        "r_grid     = np.array([0.04, 0.04, 0.04, 0.02, 0.02, 0.02])\n",
        "\n",
        "param_grid = np.array([p_grid, r_grid])\n",
        "\n",
        "\n",
        "# Iterando no grid do enunciado\n",
        "for i in range(0, np.shape(param_grid)[1]):\n",
        "\n",
        "  print('###################################################################################')\n",
        "  print('Cenário:')\n",
        "  print('[p, r] = [', param_grid[:, i][0], ',',param_grid[:, i][1], ']')\n",
        "  print('-----------------------------------------------------------------------------------')\n",
        "  print(\"{:^20} {:^20} {:^20} {:^20}\".format('', '', 'Implied marginal', 'Implied marginal'))\n",
        "  print(\"{:^20} {:^20} {:^20} {:^20}\".format('Unemployment', '', 'propensity to', 'propensity to'))\n",
        "  print(\"{:^20} {:^20} {:^20} {:^20}\".format(' insurance benefit', 'Implied new tax', 'consume of', 'consume of'))\n",
        "  print(\"{:^20} {:^20} {:^20} {:^20}\".format('parameter (\\u03B3)', 'rate (\\u03C4)', 'employed', 'unemployed'))\n",
        "  print('-----------------------------------------------------------------------------------')\n",
        "  # print(\"{:10} {:10} {:10} {:10}\".format('', '', 'PropMg_Cons', 'Desemprego'))\n",
        "  for j in range(0, len(gamma_grid)):\n",
        "\n",
        "      p = param_grid[:, i][0]\n",
        "      r = param_grid[:, i][1]\n",
        "\n",
        "      gamma = gamma_grid[j]\n",
        "\n",
        "      # Encontrando a solução numerica pra tau\n",
        "      tau_initial_guess = 0.05\n",
        "      tau = fsolve(func, tau_initial_guess)\n",
        "\n",
        "      # Calculando as propensões mg a consumir\n",
        "      prop_mg_cons = (p + r - r * tau)/ ( (1+r)*(1-tau) )\n",
        "      desemprego   = (1-p+tau*r)/(tau * (1+r))\n",
        "\n",
        "      # Printando as linhas ^ indica centralizado 20 indica a largura e .3f 3 casa decimais\n",
        "      print(\"{:^20.3f} {:^20.3f} {:^20.3f} {:^20.3f}\".format(gamma, tau[0], prop_mg_cons[0], desemprego[0]))\n",
        "\n",
        "  print()\n"
      ],
      "execution_count": null,
      "outputs": [
        {
          "output_type": "stream",
          "text": [
            "###################################################################################\n",
            "Cenário:\n",
            "[p, r] = [ 0.85 , 0.04 ]\n",
            "-----------------------------------------------------------------------------------\n",
            "                                            Implied marginal     Implied marginal  \n",
            "    Unemployment                             propensity to        propensity to    \n",
            "  insurance benefit    Implied new tax         consume of           consume of     \n",
            "   parameter (γ)           rate (τ)             employed            unemployed     \n",
            "-----------------------------------------------------------------------------------\n",
            "       0.100                0.017                0.870                8.356        \n",
            "       0.200                0.034                0.885                4.269        \n",
            "       0.300                0.050                0.899                2.907        \n",
            "       0.400                0.066                0.913                2.226        \n",
            "       0.500                0.081                0.928                1.817        \n",
            "       0.600                0.096                0.942                1.545        \n",
            "       0.700                0.110                0.957                1.350        \n",
            "       0.800                0.124                0.971                1.204        \n",
            "       0.900                0.137                0.986                1.091        \n",
            "       1.000                0.150                1.000                1.000        \n",
            "\n",
            "###################################################################################\n",
            "Cenário:\n",
            "[p, r] = [ 0.9 , 0.04 ]\n",
            "-----------------------------------------------------------------------------------\n",
            "                                            Implied marginal     Implied marginal  \n",
            "    Unemployment                             propensity to        propensity to    \n",
            "  insurance benefit    Implied new tax         consume of           consume of     \n",
            "   parameter (γ)           rate (τ)             employed            unemployed     \n",
            "-----------------------------------------------------------------------------------\n",
            "       0.100                0.011                0.913                8.788        \n",
            "       0.200                0.022                0.923                4.462        \n",
            "       0.300                0.032                0.933                3.019        \n",
            "       0.400                0.043                0.942                2.298        \n",
            "       0.500                0.053                0.952                1.865        \n",
            "       0.600                0.063                0.962                1.577        \n",
            "       0.700                0.072                0.971                1.371        \n",
            "       0.800                0.082                0.981                1.216        \n",
            "       0.900                0.091                0.990                1.096        \n",
            "       1.000                0.100                1.000                1.000        \n",
            "\n",
            "###################################################################################\n",
            "Cenário:\n",
            "[p, r] = [ 0.95 , 0.04 ]\n",
            "-----------------------------------------------------------------------------------\n",
            "                                            Implied marginal     Implied marginal  \n",
            "    Unemployment                             propensity to        propensity to    \n",
            "  insurance benefit    Implied new tax         consume of           consume of     \n",
            "   parameter (γ)           rate (τ)             employed            unemployed     \n",
            "-----------------------------------------------------------------------------------\n",
            "       0.100                0.005                0.957                9.221        \n",
            "       0.200                0.010                0.962                4.654        \n",
            "       0.300                0.016                0.966                3.131        \n",
            "       0.400                0.021                0.971                2.370        \n",
            "       0.500                0.026                0.976                1.913        \n",
            "       0.600                0.031                0.981                1.609        \n",
            "       0.700                0.036                0.986                1.391        \n",
            "       0.800                0.040                0.990                1.228        \n",
            "       0.900                0.045                0.995                1.101        \n",
            "       1.000                0.050                1.000                1.000        \n",
            "\n",
            "###################################################################################\n",
            "Cenário:\n",
            "[p, r] = [ 0.85 , 0.02 ]\n",
            "-----------------------------------------------------------------------------------\n",
            "                                            Implied marginal     Implied marginal  \n",
            "    Unemployment                             propensity to        propensity to    \n",
            "  insurance benefit    Implied new tax         consume of           consume of     \n",
            "   parameter (γ)           rate (τ)             employed            unemployed     \n",
            "-----------------------------------------------------------------------------------\n",
            "       0.100                0.017                0.868                8.500        \n",
            "       0.200                0.034                0.882                4.333        \n",
            "       0.300                0.050                0.897                2.944        \n",
            "       0.400                0.066                0.912                2.250        \n",
            "       0.500                0.081                0.926                1.833        \n",
            "       0.600                0.096                0.941                1.556        \n",
            "       0.700                0.110                0.956                1.357        \n",
            "       0.800                0.124                0.971                1.208        \n",
            "       0.900                0.137                0.985                1.093        \n",
            "       1.000                0.150                1.000                1.000        \n",
            "\n",
            "###################################################################################\n",
            "Cenário:\n",
            "[p, r] = [ 0.9 , 0.02 ]\n",
            "-----------------------------------------------------------------------------------\n",
            "                                            Implied marginal     Implied marginal  \n",
            "    Unemployment                             propensity to        propensity to    \n",
            "  insurance benefit    Implied new tax         consume of           consume of     \n",
            "   parameter (γ)           rate (τ)             employed            unemployed     \n",
            "-----------------------------------------------------------------------------------\n",
            "       0.100                0.011                0.912                8.941        \n",
            "       0.200                0.022                0.922                4.529        \n",
            "       0.300                0.032                0.931                3.059        \n",
            "       0.400                0.043                0.941                2.324        \n",
            "       0.500                0.053                0.951                1.882        \n",
            "       0.600                0.063                0.961                1.588        \n",
            "       0.700                0.072                0.971                1.378        \n",
            "       0.800                0.082                0.980                1.221        \n",
            "       0.900                0.091                0.990                1.098        \n",
            "       1.000                0.100                1.000                1.000        \n",
            "\n",
            "###################################################################################\n",
            "Cenário:\n",
            "[p, r] = [ 0.95 , 0.02 ]\n",
            "-----------------------------------------------------------------------------------\n",
            "                                            Implied marginal     Implied marginal  \n",
            "    Unemployment                             propensity to        propensity to    \n",
            "  insurance benefit    Implied new tax         consume of           consume of     \n",
            "   parameter (γ)           rate (τ)             employed            unemployed     \n",
            "-----------------------------------------------------------------------------------\n",
            "       0.100                0.005                0.956                9.382        \n",
            "       0.200                0.010                0.961                4.725        \n",
            "       0.300                0.016                0.966                3.173        \n",
            "       0.400                0.021                0.971                2.397        \n",
            "       0.500                0.026                0.975                1.931        \n",
            "       0.600                0.031                0.980                1.621        \n",
            "       0.700                0.036                0.985                1.399        \n",
            "       0.800                0.040                0.990                1.233        \n",
            "       0.900                0.045                0.995                1.103        \n",
            "       1.000                0.050                1.000                1.000        \n",
            "\n"
          ],
          "name": "stdout"
        }
      ]
    },
    {
      "cell_type": "markdown",
      "metadata": {
        "id": "IIAAbWeWpWAW"
      },
      "source": [
        "\n",
        "# Problema 5) \n",
        "\n",
        "Reproduza a Tabela 2 de Gomes e da Silva (2019) para os seguintes consumidores:\n",
        "\n",
        "a) Riqueza inicial nula. Employed: Yes, Yes, Yes, Yes, No.\n",
        "\n",
        "b) Riqueza inicial nula. Employed: No, Yes, Yes, Yes, Yes.\n",
        "\n",
        "c) Riqueza inicial igual a $0.50$. Employed: Yes, Yes, Yes, No, No.\n",
        "\n",
        "d) Riqueza inicial igual a $0.50$. Employed: No, No, Yes, Yes, Yes.\n",
        "\n"
      ]
    },
    {
      "cell_type": "code",
      "metadata": {
        "id": "s7ujb9PtVFPV"
      },
      "source": [
        "import numpy as np\n",
        "from scipy.optimize import fsolve\n",
        "import sys\n",
        "\n",
        "func = lambda tau : gamma - (p*tau)/( (1-p)*(1-tau) ) "
      ],
      "execution_count": null,
      "outputs": []
    },
    {
      "cell_type": "code",
      "metadata": {
        "colab": {
          "base_uri": "https://localhost:8080/"
        },
        "id": "Az9VFw35CrCM",
        "outputId": "e6a67619-de13-449c-9d86-464d573dbcd3"
      },
      "source": [
        "\n",
        "# Parametros Fixos\n",
        "p = 0.900\n",
        "r = 0.040\n",
        "Y = 1.000\n",
        "gamma = 0.500\n",
        "\n",
        "# Parametros implicitos\n",
        "tau_initial_guess = 0.05\n",
        "tau       = fsolve(func, tau_initial_guess)\n",
        "\n",
        "prop_empl = (p + r - r * tau)/ ( (1+r)*(1-tau) ) # Prop mg a consumir empregado\n",
        "prop_unpl = (1-p+tau*r)/(tau*(1+r)) # Prop mg a consumir desempregado\n",
        "\n",
        "\n",
        "grid_emprego = np.array([['Yes', 'Yes', 'Yes', 'Yes', 'No' ],\n",
        "                         ['No',  'Yes', 'Yes', 'Yes', 'Yes'],\n",
        "                         ['Yes', 'Yes', 'Yes', 'No' , 'No' ],\n",
        "                         ['No',  'No' , 'Yes', 'Yes', 'Yes']])\n",
        "\n",
        "\n",
        "A_grid = np.array([0.0, 0.0, 0.5, 0.5])\n",
        "\n",
        "consumo = np.zeros(np.shape(grid_emprego)[1])\n",
        "income  = np.zeros(np.shape(grid_emprego)[1])\n",
        "wealth  = np.zeros(np.shape(grid_emprego)[1] + 1)\n",
        "\n",
        "consumidor_n = np.array(['A', 'B', 'C', 'D', 'E', 'F'])\n",
        "\n",
        "\n",
        "print('-----------------------------------------------------------------------------------')\n",
        "print(\"{:^25} {:45} {:^10.3f}\".format(''                , 'Employed probability (𝑝)', p) )\n",
        "print(\"{:^25} {:45} {:^10.3f}\".format('Fixed parameters', 'Interest rate (𝑟)', r) )\n",
        "print(\"{:^25} {:45} {:^10.3f}\".format(''                , 'Unemployment benefit parameter (\\u03B3)', gamma))\n",
        "print(\"{:^25} {:45} {:^10.3f}\".format(''                , 'Income before new tax rate (𝑌)', Y))\n",
        "print('-----------------------------------------------------------------------------------')\n",
        "print(\"{:^25} {:45} {:^10.3f}\".format(''                  , 'New tax rate (\\u03C4)', tau[0]) )\n",
        "print(\"{:^25} {:45} {:^10.3f}\".format('Implied parameters', 'Marginal propensity to consume of employed', prop_empl[0]))\n",
        "print(\"{:^25} {:45} {:^10.3f}\".format(''                  , 'Marginal propensity to consume of unemployed', prop_unpl[0]))\n",
        "print('-----------------------------------------------------------------------------------')\n",
        "print(\"{:^80}\".format('Five-period simulations'))\n",
        "print(\"{:26} {:^10} {:^10} {:^10} {:^10} {:^10}\".format('Period', '1', '2', '3', '4', '5'))\n",
        "\n",
        "for linha in range(0, np.shape(grid_emprego)[0]):\n",
        "\n",
        "  A = A_grid[linha]\n",
        "  wealth[0] = A\n",
        "\n",
        "  for coluna in range(0, np.shape(grid_emprego)[1]): \n",
        "\n",
        "    # Emprego = 'Yes' ou 'No'\n",
        "    indicadora = grid_emprego[linha, coluna]\n",
        "\n",
        "    if indicadora == 'Yes':\n",
        "      emprego    = 1\n",
        "      desemprego = (1-emprego)\n",
        "\n",
        "    else:\n",
        "      emprego    = 0\n",
        "      desemprego = (1-emprego)\n",
        "\n",
        "    # Calculo o quanto de renda ele tem, se esta empregado ou desempregado\n",
        "    income[coluna]    = (1-tau)*Y*emprego + gamma*(1-tau)*desemprego   \n",
        "\n",
        "    # Dada a renda, calculo o consumo\n",
        "    consumo_emp = ( r/(1+r) )*wealth[coluna] + prop_empl * income[coluna]\n",
        "    consumo_des = ( r/(1+r) )*wealth[coluna] + prop_unpl * income[coluna]\n",
        "\n",
        "    # Dado o consumo eu armazeno este consumo\n",
        "    consumo[coluna]   = consumo_emp*emprego + consumo_des*desemprego\n",
        "\n",
        "    # Dado a renda, o consumo e a riqueza no periodo passado, calculo qt de riqueza terá\n",
        "    wealth[coluna+1]  = (wealth[coluna] + income[coluna] - consumo[coluna])*(1+r) \n",
        "\n",
        "\n",
        "\n",
        "  print(\"{:8}{:>1}\".format('Consumer ', consumidor_n[linha]) )\n",
        "  print(\"{:26} {:^10} {:^10} {:^10} {:^10} {:^10}\".format(              'Employed', grid_emprego[linha, 0], grid_emprego[linha, 1], grid_emprego[linha, 2], grid_emprego[linha, 3], grid_emprego[linha, 4]))\n",
        "  print(\"{:26} {:^10.3f} {:^10.3f} {:^10.3f} {:^10.3f} {:^10.3f}\".format('Wealth',             wealth[0],  wealth[1],  wealth[2],  wealth[3],  wealth[4]))\n",
        "  print(\"{:26} {:^10.3f} {:^10.3f} {:^10.3f} {:^10.3f} {:^10.3f}\".format('Income',             income[0],  income[1],  income[2],  income[3],  income[4]))\n",
        "  print(\"{:26} {:^10.3f} {:^10.3f} {:^10.3f} {:^10.3f} {:^10.3f}\".format('Consumption',        consumo[0], consumo[1], consumo[2], consumo[3], consumo[4]))\n",
        "  print(\"{:26} {:^10.3f} {:^10.3f} {:^10.3f} {:^10.3f} {:^10.3f}\".format('Consumption/Income', consumo[0]/income[0], consumo[1]/income[1], consumo[2]/income[2], consumo[3]/income[3], consumo[4]/income[4]))\n",
        "  print()\n"
      ],
      "execution_count": null,
      "outputs": [
        {
          "output_type": "stream",
          "text": [
            "-----------------------------------------------------------------------------------\n",
            "                          Employed probability (𝑝)                        0.900   \n",
            "    Fixed parameters      Interest rate (𝑟)                               0.040   \n",
            "                          Unemployment benefit parameter (γ)              0.500   \n",
            "                          Income before new tax rate (𝑌)                  1.000   \n",
            "-----------------------------------------------------------------------------------\n",
            "                          New tax rate (τ)                                0.053   \n",
            "   Implied parameters     Marginal propensity to consume of employed      0.952   \n",
            "                          Marginal propensity to consume of unemployed    1.865   \n",
            "-----------------------------------------------------------------------------------\n",
            "                            Five-period simulations                             \n",
            "Period                         1          2          3          4          5     \n",
            "Consumer A\n",
            "Employed                      Yes        Yes        Yes        Yes         No    \n",
            "Wealth                       0.000      0.047      0.095      0.142      0.189   \n",
            "Income                       0.947      0.947      0.947      0.947      0.474   \n",
            "Consumption                  0.902      0.904      0.905      0.907      0.891   \n",
            "Consumption/Income           0.952      0.954      0.956      0.958      1.881   \n",
            "\n",
            "Consumer B\n",
            "Employed                       No        Yes        Yes        Yes        Yes    \n",
            "Wealth                       0.000      -0.426     -0.379     -0.332     -0.284  \n",
            "Income                       0.474      0.947      0.947      0.947      0.947   \n",
            "Consumption                  0.884      0.885      0.887      0.889      0.891   \n",
            "Consumption/Income           1.865      0.935      0.937      0.938      0.940   \n",
            "\n",
            "Consumer C\n",
            "Employed                      Yes        Yes        Yes         No         No    \n",
            "Wealth                       0.500      0.547      0.595      0.642      0.216   \n",
            "Income                       0.947      0.947      0.947      0.474      0.474   \n",
            "Consumption                  0.921      0.923      0.925      0.908      0.892   \n",
            "Consumption/Income           0.972      0.974      0.976      1.918      1.883   \n",
            "\n",
            "Consumer D\n",
            "Employed                       No         No        Yes        Yes        Yes    \n",
            "Wealth                       0.500      0.074      -0.353     -0.305     -0.258  \n",
            "Income                       0.474      0.474      0.947      0.947      0.947   \n",
            "Consumption                  0.903      0.886      0.888      0.890      0.892   \n",
            "Consumption/Income           1.906      1.871      0.938      0.940      0.941   \n",
            "\n"
          ],
          "name": "stdout"
        }
      ]
    },
    {
      "cell_type": "markdown",
      "metadata": {
        "id": "g8Gt7s-0pV8g"
      },
      "source": [
        "\n",
        "# Problema 6)\n",
        "\n",
        "Com base em certas hipóteses, Hall (1978) concluiu que o consumo seria descrito por um passeio aleatório. Por esta razão, utilizando a Base de Dados construída na **Lista 2**, discuta se o consumo pode ser descrito pelo seguinte processo:\n",
        "\n",
        "\n",
        "$$ C_t = \\mu + C_{t-1} + \\varepsilon_t $$\n",
        "\n",
        "\n",
        "Para tanto, considere diferentes estratégias, como:\n",
        "\n",
        "1. Testes de raiz unitária para $C_t$ e $\\Delta C_t$;\n",
        "\n",
        "2. Funções de autocorrelação e de autocorrelação parcial para $C_t$ e de $\\Delta C_t$;\n",
        "\n",
        "3. Modelos de previsão para a variação do consumo com variáveis defasadas, como segue:\n",
        "$$\\Delta C_t = \\beta_0 + \\sum_{l = 1}^{L} \\sum_{k=1}^{K} \\beta_{k,l} x_{k, t-l} + \\varepsilon_t$$\n",
        "em que $x_{k,t-l}$ refere-se a defasagem $l$ da k-ésima variável, com $k = 1, ..., K$ e $l = 1, ..., L$. Neste caso, há interesse em testar a hipótese nula $\\beta_{k,l} = 0$ para $k = 1,..., K$ e $l = 1,...,L$ \n",
        "\n",
        "4. Modelos compostos pelo valor esperado de variáveis independentes contemporâneas, como segue:\n",
        "$$ \\Delta C_{t} =\\beta_0 + \\sum_{k=1}^{K} \\beta_k E_{t-1} [x_{k,t}] + \\varepsilon_t $$\n",
        "em que $x_{k,t}$ refere-se a k-ésima variável contemporânea, com $k = 1, ..., K$. Este modelo pode ser estimado por TSLS, desde que os instrumentos sejam variáveis defasadas, como $x_{k, t-l}$, com $k = 1,..., K$ e $l = 1,...,L$. O primeiro estágio gera uma previsão de $E_{t-1} [x_{k,t}]$, para $k = 1, ..., K$, que é usada no segundo estágio. Neste caso, há interesse na hipótese nula $\\beta_k = 0$ para $k = 1, ..., K$."
      ]
    },
    {
      "cell_type": "markdown",
      "metadata": {
        "id": "k-iDbNP-PlY4"
      },
      "source": [
        "## Programação"
      ]
    },
    {
      "cell_type": "code",
      "metadata": {
        "id": "GOPAQxLoqg9-"
      },
      "source": [
        "import pandas as pd\n",
        "import matplotlib.pyplot as plt\n",
        "import numpy as np\n",
        "from statsmodels.tsa.stattools import adfuller\n",
        "from statsmodels.graphics.tsaplots import plot_pacf\n",
        "from statsmodels.graphics.tsaplots import plot_acf"
      ],
      "execution_count": null,
      "outputs": []
    },
    {
      "cell_type": "code",
      "metadata": {
        "id": "zMcPleDoqIzz"
      },
      "source": [
        "#######################################\n",
        "#### Importando os dados do Github ####\n",
        "#######################################\n",
        "\n",
        "# Importando os dados do Github\n",
        "df_q  = pd.read_csv('https://raw.githubusercontent.com/lucasestrela/dec_consumo_poupanca/main/dados/BEA_Tab115_Quarter.csv',\n",
        "                             delimiter = \";\")\n",
        "df_a  = pd.read_csv('https://raw.githubusercontent.com/lucasestrela/dec_consumo_poupanca/main/dados/BEA_Tab115_Annual.csv',\n",
        "                             delimiter = \";\")\n",
        "\n",
        "\n",
        "p_a  = pd.read_csv('https://raw.githubusercontent.com/lucasestrela/dec_consumo_poupanca/main/dados/BEA_Tab114_Annual.csv',\n",
        "                             delimiter = \";\")\n",
        "\n",
        "p_q  = pd.read_csv('https://raw.githubusercontent.com/lucasestrela/dec_consumo_poupanca/main/dados/BEA_Tab114_Quarter.csv',\n",
        "                             delimiter = \";\")\n",
        "\n",
        "\n",
        "# Deletando a primeira coluna\n",
        "del df_q['Line']\n",
        "del df_a['Line']\n",
        "del p_q['Line']\n",
        "del p_a['Line']\n",
        "\n",
        "# Transpondo a matriz\n",
        "df_a  = df_a.T\n",
        "df_q  = df_q.T\n",
        "p_q   = p_q.T\n",
        "p_a   = p_a.T\n",
        "\n",
        "# Excluindo primeira linha a add ela como var name\n",
        "df_a.columns = df_a.iloc[0, :]\n",
        "df_q.columns = df_q.iloc[0, :]\n",
        "p_q.columns  = p_q.iloc[0, :]\n",
        "p_a.columns  = p_a.iloc[0, :]\n",
        "\n",
        "df_a = df_a.iloc[1:, :]\n",
        "df_q = df_q.iloc[1:, :]\n",
        "p_q  = p_q.iloc[1:, :]\n",
        "p_a  = p_a.iloc[1:, :]\n",
        "\n",
        "\n",
        "\n",
        "# Removendo o underline\n",
        "df_q.index = df_q.index.str.replace(\"_\", \"\")\n",
        "df_a.index = df_a.index.str.replace(\"_\", \"\")\n",
        "\n",
        "p_q.index = p_q.index.str.replace(\"_\", \"\")\n",
        "p_a.index = p_a.index.str.replace(\"_\", \"\")\n",
        "\n",
        "\n",
        "# Transformando em data\n",
        "df_q.index = pd.to_datetime( df_q.index , errors='coerce')\n",
        "df_a.index = pd.to_datetime( df_a.index , errors='coerce')\n",
        "\n",
        "p_q.index = pd.to_datetime( p_q.index , errors='coerce')\n",
        "p_a.index = pd.to_datetime( p_a.index , errors='coerce')\n",
        "\n",
        "\n",
        "# Renomeando\n",
        "df_q = df_q.rename(columns={'Personal consumption expenditures': 'consumption'})\n",
        "df_a = df_a.rename(columns={'Personal consumption expenditures': 'consumption'})\n",
        "\n",
        "p_q  = p_q.rename(columns={'Personal consumption expenditures': 'consumption'})\n",
        "p_a  = p_a.rename(columns={'Personal consumption expenditures': 'consumption'})\n",
        "\n",
        "\n",
        "\n",
        "# Transformando em .float\n",
        "df_q['consumption'] = pd.to_numeric(df_q['consumption'])\n",
        "df_a['consumption'] = pd.to_numeric(df_a['consumption'])\n",
        "\n",
        "p_q['consumption'] = pd.to_numeric(p_q['consumption'])\n",
        "p_a['consumption'] = pd.to_numeric(p_a['consumption'])"
      ],
      "execution_count": null,
      "outputs": []
    },
    {
      "cell_type": "markdown",
      "metadata": {
        "id": "F9mE8pdDPuju"
      },
      "source": [
        "### Série em Nível"
      ]
    },
    {
      "cell_type": "markdown",
      "metadata": {
        "id": "GqHDcSEQpd3X"
      },
      "source": [
        "#### Nominal"
      ]
    },
    {
      "cell_type": "markdown",
      "metadata": {
        "id": "C9aHb7rERwc6"
      },
      "source": [
        "##### Teste ADF"
      ]
    },
    {
      "cell_type": "code",
      "metadata": {
        "colab": {
          "base_uri": "https://localhost:8080/",
          "height": 742
        },
        "id": "ZxQdUvd8FwcM",
        "outputId": "d7880210-871f-4ef2-8cd8-6612ca1ea49f"
      },
      "source": [
        "X1_nivel = df_q['consumption']\n",
        "X2_nivel = df_a['consumption']\n",
        "\n",
        "fig, axes = plt.subplots(nrows=1, ncols=2, figsize=(10, 5), constrained_layout=True)\n",
        "\n",
        "# Plotando\n",
        "axes[0].plot(X1_nivel)\n",
        "axes[0].set_ylabel('Consumo')\n",
        "axes[0].set_xlabel('Trimestre')\n",
        "\n",
        "# Plotando\n",
        "axes[1].plot(X2_nivel)\n",
        "axes[1].set_xlabel('Ano')\n",
        "plt.show()\n",
        "\n",
        "# Rodando o teste ADF para testar raiz unitária\n",
        "result1 = adfuller(X1_nivel, regression=\"ct\") #Incluindo tendencia linear + constante\n",
        "result2 = adfuller(X2_nivel, regression=\"ct\") #Incluindo tendencia linear + constante\n",
        "\n",
        "# O teste falha em rejeitar H0 usando valores críticos de 10%.\n",
        "# A série possui raiz unitária\n",
        "\n",
        "print()\n",
        "print()\n",
        "print('Frequência Trimestral')\n",
        "print()\n",
        "print('ADF Statistic: %f' % result1[0])\n",
        "print('p-value: %f' % result1[1])\n",
        "print('Critical Values:')\n",
        "for key, value in result1[4].items():\n",
        "\tprint('\\t%s: %.3f' % (key, value))\n",
        "\n",
        "print()\n",
        "print('#-------------------------------------#')\n",
        "print()\n",
        "\n",
        "print('Frequência Anual')\n",
        "print()\n",
        "print('ADF Statistic: %f' % result2[0])\n",
        "print('p-value: %f' % result2[1])\n",
        "print('Critical Values:')\n",
        "for key, value in result2[4].items():\n",
        "\tprint('\\t%s: %.3f' % (key, value))"
      ],
      "execution_count": null,
      "outputs": [
        {
          "output_type": "display_data",
          "data": {
            "image/png": "[encoded data removed]",
            "text/plain": [
              "<Figure size 720x360 with 2 Axes>"
            ]
          },
          "metadata": {
            "tags": [],
            "needs_background": "light"
          }
        },
        {
          "output_type": "stream",
          "text": [
            "\n",
            "\n",
            "Frequência Trimestral\n",
            "\n",
            "ADF Statistic: -0.450418\n",
            "p-value: 0.985256\n",
            "Critical Values:\n",
            "\t1%: -3.991\n",
            "\t5%: -3.426\n",
            "\t10%: -3.136\n",
            "\n",
            "#-------------------------------------#\n",
            "\n",
            "Frequência Anual\n",
            "\n",
            "ADF Statistic: -0.912595\n",
            "p-value: 0.954787\n",
            "Critical Values:\n",
            "\t1%: -4.078\n",
            "\t5%: -3.468\n",
            "\t10%: -3.160\n"
          ],
          "name": "stdout"
        }
      ]
    },
    {
      "cell_type": "markdown",
      "metadata": {
        "id": "6BVLhUDAR7OZ"
      },
      "source": [
        "##### ACF e PACF"
      ]
    },
    {
      "cell_type": "code",
      "metadata": {
        "colab": {
          "base_uri": "https://localhost:8080/",
          "height": 673
        },
        "id": "DddHfqiNPhJA",
        "outputId": "e98e75ed-3666-4028-baa3-57c7a6987664"
      },
      "source": [
        "fig, axes = plt.subplots(nrows=2, ncols=2, figsize=(10, 9), constrained_layout=True)\n",
        "\n",
        "plot_acf(X1_nivel, lags=20, ax=axes[0,0])\n",
        "plot_acf(X2_nivel, lags=20, ax=axes[0,1])\n",
        "plot_pacf(X1_nivel, lags=20, ax=axes[1,0])\n",
        "plot_pacf(X2_nivel, lags=20, ax=axes[1,1])\n",
        "plt.show()"
      ],
      "execution_count": null,
      "outputs": [
        {
          "output_type": "display_data",
          "data": {
            "image/png": "[encoded data removed]",
            "text/plain": [
              "<Figure size 720x648 with 4 Axes>"
            ]
          },
          "metadata": {
            "tags": [],
            "needs_background": "light"
          }
        }
      ]
    },
    {
      "cell_type": "markdown",
      "metadata": {
        "id": "vbf50VTFpkT4"
      },
      "source": [
        "#### Real"
      ]
    },
    {
      "cell_type": "markdown",
      "metadata": {
        "id": "y3cEbISspzax"
      },
      "source": [
        "##### Teste ADF"
      ]
    },
    {
      "cell_type": "code",
      "metadata": {
        "colab": {
          "base_uri": "https://localhost:8080/",
          "height": 742
        },
        "id": "wtwXgevbpWUx",
        "outputId": "58d56df3-bf47-4d0d-922a-5de008ce90b6"
      },
      "source": [
        "X1_nivel = df_q['consumption']/p_q['consumption']\n",
        "X2_nivel = df_a['consumption']/p_a['consumption']\n",
        "\n",
        "fig, axes = plt.subplots(nrows=1, ncols=2, figsize=(10, 5), constrained_layout=True)\n",
        "\n",
        "# Plotando\n",
        "axes[0].plot(X1_nivel)\n",
        "axes[0].set_ylabel('Consumo')\n",
        "axes[0].set_xlabel('Trimestre')\n",
        "\n",
        "# Plotando\n",
        "axes[1].plot(X2_nivel)\n",
        "axes[1].set_xlabel('Ano')\n",
        "plt.show()\n",
        "\n",
        "# Rodando o teste ADF para testar raiz unitária\n",
        "result1 = adfuller(X1_nivel, regression=\"ct\") #Incluindo tendencia linear + constante\n",
        "result2 = adfuller(X2_nivel, regression=\"ct\") #Incluindo tendencia linear + constante\n",
        "\n",
        "# O teste falha em rejeitar H0 usando valores críticos de 10%.\n",
        "# A série possui raiz unitária\n",
        "\n",
        "print()\n",
        "print()\n",
        "print('Frequência Trimestral')\n",
        "print()\n",
        "print('ADF Statistic: %f' % result1[0])\n",
        "print('p-value: %f' % result1[1])\n",
        "print('Critical Values:')\n",
        "for key, value in result1[4].items():\n",
        "\tprint('\\t%s: %.3f' % (key, value))\n",
        "\n",
        "print()\n",
        "print('#-------------------------------------#')\n",
        "print()\n",
        "\n",
        "print('Frequência Anual')\n",
        "print()\n",
        "print('ADF Statistic: %f' % result2[0])\n",
        "print('p-value: %f' % result2[1])\n",
        "print('Critical Values:')\n",
        "for key, value in result2[4].items():\n",
        "\tprint('\\t%s: %.3f' % (key, value))"
      ],
      "execution_count": null,
      "outputs": [
        {
          "output_type": "display_data",
          "data": {
            "image/png": "[encoded data removed]",
            "text/plain": [
              "<Figure size 720x360 with 2 Axes>"
            ]
          },
          "metadata": {
            "tags": [],
            "needs_background": "light"
          }
        },
        {
          "output_type": "stream",
          "text": [
            "\n",
            "\n",
            "Frequência Trimestral\n",
            "\n",
            "ADF Statistic: -1.968987\n",
            "p-value: 0.618221\n",
            "Critical Values:\n",
            "\t1%: -3.990\n",
            "\t5%: -3.426\n",
            "\t10%: -3.136\n",
            "\n",
            "#-------------------------------------#\n",
            "\n",
            "Frequência Anual\n",
            "\n",
            "ADF Statistic: -2.371049\n",
            "p-value: 0.395119\n",
            "Critical Values:\n",
            "\t1%: -4.078\n",
            "\t5%: -3.468\n",
            "\t10%: -3.160\n"
          ],
          "name": "stdout"
        }
      ]
    },
    {
      "cell_type": "markdown",
      "metadata": {
        "id": "AasNzOFwp0gY"
      },
      "source": [
        "##### ACF e PACF"
      ]
    },
    {
      "cell_type": "code",
      "metadata": {
        "colab": {
          "base_uri": "https://localhost:8080/",
          "height": 673
        },
        "id": "Z1sIaOHTp44H",
        "outputId": "2e79b0be-3587-4fa8-87e5-c4fe06247369"
      },
      "source": [
        "fig, axes = plt.subplots(nrows=2, ncols=2, figsize=(10, 9), constrained_layout=True)\n",
        "\n",
        "plot_acf(X1_nivel, lags=20, ax=axes[0,0])\n",
        "plot_acf(X2_nivel, lags=20, ax=axes[0,1])\n",
        "plot_pacf(X1_nivel, lags=20, ax=axes[1,0])\n",
        "plot_pacf(X2_nivel, lags=20, ax=axes[1,1])\n",
        "plt.show()"
      ],
      "execution_count": null,
      "outputs": [
        {
          "output_type": "display_data",
          "data": {
            "image/png": "[encoded data removed]",
            "text/plain": [
              "<Figure size 720x648 with 4 Axes>"
            ]
          },
          "metadata": {
            "tags": [],
            "needs_background": "light"
          }
        }
      ]
    },
    {
      "cell_type": "markdown",
      "metadata": {
        "id": "dZTiEas1Phec"
      },
      "source": [
        "### Série em 1 Diferença"
      ]
    },
    {
      "cell_type": "markdown",
      "metadata": {
        "id": "TNd5wcHmp7zc"
      },
      "source": [
        "#### Nominal"
      ]
    },
    {
      "cell_type": "markdown",
      "metadata": {
        "id": "amRd7eVVR1Td"
      },
      "source": [
        "##### Teste ADF"
      ]
    },
    {
      "cell_type": "code",
      "metadata": {
        "colab": {
          "base_uri": "https://localhost:8080/",
          "height": 742
        },
        "id": "P9Db9uUXJ7Yo",
        "outputId": "8f2bbe22-4b46-432f-95aa-260267c484ed"
      },
      "source": [
        "# Calculando a variação da série\n",
        "X1 = (df_q['consumption']/df_q['consumption'].shift(1) - 1).dropna()\n",
        "X2 = (df_a['consumption']/df_a['consumption'].shift(1) - 1).dropna()\n",
        "\n",
        "fig, axes = plt.subplots(nrows=1, ncols=2, figsize=(10, 5), constrained_layout=True)\n",
        "\n",
        "# Plotando\n",
        "axes[0].plot(X1)\n",
        "axes[0].set_ylabel('Consumo')\n",
        "axes[0].set_xlabel('Trimestre')\n",
        "\n",
        "# Plotando\n",
        "axes[1].plot(X2)\n",
        "axes[1].set_xlabel('Ano')\n",
        "plt.show()\n",
        "\n",
        "\n",
        "# Rodando o teste ADF para testar raiz unitária\n",
        "result1 = adfuller(X1, regression=\"ct\") #Incluindo tendencia linear + constante\n",
        "result2 = adfuller(X2, regression=\"ct\") #Incluindo tendencia linear + constante\n",
        "\n",
        "\n",
        "print()\n",
        "print()\n",
        "print('Frequência Trimestral')\n",
        "print()\n",
        "print('ADF Statistic: %f' % result1[0])\n",
        "print('p-value: %f' % result1[1])\n",
        "print('Critical Values:')\n",
        "for key, value in result1[4].items():\n",
        "\tprint('\\t%s: %.3f' % (key, value))\n",
        "\n",
        "print()\n",
        "print('#-------------------------------------#')\n",
        "print()\n",
        "\n",
        "print('Frequência Anual')\n",
        "print()\n",
        "print('ADF Statistic: %f' % result2[0])\n",
        "print('p-value: %f' % result2[1])\n",
        "print('Critical Values:')\n",
        "for key, value in result2[4].items():\n",
        "\tprint('\\t%s: %.3f' % (key, value))"
      ],
      "execution_count": null,
      "outputs": [
        {
          "output_type": "display_data",
          "data": {
            "image/png": "[encoded data removed]",
            "text/plain": [
              "<Figure size 720x360 with 2 Axes>"
            ]
          },
          "metadata": {
            "tags": [],
            "needs_background": "light"
          }
        },
        {
          "output_type": "stream",
          "text": [
            "\n",
            "\n",
            "Frequência Trimestral\n",
            "\n",
            "ADF Statistic: -2.860572\n",
            "p-value: 0.175587\n",
            "Critical Values:\n",
            "\t1%: -3.991\n",
            "\t5%: -3.426\n",
            "\t10%: -3.136\n",
            "\n",
            "#-------------------------------------#\n",
            "\n",
            "Frequência Anual\n",
            "\n",
            "ADF Statistic: -1.846176\n",
            "p-value: 0.682078\n",
            "Critical Values:\n",
            "\t1%: -4.080\n",
            "\t5%: -3.468\n",
            "\t10%: -3.161\n"
          ],
          "name": "stdout"
        }
      ]
    },
    {
      "cell_type": "markdown",
      "metadata": {
        "id": "mRXv82KwR3VB"
      },
      "source": [
        "##### ACF e PACF"
      ]
    },
    {
      "cell_type": "code",
      "metadata": {
        "colab": {
          "base_uri": "https://localhost:8080/",
          "height": 673
        },
        "id": "9cjtfkpdPec_",
        "outputId": "6523cdb3-5f61-43f4-ed72-e649aa92c0be"
      },
      "source": [
        "fig, axes = plt.subplots(nrows=2, ncols=2, figsize=(10, 9), constrained_layout=True)\n",
        "\n",
        "plot_acf(X1, lags=20, ax=axes[0,0])\n",
        "plot_acf(X2, lags=20, ax=axes[0,1])\n",
        "plot_pacf(X1, lags=20, ax=axes[1,0])\n",
        "plot_pacf(X2, lags=20, ax=axes[1,1])\n",
        "plt.show()"
      ],
      "execution_count": null,
      "outputs": [
        {
          "output_type": "display_data",
          "data": {
            "image/png": "[encoded data removed]",
            "text/plain": [
              "<Figure size 720x648 with 4 Axes>"
            ]
          },
          "metadata": {
            "tags": [],
            "needs_background": "light"
          }
        }
      ]
    },
    {
      "cell_type": "markdown",
      "metadata": {
        "id": "uW38xywmyKbN"
      },
      "source": [
        "##### Rodando OLS"
      ]
    },
    {
      "cell_type": "code",
      "metadata": {
        "colab": {
          "base_uri": "https://localhost:8080/"
        },
        "id": "yIYBL0sxUq8y",
        "outputId": "9a7be8cd-d88f-4e28-a788-e197a1388236"
      },
      "source": [
        "# !pip install statsmodels --upgrade\n",
        "# !pip install pandas --upgrade"
      ],
      "execution_count": null,
      "outputs": [
        {
          "output_type": "stream",
          "text": [
            "Requirement already up-to-date: statsmodels in /usr/local/lib/python3.7/dist-packages (0.12.2)\n",
            "Requirement already satisfied, skipping upgrade: numpy>=1.15 in /usr/local/lib/python3.7/dist-packages (from statsmodels) (1.20.2)\n",
            "Requirement already satisfied, skipping upgrade: pandas>=0.21 in /usr/local/lib/python3.7/dist-packages (from statsmodels) (1.2.4)\n",
            "Requirement already satisfied, skipping upgrade: patsy>=0.5 in /usr/local/lib/python3.7/dist-packages (from statsmodels) (0.5.1)\n",
            "Requirement already satisfied, skipping upgrade: scipy>=1.1 in /usr/local/lib/python3.7/dist-packages (from statsmodels) (1.4.1)\n",
            "Requirement already satisfied, skipping upgrade: python-dateutil>=2.7.3 in /usr/local/lib/python3.7/dist-packages (from pandas>=0.21->statsmodels) (2.8.1)\n",
            "Requirement already satisfied, skipping upgrade: pytz>=2017.3 in /usr/local/lib/python3.7/dist-packages (from pandas>=0.21->statsmodels) (2018.9)\n",
            "Requirement already satisfied, skipping upgrade: six in /usr/local/lib/python3.7/dist-packages (from patsy>=0.5->statsmodels) (1.15.0)\n",
            "\u001b[31mERROR: Operation cancelled by user\u001b[0m\n"
          ],
          "name": "stdout"
        }
      ]
    },
    {
      "cell_type": "code",
      "metadata": {
        "id": "LmIftRHOzLbW"
      },
      "source": [
        "from statsmodels.tsa.arima.model import ARIMA\n",
        "from linearmodels import IV2SLS"
      ],
      "execution_count": null,
      "outputs": []
    },
    {
      "cell_type": "code",
      "metadata": {
        "id": "QsBKPu55zomu",
        "colab": {
          "base_uri": "https://localhost:8080/"
        },
        "outputId": "48804b5f-342b-4855-a97e-e3580c0ca83e"
      },
      "source": [
        "model_arima = ARIMA(X1[3:], order = (2,0,0))\n",
        "model_fit   = model_arima.fit()\n",
        "\n",
        "# print(X1)\n",
        "print(model_fit.summary())"
      ],
      "execution_count": null,
      "outputs": [
        {
          "output_type": "stream",
          "text": [
            "                               SARIMAX Results                                \n",
            "==============================================================================\n",
            "Dep. Variable:            consumption   No. Observations:                  292\n",
            "Model:                 ARIMA(2, 0, 0)   Log Likelihood                 866.318\n",
            "Date:                Sun, 18 Apr 2021   AIC                          -1724.637\n",
            "Time:                        19:46:09   BIC                          -1709.930\n",
            "Sample:                    01-01-1948   HQIC                         -1718.746\n",
            "                         - 10-01-2020                                         \n",
            "Covariance Type:                  opg                                         \n",
            "==============================================================================\n",
            "                 coef    std err          z      P>|z|      [0.025      0.975]\n",
            "------------------------------------------------------------------------------\n",
            "const          0.0156      0.001     12.403      0.000       0.013       0.018\n",
            "ar.L1         -0.0123      0.017     -0.726      0.468      -0.045       0.021\n",
            "ar.L2          0.2762      0.038      7.265      0.000       0.202       0.351\n",
            "sigma2         0.0002   3.37e-06     45.975      0.000       0.000       0.000\n",
            "===================================================================================\n",
            "Ljung-Box (L1) (Q):                   0.15   Jarque-Bera (JB):             13359.85\n",
            "Prob(Q):                              0.70   Prob(JB):                         0.00\n",
            "Heteroskedasticity (H):               2.36   Skew:                            -1.01\n",
            "Prob(H) (two-sided):                  0.00   Kurtosis:                        36.08\n",
            "===================================================================================\n",
            "\n",
            "Warnings:\n",
            "[1] Covariance matrix calculated using the outer product of gradients (complex-step).\n"
          ],
          "name": "stdout"
        },
        {
          "output_type": "stream",
          "text": [
            "/usr/local/lib/python3.7/dist-packages/statsmodels/tsa/base/tsa_model.py:527: ValueWarning: No frequency information was provided, so inferred frequency QS-OCT will be used.\n",
            "  % freq, ValueWarning)\n",
            "/usr/local/lib/python3.7/dist-packages/statsmodels/tsa/base/tsa_model.py:527: ValueWarning: No frequency information was provided, so inferred frequency QS-OCT will be used.\n",
            "  % freq, ValueWarning)\n",
            "/usr/local/lib/python3.7/dist-packages/statsmodels/tsa/base/tsa_model.py:527: ValueWarning: No frequency information was provided, so inferred frequency QS-OCT will be used.\n",
            "  % freq, ValueWarning)\n"
          ],
          "name": "stderr"
        }
      ]
    },
    {
      "cell_type": "markdown",
      "metadata": {
        "id": "X4q5B67ksj_4"
      },
      "source": [
        "##### Rodando TSLS"
      ]
    },
    {
      "cell_type": "code",
      "metadata": {
        "id": "shQ30VlSsuXH",
        "colab": {
          "base_uri": "https://localhost:8080/"
        },
        "outputId": "220b52d5-477a-4167-9004-f154d649a04a"
      },
      "source": [
        "from statsmodels.api import add_constant\n",
        "from linearmodels.iv import IV2SLS\n",
        "\n",
        "df = pd.DataFrame( [X1, X1.shift(1), X1.shift(2), X1.shift(3), X1.shift(4)] ).T.dropna()\n",
        "df.columns = ['y','x1','x2','z1','z2']\n",
        "df = add_constant(df, has_constant='add')\n",
        "\n",
        "\n",
        "# Prevendo o consumo utilizando 2 defasagens e instrumentando 2 defasagens com 2 defasagens anteriores.\n",
        "res_second = IV2SLS(df['y'], df['const'], df[['x1', 'x2']], df[['z1', 'z2']]).fit(cov_type='unadjusted')\n",
        "print(res_second)"
      ],
      "execution_count": null,
      "outputs": [
        {
          "output_type": "stream",
          "text": [
            "                          IV-2SLS Estimation Summary                          \n",
            "==============================================================================\n",
            "Dep. Variable:                      y   R-squared:                     -0.2433\n",
            "Estimator:                    IV-2SLS   Adj. R-squared:                -0.2520\n",
            "No. Observations:                 291   F-statistic:                    8.0975\n",
            "Date:                Sun, Apr 18 2021   P-value (F-stat)                0.0174\n",
            "Time:                        19:46:02   Distribution:                  chi2(2)\n",
            "Cov. Estimator:            unadjusted                                         \n",
            "                                                                              \n",
            "                             Parameter Estimates                              \n",
            "==============================================================================\n",
            "            Parameter  Std. Err.     T-stat    P-value    Lower CI    Upper CI\n",
            "------------------------------------------------------------------------------\n",
            "const          0.0064     0.0035     1.8459     0.0649     -0.0004      0.0132\n",
            "x1             0.5116     0.4099     1.2481     0.2120     -0.2918      1.3150\n",
            "x2             0.0762     0.3086     0.2469     0.8050     -0.5286      0.6810\n",
            "==============================================================================\n",
            "\n",
            "Endogenous: x1, x2\n",
            "Instruments: z1, z2\n",
            "Unadjusted Covariance (Homoskedastic)\n",
            "Debiased: False\n"
          ],
          "name": "stdout"
        }
      ]
    },
    {
      "cell_type": "markdown",
      "metadata": {
        "id": "-tzw7Ge3iBci"
      },
      "source": [
        "Note que quando utilizamos a expectativa das variáveis defasadas (utilizando variáveis instrumentais) a significancia se perde, fortalecendo a ideia do passeio aleatório."
      ]
    },
    {
      "cell_type": "markdown",
      "metadata": {
        "id": "AL-mbCBIqBSF"
      },
      "source": [
        "#### Real"
      ]
    },
    {
      "cell_type": "markdown",
      "metadata": {
        "id": "E0LQcwPaqDHr"
      },
      "source": [
        "##### Teste ADF"
      ]
    },
    {
      "cell_type": "code",
      "metadata": {
        "id": "Qhjn1wSkqLNo",
        "colab": {
          "base_uri": "https://localhost:8080/",
          "height": 742
        },
        "outputId": "8a0b288f-e42d-4026-8269-b5bcdb7e8c30"
      },
      "source": [
        "# Calculando a tx de inflação (1+...%)\n",
        "tx_inf1 = p_q['consumption']/p_q['consumption'].shift(1)\n",
        "tx_inf2 = p_a['consumption']/p_a['consumption'].shift(1)\n",
        "\n",
        "# Crescimento do consumo (1+...%)\n",
        "tx_cons1 = df_q['consumption']/df_q['consumption'].shift(1)\n",
        "tx_cons2 = df_a['consumption']/df_a['consumption'].shift(1)\n",
        "\n",
        "# Deflacionando o cresc do consumo\n",
        "X1_taxa = (tx_cons1/tx_inf1 - 1).dropna()\n",
        "X2_taxa = (tx_cons2/tx_inf2 - 1).dropna()\n",
        "\n",
        "\n",
        "# Plotando\n",
        "fig, axes = plt.subplots(nrows=1, ncols=2, figsize=(10, 5), constrained_layout=True)\n",
        "\n",
        "# Tri\n",
        "axes[0].plot(X1_taxa)\n",
        "axes[0].set_ylabel('Consumo')\n",
        "axes[0].set_xlabel('Trimestre')\n",
        "\n",
        "# Ano\n",
        "axes[1].plot(X2_taxa)\n",
        "axes[1].set_xlabel('Ano')\n",
        "plt.show()\n",
        "\n",
        "\n",
        "# Rodando o teste ADF para testar raiz unitária\n",
        "result1 = adfuller(X1_taxa, regression=\"ct\") #Incluindo tendencia linear + constante\n",
        "result2 = adfuller(X2_taxa, regression=\"ct\") #Incluindo tendencia linear + constante\n",
        "\n",
        "# O teste falha em rejeitar H0 usando valores críticos de 10%.\n",
        "# A série possui raiz unitária\n",
        "\n",
        "print()\n",
        "print()\n",
        "print('Frequência Trimestral')\n",
        "print()\n",
        "print('ADF Statistic: %f' % result1[0])\n",
        "print('p-value: %f' % result1[1])\n",
        "print('Critical Values:')\n",
        "for key, value in result1[4].items():\n",
        "\tprint('\\t%s: %.3f' % (key, value))\n",
        "\n",
        "print()\n",
        "print('#-------------------------------------#')\n",
        "print()\n",
        "\n",
        "print('Frequência Anual')\n",
        "print()\n",
        "print('ADF Statistic: %f' % result2[0])\n",
        "print('p-value: %f' % result2[1])\n",
        "print('Critical Values:')\n",
        "for key, value in result2[4].items():\n",
        "\tprint('\\t%s: %.3f' % (key, value))"
      ],
      "execution_count": null,
      "outputs": [
        {
          "output_type": "display_data",
          "data": {
            "image/png": "[encoded data removed]",
            "text/plain": [
              "<Figure size 720x360 with 2 Axes>"
            ]
          },
          "metadata": {
            "tags": [],
            "needs_background": "light"
          }
        },
        {
          "output_type": "stream",
          "text": [
            "\n",
            "\n",
            "Frequência Trimestral\n",
            "\n",
            "ADF Statistic: -19.576032\n",
            "p-value: 0.000000\n",
            "Critical Values:\n",
            "\t1%: -3.990\n",
            "\t5%: -3.426\n",
            "\t10%: -3.136\n",
            "\n",
            "#-------------------------------------#\n",
            "\n",
            "Frequência Anual\n",
            "\n",
            "ADF Statistic: -4.049989\n",
            "p-value: 0.007457\n",
            "Critical Values:\n",
            "\t1%: -4.074\n",
            "\t5%: -3.465\n",
            "\t10%: -3.159\n"
          ],
          "name": "stdout"
        }
      ]
    },
    {
      "cell_type": "markdown",
      "metadata": {
        "id": "qy6JZnuBqFnK"
      },
      "source": [
        "##### ACF e PACF"
      ]
    },
    {
      "cell_type": "code",
      "metadata": {
        "id": "0KQMEyT4qCqy",
        "colab": {
          "base_uri": "https://localhost:8080/",
          "height": 673
        },
        "outputId": "6745b9fc-e50a-4e09-ce9e-b780a1c92f28"
      },
      "source": [
        "fig, axes = plt.subplots(nrows=2, ncols=2, figsize=(10, 9), constrained_layout=True)\n",
        "\n",
        "plot_acf(X1_taxa, lags=20, ax=axes[0,0])\n",
        "plot_acf(X2_taxa, lags=20, ax=axes[0,1])\n",
        "plot_pacf(X1_taxa, lags=20, ax=axes[1,0])\n",
        "plot_pacf(X2_taxa, lags=20, ax=axes[1,1])\n",
        "plt.show()"
      ],
      "execution_count": null,
      "outputs": [
        {
          "output_type": "display_data",
          "data": {
            "image/png": "[encoded data removed]",
            "text/plain": [
              "<Figure size 720x648 with 4 Axes>"
            ]
          },
          "metadata": {
            "tags": [],
            "needs_background": "light"
          }
        }
      ]
    },
    {
      "cell_type": "markdown",
      "metadata": {
        "id": "QucUlG7_8pu4"
      },
      "source": [
        "##### Rodando OLS"
      ]
    },
    {
      "cell_type": "code",
      "metadata": {
        "id": "KYcJ0FYh8qW-",
        "colab": {
          "base_uri": "https://localhost:8080/"
        },
        "outputId": "7caf6994-e954-493f-9c05-9d50d65b95fc"
      },
      "source": [
        "model_arima = ARIMA(X1_taxa, order = (2,0,0))\n",
        "model_fit   = model_arima.fit()\n",
        "\n",
        "# print(X1)\n",
        "print(model_fit.summary())"
      ],
      "execution_count": null,
      "outputs": [
        {
          "output_type": "stream",
          "text": [
            "                               SARIMAX Results                                \n",
            "==============================================================================\n",
            "Dep. Variable:            consumption   No. Observations:                  295\n",
            "Model:                 ARIMA(2, 0, 0)   Log Likelihood                 911.459\n",
            "Date:                Sun, 18 Apr 2021   AIC                          -1814.918\n",
            "Time:                        19:48:06   BIC                          -1800.170\n",
            "Sample:                    04-01-1947   HQIC                         -1809.013\n",
            "                         - 10-01-2020                                         \n",
            "Covariance Type:                  opg                                         \n",
            "==============================================================================\n",
            "                 coef    std err          z      P>|z|      [0.025      0.975]\n",
            "------------------------------------------------------------------------------\n",
            "const          0.0080      0.001      9.146      0.000       0.006       0.010\n",
            "ar.L1         -0.1010      0.018     -5.761      0.000      -0.135      -0.067\n",
            "ar.L2          0.1399      0.043      3.263      0.001       0.056       0.224\n",
            "sigma2         0.0001   2.62e-06     46.170      0.000       0.000       0.000\n",
            "===================================================================================\n",
            "Ljung-Box (L1) (Q):                   0.01   Jarque-Bera (JB):             15634.85\n",
            "Prob(Q):                              0.94   Prob(JB):                         0.00\n",
            "Heteroskedasticity (H):               2.02   Skew:                            -1.99\n",
            "Prob(H) (two-sided):                  0.00   Kurtosis:                        38.44\n",
            "===================================================================================\n",
            "\n",
            "Warnings:\n",
            "[1] Covariance matrix calculated using the outer product of gradients (complex-step).\n"
          ],
          "name": "stdout"
        },
        {
          "output_type": "stream",
          "text": [
            "/usr/local/lib/python3.7/dist-packages/statsmodels/tsa/base/tsa_model.py:527: ValueWarning: No frequency information was provided, so inferred frequency QS-OCT will be used.\n",
            "  % freq, ValueWarning)\n",
            "/usr/local/lib/python3.7/dist-packages/statsmodels/tsa/base/tsa_model.py:527: ValueWarning: No frequency information was provided, so inferred frequency QS-OCT will be used.\n",
            "  % freq, ValueWarning)\n",
            "/usr/local/lib/python3.7/dist-packages/statsmodels/tsa/base/tsa_model.py:527: ValueWarning: No frequency information was provided, so inferred frequency QS-OCT will be used.\n",
            "  % freq, ValueWarning)\n"
          ],
          "name": "stderr"
        }
      ]
    },
    {
      "cell_type": "markdown",
      "metadata": {
        "id": "ySUwP5hYsxlk"
      },
      "source": [
        "##### Rodando TSLS"
      ]
    },
    {
      "cell_type": "code",
      "metadata": {
        "colab": {
          "base_uri": "https://localhost:8080/"
        },
        "id": "xGBRcQqNheBL",
        "outputId": "b4875079-eb5f-4e0a-a214-754d7c161d07"
      },
      "source": [
        "from statsmodels.api import add_constant\n",
        "from linearmodels.iv import IV2SLS\n",
        "\n",
        "df = pd.DataFrame( [X1_taxa, X1_taxa.shift(1), X1_taxa.shift(2), X1_taxa.shift(3), X1_taxa.shift(4)] ).T.dropna()\n",
        "df.columns = ['y','x1','x2','z1','z2']\n",
        "df = add_constant(df, has_constant='add')\n",
        "\n",
        "\n",
        "# Prevendo o consumo utilizando 2 defasagens e instrumentando 2 defasagens com 2 defasagens anteriores.\n",
        "res_second = IV2SLS(df['y'], df['const'], df[['x1', 'x2']], df[['z1', 'z2']]).fit(cov_type='unadjusted')\n",
        "print(res_second)"
      ],
      "execution_count": null,
      "outputs": [
        {
          "output_type": "stream",
          "text": [
            "                          IV-2SLS Estimation Summary                          \n",
            "==============================================================================\n",
            "Dep. Variable:                      y   R-squared:                     -0.3121\n",
            "Estimator:                    IV-2SLS   Adj. R-squared:                -0.3213\n",
            "No. Observations:                 291   F-statistic:                    0.5303\n",
            "Date:                Sun, Apr 18 2021   P-value (F-stat)                0.7671\n",
            "Time:                        19:47:37   Distribution:                  chi2(2)\n",
            "Cov. Estimator:            unadjusted                                         \n",
            "                                                                              \n",
            "                             Parameter Estimates                              \n",
            "==============================================================================\n",
            "            Parameter  Std. Err.     T-stat    P-value    Lower CI    Upper CI\n",
            "------------------------------------------------------------------------------\n",
            "const          0.0059     0.0033     1.7964     0.0724     -0.0005      0.0123\n",
            "x1             0.3944     0.5475     0.7204     0.4713     -0.6786      1.4674\n",
            "x2            -0.1375     0.3249    -0.4233     0.6721     -0.7744      0.4993\n",
            "==============================================================================\n",
            "\n",
            "Endogenous: x1, x2\n",
            "Instruments: z1, z2\n",
            "Unadjusted Covariance (Homoskedastic)\n",
            "Debiased: False\n"
          ],
          "name": "stdout"
        }
      ]
    },
    {
      "cell_type": "markdown",
      "metadata": {
        "id": "E_8H7tbFhyWp"
      },
      "source": [
        "Note que quando utilizamos a expectativa das variáveis defasadas (utilizando variáveis instrumentais) a significancia se perde, fortalecendo a ideia do passeio aleatório."
      ]
    }
  ]
}