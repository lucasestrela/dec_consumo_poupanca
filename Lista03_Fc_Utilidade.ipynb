{
  "nbformat": 4,
  "nbformat_minor": 0,
  "metadata": {
    "colab": {
      "name": "Lista03_Fc_Utilidade.ipynb",
      "provenance": [],
      "collapsed_sections": [],
      "toc_visible": true,
      "authorship_tag": "ABX9TyNUsQZNukYRtMvR/7/chG/e",
      "include_colab_link": true
    },
    "kernelspec": {
      "name": "python3",
      "display_name": "Python 3"
    },
    "language_info": {
      "name": "python"
    }
  },
  "cells": [
    {
      "cell_type": "markdown",
      "metadata": {
        "id": "view-in-github",
        "colab_type": "text"
      },
      "source": [
        "<a href=\"https://colab.research.google.com/github/lucasestrela/dec_consumo_poupanca/blob/main/Lista03_Fc_Utilidade.ipynb\" target=\"_parent\"><img src=\"https://colab.research.google.com/assets/colab-badge.svg\" alt=\"Open In Colab\"/></a>"
      ]
    },
    {
      "cell_type": "markdown",
      "metadata": {
        "id": "BF-gxbaIC3Vn"
      },
      "source": [
        "# Problema 1)\n",
        "Considere as seguintes funções utilidade\n",
        "\n",
        "\n",
        "1.  Quadrática\n",
        "\n",
        "$$u (C) = C - \\frac{a}{2} C^2, \\quad a > 0$$\n",
        "\n",
        "2.  CARA\n",
        "\n",
        "$$u(C) = - \\frac{1}{\\theta} e^{-\\theta C}$$\n",
        "\n",
        "3.  CRRA\n",
        "\n",
        "\\begin{align}\n",
        "u(C) =\n",
        "  \\begin{cases}\n",
        "    \\frac{C^{1-\\gamma}}{1-\\gamma}, \\text{ se } \\gamma > 0 \\text{ e } \\gamma \\neq 0 \\\\\n",
        "    \\ln(C), \\text{ se } \\gamma = 1\n",
        "  \\end{cases}\n",
        "\\end{align}"
      ]
    },
    {
      "cell_type": "markdown",
      "metadata": {
        "id": "ZlnoQ9-FD_WZ"
      },
      "source": [
        "## a) Verifique se cada uma dessas função utilidade é crescente e côncava."
      ]
    },
    {
      "cell_type": "markdown",
      "metadata": {
        "id": "cUL2FVFu9-dq"
      },
      "source": [
        "### Resposta\n",
        "\n",
        "1. **Quadrática**\n",
        "\n",
        "Calculando a primeira derivada:\n",
        "\\begin{align}\n",
        "     \\frac{\\partial u(C)}{\\partial C} > 0 \\Rightarrow C < \\frac{1}{a}\n",
        "\\end{align}\n",
        "\n",
        "e calculando a segunda derivada\n",
        "\n",
        "\\begin{align}\n",
        "     \\frac{\\partial^2 u(C)}{\\partial C \\partial C} = -a < 0.\n",
        "\\end{align}\n",
        "Logo, a função utilidade quadrática é crescente quando $C < \\frac{1}{a}$ e côncava\n",
        "\n",
        "\n",
        "\n",
        "2. **CARA**\n",
        "\n",
        "Calculando a primeira derivada:\n",
        "\\begin{align}\n",
        "     \\frac{\\partial u(C)}{\\partial C} = e^{-\\theta C} > 0\n",
        "\\end{align}\n",
        "\n",
        "e calculando a segunda derivada\n",
        "\\begin{align}\n",
        "     \\frac{\\partial^2 u(C)}{\\partial C \\partial C} = -\\theta e^{-\\theta C} < 0.\n",
        "\\end{align}\n",
        "\n",
        "Logo, a função utilidade quadrática é crescente e côncava.\n",
        "\n",
        "\n",
        "3. **CRRA**\n",
        "\n",
        "Calculando a primeira derivada:\n",
        "\\begin{align}\n",
        "     \\frac{\\partial u(C)}{\\partial C} = \n",
        "     \\begin{cases}\n",
        "          \\frac{1}{C^{\\gamma}} > 0, \\text{ se } \\gamma > 0 \\text{ e } \\gamma \\neq 0 \\\\\n",
        "          \\frac{1}{C}  > 0 , \\text{ se } \\gamma = 1\n",
        "      \\end{cases}\n",
        "\\end{align}\n",
        "\n",
        "e calculando a segunda derivada\n",
        "\\begin{align}\n",
        "     \\frac{\\partial^2 u(C)}{\\partial C \\partial C} = \n",
        "     \\begin{cases}\n",
        "           -\\frac{\\gamma}{C^{\\gamma+1}} < 0, \\text{ se } \\gamma > 0 \\text{ e } \\gamma \\neq 0 \\\\\n",
        "          -\\frac{2}{C^2} < 0, \\text{ se } \\gamma = 1\n",
        "      \\end{cases}\n",
        "\\end{align}\n",
        "\n",
        "Logo, a função utilidade quadrática é crescente e côncava.\n"
      ]
    },
    {
      "cell_type": "markdown",
      "metadata": {
        "id": "_HZovs6gEGhn"
      },
      "source": [
        "\n",
        "##b) Para cada uma dessas funções utilidade calcule os seguintes coeficientes:\n",
        "\n",
        "1. Coeficiente Arrow-Pratt de aversão ao risco absoluto ($A_A$)\n",
        "\n",
        "$$A_A \\equiv - \\frac{u''(C)}{u'(C)} $$\n",
        "\n",
        "2. Coeficiente Arrow-Pratt de aversão ao risco relativo ($A_R$):\n",
        "\n",
        "$$A_R \\equiv - \\frac{u''(C)}{u'(C)} C $$\n",
        "\n",
        "3. Coeficiente de prudência absoluto ($P_A$):\n",
        "\n",
        "$$P_A \\equiv - \\frac{u'''(C)}{u''(C)} $$\n",
        "\n",
        "4. Coeficiente de prudência relativo ($P_R$):\n",
        "\n",
        "$$P_R \\equiv - \\frac{u'''(C)}{u''(C)} C$$\n"
      ]
    },
    {
      "cell_type": "markdown",
      "metadata": {
        "id": "9mdbPy1kHINV"
      },
      "source": [
        "### Resposta\n",
        "\n",
        "1. **Quadrática**\n",
        "\n",
        "\\begin{align}\n",
        "     A_A = \\frac{a}{1-aC}\n",
        "\\end{align}\n",
        "\n",
        "\\begin{align}\n",
        "     A_R = \\frac{aC}{1-aC}\n",
        "\\end{align}\n",
        "\n",
        "\\begin{align}\n",
        "     P_A = 0\n",
        "\\end{align}\n",
        "\n",
        "\\begin{align}\n",
        "     P_R = 0\n",
        "\\end{align}\n",
        "\n",
        "\n",
        "\n",
        "2. **CARA**\n",
        "\n",
        "\\begin{align}\n",
        "     A_A = \\frac{\\theta e^{-\\theta C}}{e^{-\\theta C}} = \\theta\n",
        "\\end{align}\n",
        "\n",
        "\\begin{align}\n",
        "     A_R = \\frac{\\theta e^{-\\theta C}}{e^{-\\theta C}} C = \\theta C\n",
        "\\end{align}\n",
        "\n",
        "\\begin{align}\n",
        "     P_A = \\frac{\\theta^2 e^{-\\theta C}}{\\theta e^{-\\theta C}} = \\theta \n",
        "\\end{align}\n",
        "\n",
        "\\begin{align}\n",
        "     P_R = \\frac{\\theta^2 e^{-\\theta C}}{\\theta e^{-\\theta C}} C = \\theta C\n",
        "\\end{align}\n",
        "\n",
        "3. **CRRA**\n",
        "\n",
        "\\begin{align}\n",
        "     \\frac{\\partial u(C)}{\\partial C} = \n",
        "     \\begin{cases}\n",
        "          \\frac{1}{C^{\\gamma}} > 0, \\text{ se } \\gamma > 0 \\text{ e } \\gamma \\neq 0 \\\\\n",
        "          \\frac{1}{C}  > 0 , \\text{ se } \\gamma = 1\n",
        "      \\end{cases}\n",
        "\\end{align}\n",
        "\n",
        "\\begin{align}\n",
        "     \\frac{\\partial^2 u(C)}{\\partial C \\partial C} = \n",
        "     \\begin{cases}\n",
        "           -\\frac{\\gamma}{C^{\\gamma+1}} < 0, \\text{ se } \\gamma > 0 \\text{ e } \\gamma \\neq 0 \\\\\n",
        "          -\\frac{1}{C^2} < 0, \\text{ se } \\gamma = 1\n",
        "      \\end{cases}\n",
        "\\end{align}\n",
        "\n",
        "\n",
        "\n",
        "\\begin{align}\n",
        "     A_A = \n",
        "     \\begin{cases}\n",
        "           \\frac{\\gamma}{C} \\\\\n",
        "          \\frac{1}{C}\n",
        "     \\end{cases}\n",
        "\\end{align}\n",
        "\n",
        "\\begin{align}\n",
        "     A_R = \n",
        "     \\begin{cases}\n",
        "          \\gamma\\\\\n",
        "          1\n",
        "     \\end{cases}\n",
        "\\end{align}\n",
        "\n",
        "\\begin{align}\n",
        "     P_A =      \n",
        "     \\begin{cases}\n",
        "          \\frac{\\gamma+1}{C} \\\\\n",
        "          \\frac{2}{C}\n",
        "     \\end{cases}\n",
        "\\end{align}\n",
        "\n",
        "\\begin{align}\n",
        "     P_R =      \n",
        "     \\begin{cases}\n",
        "          \\gamma+1 \\\\\n",
        "          2\n",
        "     \\end{cases}\n",
        "\\end{align}"
      ]
    },
    {
      "cell_type": "markdown",
      "metadata": {
        "id": "vRSwOEJjEeHT"
      },
      "source": [
        "\n",
        "## c) Para cada uma dessas funções utilidade verifique se as seguintes condições de Inada se aplicam:\n",
        "\n",
        "\n",
        "$$\\lim_{C_t \\to \\infty} u'(C) = 0$$\n",
        "\n",
        "$$\\lim_{C_t \\to 0} u'(C) = \\infty$$"
      ]
    },
    {
      "cell_type": "markdown",
      "metadata": {
        "id": "uU0w9P2OmTvH"
      },
      "source": [
        "### Resposta"
      ]
    },
    {
      "cell_type": "markdown",
      "metadata": {
        "id": "vUuDmwJBmW4i"
      },
      "source": [
        "1. **Quadrática**\n",
        "\n",
        "\\begin{align}\n",
        "     \\lim_{C_t \\to \\infty} 1 - aC = - \\infty\n",
        "\\end{align}\n",
        "\n",
        "\\begin{align}\n",
        "     \\lim_{C_t \\to 0} 1 - aC = 1\n",
        "\\end{align}\n",
        "\n",
        "\n",
        "\n",
        "2. **CARA**\n",
        "\n",
        "\\begin{align}\n",
        "     \\lim_{C_t \\to \\infty} e^{-\\theta C} = 0\n",
        "\\end{align}\n",
        "\n",
        "\\begin{align}\n",
        "     \\lim_{C_t \\to 0} e^{-\\theta C} = 1\n",
        "\\end{align}\n",
        "\n",
        "\n",
        "\n",
        "3. **CRRA**\n",
        "\n",
        "\\begin{align}\n",
        "\\lim_{C_t \\to \\infty} u'(C) =\n",
        "     \\begin{cases}\n",
        "           \\lim_{C_t \\to \\infty} \\frac{1}{C^{\\gamma}} = 0\\\\\n",
        "           \\lim_{C_t \\to \\infty} \\frac{1}{C} = 0\n",
        "      \\end{cases}\n",
        "\\end{align}\n",
        "\n",
        "\n",
        "\\begin{align}\n",
        "\\lim_{C_t \\to 0} u'(C) =\n",
        "     \\begin{cases}\n",
        "           \\lim_{C_t \\to 0} \\frac{1}{C^{\\gamma}} = \\infty\\\\\n",
        "           \\lim_{C_t \\to 0} \\frac{1}{C} = \\infty\n",
        "      \\end{cases}\n",
        "\\end{align}\n"
      ]
    },
    {
      "cell_type": "markdown",
      "metadata": {
        "id": "4nKS1-NWT3x9"
      },
      "source": [
        "# Problema 2) \n",
        "\n",
        "Calcule a EIS considerando a seguinte utilidade ao longo da vida\n",
        "\n",
        "$$ U = \\sum_{t=0}^{\\infty} \\beta^t u(C_t)$$\n",
        "\n",
        "em que $0 < \\beta < 1$ e $u (\\cdot)$ é a utilidade instantânea CRRA, dada por:\n",
        "\\begin{align}\n",
        "u(C) =\n",
        "  \\begin{cases}\n",
        "    \\frac{C^{1-\\gamma}}{1-\\gamma}, \\text{ se } \\gamma > 0 \\text{ e } \\gamma \\neq 0 \\\\\n",
        "    \\ln(C), \\text{ se } \\gamma = 1\n",
        "  \\end{cases}\n",
        "\\end{align}\n",
        "\n",
        "\n",
        "A EIS é definida com:\n",
        "\n",
        "\\begin{align}\n",
        "EIS \\equiv - \\frac{\\frac{d(C_i / C_k)}{C_i/C_j}}{\\frac{d(U_{c_{i}}/U_{c_j})}{U_{c_i}/ U_{c_j} }} = - \\frac{d \\ln(U_{c_i}/ U_{c_j}) }{d \\ln (U_{c_{i}}/U_{c_j})},\n",
        "\\end{align}\n",
        "\n",
        "\n",
        "em que $U_{C_i} \\equiv \\frac{\\partial U}{\\partial C_i}$."
      ]
    },
    {
      "cell_type": "markdown",
      "metadata": {
        "id": "jiFhtxvnF0D8"
      },
      "source": [
        "## Resposta\n",
        "\n",
        "Suponha $\\gamma \\neq 1$. Calculando:\n",
        "\n",
        "\\begin{align}\n",
        "  \\frac{U_{c_{i}}}{U_{c_j}} = \\frac{\\beta^{i} C_i^{-\\gamma}}{\\beta^{j} C_j^{-\\gamma}} = \\beta^{i-j}\\bigg(\\frac{C_i}{C_j} \\bigg)^{-\\gamma}\n",
        "\\end{align}\n",
        "\n",
        "Tomando o logaritmo natural\n",
        "\n",
        "\\begin{align}\n",
        "  \\ln \\bigg(\\frac{U_{c_{i}}}{U_{c_j}} \\bigg) = (i-j) \\ln \\beta - \\gamma \\ln \\bigg(\\frac{C_i}{C_j} \\bigg)\n",
        "\\end{align}\n",
        "$$\\Rightarrow$$\n",
        "\\begin{align}\n",
        "  \\ln \\bigg(\\frac{C_i}{C_j} \\bigg) = \\frac{1}{\\gamma} (i-j) \\ln \\beta - \\frac{1}{\\gamma} \\ln \\bigg(\\frac{U_{c_{i}}}{U_{c_j}} \\bigg)\n",
        "\\end{align}\n",
        "\n",
        "Tomando a derivada da expressão acima em relação a $\\Big(\\frac{U_{c_{i}}}{U_{c_j}} \\Big)$, temos\n",
        "\n",
        "\n",
        "\\begin{align}\n",
        "EIS \\equiv - \\frac{d \\ln(U_{c_i}/ U_{c_j}) }{d \\ln (U_{c_{i}}/U_{c_j})} = \\frac{1}{\\gamma}\n",
        "\\end{align}"
      ]
    }
  ]
}