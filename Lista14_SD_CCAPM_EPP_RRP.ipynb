{
  "nbformat": 4,
  "nbformat_minor": 0,
  "metadata": {
    "colab": {
      "name": "Lista14_SD_CCAPM_EPP_RRP.ipynb",
      "provenance": [],
      "collapsed_sections": [],
      "toc_visible": true,
      "authorship_tag": "ABX9TyMHMZzXiNbPZWpkEZig1US5"
    },
    "kernelspec": {
      "name": "python3",
      "display_name": "Python 3"
    },
    "language_info": {
      "name": "python"
    }
  },
  "cells": [
    {
      "cell_type": "markdown",
      "metadata": {
        "id": "m_GWgmtGgaFj"
      },
      "source": [
        "# Problema 1) \n",
        "\n",
        "Seja $M_{t+1}$ o fator estocástico de desconto (SDF), de modo que:\n",
        "\n",
        "$$1 = E_t [M_{t+1} (1 + R_{i, t+1})] \\tag{1}$$\n",
        "\n",
        "\n",
        "O termo $1 + R_{i, t+1}$ é o retorno bruto do ativo $i$, $i = 1, ..., N$. Ainda, defina $1 + R_{f, t+1}$ como o retorno bruto do ativo livre de risco. A equação (1) também é válida para o ativo livre de risco."
      ]
    },
    {
      "cell_type": "markdown",
      "metadata": {
        "id": "YmuIkcSq9mpo"
      },
      "source": [
        "\n",
        "## Item a) \n",
        "\n",
        "Mostre que a seguinte condição pode ser obtida por meio da equação (1):\n",
        "\n",
        "$$1 + E_t [R_{i, t+1}] = (1 + R_{f, t+1}) [1 - Cov_t (M_{t+1}, R_{i, t+1}) ]\\tag{2}$$\n",
        "\n",
        "Interprete a equação (2)\n",
        "\n",
        "---\n",
        "\n",
        "**Resposta**\n",
        "\n",
        "Note que para o caso do ativo livre de risco $Cov(M_{i,t+1}, R_{f,t+1}) = 0$ e $E[R_{f,t+1}] = R_{f,t+1}$, logo,\n",
        "\n",
        "$$E_t [M_{t+1}] = \\frac{1}{1+R_{f,t+1}}.$$\n",
        "\n",
        "Sabemos, da definição da Covariância que,\n",
        "\n",
        "$$Cov(X,Y) = E(XY) - E(X)E(Y).$$\n",
        "\n",
        "Podemos, portanto, reescrever (1) como:\n",
        "\n",
        "$$1 = E_t [M_{t+1}] E[1 + R_{i, t+1}] + Cov(M_{t+1} , R_{i, t+1})$$\n",
        "\n",
        "Substituindo a expressão que encontramos para o fator estocástico de desconto, obtemos\n",
        "\n",
        "$$1 - Cov(M_{t+1} , R_{i, t+1})= \\frac{1}{1+R_{f,t+1}} E[1 + R_{i, t+1}] \\tag{2}$$"
      ]
    },
    {
      "cell_type": "markdown",
      "metadata": {
        "id": "BaXq1t3m9ppv"
      },
      "source": [
        "## Item b)\n",
        "\n",
        "Assuma que o SDF e os retornos tenham distribuição conjunta log-normal e homocedástica. Mostre que as seguintes condições podem ser obtida por meio da equação (1):\n",
        "\n",
        "$$r_{f, t+1} = - E_t [m_{t+1}] - \\frac{1}{2} \\sigma^2_m \\tag{3}$$\n",
        "$$ E_t [r_{i, t+1}  - r_{f, t+1}] + \\frac{1}{2} \\sigma^2_i = \\sigma_{im} \\tag{4}$$\n",
        "\n",
        "em que $r_{i, t+1} \\equiv \\ln (1 + R_{i, t+1})$, $r_{f, t+1} \\equiv \\ln (1 + R_{f, t+1})$, $m_{t+1} \\equiv \\ln M_{t+1}$, $\\sigma^2_m \\equiv Var_t [m_{t+1}]$, $\\sigma^2_i \\equiv Var_t [r_{i,t+1}]$ e $\\sigma_{im} \\equiv Cov_t (m_{t+1}, r_{i, t})$\n",
        "\n",
        "---\n",
        "\n",
        "**Resposta**\n",
        "\n",
        "Defina $X_{t+1} \\equiv M_{t+1} (1 + R_{i, t+1})$ e também $x_{t+1} = \\ln X_{t+1}$, logo\n",
        "\n",
        "$$x_{t+1} \\equiv m_{t+1} + r_{i, t+1}$$\n",
        "\n",
        "Suponha que $X_{t+1}$ tenha distribuição log-normal (e homocedasticidade), o que permite que escrevamos sua esperança condicional como\n",
        "\n",
        "\\begin{align*}\n",
        "    E_t ( X_{t+1}) & = \\exp \\Big\\{ E_t( x_{t+1}) + \\frac{1}{2} Var_t (x_{t+1}) \\Big\\} \\\\\n",
        "    0 & =  E_t( x_{t+1}) + \\frac{1}{2} Var_t (x_{t+1}) \\\\\n",
        "      & =  E_t(m_{t+1}) + E_t(r_{i, t+1}) + \\frac{1}{2} Var_t (m_{t+1} + r_{i, t+1}) \\\\\n",
        "      & =  E_t(m_{t+1}) + E_t(r_{i, t+1}) + \\frac{1}{2} \\sigma_{m}^2 + \\frac{1}{2} \\sigma_{i}^2 + \\sigma_{im}\n",
        "\\end{align*}\n",
        "\n",
        "Para o caso do ativo *risk-free*\n",
        "\\begin{align*}\n",
        "      0 & = E_t(m_{t+1}) + r_{f, t+1} + \\frac{1}{2} \\sigma_{m}^2 \\\\\n",
        "      r_{f, t+1} & = - E_t(m_{t+1}) - \\frac{1}{2} \\sigma^2_m \\tag{3}\n",
        "\\end{align*}\n",
        "\n",
        "Subtraindo a expressão acima em (3)\n",
        "\\begin{align*}\n",
        "     E_t(r_{i, t+1}) - r_{f, t+1} & = - \\frac{1}{2} \\sigma_{i}^2 - \\sigma_{im} \\\\\n",
        "     E_t(r_{i, t+1} - r_{f, t+1}) + \\frac{1}{2} \\sigma_{i}^2 & = - \\sigma_{im} \\tag{4} \\\\\n",
        "\\end{align*}\n"
      ]
    },
    {
      "cell_type": "markdown",
      "metadata": {
        "id": "IrGKbgiI9sCz"
      },
      "source": [
        "## Item c) \n",
        "\n",
        "Assuma que o SDF e os retornos tenham distribuição conjunta log-normal e homocedástica. Mostre que a seguinte condição pode ser obtida por meio da equação (1):\n",
        "\n",
        "$$\\sigma_m \\geq \\frac{E_t [r_{i, t+1} - r_{f, t+1}] + \\frac{1}{2} \\sigma^2_i}{\\sigma_i} \\tag{5}$$\n",
        "\n",
        "---\n",
        "\n",
        "**Resposta**\n",
        "\n",
        "Note que da definição de Correlação\n",
        "\n",
        "$$-1 \\leq \\rho_{xy} = \\frac{\\sigma_{xy}}{\\sigma_x \\sigma_y} \\leq 1 \\quad \\Rightarrow \\quad -\\sigma_x \\sigma_y \\leq \\sigma_{xy} \\leq \\sigma_x \\sigma_y$$\n",
        "\n",
        "Portanto, utilizando o resultado acima e (4)\n",
        "\n",
        "$$E_t(r_{i, t+1} - r_{f, t+1}) + \\frac{1}{2} \\sigma_{i}^2 = - \\sigma_{im} \\leq \\sigma_{i} \\sigma_{m}$$\n",
        "\n",
        "$$\\frac{E_t(r_{i, t+1} - r_{f, t+1}) + \\frac{1}{2} \\sigma_{i}^2}{\\sigma_{i}} \\leq  \\sigma_{m} \\tag{5}$$"
      ]
    },
    {
      "cell_type": "markdown",
      "metadata": {
        "id": "sx6Rlxnz9uoi"
      },
      "source": [
        "# Problema 2) \n",
        "\n",
        "Suponha que a condição (1) é válida para os ativos arriscados, cujo retorno bruto é $1 + R_{i, t+1}$, $i = 1, ..., N$, e para o ativo livre de risco, cujo retorno bruto é $1 + R_{f, t+1}$."
      ]
    },
    {
      "cell_type": "markdown",
      "metadata": {
        "id": "PfZzSjzP9xLB"
      },
      "source": [
        "## Item a) \n",
        "\n",
        "Mostre que, neste caso, o excesso de retorno do ativo livre de risco é dado pela seguinte expressão:\n",
        "\n",
        "$$E_t [R_{i, t+1} - R_{f, t+1}] = - \\frac{ Cov_t (M_{t+1}, 1 + R_{i, t+1})}{Var_t [M_{t+1}]} \\frac{Var_t [M_{t+1}]}{ E_t [M_{t+1}]} \\tag{6}$$\n",
        "\n",
        "---\n",
        "\n",
        "**Resposta**\n",
        "\n",
        "De (1):\n",
        "\n",
        "\\begin{align*}\n",
        "    1 & = E_t [M_{t+1} (1 + R_{i, t+1})] \\\\\n",
        "    &= Cov(M_{t+1}, 1 + R_{i, t+1}) + E_t [M_{t+1}] E_t [1 + R_{i, t+1}]\n",
        "\\end{align*}\n",
        "\n",
        "Em particular, esta última expressão vale para o ativo livre de risco, obtendo $E_t [M_{t+1}] = \\frac{1}{1+R_{f,t+1}}$, substituindo acima, obtemos\n",
        "\n",
        "\\begin{align*}\n",
        "    1 & = Cov(M_{t+1}, 1 + R_{i, t+1}) + \\frac{E_t [1 + R_{i, t+1}]}{1+R_{f,t+1}} \\\\\n",
        "    E_t [1 + R_{i, t+1}] - (1+R_{f,t+1}) & = - (1+R_{f,t+1}) Cov(M_{t+1}, 1 + R_{i, t+1}) \\\\\n",
        "    E_t [R_{i, t+1} - R_{f,t+1}] & = - (1+R_{f,t+1}) Cov(M_{t+1}, 1 + R_{i, t+1}) \\\\\n",
        "     & = - \\frac{Cov(M_{t+1}, 1 + R_{i, t+1})}{E_t [M_{t+1}]} \\\\\n",
        "     & = - \\frac{Cov(M_{t+1}, 1 + R_{i, t+1})}{Var(M_{t+1})} \\frac{Var(M_{t+1})}{E_t [M_{t+1}]} \\\\\n",
        "     & = - \\beta_{mi, t+1} \\lambda_{t+1},\n",
        "\\end{align*}\n",
        "\n",
        "onde $\\beta_{mi, t+1} \\equiv \\frac{Cov(M_{t+1}, 1 + R_{i, t+1})}{Var(M_{t+1})}$ e $\\lambda_{t+1} \\equiv\\frac{Var(M_{t+1})}{E_t [M_{t+1}]}$."
      ]
    },
    {
      "cell_type": "markdown",
      "metadata": {
        "id": "UJKBYGqw9zvf"
      },
      "source": [
        "## Item b) *\n",
        "\n",
        "A utilidade CRRA implica a seguinte equação de Euler\n",
        "\n",
        "$$1 = E_t \\Bigg[ \\beta \\bigg( \\frac{C_{t+1}}{C_t} \\bigg)^{-\\gamma} (1 + R_{i,t+1}) \\Bigg]$$\n",
        "\n",
        "em que $\\gamma > 0$ é o coeficiente de aversão relativa ao risco. Mostre que o fator estocástico de desconto pode ser aproximado pela seguinte expressão:\n",
        "\n",
        "$$M_{t+1} = \\beta  \\bigg( \\frac{C_{t+1}}{C_t}\\bigg)^{-\\gamma} \\approx \\beta (1-\\gamma \\Delta \\ln C_{t+1}) \\tag{7}$$\n",
        "\n",
        "---\n",
        "\n",
        "**Resposta**\n",
        "\n",
        "\\begin{align*}\n",
        "      M_{t+1} + 1 & = \\beta  \\bigg( \\frac{C_{t+1}}{C_t}\\bigg)^{-\\gamma} + 1 \\\\\n",
        "      \\ln (M_{t+1} + 1) & = \\ln (\\beta + 1) - \\gamma \\Delta \\ln C_{t+1} \\\\\n",
        "      & \\approx \n",
        "\\end{align*}\n",
        "\n"
      ]
    },
    {
      "cell_type": "markdown",
      "metadata": {
        "id": "UNEDV1Rz924J"
      },
      "source": [
        "## Item c) \n",
        "\n",
        "Usando as condições (6) e (7) mostre que:\n",
        "\n",
        "$$E_t [R_{i, t+1} - R_{f, t+1}] \\simeq \\beta_{i,t} \\lambda_t$$\n",
        "\n",
        "em que\n",
        "\n",
        "$$\\beta_{i,t} \\equiv \\frac{Cov_t (\\Delta \\ln C_{t+1}, R_{i,t+1})}{Var_t[\\Delta \\ln C_{t+1}]}$$\n",
        "$$$$\n",
        "$$\\lambda \\equiv \\frac{\\beta \\gamma Var_t [\\Delta \\ln C_{t+1}]}{E_t [M_{t+1}]}$$\n",
        "\n",
        "Interprete $\\beta_{i,t}$ e $\\lambda_t$.\n",
        "\n",
        "\n",
        "---\n",
        "\n",
        "**Resposta**\n",
        "\n",
        "Substituindo (7) em (6), temos\n",
        "\n",
        "\\begin{align*}\n",
        "E_t [R_{i, t+1} - R_{f, t+1}] & = - \\frac{ \\beta Cov_t ((1-\\gamma \\Delta \\ln C_{t+1}), 1 + R_{i, t+1})}{Var_t [\\beta (1-\\gamma \\Delta \\ln C_{t+1})]} \\frac{Var_t [\\beta (1-\\gamma \\Delta \\ln C_{t+1})]}{ E_t [M_{t+1}]} \\\\\n",
        "& = - \\frac{ -\\beta \\gamma Cov_t (\\Delta \\ln C_{t+1}, R_{i, t+1})}{(\\beta \\gamma)^2 Var_t [\\Delta \\ln C_{t+1}]} \\frac{ (\\beta \\gamma)^2 Var_t [\\Delta \\ln C_{t+1}]}{ E_t [M_{t+1}]}\n",
        "\\\\\n",
        "& = \\frac{ Cov_t (\\Delta \\ln C_{t+1}, R_{i, t+1})}{Var_t [\\Delta \\ln C_{t+1}]} \\frac{\\beta \\gamma  Var_t [\\Delta \\ln C_{t+1}]}{ E_t [M_{t+1}]}\\\\\n",
        "& = \\beta_{i,t} \\lambda_t\n",
        "\\end{align*}\n",
        "\n",
        "\n",
        "Pela definição de $\\beta_{i,t}$, ele é uma medida de sensibilidade da variação do consumo em relação ao retorno do ativo $i$. O $\\lambda$ é um fator de precificação do excesso de retorno. Por vezes, o $\\lambda$ é chamado do preço de risco e o $\\beta$ de quantidade de risco de cada ativo."
      ]
    },
    {
      "cell_type": "markdown",
      "metadata": {
        "id": "yWtdGoim95IN"
      },
      "source": [
        "# Problema 3) \n",
        "\n",
        "A utilidade CRRA implica a seguinte equação de Euler:\n",
        "\n",
        "$$1 = E_t \\Bigg[\\beta \\bigg( \\frac{C_{t+1}}{C_t} \\bigg)^{-\\gamma} (1 + R_{i,t+1}) \\Bigg]$$\n",
        "\n",
        "em que $\\gamma > 0$ é o coeficiente de aversão relativa ao risco."
      ]
    },
    {
      "cell_type": "markdown",
      "metadata": {
        "id": "mdnzQubl97LF"
      },
      "source": [
        "## Item a) \n",
        "\n",
        "Identifique o SDF, $M_{t+1}$, e mostre como as equações (3) e (4) se especializam neste caso.\n",
        "\n",
        "---\n",
        "\n",
        "**Resposta**\n",
        "\n",
        "Seja o fator estocastico de desconto \n",
        "\n",
        "$$M_{t+1} = \\beta \\bigg( \\frac{C_{t+1}}{C_t} \\bigg)^{-\\gamma}$$\n",
        "\n",
        "Aplicando o logarítmo, chegamos em $m_{t+1} = \\ln \\beta - \\gamma \\Delta \\ln C_{t+1}$. E lembrando, \n",
        "\\begin{align*}\n",
        "     E_t(r_{i, t+1} - r_{f, t+1}) + \\frac{1}{2} \\sigma_{i}^2 & = - \\sigma_{im} \\tag{4} \\\\\n",
        "      r_{f, t+1} & = - E_t(m_{t+1}) - \\frac{1}{2} \\sigma^2_m \\tag{3}\n",
        "\\end{align*}\n",
        "\n",
        "agora, basta substituir em (3) para obter\n",
        "\\begin{align*}\n",
        "      r_{f, t+1} & = -\\ln \\beta  + \\gamma E_t( \\Delta \\ln C_{t+1}) - \\frac{1}{2} Var_t (\\ln \\beta - \\gamma \\Delta \\ln C_{t+1})  \\\\\n",
        "     & = -\\ln \\beta  + \\gamma E_t( \\Delta \\ln C_{t+1}) - \\frac{\\gamma^2}{2} \\sigma_{c}^2\\\\\n",
        "\\end{align*}\n",
        "\n",
        "e em (4)\n",
        "\\begin{align*}\n",
        "     E_t(r_{i, t+1} - r_{f, t+1}) + \\frac{1}{2} \\sigma_{i}^2 & = - Cov_t (\\ln \\beta - \\gamma \\Delta \\ln C_{t+1}, r_{i,t+1})  \\\\\n",
        "     & = \\gamma Cov_t (\\Delta \\ln C_{t+1}, r_{i,t+1})  \\\\\n",
        "     & = \\gamma \\sigma_{ci} \\\\\n",
        "\\end{align*}\n"
      ]
    },
    {
      "cell_type": "markdown",
      "metadata": {
        "id": "EACDctnc98_n"
      },
      "source": [
        "## Item b) \n",
        "\n",
        "O Equity Premium Puzzle está associado a baixa covariância entre a taxa de crescimento do consumo e o log-retorno de ativos arriscados? Explique sua resposta.\n",
        "\n",
        "---\n",
        "\n",
        "**Resposta**\n",
        "\n",
        "Sim. Caso supuséssemos um $\\sigma_{ci}$ grande, o $\\gamma$ que resolveria o caso partiular de (4) seria menor do que o geralmente é."
      ]
    },
    {
      "cell_type": "markdown",
      "metadata": {
        "id": "j6f-PWxm-Dqn"
      },
      "source": [
        "## Item c) *\n",
        "\n",
        "É possivel que um ativo arriscado tenha log-retorno esperado inferior ao log-retorno do ativo livre de risco? Explique sua resposta.\n",
        "\n",
        "---\n",
        "\n",
        "**Resposta**\n",
        " \n",
        "\n",
        "Sim, caso $\\sigma_{ic} < 0$, então $r_{f,t+1} > E_t [r_{i,t+1}]$.\n"
      ]
    },
    {
      "cell_type": "markdown",
      "metadata": {
        "id": "VuP_eyfw-Fpw"
      },
      "source": [
        "## Item d) \n",
        "\n",
        "Explique o Risk-Free Rate Puzzle\n",
        "\n",
        "---\n",
        "\n",
        "**Resposta**\n",
        "\n",
        "Olhando para o caso particular da equação (3), tirando a média incondicional e supondo $\\gamma \\ggg 0$:\n",
        "\\begin{align*}\n",
        "      E[r_{f, t+1}] & = -\\ln \\beta  + \\gamma E( \\Delta \\ln C_{t+1}) - \\frac{\\gamma^2}{2} \\sigma_{c}^2\\\\\n",
        "\\end{align*}\n",
        "\n",
        "Nos dados, como $\\gamma^2 \\sigma_c^2 < \\gamma E( \\Delta \\ln C_{t+1})$ e para a média histórica das taxas de juros dadas, torna-se necessário que $\\beta > 1$.\n",
        "\n"
      ]
    },
    {
      "cell_type": "markdown",
      "metadata": {
        "id": "LoUNpsXB-HnR"
      },
      "source": [
        "# Problema 4) \n",
        "\n",
        "A utilidade recursiva à la Epstein e Zin (1989) implica a seguinte equação de Euler:\n",
        "\n",
        "$$1 = E_t \\Bigg[ \\Bigg\\{ \\beta \\bigg( \\frac{C_{t+1}}{C_t}\\bigg)^{-\\frac{1}{\\psi}} \\Bigg\\}^{\\theta} \\Bigg\\{\\frac{1}{1+ R_{w,t+1}}\\Bigg\\}^{1-\\theta} (1+R_{i,t+1})\\Bigg]$$\n",
        "\n",
        "em que $\\theta = \\frac{1-\\gamma}{1-\\psi^{-1}}$, sendo $\\gamma$ o coeficiente de aversão relativa ao risco e $\\psi$ a elasticidade de substituição intertemporal; $R_{w, t+1}$ é o retorno em t + 1 de toda riqueza investida em t, isto é, $1 + R_{w, t+1} = \\sum_{i=1}^{N} w_{i, t} (1 + R_{i, t+1}) + w_{f,t} (1 + R_{f, t+1})$, em que $1 + R_{i, t+1}$ é o retorno bruto em $t + 1$ do investimento feito no ativo $i$ no período $t$ e $w_{i, t}$ é a fração da riqueza investida no ativo $i$ no período $t$, havendo na economia N ativos. Além disso, $w_{f, t}$ é a fração da riqueza investida no ativo livre de risco cujo retorno bruto em $t + 1$ é $1 + R_{f, t+1}$."
      ]
    },
    {
      "cell_type": "markdown",
      "metadata": {
        "id": "JPbSIOne-KFa"
      },
      "source": [
        "## Item a) \n",
        "\n",
        "Identifique o SDF, $M_{t+1}$, e mostre como as equações (3) e (4) se especializam neste caso.\n",
        "\n",
        "---\n",
        "\n",
        "**Resposta**\n",
        "\n",
        "Seja o fator estocástico de desconto\n",
        "$$M_{t+1} = \\Bigg\\{ \\beta \\bigg( \\frac{C_{t+1}}{C_t}\\bigg)^{-\\frac{1}{\\psi}} \\Bigg\\}^{\\theta} \\Bigg\\{\\frac{1}{1+ R_{w,t+1}}\\Bigg\\}^{1-\\theta}$$\n",
        "\n",
        "aplicando o logarítimo\n",
        "\\begin{align*}\n",
        "m_{t+1} & = \\theta \\ln \\bigg[\\beta \\bigg( \\frac{C_{t+1}}{C_t}\\bigg)^{-\\frac{1}{\\psi}}\\bigg] + (1-\\theta) \\ln \\bigg[ \\frac{1}{1+ R_{w,t+1}}  \\bigg] \\\\\n",
        "& = \\theta \\ln \\beta -\\frac{\\theta}{\\psi} \\Delta \\ln C_{t+1} - (1-\\theta) \\ln (1+ R_{w,t+1} )\n",
        "\\end{align*}\n",
        "\n",
        "E lembrando, \n",
        "\\begin{align*}\n",
        "     E_t(r_{i, t+1} - r_{f, t+1}) + \\frac{1}{2} \\sigma_{i}^2 & = - \\sigma_{im} \\tag{4} \\\\\n",
        "      r_{f, t+1} & = - E_t(m_{t+1}) - \\frac{1}{2} \\sigma^2_m \\tag{3}\n",
        "\\end{align*}\n",
        "\n",
        "agora, basta substituir $m_{t+1}$ em (3) para obter\n",
        "\\begin{align*}\n",
        "      r_{f, t+1} & = - E_t \\Big(\\theta \\ln \\beta -\\frac{\\theta}{\\psi} \\Delta \\ln C_{t+1} - (1-\\theta) \\ln (1+ R_{w,t+1} ) \\Big) - \\frac{1}{2} \\sigma^2_m \\\\\n",
        "      & = - \\theta \\ln \\beta + \\frac{\\theta}{\\psi} E_t \\Big[\\Delta \\ln C_{t+1} \\Big] + (1-\\theta) E_t \\Big[ \\ln (1+ R_{w,t+1} ) \\Big] - \\frac{1}{2} \\sigma^2_m\n",
        "\\end{align*}\n",
        "\n",
        "\n",
        "e em (4):\n",
        "\\begin{align*}\n",
        "     E_t(r_{i, t+1} - r_{f, t+1}) + \\frac{1}{2} \\sigma_{i}^2 & = - Cov_t(r_{i,t+1}, m_{t+1}) \\\\\n",
        "     & = - Cov_t(r_{i,t+1},\\theta \\ln \\beta -\\frac{\\theta}{\\psi} \\Delta \\ln C_{t+1} - (1-\\theta) \\ln (1+ R_{w,t+1} ) \\\\\n",
        "     & = - \\Big[ Cov_t(r_{i,t+1}, -\\frac{\\theta}{\\psi} \\Delta \\ln C_{t+1}) + Cov_t(r_{i,t+1},-(1-\\theta) \\ln (1+ R_{w,t+1} )) \\Big]\\\\\n",
        "     & = - \\Big[ -\\frac{\\theta}{\\psi} Cov_t(r_{i,t+1}, \\Delta \\ln C_{t+1}) -  (1-\\theta) Cov_t(r_{i,t+1}, \\ln (1+ R_{w,t+1} )) \\Big]\\\\\n",
        "     & = \\frac{\\theta}{\\psi} Cov_t(r_{i,t+1}, \\Delta \\ln C_{t+1}) + (1-\\theta) Cov_t(r_{i,t+1}, \\ln (1+ R_{w,t+1} )) \\\\\n",
        "     & = \\frac{\\theta}{\\psi} \\sigma_{ic} + (1-\\theta) \\sigma_{iw}\n",
        "\\end{align*}"
      ]
    },
    {
      "cell_type": "markdown",
      "metadata": {
        "id": "eA6ceXB3-MVg"
      },
      "source": [
        "## Item b) \n",
        "\n",
        "Em princípio, preferências recursivas podem resolver o Equity Premium Puzzle? Explique sua resposta\n",
        "\n",
        "---\n",
        "\n",
        "**Resposta**\n",
        "\n",
        "Note que do caso particular em (4), utilizando a definição de $\\theta$\n",
        "\\begin{align*}\n",
        "     E_t(r_{i, t+1} - r_{f, t+1}) + \\frac{1}{2} \\sigma_{i}^2 & = \\frac{\\frac{1-\\gamma}{1-\\psi^{-1}}}{\\psi} \\sigma_{ic} + \\bigg(1-\\frac{1-\\gamma}{1-\\psi^{-1}} \\bigg) \\sigma_{iw}  \\\\\n",
        "     & = \\frac{1-\\gamma}{\\psi-1} \\sigma_{ic} + \\bigg(\\frac{1-\\psi^{-1} - 1 + \\gamma}{1-\\psi^{-1}} \\bigg) \\sigma_{iw}  \\\\\n",
        "     & = \\frac{1-\\gamma}{\\psi-1} \\sigma_{ic} + \\bigg(\\frac{(-1 + \\psi \\gamma)\\psi}{(\\psi-1)\\psi} \\bigg) \\sigma_{iw}  \\\\\n",
        "     & = \\frac{1-\\gamma}{\\psi-1} \\sigma_{ic} + \\bigg(\\frac{\\psi \\gamma - 1}{\\psi-1} \\bigg) \\sigma_{iw}  \\\\\n",
        "\\end{align*}\n",
        "\n",
        "Note que se $1/\\psi = \\gamma$ voltamos ao caso da CRRA, de fato,\n",
        "\\begin{align*}\n",
        "     E_t(r_{i, t+1} - r_{f, t+1}) + \\frac{1}{2} \\sigma_{i}^2 & = \\frac{1-\\gamma}{1/\\gamma-1} \\sigma_{ic} + \\bigg(\\frac{1 - 1}{\\psi-1} \\bigg) \\sigma_{iw}  \\\\\n",
        "     & = \\frac{(1-\\gamma)\\gamma}{1-\\gamma} \\sigma_{ic}  \\\\\n",
        "     & = \\gamma \\sigma_{ic}.\n",
        "\\end{align*}\n",
        "\n",
        "Então, a depender de $\\psi$ e $\\sigma_{iw}$, de fato, podemos resolver o Equity Premium Puzzle."
      ]
    },
    {
      "cell_type": "markdown",
      "metadata": {
        "id": "TZBFyqMV-OUG"
      },
      "source": [
        "\n",
        "# Problema 5) \n",
        "\n",
        "Considere a seguinte formulação com hábito externo:\n",
        "$$u(C_{\\tau}, \\bar{C}_{\\tau-1}) = \\frac{(C_t/ \\bar{C}_{t+1}^{\\alpha})^{1-\\gamma}}{1-\\gamma},$$\n",
        "\n",
        "em que $\\gamma > 0$ e $\\alpha \\geq 0$. Neste caso, a equação de Euler é dada por:\n",
        "\n",
        "\n",
        "$$1 = E_t \\Bigg[\\beta \\bigg( \\frac{C_{t+1}}{C_t} \\bigg)^{-\\gamma}  \\bigg( \\frac{\\bar{C}_{t}}{\\bar{C}_{t+1}} \\bigg)^{\\alpha (\\gamma - 1)} (1 + R_{i,t+1}) \\Bigg]$$\n",
        "\n",
        "em que $1 + R_{i, t+1}$ é o retorno bruto do ativo $i$.\n",
        "\n",
        "Como em equilíbrio o consumo privado é igual ao consumo agregado, conclui-se que:\n",
        "\n",
        "$$1 = E_t \\Bigg[\\beta \\bigg( \\frac{C_{t+1}}{C_t} \\bigg)^{-\\gamma}  \\bigg( \\frac{C_{t}}{C_{t+1}} \\bigg)^{\\alpha (\\gamma - 1)} (1 + R_{i,t+1}) \\Bigg]$$"
      ]
    },
    {
      "cell_type": "markdown",
      "metadata": {
        "id": "l6cQ9ZXz-Slu"
      },
      "source": [
        "## Item a) \n",
        "\n",
        "Identifique o SDF, $M_{t+1}$, e mostre como as equações (3) e (4) se especializam neste caso.\n",
        "\n",
        "---\n",
        "\n",
        "**Resposta**\n",
        "\n",
        "Seja\n",
        "$$M_{t+1} =  \\beta \\bigg( \\frac{C_{t+1}}{C_t} \\bigg)^{-\\gamma}  \\bigg( \\frac{C_{t}}{C_{t-1}} \\bigg)^{\\alpha (\\gamma - 1)}$$\n",
        "\n",
        "Aplicando o logarítmo,\n",
        "$$m_{t+1} =  \\ln \\beta -\\gamma  \\Delta \\ln C_{t+1} + \\alpha (\\gamma - 1)  \\Delta \\ln C_{t}$$\n",
        "\n",
        "E lembrando, \n",
        "\\begin{align*}\n",
        "     E_t(r_{i, t+1} - r_{f, t+1}) + \\frac{1}{2} \\sigma_{i}^2 & = - \\sigma_{im} \\tag{4} \\\\\n",
        "      r_{f, t+1} & = - E_t(m_{t+1}) - \\frac{1}{2} \\sigma^2_m \\tag{3}\n",
        "\\end{align*}\n",
        "\n",
        "Substituindo o fator estocástico de desconto deste caso particular em (3):\n",
        "\\begin{align*}\n",
        "      r_{f, t+1} & = - E_t\\big[\\ln \\beta -\\gamma  \\Delta \\ln C_{t+1} + \\alpha (\\gamma - 1)  \\Delta \\ln C_{t}\\big] -  \\frac{1}{2}Var_t (-\\gamma  \\Delta \\ln C_{t+1} + \\alpha (\\gamma - 1)  \\Delta \\ln C_{t}) \\\\\n",
        "      & = \\underbrace{- \\ln \\beta + \\gamma E_t\\big[ \\Delta \\ln C_{t+1}\\big] - \\frac{\\gamma^2 }{2} \\sigma_c^2 }_{CRRA} - \\alpha (\\gamma - 1)  \\Delta \\ln C_{t} \n",
        "\\end{align*}\n",
        "\n",
        "e em (4)\n",
        "\\begin{align*}\n",
        "     E_t(r_{i, t+1} - r_{f, t+1}) + \\frac{1}{2} \\sigma_{i}^2 & = - Cov_t ( \\ln \\beta -\\gamma  \\Delta \\ln C_{t+1} + \\alpha (\\gamma - 1)  \\Delta \\ln C_{t}, r_{i,t+1}) \\\\\n",
        "      & = \\gamma \\sigma_{ci}\n",
        "\\end{align*}\n",
        "\n"
      ]
    },
    {
      "cell_type": "markdown",
      "metadata": {
        "id": "pBi5Mn0f-USD"
      },
      "source": [
        "## Item b) \n",
        "\n",
        "Em princípio, preferências com formação de hábito podem resolver o Risk-Free Rate Puzzle? Explique sua resposta.\n",
        "\n",
        "---\n",
        "\n",
        "**Resposta**\n",
        "\n",
        "Sim, dado que $\\gamma \\ggg 0$, então $- \\alpha(\\gamma-1) < 0$, o que pode contribuir para resolver o risk-free rate puzzle. "
      ]
    },
    {
      "cell_type": "markdown",
      "metadata": {
        "id": "a2zBMB5F-WM2"
      },
      "source": [
        "# Problema 6)\n",
        "\n",
        " No caso da decisão de bens duráveis e não duráveis considere as seguintes formas funcionais:\n",
        "\n",
        " $$u(C,K) = \\frac{1}{1-\\gamma} v(C,K)^{1-\\gamma}$$\n",
        " $$v(C,K) = [(1-\\alpha) C^{\\rho} + \\alpha K^{\\rho}]^{\\frac{1}{\\rho}}$$\n",
        "\n",
        "em que $\\gamma > 0$, $\\alpha \\in (0, 1)$ e $\\rho \\leq 1$. Neste caso, encontramos a seguinte equação de Euler:\n",
        "\n",
        "$$1 = \\beta E_t \\Bigg[ \\bigg[\\frac{1+\\alpha ((K_{t+1}/C_{t+1})^{\\rho} - 1)}{1+\\alpha ((K_t/C_t)^{\\rho} - 1)} \\bigg]^{\\frac{1-\\gamma-\\rho}{\\rho}} \\bigg(\\frac{C_{t+1}}{C_t} \\bigg)^{-\\gamma} R_{t+1}\\Bigg]$$\n",
        "\n",
        "\n",
        "Então, o fator estocástico de desconto (SDF) é dado por:\n",
        "\n",
        "$$M_{t+1} = \\beta \\bigg(\\frac{C_{t+1}}{C_t} \\bigg)^{-\\gamma} \\bigg[\\frac{1+\\alpha ((D_{t+1}/C_{t+1})^{\\rho} - 1)}{1+\\alpha ((D_t/C_t)^{\\rho} - 1)} \\bigg]^{\\frac{1-\\gamma-\\rho}{\\rho}} $$\n",
        "\n",
        "Tomando o logaritmo e aproximando o SDF ao redor do caso especial Cobb-Douglas $(\\rho = 0)$, obtemos:\n",
        "\n",
        "\\begin{align*}\n",
        "    m_{t+1} & \\approx \\ln \\beta - \\gamma \\Delta \\ln C_{t+1} + \\alpha (1-\\gamma-\\rho) (\\Delta \\ln D_{t+1} - \\Delta \\ln C_{t+1}) \\\\\n",
        "    & = \\ln \\beta + a_c \\Delta \\ln C_{t+1} + a_d \\Delta \\ln D_{t+1}\n",
        "\\end{align*}\n",
        "\n",
        "em que $a_c$ e $a_d$ dependem dos parâmetros estruturais."
      ]
    },
    {
      "cell_type": "markdown",
      "metadata": {
        "id": "hr4qri1X-Yl3"
      },
      "source": [
        "## Item a) \n",
        "\n",
        "Usando esta aproximação para $m_{t+1}$ mostre como as equações (3) e (4) se especializam.\n",
        "\n",
        "---\n",
        "\n",
        "**Resposta**\n",
        "\n",
        "Lembrando, \n",
        "\\begin{align*}\n",
        "     E_t(r_{i, t+1} - r_{f, t+1}) + \\frac{1}{2} \\sigma_{i}^2 & = - \\sigma_{im} \\tag{4} \\\\\n",
        "      r_{f, t+1} & = - E_t(m_{t+1}) - \\frac{1}{2} \\sigma^2_m \\tag{3}\n",
        "\\end{align*}\n",
        "\n",
        "Substituindo a aproximação logarítimica do fator estocástico de desconto em (3) obtemos:\n",
        "\n",
        "\\begin{align*}\n",
        "      r_{f, t+1} & = - E_t \\Big( \\ln \\beta + a_c \\Delta \\ln C_{t+1} + a_d \\Delta \\ln D_{t+1} \\Big) - \\frac{1}{2} Var_t \\Big( \\ln \\beta + a_c \\Delta \\ln C_{t+1} + a_d \\Delta \\ln D_{t+1} \\Big) \\\\\n",
        "      & = - \\ln \\beta - a_c E_t \\Big( \\Delta \\ln C_{t+1} \\Big)  -  a_d E_t \\Big( \\Delta \\ln D_{t+1} \\Big) - \\frac{a_c^2}{2} Var_t \\Big( \\Delta \\ln C_{t+1} \\Big) -  \\frac{a_d^2}{2} Var_t \\Big(\\Delta \\ln D_{t+1} \\Big) - 2 a_d a_c Cov_t\\Big(\\Delta \\ln C_{t+1} , \\Delta \\ln D_{t+1} \\Big)\\\\\n",
        "      & = - \\ln \\beta - a_c E_t \\Big( \\Delta \\ln C_{t+1} \\Big)  -  a_d E_t \\Big( \\Delta \\ln D_{t+1} \\Big) - \\frac{a_c^2}{2} \\sigma_c^2 -  \\frac{a_d^2}{2} \\sigma_d^2 - 2 a_d a_c \\sigma_{cd}\n",
        "\\end{align*}\n",
        "\n",
        "e em (4)\n",
        "\\begin{align*}\n",
        "     E_t(r_{i, t+1} - r_{f, t+1}) + \\frac{1}{2} \\sigma_{i}^2 & = - Cov_t ( r_{i,t+1},  \\ln \\beta + a_c \\Delta \\ln C_{t+1} + a_d \\Delta \\ln D_{t+1}) \\\\\n",
        "      & = - a_c Cov_t ( r_{i,t+1},  \\Delta \\ln C_{t+1}) - a_d  Cov_t ( r_{i,t+1},  \\Delta \\ln D_{t+1})\\\\\n",
        "      & = - a_c \\sigma_{ci} - a_d  \\sigma_{di}\n",
        "\\end{align*}\n"
      ]
    },
    {
      "cell_type": "markdown",
      "metadata": {
        "id": "v2kqaRZD-Z-N"
      },
      "source": [
        "## Item b) \n",
        "\n",
        "O que ocorre com as expressões obtidas em (a) se $\\alpha = 0$? O resultado encontrado é surpreendente?\n",
        "\n",
        "---\n",
        "\n",
        "**Resposta**\n",
        "\n",
        "Se $\\alpha = 0$ então $a_d = 0$, logo (3) se torna\n",
        "\\begin{align*}\n",
        "      r_{f, t+1} & = - \\ln \\beta - a_c E_t \\Big( \\Delta \\ln C_{t+1} \\Big)  - \\frac{a_c^2}{2} \\sigma_c^2 \\\\\n",
        "      & = - \\ln \\beta + \\gamma E_t \\Big( \\Delta \\ln C_{t+1} \\Big)  - \\frac{\\gamma^2}{2} \\sigma_c^2  \n",
        "\\end{align*}\n",
        "\n",
        "e em (4)\n",
        "\\begin{align*}\n",
        "     E_t(r_{i, t+1} - r_{f, t+1}) + \\frac{1}{2} \\sigma_{i}^2 & = - a_c \\sigma_{ci}\\\\\n",
        "                                                             & = \\gamma \\sigma_{ci}\n",
        "\\end{align*}\n",
        "\n",
        "ambos os casos retornam ao caso da CRRA com apenas bens de consumo não duráveis. O resultado é esperado, uma vez que a função de agregação $v(\\cdot)$ adota peso nulo para o capital. \n",
        "\n",
        "\n"
      ]
    },
    {
      "cell_type": "markdown",
      "metadata": {
        "id": "lgU0x7hQ-bxK"
      },
      "source": [
        "## Item c) \n",
        "\n",
        "O que ocorre com as expressões obtidas em (a) se $\\rho = 1 - \\gamma$? O resultado encontrado é surpreendente?\n",
        "\n",
        "---\n",
        "\n",
        "**Resposta**\n",
        "\n",
        "Neste caso, a forma funcional da utilidade é separável no consumo e no capital, e a equação de Euler para o consumo é idêntica ao caso da CRRA. O resultado é esperado, uma vez que é sabido que é possível resolver o problema separadamente para o capital e para o consumo com utilidade separável."
      ]
    },
    {
      "cell_type": "markdown",
      "metadata": {
        "id": "scjI02wq-dDP"
      },
      "source": [
        "\n",
        "# Problema 7) \n",
        "\n",
        "Considere as seguintes expressões obtidas sob a utilidade CRRA:\n",
        "\n",
        "$$E_t [r_{i, t+1}] - r_{f, t+1} + \\frac{1}{2} \\sigma_i^2 = \\gamma \\sigma_{ic} \\tag{8}$$\n",
        "$$r_{f,t+1} = - \\ln \\beta + \\gamma E_t [\\Delta \\ln C_{t+1}] - \\frac{1}{2} \\gamma^2 \\sigma^2_c \\tag{9}$$"
      ]
    },
    {
      "cell_type": "markdown",
      "metadata": {
        "id": "hYvHnE1P-edj"
      },
      "source": [
        "## Item a) \n",
        "\n",
        "Calcule a média histórica do $S\\&P500$ ($E [r_i]$), do 3-Month Treasury Bill ($E[r_f]$) e da taxa de crescimento do consumo ($E[\\Delta ln C]$), além das seguintes estatísticas:\n",
        "\n",
        "$$\\sigma^2_i = Var[r_i]$$\n",
        "$$\\sigma_{ic} = Cov (\\Delta \\ln C, r_i)$$\n",
        "$$\\sigma_c^2 = Var [\\Delta \\ln C]$$"
      ]
    },
    {
      "cell_type": "code",
      "metadata": {
        "colab": {
          "base_uri": "https://localhost:8080/"
        },
        "id": "ZNZ65j-0Eqoh",
        "outputId": "ff3c0a86-9694-4bfd-b6c2-11f274e8641c"
      },
      "source": [
        "import numpy as np\n",
        "import pandas as pd\n",
        "import statsmodels.api as sm\n",
        "import matplotlib.pyplot as plt\n",
        "\n",
        "import warnings\n",
        "warnings.filterwarnings('ignore')"
      ],
      "execution_count": null,
      "outputs": [
        {
          "output_type": "stream",
          "text": [
            "/usr/local/lib/python3.7/dist-packages/statsmodels/tools/_testing.py:19: FutureWarning: pandas.util.testing is deprecated. Use the functions in the public API at pandas.testing instead.\n",
            "  import pandas.util.testing as tm\n"
          ],
          "name": "stderr"
        }
      ]
    },
    {
      "cell_type": "code",
      "metadata": {
        "id": "KeFKq15MJH4T"
      },
      "source": [
        "df_q  = pd.read_csv('https://raw.githubusercontent.com/lucasestrela/dec_consumo_poupanca/main/dados/dataset_trim.csv',\n",
        "                    delimiter = \",\", index_col=0\n",
        "                    )\n",
        "\n",
        "# Ajustado o indice como data\n",
        "df_q.index = pd.to_datetime(df_q.index)"
      ],
      "execution_count": null,
      "outputs": []
    },
    {
      "cell_type": "code",
      "metadata": {
        "colab": {
          "base_uri": "https://localhost:8080/",
          "height": 265
        },
        "id": "3IauVoTYJPda",
        "outputId": "4738010e-8e12-46ae-a7a4-e0a662c23ed0"
      },
      "source": [
        "plt.plot(df_q['sp500_ret_real'], label = 'SP500')\n",
        "plt.plot(df_q['TBill_ret_real'], label = 'T-Bill')\n",
        "plt.plot(df_q['c_growth'], label = 'Consumo')\n",
        "plt.legend()\n",
        "plt.show()"
      ],
      "execution_count": null,
      "outputs": [
        {
          "output_type": "display_data",
          "data": {
            "image/png": "[encoded data removed]",
            "text/plain": [
              "<Figure size 432x288 with 1 Axes>"
            ]
          },
          "metadata": {
            "tags": [],
            "needs_background": "light"
          }
        }
      ]
    },
    {
      "cell_type": "code",
      "metadata": {
        "colab": {
          "base_uri": "https://localhost:8080/"
        },
        "id": "RV1_Sra1Jr-5",
        "outputId": "c7322ab4-d630-4d42-b7cf-0f3d261abccf"
      },
      "source": [
        "sigma2_i = np.var(df_q['sp500_ret_real'])\n",
        "sigma2_c = np.var(df_q['c_growth'])\n",
        "sigma_ic = np.cov(df_q['sp500_ret_real'], df_q['c_growth'])[0,1]\n",
        "\n",
        "print('Variância SP500 = ', np.round(sigma2_i, 4))\n",
        "print('Variância Cons. = ', np.round(sigma2_c, 4))\n",
        "print('Covariancia Cons-SP500 = ', np.round(sigma_ic, 4))"
      ],
      "execution_count": null,
      "outputs": [
        {
          "output_type": "stream",
          "text": [
            "Variância SP500 =  0.0057\n",
            "Variância Cons. =  0.0001\n",
            "Covariancia Cons-SP500 =  0.0002\n"
          ],
          "name": "stdout"
        }
      ]
    },
    {
      "cell_type": "markdown",
      "metadata": {
        "id": "7a9EtjFk-gBU"
      },
      "source": [
        "## Item b) \n",
        "\n",
        "Considerando as quantidades obtidas em (a), encontre o valor de $\\gamma$ compatível com a equação (8)."
      ]
    },
    {
      "cell_type": "code",
      "metadata": {
        "colab": {
          "base_uri": "https://localhost:8080/"
        },
        "id": "LH8JHR_mErCN",
        "outputId": "a60a73d1-d285-45fb-e76b-7fc463b1dfe4"
      },
      "source": [
        "gamma = (np.mean(df_q['sp500_ret_real']) - np.mean(df_q['TBill_ret_real']) + 1/2 * sigma2_i)/sigma_ic\n",
        "\n",
        "print('Aversão Relativa ao Risco = ', gamma)"
      ],
      "execution_count": null,
      "outputs": [
        {
          "output_type": "stream",
          "text": [
            "Aversão Relativa ao Risco =  88.17983881761856\n"
          ],
          "name": "stdout"
        }
      ]
    },
    {
      "cell_type": "markdown",
      "metadata": {
        "id": "6ISNXBMC-hPo"
      },
      "source": [
        "## Item c) \n",
        "\n",
        "Considerando as quantidades obtidas em (a), encontre combinações de $\\beta$ e de $\\gamma$ compatíveis com a equação (9). Em particular, considere o $\\gamma$ obtido em (b).\n"
      ]
    },
    {
      "cell_type": "code",
      "metadata": {
        "id": "H6Dux3NuErfZ"
      },
      "source": [
        "N =  1000\n",
        "\n",
        "gamma_grid = np.linspace(0, 50, N)\n",
        "beta       = np.zeros(N)\n",
        "\n",
        "for i, gamma in enumerate(gamma_grid):\n",
        "    beta[i] = np.exp(gamma * np.mean(df_q['sp500_ret_real']) - 1/2 * gamma**2 * sigma2_c - np.mean(df_q['TBill_ret_real']))"
      ],
      "execution_count": null,
      "outputs": []
    },
    {
      "cell_type": "code",
      "metadata": {
        "colab": {
          "base_uri": "https://localhost:8080/",
          "height": 279
        },
        "id": "JAOpyeDMNBND",
        "outputId": "f037dacf-e1e3-4d5d-fd1f-c23a4d926f98"
      },
      "source": [
        "plt.plot(gamma_grid, beta)\n",
        "plt.ylabel('Beta')\n",
        "plt.xlabel('Gamma')\n",
        "plt.show()"
      ],
      "execution_count": null,
      "outputs": [
        {
          "output_type": "display_data",
          "data": {
            "image/png": "[encoded data removed]",
            "text/plain": [
              "<Figure size 432x288 with 1 Axes>"
            ]
          },
          "metadata": {
            "tags": [],
            "needs_background": "light"
          }
        }
      ]
    },
    {
      "cell_type": "markdown",
      "metadata": {
        "id": "TJoZKpM2-kuw"
      },
      "source": [
        "## Item d) \n",
        "\n",
        "Considere a seguinte expressão:\n",
        "$$\\sigma_m \\geq E_t [r_{i,t+1} - r_{f, t+1}] + \\frac{1}{2} \\sigma_i^2 \\tag{10}$$\n",
        "\n",
        "\n",
        "em que $\\sigma_m$ é o desvio-padrão de $m$, sendo $m$ o log do fator estocástico de desconto $M$ , isto é, $m = \\ln M$. No caso da utilidade CRRA:\n",
        "\n",
        "$$M_{t+1} = \\beta \\bigg(\\frac{C_{t+1}}{C_t} \\bigg)^{-\\gamma}$$\n",
        "\n",
        "Considerando as quantidades obtidas em (a), verifique quais são os valores de que atendem a desigualdade (10)."
      ]
    },
    {
      "cell_type": "code",
      "metadata": {
        "id": "EYeUCi28Esjj"
      },
      "source": [
        "N =  100\n",
        "\n",
        "gamma_grid = np.linspace(0, 60, N)\n",
        "beta_grid  = np.linspace(0.7, 1.5, N)\n",
        "\n",
        "sigma2_m = np.zeros([N, N])\n",
        "\n",
        "for i_g, gamma in enumerate(gamma_grid):\n",
        "    for i_b, beta in enumerate(beta_grid):\n",
        "\n",
        "        m = np.log(beta) - gamma * np.log(df_q['c']/df_q['c'].shift(1) )\n",
        "        sigma2_m[i_g, i_b] = np.var(m)\n",
        "\n",
        "\n",
        "\n",
        "sigma2_m_2 = (np.mean(df_q['sp500_ret_real'] - df_q['TBill_ret_real']) + 1/2 * sigma2_i)/np.sqrt(sigma2_i)"
      ],
      "execution_count": null,
      "outputs": []
    },
    {
      "cell_type": "code",
      "metadata": {
        "id": "2lZfnjEATaHu"
      },
      "source": [
        "gamma_beta = np.zeros([np.shape(np.transpose(np.nonzero(sigma2_m >= sigma2_m_2)))[0], 2])\n",
        "\n",
        "for i in range(0, np.shape(np.transpose(np.nonzero(sigma2_m >= sigma2_m_2)))[0]):\n",
        "    gamma_beta[i, 0] = gamma_grid[np.transpose(np.nonzero(sigma2_m >= sigma2_m_2))[i][0]]\n",
        "    gamma_beta[i, 1] = beta_grid[np.transpose(np.nonzero(sigma2_m >= sigma2_m_2))[i][1]]\n",
        "\n",
        "\n",
        "dataframe = pd.DataFrame(gamma_beta)\n",
        "dataframe.columns = ['gamma', 'beta']"
      ],
      "execution_count": null,
      "outputs": []
    },
    {
      "cell_type": "code",
      "metadata": {
        "colab": {
          "base_uri": "https://localhost:8080/"
        },
        "id": "RY9zRogyjK0u",
        "outputId": "c66ee350-2b27-4f74-e0c7-e9fd8b648fa9"
      },
      "source": [
        "np.shape(np.transpose(np.nonzero(sigma2_m >= sigma2_m_2)))"
      ],
      "execution_count": null,
      "outputs": [
        {
          "output_type": "execute_result",
          "data": {
            "text/plain": [
              "(1600, 2)"
            ]
          },
          "metadata": {
            "tags": []
          },
          "execution_count": 143
        }
      ]
    },
    {
      "cell_type": "code",
      "metadata": {
        "colab": {
          "base_uri": "https://localhost:8080/",
          "height": 269
        },
        "id": "BLiE9a4ERs6e",
        "outputId": "bdeb8a90-fdc3-4d96-d081-c8589418d0b3"
      },
      "source": [
        "plt.scatter(dataframe['gamma'], dataframe['beta'])\n",
        "plt.ylim(0.7, 1.5)\n",
        "plt.xlim(0, 60)\n",
        "plt.show()"
      ],
      "execution_count": null,
      "outputs": [
        {
          "output_type": "display_data",
          "data": {
            "image/png": "[encoded data removed]",
            "text/plain": [
              "<Figure size 432x288 with 1 Axes>"
            ]
          },
          "metadata": {
            "tags": [],
            "needs_background": "light"
          }
        }
      ]
    },
    {
      "cell_type": "markdown",
      "metadata": {
        "id": "RMjQa3OcGR5j"
      },
      "source": [
        "De fato, $\\beta$ não afeta $\\sigma^2_m$ e é necessário um $\\gamma > 50$ para atender o equity premium puzzle."
      ]
    }
  ]
}