{
  "nbformat": 4,
  "nbformat_minor": 0,
  "metadata": {
    "colab": {
      "name": "Lista 1 - Variáveis instrumentais_GMM.ipynb",
      "provenance": [],
      "collapsed_sections": []
    },
    "kernelspec": {
      "name": "python3",
      "display_name": "Python 3"
    },
    "language_info": {
      "name": "python"
    }
  },
  "cells": [
    {
      "cell_type": "markdown",
      "metadata": {
        "id": "j0JcGjMbDxz-"
      },
      "source": [
        "# **Problema 1)** \n",
        "\n",
        "Considere o modelo:\n",
        "\n",
        "$$y_t = \\mu + \\phi_1 y_{t-1} + \\varepsilon_t$$\n",
        "\n",
        "em que $|\\phi_1| < 1$ e $\\varepsilon_t \\sim iidN(0, \\sigma^2_{\\varepsilon})$. Suponha que tenhamos uma amostra $y_t$, $t = 0, ..., T$, com $y_0 = 0$"
      ]
    },
    {
      "cell_type": "markdown",
      "metadata": {
        "id": "IGB0kOuAYiNs"
      },
      "source": [
        "## Item a)\n",
        "Calcule $E[\\varepsilon_t]$, $E[\\varepsilon_t y_{t-1}]$, $E[\\varepsilon_t y_{t-2}]$ e $E[\\varepsilon_t^2]$\n",
        "\n",
        "---\n",
        "**Resposta**\n",
        "\n",
        "* $E[\\varepsilon_t] = 0$\n",
        "\n",
        "Podemos escrever o processo de $y_t$ recursivamente como $y_t = \\mu \\sum_{i=0}^{t} \\phi_1^i + \\phi_1^t y_0 + \\sum_{i=0}^{t} \\phi_1^i \\varepsilon_{t-i}$ e como sabemos que $|\\phi_1| < 1$, então $y_t = \\frac{\\mu}{1-\\phi_1} + \\sum_{i=0}^{\\infty} \\phi_1^i \\varepsilon_{t-i}$. Substituindo a expressão no valor esperado, temos:\n",
        "\n",
        "* \n",
        "$$  E[\\varepsilon_t y_{t-1}] = E \\bigg[\\varepsilon_t \\Big(\\frac{\\mu}{1-\\phi_1} + \\sum_{i=0}^{\\infty} \\phi_1^i \\varepsilon_{t-i} \\Big ) \\bigg] = \\sum_{i=0}^{\\infty} \\phi_1^i E[\\varepsilon_t \\varepsilon_{t-i}] = 0 $$\n",
        "\n",
        "De modo semelhante,\n",
        "* $E[\\varepsilon_t y_{t-2}] = 0 $\n",
        "\n",
        "* $E[\\varepsilon_t^2] = Var(\\varepsilon_t) + E^2[\\varepsilon_t] = \\sigma^2_{\\varepsilon}$\n"
      ]
    },
    {
      "cell_type": "markdown",
      "metadata": {
        "id": "KWL1CoDpLIsC"
      },
      "source": [
        "## Item b)\n",
        "\n",
        "Usando os resultados de (a) construa condições de momento para estimar $\\mu$, $\\sigma^2_\\varepsilon$ e $\\phi_1$\n",
        "\n",
        "---\n",
        "**Resposta**\n",
        "\n",
        "Uma vez que queremos estimar 3 parâmetros, precisamos de pelo menos 3 condições de momentos populacionais. Do item anterior já possuímos:\n",
        "\n",
        "\n",
        "1.  $E[\\varepsilon_t] = E[y_t - \\phi_1 y_{t-1} - \\mu] = 0$.\n",
        "\n",
        "2.  $E[\\varepsilon_t y_{t-1}] = E[(y_t - \\phi_1 y_{t-1} - \\mu) y_{t-1}] = 0 $\n",
        "\n",
        "3.  $E[\\varepsilon_t^2] = \\sigma^2_{\\varepsilon}$.\n",
        "\n",
        "Igualando os momentos populacionais aos momentos amostrais, escrevemos:\n",
        "\n",
        "\\begin{align}\n",
        "    \\sum_{j=1}^{T} y_j - \\hat{\\phi_1} y_{j-1} - \\hat{\\mu} = 0 \\tag{1} \\\\\n",
        "    \\sum_{j=1}^{T} (y_j - \\hat{\\phi_1} y_{j-1} - \\hat{\\mu}) y_{j-1} = 0  \\tag{2}\\\\\n",
        "    \\sum_{j=1}^{T} \\varepsilon_j^2 - N \\hat{\\sigma}^2_{\\varepsilon} = 0  \\tag{3}\n",
        "\\end{align}\n",
        "\n",
        "rearrajando os termos de (1), obtemos\n",
        "\n",
        "$$\\sum_{j=1}^{T} y_j - \\hat{\\phi_1} \\sum_{j=1}^{T} y_{j-1} = \\hat{\\mu} $$\n",
        "\n",
        "rearranjando (2) e substituindo a equação acima,\n",
        "\n",
        "\\begin{align*}\n",
        "    \\sum_{j=1}^{T} y_j y_{j-1} - \\hat{\\phi_1} y_{j-1} y_{j-1} - \\hat{\\mu} y_{j-1} & = 0 \\\\\n",
        "    \\sum_{j=1}^{T} y_j y_{j-1} - \\hat{\\mu} \\sum_{j=1}^{T}  y_{j-1} & = \\hat{\\phi_1} \\sum_{j=1}^{T} y_{j-1}^2 \\\\\n",
        "    \\sum_{j=1}^{T} y_j y_{j-1} - \\Big (\\sum_{j=1}^{T} y_j - \\hat{\\phi_1} \\sum_{j=1}^{T} y_{j-1} \\Big) \\sum_{j=1}^{T}  y_{j-1} & = \\hat{\\phi_1} \\sum_{j=1}^{T} y_{j-1}^2 \\\\\n",
        "    \\sum_{j=1}^{T} y_j y_{j-1} - \\sum_{j=1}^{T} y_j \\sum_{j=1}^{T}  y_{j-1} - \\hat{\\phi_1} \\sum_{j=1}^{T} y_{j-1} \\sum_{j=1}^{T}  y_{j-1} & = \\hat{\\phi_1} \\sum_{j=1}^{T} y_{j-1}^2 \\\\\n",
        "    \\sum_{j=1}^{T} y_j y_{j-1} - \\sum_{j=1}^{T} y_j \\sum_{j=1}^{T}  y_{j-1} & = \\hat{\\phi_1} \\Big( \\sum_{j=1}^{T} y_{j-1} + \\sum_{j=1}^{T} y_{j-1} \\sum_{j=1}^{T}  y_{j-1}^2 \\Big)\\\\\n",
        "    \\frac{\\sum_{j=1}^{T} y_j y_{j-1} - \\sum_{j=1}^{T} y_j \\sum_{j=1}^{T}  y_{j-1}}{\\Big( \\sum_{j=1}^{T} y_{j-1} + \\sum_{j=1}^{T} y_{j-1} \\sum_{j=1}^{T}  y_{j-1}^2 \\Big)} & = \\hat{\\phi_1} \n",
        "\\end{align*}\n",
        "\n",
        "por último, de (3)\n",
        "\n",
        "\\begin{align*}\n",
        "\\sum_{j=1}^{T} \\hat{\\varepsilon}_j^2 = N \\hat{\\sigma}^2_{\\varepsilon} \\\\\n",
        "\\sum_{j=1}^{T}  (y_j - \\hat{\\phi_1} y_{j-1} - \\hat{\\mu})^2 = N \\hat{\\sigma}^2_{\\varepsilon} \\\\\n",
        "\\sum_{j=1}^{T}  (y_j - \\hat{y}_{j} )^2 = N \\hat{\\sigma}^2_{\\varepsilon} \\\\\n",
        "\\end{align*}"
      ]
    },
    {
      "cell_type": "markdown",
      "metadata": {
        "id": "yAdMFIGMVA56"
      },
      "source": [
        "## Item c)\n",
        "Explique como seria implementado o estimador GMM para as condições de momento definidas em (b)\n",
        "\n",
        "\\begin{align*}\n",
        "    h(\\boldsymbol\\theta ; w) = \n",
        "    \\begin{pmatrix}\n",
        "    y_t - \\phi_1 y_{t-1} - \\mu \\\\\n",
        "    (y_t - \\phi_1 y_{t-1} - \\mu) y_{t-1} \\\\\n",
        "    \\varepsilon_t^2\n",
        "\\end{pmatrix}\n",
        "\\end{align*}\n",
        "\n",
        "e também\n",
        "\n",
        "\\begin{align*}\n",
        "    g(\\boldsymbol\\theta ; w) = \n",
        "    \\begin{pmatrix}\n",
        "    \\sum_{j=1}^{T} y_j - \\phi_1 y_{j-1} - \\mu \\\\\n",
        "    \\sum_{j=1}^{T} (y_j - \\phi_1 y_{j-1} - \\mu) y_{j-1} \\\\\n",
        "    \\sum_{j=1}^{T} \\varepsilon_j^2 - \\sigma^2_{\\varepsilon}\n",
        "\\end{pmatrix}\n",
        "\\end{align*}"
      ]
    },
    {
      "cell_type": "markdown",
      "metadata": {
        "id": "f26d3_yFVDQh"
      },
      "source": [
        "## Item d)  \n",
        "Seria possivel realizar o teste J de sobreidentificação? Por que?\n"
      ]
    },
    {
      "cell_type": "markdown",
      "metadata": {
        "id": "k7xz2lUmVC7J"
      },
      "source": [
        "## Item e)\n",
        "\n",
        "Simule um AR(1) com $\\mu = 2$, $\\phi_1 = 0.5$ e $\\varepsilon \\sim iidN(0, \\sigma^2_{\\varepsilon})$ sendo $\\varepsilon_t = 1$ e $t = 0, ..., T$. Assuma que $y_0 = 0$. Considere dois tamanhos de amostra, $T = 100$ e $T = 500$. Para cada tamanho de amostra:\n",
        "\n",
        "\n",
        "> 1. Use as condições de momento definidas em (b) para estimar o vetor de parâmetros $\\boldsymbol\\theta = [\\mu \\quad \\sigma^2_\\varepsilon  \\quad  \\phi_1]'$ e faça o teste J de sobreidentificação, usando o nível de significância de 5%.\n",
        "\n",
        "> 2. Repita este procedimento mil vezes, obtendo $\\hat\\mu^{(r)}, \\hat\\phi_1^{(r)}, {\\hat\\sigma^2_{\\varepsilon}}^{(r)}$ , $r = 1, ..., 1000$.\n",
        "\n",
        "> 3. Estude o comportamento dessas estimativas (média, desvio-padrão, máximo, mínimo, histograma) e calcule o tamanho\n",
        "do teste J de sobreidentificação.\n",
        "\n",
        "\n",
        "\n"
      ]
    },
    {
      "cell_type": "code",
      "metadata": {
        "id": "G1itvpXiVQFa"
      },
      "source": [
        ""
      ],
      "execution_count": null,
      "outputs": []
    },
    {
      "cell_type": "markdown",
      "metadata": {
        "id": "gS1Cn9AyVDlQ"
      },
      "source": [
        "## Item f)  \n",
        "\n",
        "Considere o modelo AR(2):\n",
        "\n",
        "$$yt = \\mu + \\phi_1 y_{t-1} + \\phi_2 y_{t-2} + \\varepsilon_t$$\n",
        "Simule este modelo com $\\mu = 2$, $\\phi_1 = 0.5$, $\\phi_2 = 0.3$ e $\\varepsilon_t \\sim iidN(0, \\sigma^2_\\varepsilon)$, sendo $\\sigma^2_\\varepsilon = 1$, e $t = 0, ..., T$. Assuma que $y_0 = y_1 = 0$.\n",
        "\n",
        "Considere dois tamanhos de amostra, T = 100 e T = 500. Para cada tamanho de amostra:\n",
        "\n",
        "> 1. Use as condições de momento definidas em (b) para estimar o vetor de parâmetros $\\boldsymbol\\theta = [\\mu \\quad \\sigma^2_\\varepsilon  \\quad  \\phi_1  \\quad  \\phi_2]'$ e faça o teste J de sobreidentificação, usando o nível de significância de 5%.\n",
        "\n",
        "> 2. Repita este procedimento mil vezes, obtendo $\\hat\\mu^{(r)}, \\hat\\phi_1^{(r)}, \\hat\\phi_2^{(r)}, {\\hat\\sigma^2_{\\varepsilon}}^{(r)}$ , $r = 1, ..., 1000$.\n",
        "\n",
        "> 3. Estude o comportamento dessas estimativas (média, desvio-padrão, máximo, mínimo, histograma) e calcule o tamanho\n",
        "do teste J de sobreidentificação.\n",
        "\n",
        "\n"
      ]
    },
    {
      "cell_type": "code",
      "metadata": {
        "id": "AzomnYWkDuVC"
      },
      "source": [
        ""
      ],
      "execution_count": null,
      "outputs": []
    },
    {
      "cell_type": "markdown",
      "metadata": {
        "id": "6zm4S-8NW90_"
      },
      "source": [
        "## Item g)\n",
        "\n",
        "Após analisar os resultados das simulações feitas em (e) e (f), quais conclusıes s„o obtidas sobre a performance do GMM e do teste J de sobreidentificação? Dica: calcule $E[\\varepsilon_t]$, $E[\\varepsilon_t y_{t-1}]$, $E[\\varepsilon_t y_{t-2}]$ e $E[\\varepsilon_t^2]$ para o modelo AR(2) e construa condições de momento para estimar $\\sigma^2_{\\varepsilon}, \\mu, \\phi_1$ e $\\phi_2$\n"
      ]
    }
  ]
}