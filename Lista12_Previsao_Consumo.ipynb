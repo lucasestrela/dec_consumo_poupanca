{
  "nbformat": 4,
  "nbformat_minor": 0,
  "metadata": {
    "colab": {
      "name": "Lista12_Previsao_Consumo.ipynb",
      "provenance": [],
      "collapsed_sections": [],
      "authorship_tag": "ABX9TyPVvIrignV2rR0sJqBSQHyP"
    },
    "kernelspec": {
      "name": "python3",
      "display_name": "Python 3"
    },
    "language_info": {
      "name": "python"
    }
  },
  "cells": [
    {
      "cell_type": "markdown",
      "metadata": {
        "id": "fbhmCGZzLN2k"
      },
      "source": [
        "# Problema 1) \n",
        "\n",
        "Considere o modelo (1) de previsão do consumo composto por defasagens de indicadores macroeconômicos típicos:\n",
        "\n",
        "$$\\Delta \\ln C_t = \\beta_0 + \\sum_{k=1}^K \\sum^L_{l=1} \\beta_{k, l} F_{k, t-l} + \\varepsilon_t + \\theta_1 \\varepsilon_{t-1} \\tag{1}$$ \n",
        "\n",
        "em que $C_t$ é o nível de consumo no período $t$; $F_{k, t-l}$ é a defasagem de ordem $l$ da k-ésima variável macroeconômica; $\\varepsilon_t$ é o termo de erro no período $t$.\n",
        "\n",
        "\n",
        "Considere as seguintes medidas do consumo:\n",
        "\n",
        "1.   Consumo de bens não-duráveis real per capita;\n",
        "2.   Consumo de serviços real per capita;\n",
        "3.   Consumo de bens duráveis real per capita;\n",
        "\n",
        "\n",
        "Considere os seguintes fundamentos:\n",
        "\n",
        "1.   Defasagens da medida de consumo em questão;\n",
        "2.   Defasagens da renda pessoal disponível real per capita;\n",
        "3.   Defasagens do retorno do S\\&P500;\n",
        "4.   Defasagens da taxa 3-Month Treasury Bill.\n",
        "\n",
        "\n",
        "Após estimar o modelo (1), considere os seguintes modelos:\n",
        "\n",
        "\n",
        "$$\\Delta \\ln C_t = \\beta_0 + \\sum_{k=1}^K \\sum^L_{l=1} \\beta_{k, l} F_{k, t-l} + \\sum^L_{l=1} \\gamma_{l} ICS_{t-l} + \\varepsilon_t + \\theta_1 \\varepsilon_{t-1} \\tag{2}$$ \n",
        "$$\\Delta \\ln C_t = \\beta_0 + \\sum_{k=1}^K \\sum^L_{l=1} \\beta_{k, l} F_{k, t-l} + \\sum^L_{l=1} \\gamma_{1,l} CI_{t-l} + \\sum^L_{l=1} \\gamma_{2,l} EI_{t-l} + \\varepsilon_t + \\theta_1 \\varepsilon_{t-1} \\tag{3}$$ \n",
        "\n",
        "\n",
        "em que são considerados os seguintes indices de confiança da Universidade de Michigan (http://www.sca.isr.umich.edu/tables.html):\n",
        "\n",
        "1. Index of Consumer Sentiment (ICS);\n",
        "2. Current Index (CI);\n",
        "3. Expected Index (EI);\n",
        "\n",
        "Estime os modelos (1), (2) e (3) para cada medida de consumo usando dados trimestrias"
      ]
    },
    {
      "cell_type": "code",
      "metadata": {
        "id": "oL_m-qRagNb-"
      },
      "source": [
        "import numpy as np\n",
        "import pandas as pd\n",
        "import statsmodels.api as sm\n",
        "import matplotlib.pyplot as plt\n",
        "\n",
        "from scipy import stats\n",
        "from statsmodels.iolib.summary2 import summary_col"
      ],
      "execution_count": null,
      "outputs": []
    },
    {
      "cell_type": "code",
      "metadata": {
        "id": "6gABdpnBgclE"
      },
      "source": [
        "# Importando os dados do Github\n",
        "df_q  = pd.read_csv('https://raw.githubusercontent.com/lucasestrela/dec_consumo_poupanca/main/dados/dataset_trim.csv',\n",
        "                    delimiter = \",\", index_col=0\n",
        "                    )\n",
        "\n",
        "\n",
        "confianca  = pd.read_csv('https://raw.githubusercontent.com/lucasestrela/dec_consumo_poupanca/main/dados/indices_confianca.csv',\n",
        "                    delimiter = \";\", index_col=0\n",
        "                    )[['ics', 'ci', 'ei', 'dpi_percapta', 'pop']]\n",
        "\n",
        "# Ajustado o indice como data\n",
        "df_q.index = pd.to_datetime(df_q.index)\n",
        "confianca.index = pd.to_datetime(confianca.index, format=\"%d/%m/%Y\")\n",
        "\n",
        "# Juntando os dataframes\n",
        "df = df_q.join(confianca)\n",
        "\n",
        "# Tomando a diferença da disposable personal income per capita\n",
        "df['dpi_pcapta_growth'] = np.log(df['dpi_percapta']/df['dpi_percapta'].shift(1))\n",
        "\n",
        "# Medidas do consumo\n",
        "df['c_pcapta_growth'] = df['c']/df['pop']\n",
        "df['k_pcapta_growth'] = df['k']/df['pop']\n",
        "df['s_pcapta_growth'] = df['s']/df['pop']\n",
        "\n",
        "\n",
        "\n",
        "df['c_pcapta_growth'] = np.log(df['c_pcapta_growth']/df['c_pcapta_growth'].shift(1))\n",
        "df['k_pcapta_growth'] = np.log(df['k_pcapta_growth']/df['k_pcapta_growth'].shift(1))\n",
        "df['s_pcapta_growth'] = np.log(df['s_pcapta_growth']/df['s_pcapta_growth'].shift(1))\n",
        "\n",
        "# Ajustando a frequencia do df\n",
        "df = df.asfreq('Q', method='ffill')"
      ],
      "execution_count": null,
      "outputs": []
    },
    {
      "cell_type": "code",
      "metadata": {
        "id": "5vf72OKtSuCT"
      },
      "source": [
        "df['const'] = 1\n",
        "\n",
        "\n",
        "################################################\n",
        "#         Escolher Numero de defasagens        #\n",
        "################################################\n",
        "#                                              #\n",
        "L = 1                                          #\n",
        "#                                              #\n",
        "################################################\n",
        "\n",
        "v11 = [None] * L\n",
        "v12 = [None] * L\n",
        "v13 = [None] * L\n",
        "v2 = [None] * L\n",
        "v3 = [None] * L\n",
        "v4 = [None] * L\n",
        "v5 = [None] * L\n",
        "v6 = [None] * L\n",
        "v7 = [None] * L\n",
        "\n",
        "\n",
        "for l_zinho in range(1, L+1):\n",
        "\n",
        "    # Medidas de Consumo\n",
        "    v11[l_zinho-1] = 'c_pcapta_growth.L' + str(l_zinho)\n",
        "    v12[l_zinho-1] = 'k_pcapta_growth.L' + str(l_zinho)\n",
        "    v13[l_zinho-1] = 's_pcapta_growth.L' + str(l_zinho)\n",
        "\n",
        "    # Lags das Medidas de consumo\n",
        "    df[v11[l_zinho-1]] = df['c_pcapta_growth'].shift(l_zinho)\n",
        "    df[v12[l_zinho-1]] = df['k_pcapta_growth'].shift(l_zinho)\n",
        "    df[v13[l_zinho-1]] = df['s_pcapta_growth'].shift(l_zinho)\n",
        "\n",
        "\n",
        "# ------------------------------------------------------- #\n",
        "\n",
        "\n",
        "    # Escolhendo as K-1 variáveis\n",
        "    v2[l_zinho-1] = 'dpi_pcapta_growth.L' + str(l_zinho)\n",
        "    v3[l_zinho-1] = 'sp500_ret_real.L' + str(l_zinho)\n",
        "    v4[l_zinho-1] = 'TBill_ret_real.L' + str(l_zinho)\n",
        "\n",
        "    # Lags das K-1 variaveis\n",
        "    df[v2[l_zinho-1]] = df['dpi_pcapta_growth'].shift(l_zinho)\n",
        "    df[v3[l_zinho-1]] = df['sp500_ret_real'].shift(l_zinho)\n",
        "    df[v4[l_zinho-1]] = df['TBill_ret_real'].shift(l_zinho)\n",
        "\n",
        "\n",
        "# ------------------------------------------------------- #\n",
        "\n",
        "\n",
        "    # Variaveis de expectativas\n",
        "    v5[l_zinho-1] = 'ics.L' + str(l_zinho)\n",
        "    v6[l_zinho-1]  = 'ci.L' + str(l_zinho)\n",
        "    v7[l_zinho-1]  = 'ei.L' + str(l_zinho)\n",
        "\n",
        "    # Lag das expectativas\n",
        "    df[v5[l_zinho-1]] = df['ics'].shift(l_zinho)\n",
        "    df[v6[l_zinho-1]] = df['ci'].shift(l_zinho)\n",
        "    df[v7[l_zinho-1]] = df['ei'].shift(l_zinho)\n",
        "\n",
        "\n",
        "\n",
        "# Removendo os missings\n",
        "dta_clean = df.dropna()\n",
        "\n",
        "# Obtendo as covariadas\n",
        "vars1 = [['const'], v11, v2, v3, v4]\n",
        "vars2 = [['const'], v12, v2, v3, v4]\n",
        "vars3 = [['const'], v13, v2, v3, v4]\n",
        "\n",
        "\n",
        "concat_list1 = [j for i in vars1 for j in i]\n",
        "concat_list2 = [j for i in vars2 for j in i]\n",
        "concat_list3 = [j for i in vars3 for j in i]\n"
      ],
      "execution_count": null,
      "outputs": []
    },
    {
      "cell_type": "code",
      "metadata": {
        "colab": {
          "base_uri": "https://localhost:8080/"
        },
        "id": "lHqPbWbZWTl6",
        "outputId": "a299d3c5-3e75-47e6-cfcf-e11be0d534fc"
      },
      "source": [
        "[ v5[0], v6[0], v7[0] ]"
      ],
      "execution_count": null,
      "outputs": [
        {
          "output_type": "execute_result",
          "data": {
            "text/plain": [
              "['ics.L1', 'ci.L1', 'ei.L1']"
            ]
          },
          "metadata": {
            "tags": []
          },
          "execution_count": 64
        }
      ]
    },
    {
      "cell_type": "code",
      "metadata": {
        "colab": {
          "base_uri": "https://localhost:8080/",
          "height": 265
        },
        "id": "79bwxuwDVfMa",
        "outputId": "37a568b7-4600-4e94-a36c-43c755d54f25"
      },
      "source": [
        "plt.plot(dta_clean['ics.L1'], label = 'ics')\n",
        "plt.plot(dta_clean['ci.L1'], label = 'ci')\n",
        "plt.plot(dta_clean['ei.L1'], label = 'ei')\n",
        "plt.legend()\n",
        "plt.show()"
      ],
      "execution_count": null,
      "outputs": [
        {
          "output_type": "display_data",
          "data": {
            "image/png": "[encoded data removed]",
            "text/plain": [
              "<Figure size 432x288 with 1 Axes>"
            ]
          },
          "metadata": {
            "tags": [],
            "needs_background": "light"
          }
        }
      ]
    },
    {
      "cell_type": "markdown",
      "metadata": {
        "id": "PNW4lunoh0M6"
      },
      "source": [
        "$$\\Delta \\ln C_t = \\beta_0 + \\sum_{k=1}^K \\sum^L_{l=1} \\beta_{k, l} F_{k, t-l} + \\varepsilon_t + \\theta_1 \\varepsilon_{t-1} \\tag{1}$$ \n"
      ]
    },
    {
      "cell_type": "code",
      "metadata": {
        "colab": {
          "base_uri": "https://localhost:8080/"
        },
        "id": "AAWcyiIEHC6L",
        "outputId": "3f74df98-ddcd-42de-dc3b-31729ccceed0"
      },
      "source": [
        "n_dur = sm.tsa.statespace.SARIMAX(endog = dta_clean['c_pcapta_growth'],\n",
        "                                exog = dta_clean[concat_list1], \n",
        "                                order=(0, 0, 1),\n",
        "                                freq = 'Q')\n",
        "\n",
        "\n",
        "serv_percapta = sm.tsa.statespace.SARIMAX(endog = dta_clean['k_pcapta_growth'],\n",
        "                                exog = dta_clean[concat_list2], \n",
        "                                order=(0, 0, 1),\n",
        "                                freq = 'Q')\n",
        "\n",
        "\n",
        "dur_percapta = sm.tsa.statespace.SARIMAX(endog = dta_clean['s_pcapta_growth'],\n",
        "                                exog = dta_clean[concat_list3], \n",
        "                                order=(0, 0, 1),\n",
        "                                freq = 'Q')\n",
        "\n",
        "\n",
        "\n",
        "res_n_dur         = n_dur.fit(disp = False, cov_type = 'robust_approx')\n",
        "res_serv_percapta = serv_percapta.fit(disp=False, cov_type = 'robust_approx')\n",
        "res_dur_percapta  = dur_percapta.fit(disp=False, cov_type = 'robust_approx')\n",
        "\n",
        "\n",
        "sumario = summary_col([res_n_dur,res_serv_percapta,res_dur_percapta], stars=True, float_format='%0.2f',\n",
        "            model_names=['Nao Duráveis \\n(0)','Serviços \\n(1)','Duráveis \\n(2)'],\n",
        "            info_dict={'N':lambda x: \"{0:d}\".format(int(x.nobs))}\n",
        "            )"
      ],
      "execution_count": null,
      "outputs": [
        {
          "output_type": "stream",
          "text": [
            "/usr/local/lib/python3.7/dist-packages/statsmodels/base/model.py:512: ConvergenceWarning: Maximum Likelihood optimization failed to converge. Check mle_retvals\n",
            "  \"Check mle_retvals\", ConvergenceWarning)\n"
          ],
          "name": "stderr"
        }
      ]
    },
    {
      "cell_type": "code",
      "metadata": {
        "colab": {
          "base_uri": "https://localhost:8080/"
        },
        "id": "nqRAAUGGRGtV",
        "outputId": "a303ba43-4084-4b65-bf06-c27b6377f067"
      },
      "source": [
        "sumario.as_latex"
      ],
      "execution_count": null,
      "outputs": [
        {
          "output_type": "execute_result",
          "data": {
            "text/plain": [
              "<bound method Summary.as_latex of <class 'statsmodels.iolib.summary2.Summary'>\n",
              "\"\"\"\n",
              "\n",
              "======================================================\n",
              "                     Nao Duráveis  Serviços  Duráveis \n",
              "                          (0)         (1)       (2)   \n",
              "------------------------------------------------------\n",
              "TBill_ret_real.L1    0.03          0.19      -0.01    \n",
              "                     (0.05)        (0.15)    (0.05)   \n",
              "c_pcapta_growth.L1   0.06                             \n",
              "                     (0.31)                           \n",
              "const                0.00          0.00      0.00     \n",
              "                     (0.00)        (0.00)    (0.00)   \n",
              "dpi_pcapta_growth.L1 0.38***       0.98***   0.32***  \n",
              "                     (0.09)        (0.20)    (0.12)   \n",
              "k_pcapta_growth.L1                 0.27**             \n",
              "                                   (0.12)             \n",
              "ma.L1                -0.24         -0.47***  -0.03    \n",
              "                     (0.27)        (0.10)    (0.55)   \n",
              "s_pcapta_growth.L1                           -0.03    \n",
              "                                             (0.42)   \n",
              "sigma2               0.00***       0.00***   0.00     \n",
              "                     (0.00)        (0.00)    (0.00)   \n",
              "sp500_ret_real.L1    0.02***       0.09***   0.00     \n",
              "                     (0.01)        (0.02)    (0.01)   \n",
              "N                    242           242       242      \n",
              "======================================================\n",
              "Standard errors in parentheses.\n",
              "* p<.1, ** p<.05, ***p<.01\n",
              "\"\"\">"
            ]
          },
          "metadata": {
            "tags": []
          },
          "execution_count": 67
        }
      ]
    },
    {
      "cell_type": "markdown",
      "metadata": {
        "id": "2bT4kGD2UeXY"
      },
      "source": [
        "$$\\Delta \\ln C_t = \\beta_0 + \\sum_{k=1}^K \\sum^L_{l=1} \\beta_{k, l} F_{k, t-l} + \\sum^L_{l=1} \\gamma_{l} ICS_{t-l} + \\varepsilon_t + \\theta_1 \\varepsilon_{t-1} \\tag{2}$$ \n"
      ]
    },
    {
      "cell_type": "code",
      "metadata": {
        "id": "KdJuePCUUt9_"
      },
      "source": [
        "# Com ICS e sem CI e EI\n",
        "vars1 = [['const'], v11, v2, v3, v4, v5]\n",
        "vars2 = [['const'], v12, v2, v3, v4, v5]\n",
        "vars3 = [['const'], v13, v2, v3, v4, v5]\n",
        "\n",
        "\n",
        "concat_list1 = [j for i in vars1 for j in i]\n",
        "concat_list2 = [j for i in vars2 for j in i]\n",
        "concat_list3 = [j for i in vars3 for j in i]"
      ],
      "execution_count": null,
      "outputs": []
    },
    {
      "cell_type": "code",
      "metadata": {
        "colab": {
          "base_uri": "https://localhost:8080/"
        },
        "id": "fhwQFCghU6Ow",
        "outputId": "1d708ebd-6908-436b-bbf7-5434af491b61"
      },
      "source": [
        "n_dur = sm.tsa.statespace.SARIMAX(endog = dta_clean['c_pcapta_growth'],\n",
        "                                exog = dta_clean[concat_list1], \n",
        "                                order=(0, 0, 1),\n",
        "                                freq = 'Q')\n",
        "\n",
        "\n",
        "serv_percapta = sm.tsa.statespace.SARIMAX(endog = dta_clean['k_pcapta_growth'],\n",
        "                                exog = dta_clean[concat_list2], \n",
        "                                order=(0, 0, 1),\n",
        "                                freq = 'Q')\n",
        "\n",
        "\n",
        "dur_percapta = sm.tsa.statespace.SARIMAX(endog = dta_clean['s_pcapta_growth'],\n",
        "                                exog = dta_clean[concat_list3], \n",
        "                                order=(0, 0, 1),\n",
        "                                freq = 'Q')\n",
        "\n",
        "\n",
        "\n",
        "res_n_dur         = n_dur.fit(disp = False, cov_type = 'robust_approx')\n",
        "res_serv_percapta = serv_percapta.fit(disp=False, cov_type = 'robust_approx')\n",
        "res_dur_percapta  = dur_percapta.fit(disp=False, cov_type = 'robust_approx')\n",
        "\n",
        "\n",
        "sumario = summary_col([res_n_dur,res_serv_percapta,res_dur_percapta], stars=True, float_format='%0.2f',\n",
        "            model_names=['Nao Duráveis \\n(0)','Serviços \\n(1)','Duráveis \\n(2)'],\n",
        "            info_dict={'N':lambda x: \"{0:d}\".format(int(x.nobs))}\n",
        "            )"
      ],
      "execution_count": null,
      "outputs": [
        {
          "output_type": "stream",
          "text": [
            "/usr/local/lib/python3.7/dist-packages/statsmodels/base/model.py:512: ConvergenceWarning: Maximum Likelihood optimization failed to converge. Check mle_retvals\n",
            "  \"Check mle_retvals\", ConvergenceWarning)\n",
            "/usr/local/lib/python3.7/dist-packages/statsmodels/base/model.py:512: ConvergenceWarning: Maximum Likelihood optimization failed to converge. Check mle_retvals\n",
            "  \"Check mle_retvals\", ConvergenceWarning)\n",
            "/usr/local/lib/python3.7/dist-packages/statsmodels/base/model.py:512: ConvergenceWarning: Maximum Likelihood optimization failed to converge. Check mle_retvals\n",
            "  \"Check mle_retvals\", ConvergenceWarning)\n"
          ],
          "name": "stderr"
        }
      ]
    },
    {
      "cell_type": "code",
      "metadata": {
        "colab": {
          "base_uri": "https://localhost:8080/"
        },
        "id": "BbngvAXAVDHp",
        "outputId": "2c50b042-4981-4f03-ba4e-87689c04fa66"
      },
      "source": [
        "sumario.as_latex"
      ],
      "execution_count": null,
      "outputs": [
        {
          "output_type": "execute_result",
          "data": {
            "text/plain": [
              "<bound method Summary.as_latex of <class 'statsmodels.iolib.summary2.Summary'>\n",
              "\"\"\"\n",
              "\n",
              "======================================================\n",
              "                     Nao Duráveis  Serviços  Duráveis \n",
              "                          (0)         (1)       (2)   \n",
              "------------------------------------------------------\n",
              "TBill_ret_real.L1    0.04          0.30      -0.01    \n",
              "                     (0.05)        (0.22)    (0.05)   \n",
              "c_pcapta_growth.L1   -0.26                            \n",
              "                     (0.19)                           \n",
              "const                -0.01**       -0.02     0.00     \n",
              "                     (0.00)        (0.02)    (0.01)   \n",
              "dpi_pcapta_growth.L1 0.33***       0.91***   0.32**   \n",
              "                     (0.10)        (0.32)    (0.16)   \n",
              "ics.L1               0.00***       0.00      -0.00    \n",
              "                     (0.00)        (0.00)    (0.00)   \n",
              "k_pcapta_growth.L1                 -0.19              \n",
              "                                   (0.35)             \n",
              "ma.L1                -0.03         -0.07     -0.03    \n",
              "                     (0.17)        (0.39)    (0.47)   \n",
              "s_pcapta_growth.L1                           -0.03    \n",
              "                                             (0.42)   \n",
              "sigma2               0.00***       0.00***   0.00     \n",
              "                     (0.00)        (0.00)    (0.00)   \n",
              "sp500_ret_real.L1    0.02***       0.07*     0.00     \n",
              "                     (0.01)        (0.04)    (0.01)   \n",
              "N                    242           242       242      \n",
              "======================================================\n",
              "Standard errors in parentheses.\n",
              "* p<.1, ** p<.05, ***p<.01\n",
              "\"\"\">"
            ]
          },
          "metadata": {
            "tags": []
          },
          "execution_count": 70
        }
      ]
    },
    {
      "cell_type": "markdown",
      "metadata": {
        "id": "2Q9IOHiJU-AB"
      },
      "source": [
        "\n",
        "$$\\Delta \\ln C_t = \\beta_0 + \\sum_{k=1}^K \\sum^L_{l=1} \\beta_{k, l} F_{k, t-l} + \\sum^L_{l=1} \\gamma_{1,l} CI_{t-l} + \\sum^L_{l=1} \\gamma_{2,l} EI_{t-l} + \\varepsilon_t + \\theta_1 \\varepsilon_{t-1} \\tag{3}$$ "
      ]
    },
    {
      "cell_type": "code",
      "metadata": {
        "id": "mQAe08cDUeLR"
      },
      "source": [
        "# Sem o ICS e com CI e EI\n",
        "vars1 = [['const'], v11, v2, v3, v4, v6, v7]\n",
        "vars2 = [['const'], v12, v2, v3, v4, v6, v7]\n",
        "vars3 = [['const'], v13, v2, v3, v4, v6, v7]\n",
        "\n",
        "\n",
        "concat_list1 = [j for i in vars1 for j in i]\n",
        "concat_list2 = [j for i in vars2 for j in i]\n",
        "concat_list3 = [j for i in vars3 for j in i]"
      ],
      "execution_count": null,
      "outputs": []
    },
    {
      "cell_type": "code",
      "metadata": {
        "colab": {
          "base_uri": "https://localhost:8080/"
        },
        "id": "h1OtBnRBU67d",
        "outputId": "4bf4d28d-b47e-4e67-fa6c-0abcce08fa5a"
      },
      "source": [
        "n_dur = sm.tsa.statespace.SARIMAX(endog = dta_clean['c_pcapta_growth'],\n",
        "                                exog = dta_clean[concat_list1], \n",
        "                                order=(0, 0, 1),\n",
        "                                freq = 'Q')\n",
        "\n",
        "\n",
        "serv_percapta = sm.tsa.statespace.SARIMAX(endog = dta_clean['k_pcapta_growth'],\n",
        "                                exog = dta_clean[concat_list2], \n",
        "                                order=(0, 0, 1),\n",
        "                                freq = 'Q')\n",
        "\n",
        "\n",
        "dur_percapta = sm.tsa.statespace.SARIMAX(endog = dta_clean['s_pcapta_growth'],\n",
        "                                exog = dta_clean[concat_list3], \n",
        "                                order=(0, 0, 1),\n",
        "                                freq = 'Q')\n",
        "\n",
        "\n",
        "\n",
        "res_n_dur         = n_dur.fit(disp = False, cov_type = 'robust_approx')\n",
        "res_serv_percapta = serv_percapta.fit(disp=False, cov_type = 'robust_approx')\n",
        "res_dur_percapta  = dur_percapta.fit(disp=False, cov_type = 'robust_approx')\n",
        "\n",
        "\n",
        "sumario = summary_col([res_n_dur,res_serv_percapta,res_dur_percapta], stars=True, float_format='%0.2f',\n",
        "            model_names=['Nao Duráveis \\n(0)','Serviços \\n(1)','Duráveis \\n(2)'],\n",
        "            info_dict={'N':lambda x: \"{0:d}\".format(int(x.nobs))}\n",
        "            )"
      ],
      "execution_count": null,
      "outputs": [
        {
          "output_type": "stream",
          "text": [
            "/usr/local/lib/python3.7/dist-packages/statsmodels/base/model.py:512: ConvergenceWarning: Maximum Likelihood optimization failed to converge. Check mle_retvals\n",
            "  \"Check mle_retvals\", ConvergenceWarning)\n",
            "/usr/local/lib/python3.7/dist-packages/statsmodels/base/model.py:512: ConvergenceWarning: Maximum Likelihood optimization failed to converge. Check mle_retvals\n",
            "  \"Check mle_retvals\", ConvergenceWarning)\n",
            "/usr/local/lib/python3.7/dist-packages/statsmodels/base/model.py:512: ConvergenceWarning: Maximum Likelihood optimization failed to converge. Check mle_retvals\n",
            "  \"Check mle_retvals\", ConvergenceWarning)\n"
          ],
          "name": "stderr"
        }
      ]
    },
    {
      "cell_type": "code",
      "metadata": {
        "colab": {
          "base_uri": "https://localhost:8080/"
        },
        "id": "kSqguO-FVEjP",
        "outputId": "0b166de4-c30c-4822-fbd2-b82cbc068152"
      },
      "source": [
        "sumario.as_latex"
      ],
      "execution_count": null,
      "outputs": [
        {
          "output_type": "execute_result",
          "data": {
            "text/plain": [
              "<bound method Summary.as_latex of <class 'statsmodels.iolib.summary2.Summary'>\n",
              "\"\"\"\n",
              "\n",
              "======================================================\n",
              "                     Nao Duráveis  Serviços  Duráveis \n",
              "                          (0)         (1)       (2)   \n",
              "------------------------------------------------------\n",
              "TBill_ret_real.L1    0.04          0.28      -0.02    \n",
              "                     (0.05)        (0.22)    (0.05)   \n",
              "c_pcapta_growth.L1   -0.25                            \n",
              "                     (0.20)                           \n",
              "ci.L1                0.00          -0.00     -0.00    \n",
              "                     (0.00)        (0.00)    (0.00)   \n",
              "const                -0.01**       -0.01     0.01     \n",
              "                     (0.00)        (0.02)    (0.01)   \n",
              "dpi_pcapta_growth.L1 0.33***       0.87***   0.29**   \n",
              "                     (0.10)        (0.34)    (0.14)   \n",
              "ei.L1                0.00          0.00      0.00**   \n",
              "                     (0.00)        (0.00)    (0.00)   \n",
              "k_pcapta_growth.L1                 -0.19              \n",
              "                                   (0.37)             \n",
              "ma.L1                -0.03         -0.07     -0.03    \n",
              "                     (0.18)        (0.41)    (0.36)   \n",
              "s_pcapta_growth.L1                           -0.05    \n",
              "                                             (0.31)   \n",
              "sigma2               0.00***       0.00***   0.00     \n",
              "                     (0.00)        (0.00)    (0.00)   \n",
              "sp500_ret_real.L1    0.02***       0.07      0.00     \n",
              "                     (0.01)        (0.05)    (0.01)   \n",
              "N                    242           242       242      \n",
              "======================================================\n",
              "Standard errors in parentheses.\n",
              "* p<.1, ** p<.05, ***p<.01\n",
              "\"\"\">"
            ]
          },
          "metadata": {
            "tags": []
          },
          "execution_count": 73
        }
      ]
    }
  ]
}