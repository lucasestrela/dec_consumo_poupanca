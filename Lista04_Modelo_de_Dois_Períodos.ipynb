{
  "nbformat": 4,
  "nbformat_minor": 0,
  "metadata": {
    "colab": {
      "name": "Lista04_Modelo_de_Dois_Períodos.ipynb",
      "provenance": [],
      "toc_visible": true,
      "authorship_tag": "ABX9TyP3wU3NBgofprHlPojFyJP3",
      "include_colab_link": true
    },
    "kernelspec": {
      "name": "python3",
      "display_name": "Python 3"
    },
    "language_info": {
      "name": "python"
    }
  },
  "cells": [
    {
      "cell_type": "markdown",
      "metadata": {
        "id": "view-in-github",
        "colab_type": "text"
      },
      "source": [
        "<a href=\"https://colab.research.google.com/github/lucasestrela/dec_consumo_poupanca/blob/main/Lista04_Modelo_de_Dois_Per%C3%ADodos.ipynb\" target=\"_parent\"><img src=\"https://colab.research.google.com/assets/colab-badge.svg\" alt=\"Open In Colab\"/></a>"
      ]
    },
    {
      "cell_type": "markdown",
      "metadata": {
        "id": "ZS-NcNf8KyrA"
      },
      "source": [
        "# Problema 1) Modelo sem incerteza\n",
        "\n",
        "Considere o consumidor que vive por 2 perÌodos cujo bem-estar depende da utilidade ao longo da vida:\n",
        "\n",
        "\\begin{align}\n",
        "U (C_1, C_2) = u(C_1) + \\beta u (C_2) \\tag{1}\n",
        "\\end{align}\n",
        "\n",
        "em que $C_1$ e $C_2$ são, respectivamente, o consumo nos períodos 1 e 2. O parâmetro $\\beta \\in (0, 1)$ é o desconto intertemporal e $u(\\cdot)$ é a utilidade instantânea, tal que $u' > 0$ e $u'' < 0$. \n",
        "\n",
        "Estas são as restrições orçamentárias do consumidor:\n",
        "\\begin{align*}\n",
        "  C_1 = Y_1 - S \\\\\n",
        "  C_2 = Y_2 + RS\n",
        "\\end{align*}\n",
        "\n",
        "\n",
        "em que $Y_1$ e $Y_2$ são, respectivamente, a renda dos períodos 1 e 2. A poupança, $S$, tem retorno bruto $R = 1 + r$, sendo $r > 0$.\n",
        "\n",
        "\n",
        "Assim, o problema do consumidor é dado por:\n",
        "\n",
        "\\begin{align*}\n",
        "  \\max_{C_1, C_2, S} u(C_1) + \\beta u(C_2) \\\\\n",
        "  s.a.\n",
        "  \\begin{cases}\n",
        "  C_1 = Y_1 - S \\\\\n",
        "  C_2 = Y_2 + RS \\\\\n",
        "  C_1 \\geq 0 \\\\\n",
        "  C_2 \\geq 0\n",
        "  \\end{cases}\n",
        "\\end{align*}\n"
      ]
    },
    {
      "cell_type": "markdown",
      "metadata": {
        "id": "HCp64xIHModx"
      },
      "source": [
        "\n",
        "## a) Encontre e interprete a equação de Euler deste problema. Calcule, além da CPO, a CSO.\n",
        "\n",
        "---\n",
        "**Resposta**\n",
        "\n",
        "Para resolver este problema de maximização, podemos supor que a solução ótima não é solução de canto e depois testar, se de fato, esta solução não é otima para cada utilidade. Além disso, para diminuir a dimensionalidade deste problema, podemos utilizar a restrição orçamentária e substituir na condição de otimização:\n",
        "\n",
        "\n",
        "\\begin{align*}\n",
        "  \\max_{S} u(Y_1 - S ) + \\beta u(Y_2 + RS)\n",
        "\\end{align*}\n",
        "\n",
        "Ao maximizar em relação a $S$, podemos encontrar $Y_1$ e $Y_2$ através da restrição orçamentária. Assim, a condição de primeira ordem deste problema:\n",
        "\n",
        "$$  -u'(Y_1 - S) + \\beta R u'(Y_2 + RS) = 0 $$\n",
        "$$ \\Rightarrow $$\n",
        "$$ \\beta R = \\frac{u'(Y_1 - S)}{u'(Y_2 + RS)} $$\n",
        "\n",
        "E a condição de segunda ordem:\n",
        "$$  \\beta R^2 + \\frac{u''(Y_1 - S)}{u''(Y_2 + RS)}  > 0$$\n",
        "para ser, de fato, uma solução de máximo."
      ]
    },
    {
      "cell_type": "markdown",
      "metadata": {
        "id": "YqsA_LeWMqiK"
      },
      "source": [
        "## b) Assuma que $\\beta R = 1$ e resolva este problema para cada uma das seguintes utilidades:\n",
        "\n",
        "\n",
        "1.  Quadrática\n",
        "\n",
        "$$u (C) = C - \\frac{a}{2} C^2, \\quad a > 0$$\n",
        "\n",
        "2.  CARA\n",
        "\n",
        "$$u(C) = - \\frac{1}{\\theta} e^{-\\theta C}, \\qquad \\theta > 0$$\n",
        "\n",
        "3.  CRRA\n",
        "\n",
        "\\begin{align}\n",
        "u(C) =\n",
        "  \\begin{cases}\n",
        "    \\frac{C^{1-\\gamma}}{1-\\gamma}, \\text{ se } \\gamma > 0 \\text{ e } \\gamma \\neq 0 \\\\\n",
        "    \\ln(C), \\text{ se } \\gamma = 1\n",
        "  \\end{cases}\n",
        "\\end{align}\n",
        "\n",
        "---\n",
        "**Resposta**\n",
        "\n",
        "1.  Quadrática\n",
        "\n",
        "A primeira derivada da função utilidade quadrática:\n",
        "$$u'(C) = 1 - aC$$\n",
        "\n",
        "Substituindo na CPO encontrada no item anterior e assumindo $\\beta R = 1$:\n",
        "\n",
        "$$ 1 - a(Y_2 + RS) = 1 - a(Y_1 - S)$$\n",
        "$$ \\Rightarrow $$\n",
        "$$ Y_2 + RS = Y_1 - S,$$\n",
        "\n",
        "isto é, $C_1 = C_2$ e $S = \\frac{Y_1 - Y_2}{1+R} $.\n",
        "\n",
        "2.  CARA\n",
        "\n",
        "A primeira derivada da função utilidade CARA:\n",
        "$$u'(C) = e^{-\\theta C}$$\n",
        "\n",
        "Substituindo na CPO encontrada no item anterior e assumindo $\\beta R = 1$:\n",
        "$$e^{-\\theta (Y_1 - S)} = e^{-\\theta (Y_2 + RS)}$$\n",
        "$$(Y_1 - S) = (Y_2 + RS)$$\n",
        "$$Y_1 - S = Y_2 + RS$$\n",
        "\n",
        "isto é, $C_1 = C_2$ e $S = \\frac{Y_1 - Y_2}{1+R} $.\n",
        "\n",
        "3.  CRRA\n",
        "\n",
        "A primeira derivada da função utilidade CRRA se $\\gamma \\neq 1$\n",
        "\n",
        "\\begin{align*}\n",
        "     \\frac{\\partial u(C)}{\\partial C} = \n",
        "     \\begin{cases}\n",
        "          \\frac{1}{C^{\\gamma}}, \\text{ se } \\gamma > 0 \\text{ e } \\gamma \\neq 0 \\\\\n",
        "          \\frac{1}{C}, \\text{ se } \\gamma = 1\n",
        "      \\end{cases}\n",
        "\\end{align*}\n",
        "\n",
        "Substituindo na CPO encontrada no item anterior e assumindo $\\beta R = 1$:\n",
        "$$\\frac{1}{(Y_1-S)^{\\gamma}} = \\frac{1}{(Y_2 + RS)^{\\gamma}} $$\n",
        "$$Y_1 - S = Y_2 + RS $$\n",
        "\n",
        "isto é, $C_1 = C_2$ e $S = \\frac{Y_1 - Y_2}{1+R} $.\n",
        "\n",
        "Caso $\\gamma = 1$:\n",
        "\n",
        "Substituindo na CPO encontrada no item anterior e assumindo $\\beta R = 1$:\n",
        "$$\\frac{1}{Y_1-S} = \\frac{1}{Y_2 + RS} $$\n",
        "$$Y_1 - S = Y_2 + RS $$\n",
        "\n",
        "isto é, $C_1 = C_2$ e $S = \\frac{Y_1 - Y_2}{1+R} $."
      ]
    },
    {
      "cell_type": "markdown",
      "metadata": {
        "id": "ZKlh1pGnNG64"
      },
      "source": [
        "##  c) Sem assumir $\\beta R = 1$, resolva o problema do consumidor para:\n",
        "\n",
        "$$u(C) = \\frac{C^{1-\\gamma}}{1-\\gamma}, \\qquad \\gamma > 0, \\qquad \\gamma \\neq 1 $$\n",
        "\n",
        "---\n",
        "**Resposta**\n",
        "\n",
        "A primeira derivada da função utilidade CRRA se $\\gamma \\neq 1$\n",
        "\n",
        "\\begin{align*}\n",
        "     \\frac{\\partial u(C)}{\\partial C} = \\frac{1}{C^{\\gamma}}\n",
        "\\end{align*}\n",
        "\n",
        "Substituindo na CPO encontrada no item anterior:\n",
        "$$\\beta R = \\frac{\\frac{1}{(Y_1 - S)^{\\gamma}}}{\\frac{1}{(Y_2 + RS)^{\\gamma}}} = \\bigg(\\frac{Y_2 + RS}{Y_1 - S}\\bigg)^{\\gamma} $$\n",
        "$$Y_1 (\\beta R)^{1/\\gamma} - S (\\beta R)^{1/\\gamma} = Y_2 + RS $$\n",
        "$$Y_1 (\\beta R)^{1/\\gamma} - Y_2 = S(R + (\\beta R)^{1/\\gamma}) $$\n",
        "$$S^* = \\frac{Y_1 (\\beta R)^{1/\\gamma} - Y_2}{(\\beta R)^{1/\\gamma} + R}$$\n",
        "\n",
        "Substituindo na restrição orçamentária\n",
        "\n",
        "$$C_1 = Y_1 - \\frac{Y_1 (\\beta R)^{1/\\gamma} - Y_2}{(\\beta R)^{1/\\gamma} + R}$$\n",
        "$$C_1 = \\frac{Y_1 [(\\beta R)^{1/\\gamma} + R] - Y_1 (\\beta R)^{1/\\gamma} + Y_2}{(\\beta R)^{1/\\gamma} + R}$$\n",
        "$$C_1^* = \\frac{Y_1 R + Y_2}{(\\beta R)^{1/\\gamma} + R}$$\n",
        "\n",
        "E também\n",
        "\n",
        "$$C_2 = Y_2 + R \\frac{Y_1 (\\beta R)^{1/\\gamma} - Y_2}{(\\beta R)^{1/\\gamma} + R}$$\n",
        "$$C_2 =  \\frac{Y_2 [(\\beta R)^{1/\\gamma} + R] + R[Y_1 (\\beta R)^{1/\\gamma} - Y_2]}{(\\beta R)^{1/\\gamma} + R}$$\n",
        "$$C_2 =  \\frac{Y_2 ( (\\beta R)^{1/\\gamma} + R - R) + R Y_1 (\\beta R)^{1/\\gamma}}{(\\beta R)^{1/\\gamma} + R}$$\n",
        "$$C_2^* =   (\\beta R)^{1/\\gamma} \\frac{Y_2 + R Y_1}{(\\beta R)^{1/\\gamma} + R}$$"
      ]
    },
    {
      "cell_type": "markdown",
      "metadata": {
        "id": "ltm0UGSaNXyq"
      },
      "source": [
        "# Problema 2) Modelo com Incerteza"
      ]
    },
    {
      "cell_type": "markdown",
      "metadata": {
        "id": "pdFoXg34NdC1"
      },
      "source": [
        "A inclusão da incerteza segue a abordagem de Browning e Lusardi (1996) e, assim, a renda futura, $\\tilde{Y}_2$, tem a seguinte distribuição:\n",
        "\n",
        "\\begin{align*}\n",
        "\\tilde{Y}_2 = \n",
        "\\begin{cases}\n",
        "\\frac{Y_2}{1-p}, \\quad Prob = 1 - p \\\\\n",
        "0, \\quad Prob = p \n",
        "\\end{cases}\n",
        "\\end{align*}\n",
        "em que $p \\in [0, 1)$ é a probabilidade de desemprego.\n",
        "\n",
        "O acréscimo da poupança em virtude da incerteza sobre a renda futura é conhecido como poupança precaucional. Leland (1968) apresentou um modelo de dois períodos no qual a poupança sem incerteza, $S_{SI}$, é menor do que a poupança com incerteza, $S_{CI}$, desde que a função utilidade empregada tenha terceira derivada positiva. Assim, a poupança precaucional, $S_{CI} - S_{SI}$, é positiva desde que $u''' > 0$ \n",
        "\n",
        "Kimball (1980) mostrou que o ajuste na poupança em função da incerteza da renda futura é proporcional ao que ele definiu como coeficiente de prudência absoluto: $P_A = -\\frac{u'''(C)}{u''(C)}$. Note que este coeficiente é positivo justamente quando a derivada terceira da função utilidade é positiva. Kimball (1980) também definiu o coeficiente de prudência relativo: $P_R = -\\frac{u'''(C)}{u''(C)} C$.\n",
        "\n",
        "Considere neste exercício a seguinte função utilidade\n",
        "\n",
        "\\begin{align*}\n",
        "u(C) = \\frac{C^{1-\\gamma}}{1-\\gamma},\n",
        "\\end{align*}\n",
        "\n",
        "com $\\gamma > 0$ e $\\gamma \\neq 1$"
      ]
    },
    {
      "cell_type": "markdown",
      "metadata": {
        "id": "_H3yWGiPPtUN"
      },
      "source": [
        "## a) Calcule o valor esperado e a variância de $\\tilde{Y}_2$. Interprete os resultados.\n",
        "\n",
        "---\n",
        "\n",
        "**Resposta**\n",
        "\n",
        "Usando a definição de valor esperado, calculamos:\n",
        "$$E[\\tilde{Y}_2] = Y_2 + 0 . p = Y_2$$\n",
        "\n",
        "E também:\n",
        "$$E^2[\\tilde{Y}_2] = (Y_2)^2$$\n",
        "$$E[(\\tilde{Y}_2)^2] = (1-p) \\bigg(\\frac{Y_2}{1-p}\\bigg)^2 = \\frac{(Y_2)^2}{1-p}$$\n",
        "\n",
        "Pela definição de variância\n",
        "$$Var(\\tilde{Y}_2) = E[(\\tilde{Y}_2^2)] - E^2(\\tilde{Y}_2)$$\n",
        "substituindo:\n",
        "$$Var(\\tilde{Y}_2) = \\frac{(Y_2)^2}{1-p} - (Y_2)^2 =  \\frac{(Y_2)^2 - (Y_2)^2 + (Y_2)^2 p}{1-p} = \\frac{p}{1-p} (Y_2)^2$$"
      ]
    },
    {
      "cell_type": "markdown",
      "metadata": {
        "id": "4cC-cYOCP-Lj"
      },
      "source": [
        "## b) Considerando apenas as características da função utilidade, já podemos dizer que a poupança precaucional é positiva? Por que?\n",
        "\n",
        "---\n",
        "**Resposta**\n",
        "\n",
        "Calculando o coeficiente de prudência absoluta para a CRRA:\n",
        "\\begin{align*}\n",
        "     P_A = \\frac{\\gamma+1}{C} > 0,\n",
        "\\end{align*}\n",
        "logo, sabemos que existe poupança precaucional."
      ]
    },
    {
      "cell_type": "markdown",
      "metadata": {
        "id": "WLFuGpo8P_lx"
      },
      "source": [
        "## c) Encontre a equação de Euler do problema do consumidor\n",
        "\n",
        "\\begin{align*}\n",
        "  \\max_{C_1, C_2, S} u(C_1) + \\beta E \\Big[u(\\tilde{C}_2)\\Big] \\\\\n",
        "  s.a.\n",
        "  \\begin{cases}\n",
        "  C_1 = Y_1 - S \\\\\n",
        "  \\tilde{C}_2 = \\tilde{Y}_2 + RS \\\\\n",
        "  C_1 \\geq 0 \\\\\n",
        "  C_2 \\geq 0\n",
        "  \\end{cases}\n",
        "\\end{align*}\n",
        "\n",
        "---\n",
        "**Resposta**\n",
        "\n",
        "Para resolver este problema de maximização, podemos supor que a solução ótima não é solução de canto e depois testar, se de fato, esta solução não é otima para cada utilidade. Além disso, para diminuir a dimensionalidade deste problema, podemos utilizar a restrição orçamentária e substituir na condição de otimização:\n",
        "\n",
        "\n",
        "\\begin{align*}\n",
        "  \\max_{S} u(Y_1 - S ) + \\beta E \\Big[u(\\tilde{Y}_2 + RS)\\Big]\n",
        "\\end{align*}\n",
        "\n",
        "Ao maximizar em relação a $S$, podemos encontrar $Y_1$ e $Y_2$ usando a restrição orçamentária. Assim, a condição de primeira ordem deste problema:\n",
        "\n",
        "$$  -u'(Y_1 - S) + \\beta R E \\Big[u'(\\tilde{Y}_2 + RS)\\Big]= 0 $$\n",
        "$$ \\Rightarrow $$\n",
        "$$ \\beta R = \\frac{u'(Y_1 - S)}{E\\Big[u'(\\tilde{Y}_2 + RS)\\Big]} $$\n"
      ]
    },
    {
      "cell_type": "markdown",
      "metadata": {
        "id": "n35L1-wNQWG4"
      },
      "source": [
        "# Problema 3) Modelo com incerteza e seguro-desemprego\n",
        "\n",
        "O seguro-desemprego é incluído no modelo do seguinte modo. No primeiro período todos consumidores pagam um imposto que financia o seguro daqueles que perdem o emprego no segundo período. Com isso, as restrições orçamentárias tornam-se\n",
        "\n",
        "\\begin{align}\n",
        "C_1 = (1 - \\tau) Y_1 - S \\\\\n",
        "\\tilde{C}_2 = \\tilde{Y}_2^d + RS\n",
        "\\end{align}\n",
        "\n",
        "em que $\\tau \\in (0, 1)$ é a alíquota do imposto que incide sobre a renda inicial, com vistas a financiar o seguro-desemprego no segundo período. A renda do segundo perÌodo passa a ser descrita pela seguinte distribuição\n",
        "\n",
        "\\begin{align*}\n",
        "\\tilde{Y}_2^d = \n",
        "\\begin{cases}\n",
        "\\frac{Y_2}{1-p}, \\quad Prob = 1 - p \\\\\n",
        "X, \\quad Prob = p \n",
        "\\end{cases}\n",
        "\\end{align*}\n",
        "em que X é o valor do seguro desemprego."
      ]
    },
    {
      "cell_type": "markdown",
      "metadata": {
        "id": "kObvSEhIRLki"
      },
      "source": [
        "## a) Calcule o valor esperado e a variância de $\\tilde{Y}_2^d$.\n",
        "\n",
        "---\n",
        "\n",
        "**Resposta**\n",
        "\n",
        "Usando a definição de valor esperado, calculamos:\n",
        "$$E[\\tilde{Y}_2^d] = Y_2 + X p$$\n",
        "\n",
        "E também:\n",
        "$$E^2[\\tilde{Y}_2^d] = (Y_2 + X p)^2 = (Y_2)^2 + 2 Y_2 X p + (X p)^2$$\n",
        "$$E[(\\tilde{Y}_2^d)^2] = (1-p) \\bigg(\\frac{Y_2}{1-p}\\bigg)^2 + p X^2 = \\frac{(Y_2)^2}{1-p} + p X^2 $$\n",
        "\n",
        "Pela definição de variância\n",
        "$$Var(\\tilde{Y}_2^d) = E[(\\tilde{Y}_2^d)^2] - E^2(\\tilde{Y}_2^d)$$\n",
        "substituindo:\n",
        "$$Var(\\tilde{Y}_2^d) = \\frac{(Y_2)^2}{1-p} + p X^2 - \\Big[ (Y_2)^2 + 2 p Y_2 X + (X p)^2 \\Big]$$\n",
        "$$Var(\\tilde{Y}_2^d) = \\frac{(Y_2)^2 p}{1-p} - 2 p Y_2 X + p(1 - p) X^2$$\n",
        "$$Var(\\tilde{Y}_2^d) = \\frac{(Y_2)^2 p}{1-p} - 2 p Y_2 X + p(1 - p) X^2$$"
      ]
    },
    {
      "cell_type": "markdown",
      "metadata": {
        "id": "UaY3HnS-R0LW"
      },
      "source": [
        "## b) Analise como $p$ afeta o valor esperado de $\\tilde{Y}_2^d$"
      ]
    },
    {
      "cell_type": "markdown",
      "metadata": {
        "id": "aZinUZ6_R2ey"
      },
      "source": [
        "\n",
        "\n",
        "## c) Analise como $p$ afeta a variância de $\\tilde{Y}_2^d$. Para tanto, considere $X = 1.00$, $Y2 = 1,10, 1.20, 1.30, 1.40, 1.50$ e $p = 0.01, 0.02, ..., 0.19, 0.20$."
      ]
    },
    {
      "cell_type": "markdown",
      "metadata": {
        "id": "EHP4f09cR3jD"
      },
      "source": [
        "\n",
        "\n",
        "## d) Assuma que existam $N$ consumidores na economia e que seja válida a Lei dos Grandes Números de modo que a fração de desempregados converge para $p$ e a fração de desempregados converge para $1-p$. Calcule a arrecadação do governo com o imposto $\\tau$ e o gasto do governo com o seguro-desemprego. Encontre $\\tau$ de modo que esta arrecadação seja igual a esse gasto"
      ]
    },
    {
      "cell_type": "markdown",
      "metadata": {
        "id": "lRkZVTfkSL4W"
      },
      "source": [
        "## e) Encontre a equação de Euler do problema do consumidor:\n",
        "\n",
        "\\begin{align*}\n",
        "  \\max_{C_1, C_2, S} u(C_1) + \\beta E \\Big[u(\\tilde{C}_2)\\Big] \\\\\n",
        "  s.a.\n",
        "  \\begin{cases}\n",
        "  C_1 = (1-\\tau) Y_1 - S \\\\\n",
        "  \\tilde{C}_2 = \\tilde{Y}_2^d + RS \\\\\n",
        "  C_1 \\geq 0 \\\\\n",
        "  C_2 \\geq 0\n",
        "  \\end{cases}\n",
        "\\end{align*}\n",
        "\n",
        "em que $\\tau$ é aquele obtido no item **(d)**. Explique por que a poupança ótima pode ser negativa."
      ]
    },
    {
      "cell_type": "code",
      "metadata": {
        "id": "xnFVs_5yPsuX"
      },
      "source": [
        ""
      ],
      "execution_count": null,
      "outputs": []
    }
  ]
}